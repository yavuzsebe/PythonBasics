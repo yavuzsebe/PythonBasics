{
 "cells": [
  {
   "cell_type": "markdown",
   "id": "69a98dd1-811c-466a-b735-f42bd27114d5",
   "metadata": {
    "jp-MarkdownHeadingCollapsed": true
   },
   "source": [
    "### Decorator prensibi"
   ]
  },
  {
   "cell_type": "raw",
   "id": "e4a8d475-4c13-465b-b1c4-a342129ef83d",
   "metadata": {},
   "source": [
    "@decorator\n",
    "def ..."
   ]
  },
  {
   "cell_type": "markdown",
   "id": "e5785d53-2afa-4c73-9d46-e1796f9a5945",
   "metadata": {
    "jp-MarkdownHeadingCollapsed": true
   },
   "source": [
    "### Değişken olarak fonksiyon"
   ]
  },
  {
   "cell_type": "code",
   "execution_count": 1,
   "id": "f0f7dad9-cae1-439c-bda2-306d996e84c1",
   "metadata": {},
   "outputs": [],
   "source": [
    "def deneme():\n",
    "    print(\"abc\")"
   ]
  },
  {
   "cell_type": "code",
   "execution_count": 2,
   "id": "373b11e5-2312-41dc-b303-37dc21d8adc0",
   "metadata": {},
   "outputs": [
    {
     "name": "stdout",
     "output_type": "stream",
     "text": [
      "abc\n"
     ]
    }
   ],
   "source": [
    "deneme()"
   ]
  },
  {
   "cell_type": "code",
   "execution_count": 3,
   "id": "1991cc9e-a9d1-495b-9c56-ac171925e396",
   "metadata": {},
   "outputs": [],
   "source": [
    "f=deneme"
   ]
  },
  {
   "cell_type": "code",
   "execution_count": 4,
   "id": "1211e8c5-059f-41ee-b268-172105fe15b2",
   "metadata": {},
   "outputs": [
    {
     "name": "stdout",
     "output_type": "stream",
     "text": [
      "abc\n"
     ]
    }
   ],
   "source": [
    "f()"
   ]
  },
  {
   "cell_type": "code",
   "execution_count": 5,
   "id": "8c980c15-4414-4da9-88f0-ff733b3ec29e",
   "metadata": {},
   "outputs": [
    {
     "name": "stdout",
     "output_type": "stream",
     "text": [
      "<function deneme at 0x7fcd486ce050>\n"
     ]
    }
   ],
   "source": [
    "print(f)"
   ]
  },
  {
   "cell_type": "code",
   "execution_count": 7,
   "id": "6065e7ba-3f6d-44eb-bbeb-3a8197f98853",
   "metadata": {},
   "outputs": [
    {
     "name": "stdout",
     "output_type": "stream",
     "text": [
      "abc\n",
      "None\n"
     ]
    }
   ],
   "source": [
    "print(f())"
   ]
  },
  {
   "cell_type": "markdown",
   "id": "c5680762-2248-4794-bc9b-bb6443798c1f",
   "metadata": {
    "jp-MarkdownHeadingCollapsed": true
   },
   "source": [
    "## Fonksiyon içinde fonksiyon"
   ]
  },
  {
   "cell_type": "code",
   "execution_count": 9,
   "id": "e5731ca2-d0f7-4dbd-9370-3b4dea9b8c35",
   "metadata": {},
   "outputs": [],
   "source": [
    "def deneme():\n",
    "    print(\"Deneme fonksiyonu çalışıyor.\")\n",
    "\n",
    "    def test(): #indentation gerekir ki altına bağlansın \n",
    "        return \"Test fonksiyonu çalışıyor.\"\n",
    "\n",
    "    print(test())"
   ]
  },
  {
   "cell_type": "code",
   "execution_count": 10,
   "id": "7eb0c2e9-4382-4a61-8b3e-deaf48576b23",
   "metadata": {},
   "outputs": [
    {
     "name": "stdout",
     "output_type": "stream",
     "text": [
      "Deneme fonksiyonu çalışıyor.\n",
      "Test fonksiyonu çalışıyor.\n"
     ]
    }
   ],
   "source": [
    "deneme()"
   ]
  },
  {
   "cell_type": "code",
   "execution_count": 24,
   "id": "e5ace7b7-4a40-4b93-af06-474037a4ba86",
   "metadata": {},
   "outputs": [],
   "source": [
    "def deneme():\n",
    "    print(\"Deneme fonksiyonu çalışıyor.\")\n",
    "\n",
    "    def test():  \n",
    "        return \"Test fonksiyonu çalışıyor.\"\n",
    "\n",
    "    return test() # döndürür bastırmaz"
   ]
  },
  {
   "cell_type": "code",
   "execution_count": 25,
   "id": "4fb1257e-63cc-4eeb-ae9f-2ba9aa5aefb2",
   "metadata": {},
   "outputs": [
    {
     "name": "stdout",
     "output_type": "stream",
     "text": [
      "Deneme fonksiyonu çalışıyor.\n"
     ]
    },
    {
     "data": {
      "text/plain": [
       "'Test fonksiyonu çalışıyor.'"
      ]
     },
     "execution_count": 25,
     "metadata": {},
     "output_type": "execute_result"
    }
   ],
   "source": [
    "deneme()"
   ]
  },
  {
   "cell_type": "code",
   "execution_count": 26,
   "id": "1a0c00fd-0a44-49b4-b206-583ee8c28fd9",
   "metadata": {},
   "outputs": [],
   "source": [
    "def deneme():\n",
    "    print(\"Deneme fonksiyonu çalışıyor.\")\n",
    "\n",
    "    def test(): \n",
    "        print(\"Test fonksiyonu çalışıyor.\") #böyle basar\n",
    "\n",
    "    return test() #print ile böyle basar"
   ]
  },
  {
   "cell_type": "code",
   "execution_count": 27,
   "id": "33df20a1-3f3e-49db-ad29-171d4f87c80e",
   "metadata": {},
   "outputs": [
    {
     "name": "stdout",
     "output_type": "stream",
     "text": [
      "Deneme fonksiyonu çalışıyor.\n",
      "Test fonksiyonu çalışıyor.\n"
     ]
    }
   ],
   "source": [
    "deneme()"
   ]
  },
  {
   "cell_type": "code",
   "execution_count": 28,
   "id": "2b309626-cafc-458e-8a5c-ed5e30480543",
   "metadata": {},
   "outputs": [],
   "source": [
    "def deneme():\n",
    "    print(\"Deneme fonksiyonu çalışıyor.\")\n",
    "\n",
    "    def test(): \n",
    "        print(\"Test fonksiyonu çalışıyor.\")\n",
    "\n",
    "    print(test()) #print içine print konmaz"
   ]
  },
  {
   "cell_type": "code",
   "execution_count": 29,
   "id": "9433054b-b5eb-4d02-815a-1fa313fe9ddd",
   "metadata": {},
   "outputs": [
    {
     "name": "stdout",
     "output_type": "stream",
     "text": [
      "Deneme fonksiyonu çalışıyor.\n",
      "Test fonksiyonu çalışıyor.\n",
      "None\n"
     ]
    }
   ],
   "source": [
    "deneme() # none verir "
   ]
  },
  {
   "cell_type": "code",
   "execution_count": 35,
   "id": "400157dc-a12a-49d4-bff8-fc70eb987721",
   "metadata": {},
   "outputs": [],
   "source": [
    "def deneme():\n",
    "    print(\"Deneme fonksiyonu çalışıyor.\")\n",
    "\n",
    "    def test(): \n",
    "        return \"Test fonksiyonu çalışıyor.\"\n",
    "\n",
    "    return test #böyle döndürmez bile ama..."
   ]
  },
  {
   "cell_type": "code",
   "execution_count": 36,
   "id": "0ef19ee6-d439-4f7f-81be-be8577a16b8f",
   "metadata": {},
   "outputs": [
    {
     "name": "stdout",
     "output_type": "stream",
     "text": [
      "Deneme fonksiyonu çalışıyor.\n"
     ]
    },
    {
     "data": {
      "text/plain": [
       "<function __main__.deneme.<locals>.test()>"
      ]
     },
     "execution_count": 36,
     "metadata": {},
     "output_type": "execute_result"
    }
   ],
   "source": [
    "deneme()"
   ]
  },
  {
   "cell_type": "code",
   "execution_count": 37,
   "id": "1a548d69-b1bc-4e6b-9789-da1ca87f50d6",
   "metadata": {},
   "outputs": [
    {
     "name": "stdout",
     "output_type": "stream",
     "text": [
      "Deneme fonksiyonu çalışıyor.\n"
     ]
    },
    {
     "data": {
      "text/plain": [
       "'Test fonksiyonu çalışıyor.'"
      ]
     },
     "execution_count": 37,
     "metadata": {},
     "output_type": "execute_result"
    }
   ],
   "source": [
    "f=deneme()\n",
    "f() #böyle döndürür"
   ]
  },
  {
   "cell_type": "code",
   "execution_count": 39,
   "id": "f1618852-3e59-4b9c-9b0e-531a080cea81",
   "metadata": {},
   "outputs": [
    {
     "name": "stdout",
     "output_type": "stream",
     "text": [
      "Test fonksiyonu çalışıyor.\n"
     ]
    }
   ],
   "source": [
    "print(f()) # böyle sonuncuyu bastı"
   ]
  },
  {
   "cell_type": "code",
   "execution_count": 42,
   "id": "6d9f2cf2-3a3c-42de-a1bf-ae395896130e",
   "metadata": {},
   "outputs": [
    {
     "name": "stdout",
     "output_type": "stream",
     "text": [
      "<function deneme.<locals>.test at 0x7fcd58ddcaf0>\n"
     ]
    }
   ],
   "source": [
    "print(f) #böyle dönmeyenin sonuncusunu verdi"
   ]
  },
  {
   "cell_type": "markdown",
   "id": "259d52fe-7446-408f-8699-e66bf4c46f93",
   "metadata": {
    "jp-MarkdownHeadingCollapsed": true
   },
   "source": [
    "## Decorator"
   ]
  },
  {
   "cell_type": "code",
   "execution_count": 43,
   "id": "66822820-e101-4488-8759-4d60ba3978c8",
   "metadata": {},
   "outputs": [],
   "source": [
    "def deneme():\n",
    "    return \"Deneme fonksiyonu çalışıyor.\""
   ]
  },
  {
   "cell_type": "code",
   "execution_count": 48,
   "id": "fd66824a-71a7-4afd-815e-a910797d73a2",
   "metadata": {},
   "outputs": [],
   "source": [
    "def ikinci(f):\n",
    "    print(\"İkinci fonksiyon çalışıyor.\")\n",
    "    print(f)"
   ]
  },
  {
   "cell_type": "code",
   "execution_count": 49,
   "id": "2dcf3912-1c86-4ed4-9760-696f59c57c51",
   "metadata": {},
   "outputs": [
    {
     "name": "stdout",
     "output_type": "stream",
     "text": [
      "İkinci fonksiyon çalışıyor.\n",
      "Deneme fonksiyonu çalışıyor.\n"
     ]
    }
   ],
   "source": [
    "ikinci(deneme())"
   ]
  },
  {
   "cell_type": "code",
   "execution_count": 50,
   "id": "e7b53768-c3bc-4483-8655-59ac15b19873",
   "metadata": {},
   "outputs": [],
   "source": [
    "def ikinci(f):\n",
    "    print(\"İkinci fonksiyon çalışıyor.\")\n",
    "    print(f()) # eğer içine halihazırda () koyarsan..."
   ]
  },
  {
   "cell_type": "code",
   "execution_count": 51,
   "id": "f69c1849-e3f8-41e2-939a-08d5bb5f9b74",
   "metadata": {},
   "outputs": [
    {
     "name": "stdout",
     "output_type": "stream",
     "text": [
      "İkinci fonksiyon çalışıyor.\n",
      "Deneme fonksiyonu çalışıyor.\n"
     ]
    }
   ],
   "source": [
    "ikinci(deneme) # burda koyman gerekmez çünkü zaten koydun"
   ]
  },
  {
   "cell_type": "code",
   "execution_count": 56,
   "id": "bde2598f-f3e5-4420-b467-5a1a171c403f",
   "metadata": {},
   "outputs": [],
   "source": [
    "def deco(f): # daha sonra tanımlanacak olan f e eşitlenecek fonksiyonu içine yazıyoruz\n",
    "\n",
    "    def wrapper():\n",
    "        print(\"Başlangıç.\")\n",
    "\n",
    "        f() # burada f in nerede çalışacağını belirtiyoruz\n",
    "\n",
    "        print(\"Bitiş\")\n",
    "        \n",
    "    return wrapper"
   ]
  },
  {
   "cell_type": "code",
   "execution_count": 57,
   "id": "5ceedb4a-f934-4199-9ca8-7d60184dbfda",
   "metadata": {},
   "outputs": [],
   "source": [
    "def yazdir():\n",
    "    print(\"Yazdir.\")\n",
    "yazdir = deco(yazdir) # f yerine daha sonra tanımladığımız yazdir fonksiyonunu koyuyoruz ve artık wrappera tanımlanıyor"
   ]
  },
  {
   "cell_type": "code",
   "execution_count": 58,
   "id": "07d05f22-fb67-45cc-91db-f0be46fd3258",
   "metadata": {},
   "outputs": [
    {
     "name": "stdout",
     "output_type": "stream",
     "text": [
      "Başlangıç.\n",
      "Yazdir.\n",
      "Bitiş\n"
     ]
    }
   ],
   "source": [
    "yazdir() # böylece yazdir her çalıştığında deco içindeki wrapper ile çalışacak"
   ]
  },
  {
   "cell_type": "code",
   "execution_count": 59,
   "id": "ac51fcb7-0377-4b47-9e83-f53834959e30",
   "metadata": {},
   "outputs": [],
   "source": [
    "def yazdir2():\n",
    "    print(\"Yazdir2.\")\n",
    "yazdir2 = deco(yazdir2)"
   ]
  },
  {
   "cell_type": "code",
   "execution_count": 60,
   "id": "30c792e3-89a9-48d1-9a81-0d0c7cc1ccc0",
   "metadata": {},
   "outputs": [
    {
     "name": "stdout",
     "output_type": "stream",
     "text": [
      "Başlangıç.\n",
      "Yazdir2.\n",
      "Bitiş\n"
     ]
    }
   ],
   "source": [
    "yazdir2()"
   ]
  },
  {
   "cell_type": "code",
   "execution_count": 66,
   "id": "27a3b6bd-529e-466b-8222-1203f54ded2e",
   "metadata": {},
   "outputs": [],
   "source": [
    "@deco # her seferinde decoyu baştan çağırmaya gerek yok bi kere yazdıktan sonra böyle çağrılabilir\n",
    "def yazdir(): # indent yok\n",
    "    print(\"yazdir\")"
   ]
  },
  {
   "cell_type": "code",
   "execution_count": 67,
   "id": "043eefa9-7dce-4f68-bd4f-f39181b81245",
   "metadata": {},
   "outputs": [
    {
     "name": "stdout",
     "output_type": "stream",
     "text": [
      "Başlangıç.\n",
      "yazdir\n",
      "Bitiş\n"
     ]
    }
   ],
   "source": [
    "yazdir()"
   ]
  },
  {
   "cell_type": "code",
   "execution_count": 68,
   "id": "73ad6bb6-b16e-4ca3-a6eb-9d5b048b53ff",
   "metadata": {},
   "outputs": [],
   "source": [
    "@deco\n",
    "def toplama(a,b): # argüman alan fonksiyonlarda decorator çalışmaz\n",
    "    print(a,b)"
   ]
  },
  {
   "cell_type": "code",
   "execution_count": 69,
   "id": "8b87bacf-f4ef-4092-ba6c-d6e786ecb13a",
   "metadata": {},
   "outputs": [
    {
     "ename": "TypeError",
     "evalue": "deco.<locals>.wrapper() takes 0 positional arguments but 2 were given",
     "output_type": "error",
     "traceback": [
      "\u001b[0;31m---------------------------------------------------------------------------\u001b[0m",
      "\u001b[0;31mTypeError\u001b[0m                                 Traceback (most recent call last)",
      "Cell \u001b[0;32mIn[69], line 1\u001b[0m\n\u001b[0;32m----> 1\u001b[0m \u001b[43mtoplama\u001b[49m\u001b[43m(\u001b[49m\u001b[38;5;241;43m4\u001b[39;49m\u001b[43m,\u001b[49m\u001b[38;5;241;43m5\u001b[39;49m\u001b[43m)\u001b[49m\n",
      "\u001b[0;31mTypeError\u001b[0m: deco.<locals>.wrapper() takes 0 positional arguments but 2 were given"
     ]
    }
   ],
   "source": [
    "toplama(4,5)"
   ]
  },
  {
   "cell_type": "markdown",
   "id": "9e3ea225-5cd7-492c-a183-8114fd6eada2",
   "metadata": {
    "jp-MarkdownHeadingCollapsed": true
   },
   "source": [
    "## Argüman alan fonksiyonlarda decorator"
   ]
  },
  {
   "cell_type": "code",
   "execution_count": 70,
   "id": "63d3aed9-e734-46d5-9e8e-cd21d7557dcc",
   "metadata": {},
   "outputs": [],
   "source": [
    "def deco(f):\n",
    "\n",
    "    def wrapper(*args):\n",
    "        print(\"Başlangıç.\")\n",
    "\n",
    "        f(*args)\n",
    "\n",
    "        print(\"Bitiş.\")\n",
    "\n",
    "    return wrapper"
   ]
  },
  {
   "cell_type": "code",
   "execution_count": 71,
   "id": "a8b26221-1150-4f08-8119-4d3be881f050",
   "metadata": {},
   "outputs": [],
   "source": [
    "@deco\n",
    "def toplama(a,b):\n",
    "    print(a+b)"
   ]
  },
  {
   "cell_type": "code",
   "execution_count": 72,
   "id": "2b61e3ce-c0a1-43a2-8a7f-09e318bf9e27",
   "metadata": {},
   "outputs": [
    {
     "name": "stdout",
     "output_type": "stream",
     "text": [
      "Başlangıç.\n",
      "9\n",
      "Bitiş.\n"
     ]
    }
   ],
   "source": [
    "toplama(4,5)"
   ]
  },
  {
   "cell_type": "markdown",
   "id": "3e185d0c-3019-4cea-9940-36709127c275",
   "metadata": {
    "jp-MarkdownHeadingCollapsed": true
   },
   "source": [
    "## Argüman alan decorator"
   ]
  },
  {
   "cell_type": "code",
   "execution_count": 82,
   "id": "70b05084-51bc-4d9c-a8c0-cea6b5e34d72",
   "metadata": {},
   "outputs": [],
   "source": [
    "def deco(f, msg1, msg2):\n",
    "                            #kabul etmeyecek\n",
    "    def wrapper(*args):\n",
    "        print(msg1)\n",
    "\n",
    "        f(*args)\n",
    "\n",
    "        print(msg2)\n",
    "\n",
    "    return wrapper"
   ]
  },
  {
   "cell_type": "code",
   "execution_count": 83,
   "id": "a03ca6a2-00e5-45f1-abf9-4e57317cbbed",
   "metadata": {},
   "outputs": [
    {
     "ename": "TypeError",
     "evalue": "deco() missing 1 required positional argument: 'msg2'",
     "output_type": "error",
     "traceback": [
      "\u001b[0;31m---------------------------------------------------------------------------\u001b[0m",
      "\u001b[0;31mTypeError\u001b[0m                                 Traceback (most recent call last)",
      "Cell \u001b[0;32mIn[83], line 1\u001b[0m\n\u001b[0;32m----> 1\u001b[0m \u001b[38;5;129m@deco\u001b[39m\u001b[43m(\u001b[49m\u001b[38;5;124;43m\"\u001b[39;49m\u001b[38;5;124;43mBaşlangıç\u001b[39;49m\u001b[38;5;124;43m\"\u001b[39;49m\u001b[43m,\u001b[49m\u001b[38;5;124;43m\"\u001b[39;49m\u001b[38;5;124;43mBitiş.\u001b[39;49m\u001b[38;5;124;43m\"\u001b[39;49m\u001b[43m)\u001b[49m\n\u001b[1;32m      2\u001b[0m \u001b[38;5;28;01mdef\u001b[39;00m \u001b[38;5;21mtoplama\u001b[39m(a,b):\n\u001b[1;32m      3\u001b[0m     \u001b[38;5;28mprint\u001b[39m(a\u001b[38;5;241m+\u001b[39mb)\n",
      "\u001b[0;31mTypeError\u001b[0m: deco() missing 1 required positional argument: 'msg2'"
     ]
    }
   ],
   "source": [
    "@deco(\"Başlangıç\",\"Bitiş.\")\n",
    "def toplama(a,b):\n",
    "    print(a+b)"
   ]
  },
  {
   "cell_type": "code",
   "execution_count": 84,
   "id": "76c291fd-519b-4b0b-ae86-7547e7fae132",
   "metadata": {},
   "outputs": [],
   "source": [
    "def deco(msg1,msg2):\n",
    "    def ara_katman(f):      #bir ara katman tanımladık böyle kabul edecektir\n",
    "        def wrapper(*args):\n",
    "            print(msg1)\n",
    "    \n",
    "            f(*args)\n",
    "    \n",
    "            print(msg2)\n",
    "    \n",
    "        return wrapper\n",
    "    return ara_katman   #"
   ]
  },
  {
   "cell_type": "code",
   "execution_count": 85,
   "id": "08fe885a-8c9f-4149-b1ca-22eaddeb45c3",
   "metadata": {},
   "outputs": [],
   "source": [
    "@deco(\"Başlangıç\",\"Bitiş.\")\n",
    "def toplama(a,b):\n",
    "    print(a+b)"
   ]
  },
  {
   "cell_type": "code",
   "execution_count": 86,
   "id": "1d3dbb52-2b13-4ef6-b4a9-7a4b9ab16d70",
   "metadata": {},
   "outputs": [
    {
     "name": "stdout",
     "output_type": "stream",
     "text": [
      "Başlangıç\n",
      "9\n",
      "Bitiş.\n"
     ]
    }
   ],
   "source": [
    "toplama(4,5)"
   ]
  },
  {
   "cell_type": "markdown",
   "id": "4f85b6f8-79e2-46c2-a3d3-6c7dcf57d779",
   "metadata": {
    "jp-MarkdownHeadingCollapsed": true
   },
   "source": [
    "## Örnek: Süre Ölçümlemesi"
   ]
  },
  {
   "cell_type": "code",
   "execution_count": 87,
   "id": "00508528-998a-4939-8bd4-f99ce5ba12ff",
   "metadata": {},
   "outputs": [
    {
     "data": {
      "text/plain": [
       "0.0001609325408935547"
      ]
     },
     "execution_count": 87,
     "metadata": {},
     "output_type": "execute_result"
    }
   ],
   "source": [
    "import time\n",
    "baslangıc=time.time()\n",
    "f()\n",
    "bitis=time.time()\n",
    "bitis-baslangıc"
   ]
  },
  {
   "cell_type": "code",
   "execution_count": 93,
   "id": "ff62d570-f13c-44fe-a8f0-a87192524eda",
   "metadata": {},
   "outputs": [],
   "source": [
    "def sure_olc(f):\n",
    "    def wrapper(*args):\n",
    "\n",
    "        baslangic=time.time()\n",
    "        print(\"Başlangıç zamanı:\\t{}\".format(baslangic))\n",
    "        \n",
    "        f(*args)\n",
    "\n",
    "        bitis=time.time()\n",
    "\n",
    "        print(\"Bitiş zamanı:\\t{}\".format(bitis))\n",
    "        print(\"Geçen zamanı:\\t{}\".format(bitis-baslangic))\n",
    "    return wrapper"
   ]
  },
  {
   "cell_type": "code",
   "execution_count": 94,
   "id": "76e7d487-094f-4784-96da-58f530cc643e",
   "metadata": {},
   "outputs": [],
   "source": [
    "def faktoriyel(sayi):\n",
    "\n",
    "    toplam=1\n",
    "\n",
    "    while sayi > 1:\n",
    "        toplam=toplam*sayi\n",
    "        sayi-=1\n",
    "    print(toplam)"
   ]
  },
  {
   "cell_type": "code",
   "execution_count": 95,
   "id": "1c3b8199-c315-49d9-bad0-378ef383dbb0",
   "metadata": {},
   "outputs": [
    {
     "name": "stdout",
     "output_type": "stream",
     "text": [
      "120\n"
     ]
    }
   ],
   "source": [
    "faktoriyel(5)"
   ]
  },
  {
   "cell_type": "code",
   "execution_count": 48,
   "id": "b28c6c0a-5e37-4c68-b25c-ff08d846469f",
   "metadata": {},
   "outputs": [],
   "source": [
    "@sure_olc\n",
    "def faktoriyel(sayi):\n",
    "\n",
    "    toplam=1\n",
    "\n",
    "    while sayi > 1:\n",
    "        toplam=toplam*sayi\n",
    "        sayi-=1\n",
    "    print(toplam)"
   ]
  },
  {
   "cell_type": "code",
   "execution_count": 49,
   "id": "625d24be-a441-4c4b-b7c3-ab46d17e014b",
   "metadata": {},
   "outputs": [
    {
     "name": "stdout",
     "output_type": "stream",
     "text": [
      "Başlangıç zamanı:\t1708696694.299205\n",
      "720\n",
      "Bitiş zamanı:\t1708696694.2992609\n",
      "Geçen zamanı:\t5.5789947509765625e-05\n"
     ]
    }
   ],
   "source": [
    "faktoriyel(6)"
   ]
  },
  {
   "cell_type": "code",
   "execution_count": 50,
   "id": "5d30a3d6-d18f-40e9-bc54-7126367d4751",
   "metadata": {},
   "outputs": [
    {
     "name": "stdout",
     "output_type": "stream",
     "text": [
      "Başlangıç zamanı:\t1708696698.975334\n",
      "30414093201713378043612608166064768844377641568960512000000000000\n",
      "Bitiş zamanı:\t1708696698.9760032\n",
      "Geçen zamanı:\t0.0006692409515380859\n"
     ]
    }
   ],
   "source": [
    "faktoriyel(50)"
   ]
  },
  {
   "cell_type": "code",
   "execution_count": 52,
   "id": "28eb42ea-3a60-40a2-9d1d-6e9b0138b323",
   "metadata": {},
   "outputs": [
    {
     "name": "stdout",
     "output_type": "stream",
     "text": [
      "Başlangıç zamanı:\t1708696712.063452\n",
      "402387260077093773543702433923003985719374864210714632543799910429938512398629020592044208486969404800479988610197196058631666872994808558901323829669944590997424504087073759918823627727188732519779505950995276120874975462497043601418278094646496291056393887437886487337119181045825783647849977012476632889835955735432513185323958463075557409114262417474349347553428646576611667797396668820291207379143853719588249808126867838374559731746136085379534524221586593201928090878297308431392844403281231558611036976801357304216168747609675871348312025478589320767169132448426236131412508780208000261683151027341827977704784635868170164365024153691398281264810213092761244896359928705114964975419909342221566832572080821333186116811553615836546984046708975602900950537616475847728421889679646244945160765353408198901385442487984959953319101723355556602139450399736280750137837615307127761926849034352625200015888535147331611702103968175921510907788019393178114194545257223865541461062892187960223838971476088506276862967146674697562911234082439208160153780889893964518263243671616762179168909779911903754031274622289988005195444414282012187361745992642956581746628302955570299024324153181617210465832036786906117260158783520751516284225540265170483304226143974286933061690897968482590125458327168226458066526769958652682272807075781391858178889652208164348344825993266043367660176999612831860788386150279465955131156552036093988180612138558600301435694527224206344631797460594682573103790084024432438465657245014402821885252470935190620929023136493273497565513958720559654228749774011413346962715422845862377387538230483865688976461927383814900140767310446640259899490222221765904339901886018566526485061799702356193897017860040811889729918311021171229845901641921068884387121855646124960798722908519296819372388642614839657382291123125024186649353143970137428531926649875337218940694281434118520158014123344828015051399694290153483077644569099073152433278288269864602789864321139083506217095002597389863554277196742822248757586765752344220207573630569498825087968928162753848863396909959826280956121450994871701244516461260379029309120889086942028510640182154399457156805941872748998094254742173582401063677404595741785160829230135358081840096996372524230560855903700624271243416909004153690105933983835777939410970027753472000000000000000000000000000000000000000000000000000000000000000000000000000000000000000000000000000000000000000000000000000000000000000000000000000000000000000000000000000000000000000000000000000000000000000000000000000000000000000000000000000000000\n",
      "Bitiş zamanı:\t1708696712.065585\n",
      "Geçen zamanı:\t0.002132892608642578\n"
     ]
    }
   ],
   "source": [
    "faktoriyel(1000)"
   ]
  },
  {
   "cell_type": "code",
   "execution_count": 65,
   "id": "c49c9984-e4d1-479b-bdd6-9c8465860e30",
   "metadata": {},
   "outputs": [
    {
     "name": "stdout",
     "output_type": "stream",
     "text": [
      "Başlangıç zamanı:\t1708696775.3985338\n",
      "2424858401169875856987549316530261243529336396354700842715749979460646110058233651782392648030625575890603295838549136086203631494904372698578181999057212055535785846413969420066573092861481554378165635499319577948946469878800693106187103360224139995239288292467274991657581799887960732860730465294056429604010675825650845592134295845654185424392132561718318353026455262912039002664120813132000602020151818744862796534620281615341820385425346251471878908201301227337883132211649086124629581129201309548248991126780745470297556208250525153383428851713805456555419758707284753260768805845944423382917543868035509410367649517977378961396490420583560768554085728596839435423979501005167390976056828737759722931049053051870481354220566751757226315251920734049093559363656820097662644345104685665152444697669009659982518091310671058073959926600845011866653850725006741331610135998770449096045426206531544154144601729043078225608136613193686346346764203375001081246967670378990121777385901921245133042374777487279240176076181929206652760242551593468206588418766183401939736514661022447416367789422605988204789848476655904174023752533626768590363300938231129606313365312387913130971900390208938471907315110717317435321123464794906710193916413838207147074458529525935478113361841325520841044346267628381902449941524896332350384902526765982148700924154884023605222691782597459599121027544229955922681404443327840648118042191399221650956164672857148227101451532445295161873221075926687151309815858723796054292521542311108190618276056103071140889723197707702368244847779594197140241112042128900654662720100758519336991189420021569389659862373674109453168227154296233208845394442627758282640964050502230911632608683569869755423400072413157317525410032842653580093887735517690412593258359388487289802270353135756659547954667344672901471048389223259683469006995762263469036620522300662493285722212048473141061111827211648276284983691538501299996459350066613212712170474963890532178735800245974574640904674554123815017979113627519922145830691096868313633320304359164703825903963661604335411773033078697699311892617463175229334854531701631075383899708905233041291527887059381689504636267968336033244928031019352467588242769652345533099117594059102256248189810284600657855707971881794779733938869280438373216606816889288287015049782284899585369920877745590840887712363661997881545433844629800189205229597440143179700162824702134957418586285920953284900382720017357876988767296282790084172114532622647998154080918863914038958583660595208167281479883677535909771428614756103440615905873310606657147769597200148222567970379939256596381142850272187439045199365546037482887333248526026065549397730475314476322168067523034600032867511743419691437003992038152628324659432676263448764134014429405489180634364519282138519962363193701386950109467042340571843977537752976341094127822030600936793871334872293490903117072170466054983434825167266916722980296391441044563178977701723309785609111259614474247364528550386532388327264689711775604664427340228901835597557029992960492192464058200400988909295153551200837397817601282679220611104173652358509007521101053095620748168997861050130023817703319787079095235833374426177514286578246903083415169109359323812741314724620593271262917265094024216337214863533448529254632599541703878619604512594846124252613960262726215219134672211844311020666195270036284140614857902974771290503656870984782590335117218368984797972576852801418834170795097602013208317371156612874344638041764532057542786831351076365498540443813006372421380736034740771076764178132559828434447544678633583005046265334346831012385703067191550416222980088761154519553974935287498676582754658553261232252765802371799256016444945115393409561160793126126735836975302341046431089640850574341354122545220831810806852068691732327187184240511538962440151159519314143893886850233861037997459199145386272154940965985357257552760909210073432064000000000000000000000000000000000000000000000000000000000000000000000000000000000000000000000000000000000000000000000000000000000000000000000000000000000000000000000000000000000000000000000000000000000000000000000000000000000000000000000000000000000000000000000000000000000000000000000000000000000000000000000000000000000000000000000000000000000000000000000000000000000000000000000000000\n",
      "Bitiş zamanı:\t1708696775.403476\n",
      "Geçen zamanı:\t0.004942178726196289\n"
     ]
    }
   ],
   "source": [
    "faktoriyel(1558)"
   ]
  },
  {
   "cell_type": "code",
   "execution_count": null,
   "id": "4a941086-7db2-4175-9e17-69b858da04b1",
   "metadata": {},
   "outputs": [],
   "source": []
  }
 ],
 "metadata": {
  "kernelspec": {
   "display_name": "Python 3 (ipykernel)",
   "language": "python",
   "name": "python3"
  },
  "language_info": {
   "codemirror_mode": {
    "name": "ipython",
    "version": 3
   },
   "file_extension": ".py",
   "mimetype": "text/x-python",
   "name": "python",
   "nbconvert_exporter": "python",
   "pygments_lexer": "ipython3",
   "version": "3.10.9"
  }
 },
 "nbformat": 4,
 "nbformat_minor": 5
}
