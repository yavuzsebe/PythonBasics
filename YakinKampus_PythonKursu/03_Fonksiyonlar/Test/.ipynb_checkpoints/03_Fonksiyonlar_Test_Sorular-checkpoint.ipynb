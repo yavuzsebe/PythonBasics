{
 "cells": [
  {
   "cell_type": "markdown",
   "metadata": {},
   "source": [
    "## Fonksiyon Uygulamasi"
   ]
  },
  {
   "cell_type": "markdown",
   "metadata": {},
   "source": [
    "### Bilgi:\n",
    "3 üzeri 2 = 9 \n",
    "Python'da üstel sayilari hesaplamak icin 3**2 seklinde gösterilir. "
   ]
  },
  {
   "cell_type": "code",
   "execution_count": 5,
   "metadata": {},
   "outputs": [
    {
     "data": {
      "text/plain": [
       "9"
      ]
     },
     "execution_count": 5,
     "metadata": {},
     "output_type": "execute_result"
    }
   ],
   "source": [
    "3**2"
   ]
  },
  {
   "cell_type": "markdown",
   "metadata": {},
   "source": [
    "#### Soru 1: Asagidaki fonskiyonu 2 parametre alacak ve üstel sonucu return edecek bicimde doldurun"
   ]
  },
  {
   "cell_type": "code",
   "execution_count": 1,
   "metadata": {},
   "outputs": [],
   "source": [
    "def ustel_sayi_v1():\n",
    "    \"\"\"\n",
    "    parametre: a: taban sayisi  b: kuvvet (üs) sayisi\n",
    "    tip:       a: integer       b: integer\n",
    "    örnek:     a: 3             b: 2\n",
    "    \n",
    "    r-return:  a üzeri b matematik isleminin sonucu\n",
    "    r-tip:     integer\n",
    "    r-örnek:   9\n",
    "    \"\"\"\n",
    "    \n",
    "    while True:\n",
    "        taban=input(\"Taban giriniz:\")\n",
    "        kuvvet=input(\"Kuvvet giriniz:\")\n",
    "        status=\" \"\n",
    "        try:\n",
    "            taban=int(taban)\n",
    "            kuvvet=int(kuvvet)\n",
    "            status=\"başarılı\"\n",
    "            print(\"İşlem {}. {}.\".format(status, int(taban**kuvvet)))\n",
    "            break\n",
    "        except:\n",
    "            print(\"Girdiğiniz sayı geçersiz. {}.\".format(status))\n",
    "            pass"
   ]
  },
  {
   "cell_type": "code",
   "execution_count": 5,
   "metadata": {},
   "outputs": [
    {
     "name": "stdin",
     "output_type": "stream",
     "text": [
      "Taban giriniz: d\n",
      "Kuvvet giriniz: d\n"
     ]
    },
    {
     "name": "stdout",
     "output_type": "stream",
     "text": [
      "Girdiğiniz sayı geçersiz.  .\n"
     ]
    },
    {
     "name": "stdin",
     "output_type": "stream",
     "text": [
      "Taban giriniz: 3\n",
      "Kuvvet giriniz: 2\n"
     ]
    },
    {
     "name": "stdout",
     "output_type": "stream",
     "text": [
      "İşlem başarılı. 9.\n"
     ]
    }
   ],
   "source": [
    "ustel_sayi_v1()"
   ]
  },
  {
   "cell_type": "code",
   "execution_count": null,
   "metadata": {},
   "outputs": [],
   "source": []
  },
  {
   "cell_type": "markdown",
   "metadata": {},
   "source": [
    "#### Soru 2: Asagidaki fonksiyonu 2 parametre alacak ve üstel sonucu return edecek bicimde  ve  ** yerine for döngüsü ile hesaplayacak bicimde olusturun"
   ]
  },
  {
   "cell_type": "code",
   "execution_count": 17,
   "metadata": {},
   "outputs": [],
   "source": [
    "def ustel_sayi_v2():\n",
    "    \"\"\"\n",
    "    parametre: a: taban sayisi  b: kuvvet (üs) sayisi\n",
    "    tip:       a: integer       b: integer\n",
    "    örnek:     a: 3             b: 2\n",
    "    \n",
    "    r-return:  a üzeri b matematik isleminin sonucu\n",
    "    r-tip:     integer\n",
    "    r-örnek:   9\n",
    "    \"\"\"\n",
    "    while True:\n",
    "        taban=input(\"Taban giriniz:\")\n",
    "        kuvvet=input(\"Kuvvet giriniz:\")\n",
    "        status=\" \"\n",
    "        try:\n",
    "            taban=int(taban)\n",
    "            kuvvet=int(kuvvet)\n",
    "            sonuc=1\n",
    "            for x in range(1,kuvvet+1):\n",
    "                sonuc=sonuc*taban\n",
    "            status=\"başarılı\"\n",
    "            print(\"İşlem {}. Sonuç {}.\".format(status, sonuc))\n",
    "            break\n",
    "        except:\n",
    "            print(\"Girdiğiniz sayı geçersiz. İşlem {}.\".format(status))\n",
    "            pass"
   ]
  },
  {
   "cell_type": "code",
   "execution_count": 23,
   "metadata": {},
   "outputs": [
    {
     "name": "stdin",
     "output_type": "stream",
     "text": [
      "Taban giriniz: 2\n",
      "Kuvvet giriniz: 0\n"
     ]
    },
    {
     "name": "stdout",
     "output_type": "stream",
     "text": [
      "İşlem başarılı. Sonuç 1.\n"
     ]
    }
   ],
   "source": [
    "ustel_sayi_v2()"
   ]
  },
  {
   "cell_type": "code",
   "execution_count": 24,
   "metadata": {},
   "outputs": [
    {
     "name": "stdin",
     "output_type": "stream",
     "text": [
      "Taban giriniz: 3\n",
      "Kuvvet giriniz: 2\n"
     ]
    },
    {
     "name": "stdout",
     "output_type": "stream",
     "text": [
      "İşlem başarılı. Sonuç 9.\n"
     ]
    }
   ],
   "source": [
    "ustel_sayi_v2()"
   ]
  },
  {
   "cell_type": "markdown",
   "metadata": {},
   "source": [
    "### Bilgi:\n",
    ".sort() komutu listeyi kücükten büyüge siralar"
   ]
  },
  {
   "cell_type": "code",
   "execution_count": null,
   "metadata": {},
   "outputs": [],
   "source": []
  },
  {
   "cell_type": "code",
   "execution_count": 7,
   "metadata": {},
   "outputs": [
    {
     "data": {
      "text/plain": [
       "[1, 2, 3, 4, 5]"
      ]
     },
     "execution_count": 7,
     "metadata": {},
     "output_type": "execute_result"
    }
   ],
   "source": [
    "liste = [1,5,2,3,4]\n",
    "liste.sort()\n",
    "liste"
   ]
  },
  {
   "cell_type": "markdown",
   "metadata": {},
   "source": [
    "#### Soru 3: Asagidaki fonskiyonu 1 parametre alacak (sadece sayilardan olusan liste tipinde) ve en büyük iki sayiyi döndürecek bicimde olusturun"
   ]
  },
  {
   "cell_type": "code",
   "execution_count": 33,
   "metadata": {},
   "outputs": [],
   "source": [
    "def listedeki_en_buyuk_iki_sayi(*args):\n",
    "    \"\"\"\n",
    "    parametre: icerisinde sadece sayi iceren \n",
    "    tip:       liste\n",
    "    örnek:     [1,5,10,2,6]\n",
    "    \n",
    "    r-return:  en büyük sayi      en büyük ikinci sayi\n",
    "    r-tip:     integer            integer\n",
    "    r-örnek:   10                 6\n",
    "    \"\"\"\n",
    "    liste=[*args]\n",
    "    liste.sort()\n",
    "    return liste[-1], liste[-2]"
   ]
  },
  {
   "cell_type": "code",
   "execution_count": 36,
   "metadata": {},
   "outputs": [
    {
     "data": {
      "text/plain": [
       "(11, 10)"
      ]
     },
     "execution_count": 36,
     "metadata": {},
     "output_type": "execute_result"
    }
   ],
   "source": [
    "listedeki_en_buyuk_iki_sayi(1,5,10,2,6,11)"
   ]
  },
  {
   "cell_type": "markdown",
   "metadata": {},
   "source": [
    "## Map, Filter ve Lambda Uygulamalari"
   ]
  },
  {
   "cell_type": "markdown",
   "metadata": {},
   "source": [
    "#### Soru 4: Asagidaki fonskiyonu 1 parametre alacak (liste tipinde) ve sadece str tipindeki degerleri filter ve lambda ifadelerini kullanarak filtreleyecek bicimde olusturun"
   ]
  },
  {
   "cell_type": "code",
   "execution_count": 67,
   "metadata": {},
   "outputs": [],
   "source": [
    "def str_filtrele(*args):\n",
    "    \"\"\"\n",
    "    liste= [1,2,3,5,'abc','a',True]\n",
    "    parametre: rastgele tipte elemanlar iceren\n",
    "    tip:       liste\n",
    "    örnek:     [1,2,3,5,'abc','a',True]\n",
    "    \n",
    "    r-return:  sadece string tipindeki degerleri iceren\n",
    "    r-tip:     liste\n",
    "    r-örnek:   ['abc', 'a']\n",
    "    \"\"\"\n",
    "    print([*filter(lambda x: x if type(x)==str else None, [*args])])"
   ]
  },
  {
   "cell_type": "code",
   "execution_count": 68,
   "metadata": {},
   "outputs": [
    {
     "name": "stdout",
     "output_type": "stream",
     "text": [
      "['abc', 'a']\n"
     ]
    }
   ],
   "source": [
    "str_filtrele(1,2,3,5,'abc','a',True)"
   ]
  },
  {
   "cell_type": "markdown",
   "metadata": {},
   "source": [
    "#### Soru 5: Asagidaki fonskiyonu 1 parametre alacak (sadece sayi iceren liste tipinde) ve map ve lambda ifadelerini kullanarak 6 sifir atacak bicimde olusturun"
   ]
  },
  {
   "cell_type": "code",
   "execution_count": 104,
   "metadata": {},
   "outputs": [],
   "source": [
    "def paradan_alti_sifir_at(liste):\n",
    "    \"\"\"\n",
    "    parametre: sayi tipinde elemanlar iceren\n",
    "    tip:       liste\n",
    "    örnek:     [1000000, 90000000, 15000000]\n",
    "    \n",
    "    r-return:  liste elemanlarinin 6 sifir atilmis halinde\n",
    "    r-tip:     liste\n",
    "    r-örnek:   [1, 90, 15]\n",
    "    \"\"\"\n",
    "    \n",
    "    sonuc = []\n",
    "    for x in liste:\n",
    "        sonuc.append(int(x/1000000))\n",
    "        \n",
    "    return sonuc"
   ]
  },
  {
   "cell_type": "code",
   "execution_count": 105,
   "metadata": {},
   "outputs": [
    {
     "data": {
      "text/plain": [
       "[1, 90, 15]"
      ]
     },
     "execution_count": 105,
     "metadata": {},
     "output_type": "execute_result"
    }
   ],
   "source": [
    "paradan_alti_sifir_at([1000000, 90000000, 15000000])"
   ]
  },
  {
   "cell_type": "markdown",
   "metadata": {},
   "source": [
    "## Kullanici Girdisi Uygulamasi"
   ]
  },
  {
   "cell_type": "markdown",
   "metadata": {},
   "source": [
    "#### Soru 6: Asagidaki fonskiyonu input komutu ile kullanicidan saat ve dakika alacak bicimde olusuturun."
   ]
  },
  {
   "cell_type": "code",
   "execution_count": 55,
   "metadata": {},
   "outputs": [],
   "source": [
    "def zaman_verisi_al():\n",
    "    \"\"\"\n",
    "    parametre: None\n",
    "    tip:       None\n",
    "    örnek:     None\n",
    "    \n",
    "    r-return:  Saati ekrana döndür\n",
    "    r-tip:     String\n",
    "    r-örnek:   saat: 23,       dakika: 59\n",
    "    \"\"\"\n",
    "    saat=input(\"24 saatlik sistem üzerinden saati giriniz:\")\n",
    "    if saat.isdigit():\n",
    "        saat=int(saat)\n",
    "        if 0<=saat<24:\n",
    "            dakika=input(\"Dakika giriniz:\")\n",
    "            if dakika.isdigit():\n",
    "                dakika=int(dakika)\n",
    "                if 0<=dakika<60:\n",
    "                    print(\"Kayıt saati {}:{}\".format(saat,dakika))\n",
    "                else:\n",
    "                    print(\"Dakika değeri hatalı.\")\n",
    "            else:\n",
    "                print(\"Uygun olmayan karakter kullanıldı.\")\n",
    "        else:\n",
    "            print(\"Saat değeri hatalı. Lütfen 24 saatlik sistem üzerinden bir değer giriniz.\")\n",
    "    else:\n",
    "        print(\"Uygun olmayan karakter kullanıldı.\")"
   ]
  },
  {
   "cell_type": "code",
   "execution_count": 19,
   "metadata": {},
   "outputs": [
    {
     "name": "stdin",
     "output_type": "stream",
     "text": [
      "24 saatlik sistem üzerinden saati giriniz: 23\n",
      "Dakika giriniz: a\n"
     ]
    },
    {
     "name": "stdout",
     "output_type": "stream",
     "text": [
      "Uygun olmayan karakter kullanıldı.\n"
     ]
    }
   ],
   "source": [
    "zaman_verisi_al()"
   ]
  },
  {
   "cell_type": "code",
   "execution_count": 20,
   "metadata": {},
   "outputs": [
    {
     "name": "stdin",
     "output_type": "stream",
     "text": [
      "24 saatlik sistem üzerinden saati giriniz: 12\n",
      "Dakika giriniz: 45\n"
     ]
    },
    {
     "name": "stdout",
     "output_type": "stream",
     "text": [
      "Kayıt saati 12:45\n"
     ]
    }
   ],
   "source": [
    "zaman_verisi_al()"
   ]
  },
  {
   "cell_type": "code",
   "execution_count": 57,
   "metadata": {},
   "outputs": [
    {
     "name": "stdin",
     "output_type": "stream",
     "text": [
      "24 saatlik sistem üzerinden saati giriniz: 34\n"
     ]
    },
    {
     "name": "stdout",
     "output_type": "stream",
     "text": [
      "Saat değeri hatalı. Lütfen 24 saatlik sistem üzerinden bir değer giriniz.\n"
     ]
    }
   ],
   "source": [
    "zaman_verisi_al()"
   ]
  },
  {
   "cell_type": "code",
   "execution_count": 56,
   "metadata": {},
   "outputs": [
    {
     "name": "stdin",
     "output_type": "stream",
     "text": [
      "24 saatlik sistem üzerinden saati giriniz: 0\n",
      "Dakika giriniz: 0\n"
     ]
    },
    {
     "name": "stdout",
     "output_type": "stream",
     "text": [
      "Kayıt saati 0:0\n"
     ]
    }
   ],
   "source": [
    "zaman_verisi_al()"
   ]
  }
 ],
 "metadata": {
  "kernelspec": {
   "display_name": "Python 3 (ipykernel)",
   "language": "python",
   "name": "python3"
  },
  "language_info": {
   "codemirror_mode": {
    "name": "ipython",
    "version": 3
   },
   "file_extension": ".py",
   "mimetype": "text/x-python",
   "name": "python",
   "nbconvert_exporter": "python",
   "pygments_lexer": "ipython3",
   "version": "3.10.9"
  }
 },
 "nbformat": 4,
 "nbformat_minor": 4
}
