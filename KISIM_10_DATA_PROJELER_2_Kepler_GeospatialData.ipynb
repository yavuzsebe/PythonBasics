{
 "cells": [
  {
   "cell_type": "code",
   "execution_count": 7,
   "id": "122e2e09-36be-425a-9efc-a8619d06ece9",
   "metadata": {},
   "outputs": [
    {
     "name": "stdout",
     "output_type": "stream",
     "text": [
      "Requirement already satisfied: keplergl in /Users/yavuzsebe/anaconda3/lib/python3.10/site-packages (0.3.2)\n",
      "Requirement already satisfied: Shapely>=1.6.4.post2 in /Users/yavuzsebe/anaconda3/lib/python3.10/site-packages (from keplergl) (2.0.3)\n",
      "Requirement already satisfied: pandas>=0.23.0 in /Users/yavuzsebe/anaconda3/lib/python3.10/site-packages (from keplergl) (1.5.3)\n",
      "Requirement already satisfied: traittypes>=0.2.1 in /Users/yavuzsebe/anaconda3/lib/python3.10/site-packages (from keplergl) (0.2.1)\n",
      "Requirement already satisfied: ipywidgets<8,>=7.0.0 in /Users/yavuzsebe/anaconda3/lib/python3.10/site-packages (from keplergl) (7.8.0)\n",
      "Requirement already satisfied: geopandas>=0.5.0 in /Users/yavuzsebe/anaconda3/lib/python3.10/site-packages (from keplergl) (0.14.3)\n",
      "Requirement already satisfied: packaging in /Users/yavuzsebe/anaconda3/lib/python3.10/site-packages (from geopandas>=0.5.0->keplergl) (22.0)\n",
      "Requirement already satisfied: fiona>=1.8.21 in /Users/yavuzsebe/anaconda3/lib/python3.10/site-packages (from geopandas>=0.5.0->keplergl) (1.9.5)\n",
      "Requirement already satisfied: pyproj>=3.3.0 in /Users/yavuzsebe/anaconda3/lib/python3.10/site-packages (from geopandas>=0.5.0->keplergl) (3.6.1)\n",
      "Requirement already satisfied: traitlets>=4.3.1 in /Users/yavuzsebe/anaconda3/lib/python3.10/site-packages (from ipywidgets<8,>=7.0.0->keplergl) (5.7.1)\n",
      "Requirement already satisfied: comm>=0.1.3 in /Users/yavuzsebe/anaconda3/lib/python3.10/site-packages (from ipywidgets<8,>=7.0.0->keplergl) (0.2.1)\n",
      "Requirement already satisfied: jupyterlab-widgets<3,>=1.0.0 in /Users/yavuzsebe/anaconda3/lib/python3.10/site-packages (from ipywidgets<8,>=7.0.0->keplergl) (1.1.7)\n",
      "Requirement already satisfied: widgetsnbextension~=3.6.5 in /Users/yavuzsebe/anaconda3/lib/python3.10/site-packages (from ipywidgets<8,>=7.0.0->keplergl) (3.6.5)\n",
      "Requirement already satisfied: ipython>=4.0.0 in /Users/yavuzsebe/anaconda3/lib/python3.10/site-packages (from ipywidgets<8,>=7.0.0->keplergl) (8.10.0)\n",
      "Requirement already satisfied: ipython-genutils~=0.2.0 in /Users/yavuzsebe/anaconda3/lib/python3.10/site-packages (from ipywidgets<8,>=7.0.0->keplergl) (0.2.0)\n",
      "Requirement already satisfied: python-dateutil>=2.8.1 in /Users/yavuzsebe/anaconda3/lib/python3.10/site-packages (from pandas>=0.23.0->keplergl) (2.8.2)\n",
      "Requirement already satisfied: pytz>=2020.1 in /Users/yavuzsebe/anaconda3/lib/python3.10/site-packages (from pandas>=0.23.0->keplergl) (2022.7)\n",
      "Requirement already satisfied: numpy>=1.21.0 in /Users/yavuzsebe/anaconda3/lib/python3.10/site-packages (from pandas>=0.23.0->keplergl) (1.22.3)\n",
      "Requirement already satisfied: click-plugins>=1.0 in /Users/yavuzsebe/anaconda3/lib/python3.10/site-packages (from fiona>=1.8.21->geopandas>=0.5.0->keplergl) (1.1.1)\n",
      "Requirement already satisfied: attrs>=19.2.0 in /Users/yavuzsebe/anaconda3/lib/python3.10/site-packages (from fiona>=1.8.21->geopandas>=0.5.0->keplergl) (23.1.0)\n",
      "Requirement already satisfied: six in /Users/yavuzsebe/anaconda3/lib/python3.10/site-packages (from fiona>=1.8.21->geopandas>=0.5.0->keplergl) (1.16.0)\n",
      "Requirement already satisfied: setuptools in /Users/yavuzsebe/anaconda3/lib/python3.10/site-packages (from fiona>=1.8.21->geopandas>=0.5.0->keplergl) (65.6.3)\n",
      "Requirement already satisfied: click~=8.0 in /Users/yavuzsebe/anaconda3/lib/python3.10/site-packages (from fiona>=1.8.21->geopandas>=0.5.0->keplergl) (8.0.4)\n",
      "Requirement already satisfied: cligj>=0.5 in /Users/yavuzsebe/anaconda3/lib/python3.10/site-packages (from fiona>=1.8.21->geopandas>=0.5.0->keplergl) (0.7.2)\n",
      "Requirement already satisfied: certifi in /Users/yavuzsebe/anaconda3/lib/python3.10/site-packages (from fiona>=1.8.21->geopandas>=0.5.0->keplergl) (2024.2.2)\n",
      "Requirement already satisfied: stack-data in /Users/yavuzsebe/anaconda3/lib/python3.10/site-packages (from ipython>=4.0.0->ipywidgets<8,>=7.0.0->keplergl) (0.2.0)\n",
      "Requirement already satisfied: appnope in /Users/yavuzsebe/anaconda3/lib/python3.10/site-packages (from ipython>=4.0.0->ipywidgets<8,>=7.0.0->keplergl) (0.1.2)\n",
      "Requirement already satisfied: matplotlib-inline in /Users/yavuzsebe/anaconda3/lib/python3.10/site-packages (from ipython>=4.0.0->ipywidgets<8,>=7.0.0->keplergl) (0.1.6)\n",
      "Requirement already satisfied: prompt-toolkit<3.1.0,>=3.0.30 in /Users/yavuzsebe/anaconda3/lib/python3.10/site-packages (from ipython>=4.0.0->ipywidgets<8,>=7.0.0->keplergl) (3.0.36)\n",
      "Requirement already satisfied: pygments>=2.4.0 in /Users/yavuzsebe/anaconda3/lib/python3.10/site-packages (from ipython>=4.0.0->ipywidgets<8,>=7.0.0->keplergl) (2.11.2)\n",
      "Requirement already satisfied: backcall in /Users/yavuzsebe/anaconda3/lib/python3.10/site-packages (from ipython>=4.0.0->ipywidgets<8,>=7.0.0->keplergl) (0.2.0)\n",
      "Requirement already satisfied: jedi>=0.16 in /Users/yavuzsebe/anaconda3/lib/python3.10/site-packages (from ipython>=4.0.0->ipywidgets<8,>=7.0.0->keplergl) (0.18.1)\n",
      "Requirement already satisfied: pexpect>4.3 in /Users/yavuzsebe/anaconda3/lib/python3.10/site-packages (from ipython>=4.0.0->ipywidgets<8,>=7.0.0->keplergl) (4.8.0)\n",
      "Requirement already satisfied: decorator in /Users/yavuzsebe/anaconda3/lib/python3.10/site-packages (from ipython>=4.0.0->ipywidgets<8,>=7.0.0->keplergl) (5.1.1)\n",
      "Requirement already satisfied: pickleshare in /Users/yavuzsebe/anaconda3/lib/python3.10/site-packages (from ipython>=4.0.0->ipywidgets<8,>=7.0.0->keplergl) (0.7.5)\n",
      "Requirement already satisfied: notebook>=4.4.1 in /Users/yavuzsebe/anaconda3/lib/python3.10/site-packages (from widgetsnbextension~=3.6.5->ipywidgets<8,>=7.0.0->keplergl) (7.0.8)\n",
      "Requirement already satisfied: parso<0.9.0,>=0.8.0 in /Users/yavuzsebe/anaconda3/lib/python3.10/site-packages (from jedi>=0.16->ipython>=4.0.0->ipywidgets<8,>=7.0.0->keplergl) (0.8.3)\n",
      "Requirement already satisfied: jupyter-server<3,>=2.4.0 in /Users/yavuzsebe/anaconda3/lib/python3.10/site-packages (from notebook>=4.4.1->widgetsnbextension~=3.6.5->ipywidgets<8,>=7.0.0->keplergl) (2.10.0)\n",
      "Requirement already satisfied: tornado>=6.2.0 in /Users/yavuzsebe/anaconda3/lib/python3.10/site-packages (from notebook>=4.4.1->widgetsnbextension~=3.6.5->ipywidgets<8,>=7.0.0->keplergl) (6.3.3)\n",
      "Requirement already satisfied: jupyterlab<4.1,>=4.0.2 in /Users/yavuzsebe/anaconda3/lib/python3.10/site-packages (from notebook>=4.4.1->widgetsnbextension~=3.6.5->ipywidgets<8,>=7.0.0->keplergl) (4.0.11)\n",
      "Requirement already satisfied: jupyterlab-server<3,>=2.22.1 in /Users/yavuzsebe/anaconda3/lib/python3.10/site-packages (from notebook>=4.4.1->widgetsnbextension~=3.6.5->ipywidgets<8,>=7.0.0->keplergl) (2.25.1)\n",
      "Requirement already satisfied: notebook-shim<0.3,>=0.2 in /Users/yavuzsebe/anaconda3/lib/python3.10/site-packages (from notebook>=4.4.1->widgetsnbextension~=3.6.5->ipywidgets<8,>=7.0.0->keplergl) (0.2.2)\n",
      "Requirement already satisfied: ptyprocess>=0.5 in /Users/yavuzsebe/anaconda3/lib/python3.10/site-packages (from pexpect>4.3->ipython>=4.0.0->ipywidgets<8,>=7.0.0->keplergl) (0.7.0)\n",
      "Requirement already satisfied: wcwidth in /Users/yavuzsebe/anaconda3/lib/python3.10/site-packages (from prompt-toolkit<3.1.0,>=3.0.30->ipython>=4.0.0->ipywidgets<8,>=7.0.0->keplergl) (0.2.5)\n",
      "Requirement already satisfied: asttokens in /Users/yavuzsebe/anaconda3/lib/python3.10/site-packages (from stack-data->ipython>=4.0.0->ipywidgets<8,>=7.0.0->keplergl) (2.0.5)\n",
      "Requirement already satisfied: pure-eval in /Users/yavuzsebe/anaconda3/lib/python3.10/site-packages (from stack-data->ipython>=4.0.0->ipywidgets<8,>=7.0.0->keplergl) (0.2.2)\n",
      "Requirement already satisfied: executing in /Users/yavuzsebe/anaconda3/lib/python3.10/site-packages (from stack-data->ipython>=4.0.0->ipywidgets<8,>=7.0.0->keplergl) (0.8.3)\n",
      "Requirement already satisfied: jupyter-server-terminals in /Users/yavuzsebe/anaconda3/lib/python3.10/site-packages (from jupyter-server<3,>=2.4.0->notebook>=4.4.1->widgetsnbextension~=3.6.5->ipywidgets<8,>=7.0.0->keplergl) (0.4.4)\n",
      "Requirement already satisfied: terminado>=0.8.3 in /Users/yavuzsebe/anaconda3/lib/python3.10/site-packages (from jupyter-server<3,>=2.4.0->notebook>=4.4.1->widgetsnbextension~=3.6.5->ipywidgets<8,>=7.0.0->keplergl) (0.17.1)\n",
      "Requirement already satisfied: jupyter-events>=0.6.0 in /Users/yavuzsebe/anaconda3/lib/python3.10/site-packages (from jupyter-server<3,>=2.4.0->notebook>=4.4.1->widgetsnbextension~=3.6.5->ipywidgets<8,>=7.0.0->keplergl) (0.8.0)\n",
      "Requirement already satisfied: send2trash>=1.8.2 in /Users/yavuzsebe/anaconda3/lib/python3.10/site-packages (from jupyter-server<3,>=2.4.0->notebook>=4.4.1->widgetsnbextension~=3.6.5->ipywidgets<8,>=7.0.0->keplergl) (1.8.2)\n",
      "Requirement already satisfied: pyzmq>=24 in /Users/yavuzsebe/anaconda3/lib/python3.10/site-packages (from jupyter-server<3,>=2.4.0->notebook>=4.4.1->widgetsnbextension~=3.6.5->ipywidgets<8,>=7.0.0->keplergl) (25.1.2)\n",
      "Requirement already satisfied: jinja2 in /Users/yavuzsebe/anaconda3/lib/python3.10/site-packages (from jupyter-server<3,>=2.4.0->notebook>=4.4.1->widgetsnbextension~=3.6.5->ipywidgets<8,>=7.0.0->keplergl) (3.1.2)\n",
      "Requirement already satisfied: argon2-cffi in /Users/yavuzsebe/anaconda3/lib/python3.10/site-packages (from jupyter-server<3,>=2.4.0->notebook>=4.4.1->widgetsnbextension~=3.6.5->ipywidgets<8,>=7.0.0->keplergl) (21.3.0)\n",
      "Requirement already satisfied: jupyter-client>=7.4.4 in /Users/yavuzsebe/anaconda3/lib/python3.10/site-packages (from jupyter-server<3,>=2.4.0->notebook>=4.4.1->widgetsnbextension~=3.6.5->ipywidgets<8,>=7.0.0->keplergl) (7.4.9)\n",
      "Requirement already satisfied: jupyter-core!=5.0.*,>=4.12 in /Users/yavuzsebe/anaconda3/lib/python3.10/site-packages (from jupyter-server<3,>=2.4.0->notebook>=4.4.1->widgetsnbextension~=3.6.5->ipywidgets<8,>=7.0.0->keplergl) (5.2.0)\n",
      "Requirement already satisfied: websocket-client in /Users/yavuzsebe/anaconda3/lib/python3.10/site-packages (from jupyter-server<3,>=2.4.0->notebook>=4.4.1->widgetsnbextension~=3.6.5->ipywidgets<8,>=7.0.0->keplergl) (0.58.0)\n",
      "Requirement already satisfied: anyio>=3.1.0 in /Users/yavuzsebe/anaconda3/lib/python3.10/site-packages (from jupyter-server<3,>=2.4.0->notebook>=4.4.1->widgetsnbextension~=3.6.5->ipywidgets<8,>=7.0.0->keplergl) (3.5.0)\n",
      "Requirement already satisfied: overrides in /Users/yavuzsebe/anaconda3/lib/python3.10/site-packages (from jupyter-server<3,>=2.4.0->notebook>=4.4.1->widgetsnbextension~=3.6.5->ipywidgets<8,>=7.0.0->keplergl) (7.4.0)\n",
      "Requirement already satisfied: prometheus-client in /Users/yavuzsebe/anaconda3/lib/python3.10/site-packages (from jupyter-server<3,>=2.4.0->notebook>=4.4.1->widgetsnbextension~=3.6.5->ipywidgets<8,>=7.0.0->keplergl) (0.14.1)\n",
      "Requirement already satisfied: nbconvert>=6.4.4 in /Users/yavuzsebe/anaconda3/lib/python3.10/site-packages (from jupyter-server<3,>=2.4.0->notebook>=4.4.1->widgetsnbextension~=3.6.5->ipywidgets<8,>=7.0.0->keplergl) (6.5.4)\n",
      "Requirement already satisfied: nbformat>=5.3.0 in /Users/yavuzsebe/anaconda3/lib/python3.10/site-packages (from jupyter-server<3,>=2.4.0->notebook>=4.4.1->widgetsnbextension~=3.6.5->ipywidgets<8,>=7.0.0->keplergl) (5.7.0)\n",
      "Requirement already satisfied: async-lru>=1.0.0 in /Users/yavuzsebe/anaconda3/lib/python3.10/site-packages (from jupyterlab<4.1,>=4.0.2->notebook>=4.4.1->widgetsnbextension~=3.6.5->ipywidgets<8,>=7.0.0->keplergl) (2.0.4)\n",
      "Requirement already satisfied: jupyter-lsp>=2.0.0 in /Users/yavuzsebe/anaconda3/lib/python3.10/site-packages (from jupyterlab<4.1,>=4.0.2->notebook>=4.4.1->widgetsnbextension~=3.6.5->ipywidgets<8,>=7.0.0->keplergl) (2.2.0)\n",
      "Requirement already satisfied: tomli in /Users/yavuzsebe/anaconda3/lib/python3.10/site-packages (from jupyterlab<4.1,>=4.0.2->notebook>=4.4.1->widgetsnbextension~=3.6.5->ipywidgets<8,>=7.0.0->keplergl) (2.0.1)\n",
      "Requirement already satisfied: ipykernel in /Users/yavuzsebe/anaconda3/lib/python3.10/site-packages (from jupyterlab<4.1,>=4.0.2->notebook>=4.4.1->widgetsnbextension~=3.6.5->ipywidgets<8,>=7.0.0->keplergl) (6.19.2)\n",
      "Requirement already satisfied: requests>=2.31 in /Users/yavuzsebe/anaconda3/lib/python3.10/site-packages (from jupyterlab-server<3,>=2.22.1->notebook>=4.4.1->widgetsnbextension~=3.6.5->ipywidgets<8,>=7.0.0->keplergl) (2.31.0)\n",
      "Requirement already satisfied: json5>=0.9.0 in /Users/yavuzsebe/anaconda3/lib/python3.10/site-packages (from jupyterlab-server<3,>=2.22.1->notebook>=4.4.1->widgetsnbextension~=3.6.5->ipywidgets<8,>=7.0.0->keplergl) (0.9.6)\n",
      "Requirement already satisfied: jsonschema>=4.18.0 in /Users/yavuzsebe/anaconda3/lib/python3.10/site-packages (from jupyterlab-server<3,>=2.22.1->notebook>=4.4.1->widgetsnbextension~=3.6.5->ipywidgets<8,>=7.0.0->keplergl) (4.19.2)\n",
      "Requirement already satisfied: babel>=2.10 in /Users/yavuzsebe/anaconda3/lib/python3.10/site-packages (from jupyterlab-server<3,>=2.22.1->notebook>=4.4.1->widgetsnbextension~=3.6.5->ipywidgets<8,>=7.0.0->keplergl) (2.11.0)\n",
      "Requirement already satisfied: idna>=2.8 in /Users/yavuzsebe/anaconda3/lib/python3.10/site-packages (from anyio>=3.1.0->jupyter-server<3,>=2.4.0->notebook>=4.4.1->widgetsnbextension~=3.6.5->ipywidgets<8,>=7.0.0->keplergl) (3.4)\n",
      "Requirement already satisfied: sniffio>=1.1 in /Users/yavuzsebe/anaconda3/lib/python3.10/site-packages (from anyio>=3.1.0->jupyter-server<3,>=2.4.0->notebook>=4.4.1->widgetsnbextension~=3.6.5->ipywidgets<8,>=7.0.0->keplergl) (1.3.0)\n",
      "Requirement already satisfied: typing-extensions>=4.0.0 in /Users/yavuzsebe/anaconda3/lib/python3.10/site-packages (from async-lru>=1.0.0->jupyterlab<4.1,>=4.0.2->notebook>=4.4.1->widgetsnbextension~=3.6.5->ipywidgets<8,>=7.0.0->keplergl) (4.9.0)\n",
      "Requirement already satisfied: MarkupSafe>=2.0 in /Users/yavuzsebe/anaconda3/lib/python3.10/site-packages (from jinja2->jupyter-server<3,>=2.4.0->notebook>=4.4.1->widgetsnbextension~=3.6.5->ipywidgets<8,>=7.0.0->keplergl) (2.1.1)\n",
      "Requirement already satisfied: jsonschema-specifications>=2023.03.6 in /Users/yavuzsebe/anaconda3/lib/python3.10/site-packages (from jsonschema>=4.18.0->jupyterlab-server<3,>=2.22.1->notebook>=4.4.1->widgetsnbextension~=3.6.5->ipywidgets<8,>=7.0.0->keplergl) (2023.7.1)\n",
      "Requirement already satisfied: referencing>=0.28.4 in /Users/yavuzsebe/anaconda3/lib/python3.10/site-packages (from jsonschema>=4.18.0->jupyterlab-server<3,>=2.22.1->notebook>=4.4.1->widgetsnbextension~=3.6.5->ipywidgets<8,>=7.0.0->keplergl) (0.30.2)\n",
      "Requirement already satisfied: rpds-py>=0.7.1 in /Users/yavuzsebe/anaconda3/lib/python3.10/site-packages (from jsonschema>=4.18.0->jupyterlab-server<3,>=2.22.1->notebook>=4.4.1->widgetsnbextension~=3.6.5->ipywidgets<8,>=7.0.0->keplergl) (0.10.6)\n",
      "Requirement already satisfied: entrypoints in /Users/yavuzsebe/anaconda3/lib/python3.10/site-packages (from jupyter-client>=7.4.4->jupyter-server<3,>=2.4.0->notebook>=4.4.1->widgetsnbextension~=3.6.5->ipywidgets<8,>=7.0.0->keplergl) (0.4)\n",
      "Requirement already satisfied: nest-asyncio>=1.5.4 in /Users/yavuzsebe/anaconda3/lib/python3.10/site-packages (from jupyter-client>=7.4.4->jupyter-server<3,>=2.4.0->notebook>=4.4.1->widgetsnbextension~=3.6.5->ipywidgets<8,>=7.0.0->keplergl) (1.5.6)\n",
      "Requirement already satisfied: platformdirs>=2.5 in /Users/yavuzsebe/anaconda3/lib/python3.10/site-packages (from jupyter-core!=5.0.*,>=4.12->jupyter-server<3,>=2.4.0->notebook>=4.4.1->widgetsnbextension~=3.6.5->ipywidgets<8,>=7.0.0->keplergl) (2.5.2)\n",
      "Requirement already satisfied: python-json-logger>=2.0.4 in /Users/yavuzsebe/anaconda3/lib/python3.10/site-packages (from jupyter-events>=0.6.0->jupyter-server<3,>=2.4.0->notebook>=4.4.1->widgetsnbextension~=3.6.5->ipywidgets<8,>=7.0.0->keplergl) (2.0.7)\n",
      "Requirement already satisfied: rfc3339-validator in /Users/yavuzsebe/anaconda3/lib/python3.10/site-packages (from jupyter-events>=0.6.0->jupyter-server<3,>=2.4.0->notebook>=4.4.1->widgetsnbextension~=3.6.5->ipywidgets<8,>=7.0.0->keplergl) (0.1.4)\n",
      "Requirement already satisfied: rfc3986-validator>=0.1.1 in /Users/yavuzsebe/anaconda3/lib/python3.10/site-packages (from jupyter-events>=0.6.0->jupyter-server<3,>=2.4.0->notebook>=4.4.1->widgetsnbextension~=3.6.5->ipywidgets<8,>=7.0.0->keplergl) (0.1.1)\n",
      "Requirement already satisfied: pyyaml>=5.3 in /Users/yavuzsebe/anaconda3/lib/python3.10/site-packages (from jupyter-events>=0.6.0->jupyter-server<3,>=2.4.0->notebook>=4.4.1->widgetsnbextension~=3.6.5->ipywidgets<8,>=7.0.0->keplergl) (6.0)\n",
      "Requirement already satisfied: beautifulsoup4 in /Users/yavuzsebe/anaconda3/lib/python3.10/site-packages (from nbconvert>=6.4.4->jupyter-server<3,>=2.4.0->notebook>=4.4.1->widgetsnbextension~=3.6.5->ipywidgets<8,>=7.0.0->keplergl) (4.11.1)\n",
      "Requirement already satisfied: jupyterlab-pygments in /Users/yavuzsebe/anaconda3/lib/python3.10/site-packages (from nbconvert>=6.4.4->jupyter-server<3,>=2.4.0->notebook>=4.4.1->widgetsnbextension~=3.6.5->ipywidgets<8,>=7.0.0->keplergl) (0.1.2)\n",
      "Requirement already satisfied: defusedxml in /Users/yavuzsebe/anaconda3/lib/python3.10/site-packages (from nbconvert>=6.4.4->jupyter-server<3,>=2.4.0->notebook>=4.4.1->widgetsnbextension~=3.6.5->ipywidgets<8,>=7.0.0->keplergl) (0.7.1)\n",
      "Requirement already satisfied: pandocfilters>=1.4.1 in /Users/yavuzsebe/anaconda3/lib/python3.10/site-packages (from nbconvert>=6.4.4->jupyter-server<3,>=2.4.0->notebook>=4.4.1->widgetsnbextension~=3.6.5->ipywidgets<8,>=7.0.0->keplergl) (1.5.0)\n",
      "Requirement already satisfied: bleach in /Users/yavuzsebe/anaconda3/lib/python3.10/site-packages (from nbconvert>=6.4.4->jupyter-server<3,>=2.4.0->notebook>=4.4.1->widgetsnbextension~=3.6.5->ipywidgets<8,>=7.0.0->keplergl) (4.1.0)\n",
      "Requirement already satisfied: mistune<2,>=0.8.1 in /Users/yavuzsebe/anaconda3/lib/python3.10/site-packages (from nbconvert>=6.4.4->jupyter-server<3,>=2.4.0->notebook>=4.4.1->widgetsnbextension~=3.6.5->ipywidgets<8,>=7.0.0->keplergl) (0.8.4)\n",
      "Requirement already satisfied: lxml in /Users/yavuzsebe/anaconda3/lib/python3.10/site-packages (from nbconvert>=6.4.4->jupyter-server<3,>=2.4.0->notebook>=4.4.1->widgetsnbextension~=3.6.5->ipywidgets<8,>=7.0.0->keplergl) (4.9.1)\n",
      "Requirement already satisfied: nbclient>=0.5.0 in /Users/yavuzsebe/anaconda3/lib/python3.10/site-packages (from nbconvert>=6.4.4->jupyter-server<3,>=2.4.0->notebook>=4.4.1->widgetsnbextension~=3.6.5->ipywidgets<8,>=7.0.0->keplergl) (0.5.13)\n",
      "Requirement already satisfied: tinycss2 in /Users/yavuzsebe/anaconda3/lib/python3.10/site-packages (from nbconvert>=6.4.4->jupyter-server<3,>=2.4.0->notebook>=4.4.1->widgetsnbextension~=3.6.5->ipywidgets<8,>=7.0.0->keplergl) (1.2.1)\n",
      "Requirement already satisfied: fastjsonschema in /Users/yavuzsebe/anaconda3/lib/python3.10/site-packages (from nbformat>=5.3.0->jupyter-server<3,>=2.4.0->notebook>=4.4.1->widgetsnbextension~=3.6.5->ipywidgets<8,>=7.0.0->keplergl) (2.16.2)\n",
      "Requirement already satisfied: urllib3<3,>=1.21.1 in /Users/yavuzsebe/anaconda3/lib/python3.10/site-packages (from requests>=2.31->jupyterlab-server<3,>=2.22.1->notebook>=4.4.1->widgetsnbextension~=3.6.5->ipywidgets<8,>=7.0.0->keplergl) (1.26.14)\n",
      "Requirement already satisfied: charset-normalizer<4,>=2 in /Users/yavuzsebe/anaconda3/lib/python3.10/site-packages (from requests>=2.31->jupyterlab-server<3,>=2.22.1->notebook>=4.4.1->widgetsnbextension~=3.6.5->ipywidgets<8,>=7.0.0->keplergl) (2.0.4)\n",
      "Requirement already satisfied: argon2-cffi-bindings in /Users/yavuzsebe/anaconda3/lib/python3.10/site-packages (from argon2-cffi->jupyter-server<3,>=2.4.0->notebook>=4.4.1->widgetsnbextension~=3.6.5->ipywidgets<8,>=7.0.0->keplergl) (21.2.0)\n",
      "Requirement already satisfied: psutil in /Users/yavuzsebe/anaconda3/lib/python3.10/site-packages (from ipykernel->jupyterlab<4.1,>=4.0.2->notebook>=4.4.1->widgetsnbextension~=3.6.5->ipywidgets<8,>=7.0.0->keplergl) (5.9.0)\n",
      "Requirement already satisfied: debugpy>=1.0 in /Users/yavuzsebe/anaconda3/lib/python3.10/site-packages (from ipykernel->jupyterlab<4.1,>=4.0.2->notebook>=4.4.1->widgetsnbextension~=3.6.5->ipywidgets<8,>=7.0.0->keplergl) (1.5.1)\n",
      "Requirement already satisfied: jsonpointer>1.13 in /Users/yavuzsebe/anaconda3/lib/python3.10/site-packages (from jsonschema>=4.18.0->jupyterlab-server<3,>=2.22.1->notebook>=4.4.1->widgetsnbextension~=3.6.5->ipywidgets<8,>=7.0.0->keplergl) (2.4)\n",
      "Requirement already satisfied: fqdn in /Users/yavuzsebe/anaconda3/lib/python3.10/site-packages (from jsonschema>=4.18.0->jupyterlab-server<3,>=2.22.1->notebook>=4.4.1->widgetsnbextension~=3.6.5->ipywidgets<8,>=7.0.0->keplergl) (1.5.1)\n",
      "Requirement already satisfied: uri-template in /Users/yavuzsebe/anaconda3/lib/python3.10/site-packages (from jsonschema>=4.18.0->jupyterlab-server<3,>=2.22.1->notebook>=4.4.1->widgetsnbextension~=3.6.5->ipywidgets<8,>=7.0.0->keplergl) (1.3.0)\n",
      "Requirement already satisfied: isoduration in /Users/yavuzsebe/anaconda3/lib/python3.10/site-packages (from jsonschema>=4.18.0->jupyterlab-server<3,>=2.22.1->notebook>=4.4.1->widgetsnbextension~=3.6.5->ipywidgets<8,>=7.0.0->keplergl) (20.11.0)\n",
      "Requirement already satisfied: webcolors>=1.11 in /Users/yavuzsebe/anaconda3/lib/python3.10/site-packages (from jsonschema>=4.18.0->jupyterlab-server<3,>=2.22.1->notebook>=4.4.1->widgetsnbextension~=3.6.5->ipywidgets<8,>=7.0.0->keplergl) (1.13)\n",
      "Requirement already satisfied: cffi>=1.0.1 in /Users/yavuzsebe/anaconda3/lib/python3.10/site-packages (from argon2-cffi-bindings->argon2-cffi->jupyter-server<3,>=2.4.0->notebook>=4.4.1->widgetsnbextension~=3.6.5->ipywidgets<8,>=7.0.0->keplergl) (1.15.1)\n",
      "Requirement already satisfied: soupsieve>1.2 in /Users/yavuzsebe/anaconda3/lib/python3.10/site-packages (from beautifulsoup4->nbconvert>=6.4.4->jupyter-server<3,>=2.4.0->notebook>=4.4.1->widgetsnbextension~=3.6.5->ipywidgets<8,>=7.0.0->keplergl) (2.3.2.post1)\n",
      "Requirement already satisfied: webencodings in /Users/yavuzsebe/anaconda3/lib/python3.10/site-packages (from bleach->nbconvert>=6.4.4->jupyter-server<3,>=2.4.0->notebook>=4.4.1->widgetsnbextension~=3.6.5->ipywidgets<8,>=7.0.0->keplergl) (0.5.1)\n",
      "Requirement already satisfied: pycparser in /Users/yavuzsebe/anaconda3/lib/python3.10/site-packages (from cffi>=1.0.1->argon2-cffi-bindings->argon2-cffi->jupyter-server<3,>=2.4.0->notebook>=4.4.1->widgetsnbextension~=3.6.5->ipywidgets<8,>=7.0.0->keplergl) (2.21)\n",
      "Requirement already satisfied: arrow>=0.15.0 in /Users/yavuzsebe/anaconda3/lib/python3.10/site-packages (from isoduration->jsonschema>=4.18.0->jupyterlab-server<3,>=2.22.1->notebook>=4.4.1->widgetsnbextension~=3.6.5->ipywidgets<8,>=7.0.0->keplergl) (1.2.3)\n"
     ]
    }
   ],
   "source": [
    "# pip install ipywidgets\n",
    "!pip install keplergl"
   ]
  },
  {
   "cell_type": "code",
   "execution_count": null,
   "id": "fbedaf4f-4fb5-4a69-9e10-174ac7b47c39",
   "metadata": {},
   "outputs": [],
   "source": []
  },
  {
   "cell_type": "markdown",
   "id": "7f281e37-100e-40f3-a5b7-157a4f662a18",
   "metadata": {},
   "source": [
    "## Map Canvas"
   ]
  },
  {
   "cell_type": "code",
   "execution_count": 1,
   "id": "742312a3-3add-471a-b6ff-849f84f6164f",
   "metadata": {},
   "outputs": [
    {
     "name": "stdout",
     "output_type": "stream",
     "text": [
      "User Guide: https://docs.kepler.gl/docs/keplergl-jupyter\n"
     ]
    },
    {
     "data": {
      "application/vnd.jupyter.widget-view+json": {
       "model_id": "0003ad137b2e4e4b8ae37815ad683245",
       "version_major": 2,
       "version_minor": 0
      },
      "text/plain": [
       "KeplerGl()"
      ]
     },
     "metadata": {},
     "output_type": "display_data"
    }
   ],
   "source": [
    "# Load an empty map\n",
    "from keplergl import KeplerGl\n",
    "map_1 = KeplerGl()\n",
    "map_1"
   ]
  },
  {
   "cell_type": "code",
   "execution_count": 2,
   "id": "4636428e-c635-4c78-a674-6fc8c778dda6",
   "metadata": {},
   "outputs": [
    {
     "data": {
      "application/vnd.jupyter.widget-view+json": {
       "model_id": "0003ad137b2e4e4b8ae37815ad683245",
       "version_major": 2,
       "version_minor": 0
      },
      "text/plain": [
       "KeplerGl()"
      ]
     },
     "metadata": {},
     "output_type": "display_data"
    }
   ],
   "source": [
    "map_1"
   ]
  },
  {
   "cell_type": "markdown",
   "id": "0d7700d6-ff1e-47f3-be36-bd5a3d6d8718",
   "metadata": {},
   "source": [
    "## Data Import"
   ]
  },
  {
   "cell_type": "code",
   "execution_count": null,
   "id": "486013f9-d71f-46a6-b12d-b7007d7515f3",
   "metadata": {},
   "outputs": [],
   "source": [
    "with open(\"earthquake.csv\", \"r\") as f:\n",
    "    csvData = f.read()\n",
    "map_1.add_data(data = csvData, name = \"data_1\") # data=csvData.dropna()\n",
    "map_1"
   ]
  },
  {
   "cell_type": "code",
   "execution_count": null,
   "id": "e0ec9f9c-9453-44be-b7c3-041b4d9fd60f",
   "metadata": {},
   "outputs": [],
   "source": []
  }
 ],
 "metadata": {
  "kernelspec": {
   "display_name": "Python 3 (ipykernel)",
   "language": "python",
   "name": "python3"
  },
  "language_info": {
   "codemirror_mode": {
    "name": "ipython",
    "version": 3
   },
   "file_extension": ".py",
   "mimetype": "text/x-python",
   "name": "python",
   "nbconvert_exporter": "python",
   "pygments_lexer": "ipython3",
   "version": "3.10.9"
  }
 },
 "nbformat": 4,
 "nbformat_minor": 5
}
