{
 "cells": [
  {
   "cell_type": "markdown",
   "id": "bdeeba1f-744e-417a-a62d-1cdd1fa405d3",
   "metadata": {
    "jp-MarkdownHeadingCollapsed": true
   },
   "source": [
    "### Collections (Counter) Module"
   ]
  },
  {
   "cell_type": "code",
   "execution_count": 1,
   "id": "c214d9d3-c831-4d67-8870-317cccc8b0a1",
   "metadata": {},
   "outputs": [],
   "source": [
    "from collections import Counter\n",
    "import random"
   ]
  },
  {
   "cell_type": "code",
   "execution_count": 4,
   "id": "686fa77f-801c-4422-bda9-aef869199af3",
   "metadata": {},
   "outputs": [
    {
     "name": "stdout",
     "output_type": "stream",
     "text": [
      "[3, 6, 2, 1]\n",
      "[5, 8, 9, 1]\n",
      "[1, 5, 0, 8]\n",
      "[7, 8, 6, 9]\n",
      "[[3, 6, 2, 1], [5, 8, 9, 1], [1, 5, 0, 8], [7, 8, 6, 9]]\n",
      "[3, 6, 2, 1, 5, 8, 9, 1, 1, 5, 0, 8, 7, 8, 6, 9]\n"
     ]
    }
   ],
   "source": [
    "list1 = random.sample(range(10), k=4)\n",
    "list2 = random.sample(range(10), k=4)\n",
    "list3 = random.sample(range(10), k=4)\n",
    "list4 = random.sample(range(10), k=4)\n",
    "\n",
    "listList = [list1, list2, list3, list4]\n",
    "listsSum = list1 + list2 + list3 + list4\n",
    "\n",
    "print(list1)\n",
    "print(list2)\n",
    "print(list3)\n",
    "print(list4)\n",
    "\n",
    "print(listList)\n",
    "print(listsSum)"
   ]
  },
  {
   "cell_type": "code",
   "execution_count": 5,
   "id": "9ab7cea5-b4e4-4bcc-bd79-b76e3215413a",
   "metadata": {},
   "outputs": [
    {
     "name": "stdout",
     "output_type": "stream",
     "text": [
      "1. liste \t [3, 6, 2, 1]\n",
      "2. liste \t [5, 8, 9, 1]\n",
      "3. liste \t [1, 5, 0, 8]\n",
      "4. liste \t [7, 8, 6, 9]\n"
     ]
    },
    {
     "data": {
      "text/plain": [
       "Counter({3: 1, 6: 2, 2: 1, 1: 3, 5: 2, 8: 3, 9: 2, 0: 1, 7: 1})"
      ]
     },
     "execution_count": 5,
     "metadata": {},
     "output_type": "execute_result"
    }
   ],
   "source": [
    "for index, listx in enumerate(listList): #enumerate index tanımlanmasını gerektirir, for döngüsü ile kullanılır\n",
    "    print(\"{}. liste \\t {}\".format(index+1, listx)) #index 0dan başlar\n",
    "Counter(listsSum)"
   ]
  },
  {
   "cell_type": "code",
   "execution_count": 7,
   "id": "11b272e9-74fc-44ad-a88a-1c312fb4f239",
   "metadata": {},
   "outputs": [
    {
     "data": {
      "text/plain": [
       "Counter({'A': 5,\n",
       "         'b': 6,\n",
       "         'a': 41,\n",
       "         'n': 9,\n",
       "         '’': 3,\n",
       "         'd': 8,\n",
       "         ' ': 21,\n",
       "         'y': 1,\n",
       "         'r': 8,\n",
       "         't': 7,\n",
       "         ',': 1,\n",
       "         'p': 4,\n",
       "         'o': 1,\n",
       "         'h': 4,\n",
       "         'l': 11,\n",
       "         'ğ': 1,\n",
       "         'ı': 4,\n",
       "         'v': 2,\n",
       "         'u': 4,\n",
       "         'c': 2,\n",
       "         'm': 4,\n",
       "         'k': 4,\n",
       "         'e': 4,\n",
       "         'i': 5,\n",
       "         'ş': 2,\n",
       "         'z': 1,\n",
       "         'g': 1,\n",
       "         '.': 1})"
      ]
     },
     "execution_count": 7,
     "metadata": {},
     "output_type": "execute_result"
    }
   ],
   "source": [
    "Counter(\"Abana’dan Adana’ya abarta abarta, apar topar ahlatla ağdalı avuntucu ahmak Ahmet’in avadanlıklarını aparanlardan acar Abdullah ile aptal Abdi akşam akşam bize geldi.\")\n",
    "#str de counter ile çalışır"
   ]
  },
  {
   "cell_type": "code",
   "execution_count": 10,
   "id": "c8f1f1cf-537d-45b0-b013-d0851969a41e",
   "metadata": {},
   "outputs": [
    {
     "ename": "SyntaxError",
     "evalue": "unterminated string literal (detected at line 1) (4173257664.py, line 1)",
     "output_type": "error",
     "traceback": [
      "\u001b[0;36m  Cell \u001b[0;32mIn[10], line 1\u001b[0;36m\u001b[0m\n\u001b[0;31m    song= \"Sakinsin, biraz derdin var\u001b[0m\n\u001b[0m          ^\u001b[0m\n\u001b[0;31mSyntaxError\u001b[0m\u001b[0;31m:\u001b[0m unterminated string literal (detected at line 1)\n"
     ]
    }
   ],
   "source": [
    "song= \"Sakinsin, biraz derdin var\n",
    "Kendi kendine dünyayı ters çevirmişsin\n",
    "Bir şey biliyor musun?\n",
    "Ben doğduğumdan beri hep böyleyim\n",
    "Ne çok şey gizlemişim rüyalarıma\n",
    "Ne kadar çok hüzün yüklü omuzlarımda\n",
    "Bir şey içsem, sorunları çözsem\n",
    "Olur mu?\" #böyle almıyor"
   ]
  },
  {
   "cell_type": "code",
   "execution_count": 33,
   "id": "3ca1a61c-9cc3-4ee9-9401-0c85ae10e372",
   "metadata": {},
   "outputs": [],
   "source": [
    "song = \"\"\"Sakinsin, biraz derdin var\n",
    "Kendi kendine dünyayı ters çevirmişsin\n",
    "Bir şey biliyor musun?\n",
    "Ben doğduğumdan beri hep böyleyim\n",
    "Ne çok şey gizlemişim rüyalarıma\n",
    "Ne kadar çok hüzün yüklü omuzlarımda\n",
    "Bir şey içsem, sorunları çözsem\n",
    "Olur mu?\"\"\""
   ]
  },
  {
   "cell_type": "code",
   "execution_count": 24,
   "id": "875d3d08-ba67-4df8-b462-d4f430f8cbce",
   "metadata": {},
   "outputs": [
    {
     "name": "stdout",
     "output_type": "stream",
     "text": [
      "Sakinsin, biraz derdin var\n",
      "Kendi kendine dünyayı ters çevirmişsin\n",
      "Bir şey biliyor musun?\n",
      "Ben doğduğumdan beri hep böyleyim\n",
      "Ne çok şey gizlemişim rüyalarıma\n",
      "Ne kadar çok hüzün yüklü omuzlarımda\n",
      "Bir şey içsem, sorunları çözsem\n",
      "Olur mu?\n"
     ]
    }
   ],
   "source": [
    "print(song)"
   ]
  },
  {
   "cell_type": "code",
   "execution_count": 25,
   "id": "29c71c06-3d78-4d53-871c-529263e5779b",
   "metadata": {},
   "outputs": [
    {
     "data": {
      "text/plain": [
       "Counter({'S': 1,\n",
       "         'a': 13,\n",
       "         'k': 6,\n",
       "         'i': 19,\n",
       "         'n': 13,\n",
       "         's': 7,\n",
       "         ',': 2,\n",
       "         ' ': 28,\n",
       "         'b': 4,\n",
       "         'r': 16,\n",
       "         'z': 5,\n",
       "         'd': 10,\n",
       "         'e': 18,\n",
       "         'v': 2,\n",
       "         '\\n': 7,\n",
       "         'K': 1,\n",
       "         'ü': 6,\n",
       "         'y': 10,\n",
       "         'ı': 4,\n",
       "         't': 1,\n",
       "         'ç': 5,\n",
       "         'm': 12,\n",
       "         'ş': 5,\n",
       "         'B': 3,\n",
       "         'l': 8,\n",
       "         'o': 6,\n",
       "         'u': 8,\n",
       "         '?': 2,\n",
       "         'ğ': 2,\n",
       "         'h': 2,\n",
       "         'p': 1,\n",
       "         'ö': 2,\n",
       "         'N': 2,\n",
       "         'g': 1,\n",
       "         'O': 1})"
      ]
     },
     "execution_count": 25,
     "metadata": {},
     "output_type": "execute_result"
    }
   ],
   "source": [
    "Counter(song)"
   ]
  },
  {
   "cell_type": "code",
   "execution_count": 26,
   "id": "22e4fc2a-2e72-400d-8842-01f2f5156d9f",
   "metadata": {},
   "outputs": [
    {
     "data": {
      "text/plain": [
       "['Sakinsin,',\n",
       " 'biraz',\n",
       " 'derdin',\n",
       " 'var',\n",
       " 'Kendi',\n",
       " 'kendine',\n",
       " 'dünyayı',\n",
       " 'ters',\n",
       " 'çevirmişsin',\n",
       " 'Bir',\n",
       " 'şey',\n",
       " 'biliyor',\n",
       " 'musun?',\n",
       " 'Ben',\n",
       " 'doğduğumdan',\n",
       " 'beri',\n",
       " 'hep',\n",
       " 'böyleyim',\n",
       " 'Ne',\n",
       " 'çok',\n",
       " 'şey',\n",
       " 'gizlemişim',\n",
       " 'rüyalarıma',\n",
       " 'Ne',\n",
       " 'kadar',\n",
       " 'çok',\n",
       " 'hüzün',\n",
       " 'yüklü',\n",
       " 'omuzlarımda',\n",
       " 'Bir',\n",
       " 'şey',\n",
       " 'içsem,',\n",
       " 'sorunları',\n",
       " 'çözsem',\n",
       " 'Olur',\n",
       " 'mu?']"
      ]
     },
     "execution_count": 26,
     "metadata": {},
     "output_type": "execute_result"
    }
   ],
   "source": [
    "song.split()"
   ]
  },
  {
   "cell_type": "code",
   "execution_count": 31,
   "id": "3dd579bb-f20a-41ae-b011-bcdeb82b3882",
   "metadata": {},
   "outputs": [
    {
     "data": {
      "text/plain": [
       "Counter({'Sakinsin,': 1,\n",
       "         'biraz': 1,\n",
       "         'derdin': 1,\n",
       "         'var': 1,\n",
       "         'Kendi': 1,\n",
       "         'kendine': 1,\n",
       "         'dünyayı': 1,\n",
       "         'ters': 1,\n",
       "         'çevirmişsin': 1,\n",
       "         'Bir': 2,\n",
       "         'şey': 3,\n",
       "         'biliyor': 1,\n",
       "         'musun?': 1,\n",
       "         'Ben': 1,\n",
       "         'doğduğumdan': 1,\n",
       "         'beri': 1,\n",
       "         'hep': 1,\n",
       "         'böyleyim': 1,\n",
       "         'Ne': 2,\n",
       "         'çok': 2,\n",
       "         'gizlemişim': 1,\n",
       "         'rüyalarıma': 1,\n",
       "         'kadar': 1,\n",
       "         'hüzün': 1,\n",
       "         'yüklü': 1,\n",
       "         'omuzlarımda': 1,\n",
       "         'içsem,': 1,\n",
       "         'sorunları': 1,\n",
       "         'çözsem': 1,\n",
       "         'Olur': 1,\n",
       "         'mu?': 1})"
      ]
     },
     "execution_count": 31,
     "metadata": {},
     "output_type": "execute_result"
    }
   ],
   "source": [
    "Counter(song.split()) #böylece kelime sayar"
   ]
  },
  {
   "cell_type": "code",
   "execution_count": 35,
   "id": "b8808af4-b860-4bbc-99b7-25c76d99fd4b",
   "metadata": {},
   "outputs": [
    {
     "data": {
      "text/plain": [
       "'sakinsin, biraz derdin var\\nkendi kendine dünyayı ters çevirmişsin\\nbir şey biliyor musun?\\nben doğduğumdan beri hep böyleyim\\nne çok şey gizlemişim rüyalarıma\\nne kadar çok hüzün yüklü omuzlarımda\\nbir şey içsem, sorunları çözsem\\nolur mu?'"
      ]
     },
     "execution_count": 35,
     "metadata": {},
     "output_type": "execute_result"
    }
   ],
   "source": [
    "song.lower()"
   ]
  },
  {
   "cell_type": "code",
   "execution_count": 37,
   "id": "5ddfe3df-7255-4bde-af03-dd4cd3f71f5b",
   "metadata": {},
   "outputs": [
    {
     "data": {
      "text/plain": [
       "['sakinsin,',\n",
       " 'biraz',\n",
       " 'derdin',\n",
       " 'var',\n",
       " 'kendi',\n",
       " 'kendine',\n",
       " 'dünyayı',\n",
       " 'ters',\n",
       " 'çevirmişsin',\n",
       " 'bir',\n",
       " 'şey',\n",
       " 'biliyor',\n",
       " 'musun?',\n",
       " 'ben',\n",
       " 'doğduğumdan',\n",
       " 'beri',\n",
       " 'hep',\n",
       " 'böyleyim',\n",
       " 'ne',\n",
       " 'çok',\n",
       " 'şey',\n",
       " 'gizlemişim',\n",
       " 'rüyalarıma',\n",
       " 'ne',\n",
       " 'kadar',\n",
       " 'çok',\n",
       " 'hüzün',\n",
       " 'yüklü',\n",
       " 'omuzlarımda',\n",
       " 'bir',\n",
       " 'şey',\n",
       " 'içsem,',\n",
       " 'sorunları',\n",
       " 'çözsem',\n",
       " 'olur',\n",
       " 'mu?']"
      ]
     },
     "execution_count": 37,
     "metadata": {},
     "output_type": "execute_result"
    }
   ],
   "source": [
    "song.lower().split()"
   ]
  },
  {
   "cell_type": "code",
   "execution_count": 38,
   "id": "e92ff4b0-9c40-4045-98fa-83ca54133eb1",
   "metadata": {},
   "outputs": [
    {
     "data": {
      "text/plain": [
       "Counter({'sakinsin,': 1,\n",
       "         'biraz': 1,\n",
       "         'derdin': 1,\n",
       "         'var': 1,\n",
       "         'kendi': 1,\n",
       "         'kendine': 1,\n",
       "         'dünyayı': 1,\n",
       "         'ters': 1,\n",
       "         'çevirmişsin': 1,\n",
       "         'bir': 2,\n",
       "         'şey': 3,\n",
       "         'biliyor': 1,\n",
       "         'musun?': 1,\n",
       "         'ben': 1,\n",
       "         'doğduğumdan': 1,\n",
       "         'beri': 1,\n",
       "         'hep': 1,\n",
       "         'böyleyim': 1,\n",
       "         'ne': 2,\n",
       "         'çok': 2,\n",
       "         'gizlemişim': 1,\n",
       "         'rüyalarıma': 1,\n",
       "         'kadar': 1,\n",
       "         'hüzün': 1,\n",
       "         'yüklü': 1,\n",
       "         'omuzlarımda': 1,\n",
       "         'içsem,': 1,\n",
       "         'sorunları': 1,\n",
       "         'çözsem': 1,\n",
       "         'olur': 1,\n",
       "         'mu?': 1})"
      ]
     },
     "execution_count": 38,
     "metadata": {},
     "output_type": "execute_result"
    }
   ],
   "source": [
    "Counter(song.lower().split())"
   ]
  },
  {
   "cell_type": "code",
   "execution_count": 39,
   "id": "2d5461f8-78bc-4d78-a82e-29bcc8a6fc2d",
   "metadata": {},
   "outputs": [
    {
     "data": {
      "text/plain": [
       "[('şey', 3), ('bir', 2)]"
      ]
     },
     "execution_count": 39,
     "metadata": {},
     "output_type": "execute_result"
    }
   ],
   "source": [
    "Counter(song.lower().split()).most_common(2) #her bir fonks çağırırken () yapmayı unutma\n",
    "#most_common içine konan sayı kadar en çok geçeni verir"
   ]
  },
  {
   "cell_type": "code",
   "execution_count": null,
   "id": "fec05651-adf8-4a6d-9e49-cea3becc971b",
   "metadata": {},
   "outputs": [],
   "source": []
  }
 ],
 "metadata": {
  "kernelspec": {
   "display_name": "Python 3 (ipykernel)",
   "language": "python",
   "name": "python3"
  },
  "language_info": {
   "codemirror_mode": {
    "name": "ipython",
    "version": 3
   },
   "file_extension": ".py",
   "mimetype": "text/x-python",
   "name": "python",
   "nbconvert_exporter": "python",
   "pygments_lexer": "ipython3",
   "version": "3.10.9"
  }
 },
 "nbformat": 4,
 "nbformat_minor": 5
}
