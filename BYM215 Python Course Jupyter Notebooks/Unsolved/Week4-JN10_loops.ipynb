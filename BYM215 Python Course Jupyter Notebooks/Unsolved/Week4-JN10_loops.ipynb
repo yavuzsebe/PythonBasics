{
 "cells": [
  {
   "cell_type": "markdown",
   "metadata": {},
   "source": [
    "# &nbsp;\n",
    "<font size=\"6\" color=\"#00A0B2\"  face=\"verdana\"> <B>Python Week4 - JN11</B></font>\n",
    "## Using For and While Loops\n",
    "\n",
    "In Python Lecture 4, we looked at two different ways of repeating tasks in Python: For loop and While loop\n",
    "\n",
    "Following exercises will help you practice how to use these two types of loops"
   ]
  },
  {
   "cell_type": "code",
   "execution_count": null,
   "metadata": {},
   "outputs": [],
   "source": [
    "# [ ] Write a for loop which adds all numbers from 0 to 50, print the result on the screen\n"
   ]
  },
  {
   "cell_type": "code",
   "execution_count": null,
   "metadata": {},
   "outputs": [],
   "source": [
    "# [ ] Write a while loop which adds all numbers from 0 to X, until the sum is 1000. Find value of X using your loop.\n"
   ]
  },
  {
   "cell_type": "code",
   "execution_count": null,
   "metadata": {},
   "outputs": [],
   "source": [
    "# [ ] Write a code that inputs the name of user and assignes the name to a new string variable\n",
    "# then write a loop that will print each letter of the name in a new line\n"
   ]
  },
  {
   "cell_type": "code",
   "execution_count": null,
   "metadata": {},
   "outputs": [],
   "source": [
    "# [ ] Write a code that declares a shopping list such as L = ['apples', 'bread','milk']\n",
    "# then write a loop that will print each item of the list in a new line"
   ]
  },
  {
   "cell_type": "code",
   "execution_count": null,
   "metadata": {
    "slideshow": {
     "slide_type": "slide"
    }
   },
   "outputs": [],
   "source": [
    "# [ ] Four students are buying pens at the stationary shop \n",
    "# Write a loop and print the pen and bought by each student together with the pen's price, such as:\n",
    "# Ali bought a black pen for 10 liras\n",
    "students = ['Ali','Beren','Can','David']\n",
    "pens = ['black','red','blue','green']\n",
    "price =[10,12,7,9]\n"
   ]
  },
  {
   "cell_type": "code",
   "execution_count": null,
   "metadata": {},
   "outputs": [],
   "source": [
    "# [ ] Write a loop that counts the generations of cell growth until 1000 cells are grown from 2 cells.\n",
    "# At every generation, cell number doubles but then %20 of all cells die.\n",
    "# Cell numbers have to be integers, so convert the cell number to integers if you get a non-integer like 3.2\n",
    "cells = 2\n",
    "generation = 0\n",
    "\n"
   ]
  },
  {
   "cell_type": "code",
   "execution_count": null,
   "metadata": {},
   "outputs": [],
   "source": [
    "# [ ] In an official meeting, everybody is got to shake hands with all other attenders.\n",
    "# Review and run the code:\n",
    "# The second for loop starts from i+1, why? \n",
    "attend = ['President','PrimeMinister','MinisterOfForeignAffairs','MinisterOfDefence']\n",
    "count = 0\n",
    "for i in range(0,len(attend)):\n",
    "    for j in range(i+1,len(attend)):\n",
    "        print(attend[i],' is shaking hands with ',attend[j])"
   ]
  },
  {
   "cell_type": "code",
   "execution_count": null,
   "metadata": {},
   "outputs": [],
   "source": [
    "# [ ] Use two for loops as shown above to prepare a fixture of 4 football teams to play one match with each other \n",
    "# and assign scores to matches (gools) such as:\n",
    "# Team A vs TeamB : 2 vs 0\n",
    "# Hint: Use random integer generator to generate random scores:\n",
    "import random\n",
    "random.randint(0, 5)\n"
   ]
  },
  {
   "cell_type": "code",
   "execution_count": null,
   "metadata": {},
   "outputs": [],
   "source": [
    "# A student is going to buy pens, she has only 30 liras. She prefers black, red, blue and green in this given order.\n",
    "# How many pens will she buy with 30 liras? \n",
    "pens = ['black','red','blue','green']\n",
    "price =[10,12,7,9]"
   ]
  },
  {
   "cell_type": "code",
   "execution_count": null,
   "metadata": {},
   "outputs": [],
   "source": [
    "# A student is going to buy a lot of pens, she has 200 liras. She prefers black, red, blue and green in this given order.\n",
    "# How many pens will she buy with 200 liras? Which colours? Print every purchase on the screen.\n",
    "pens = ['black','red','blue','green']\n",
    "numberOfPens =[7,9,8,6] # available in the shop\n",
    "price =[10,12,7,9]"
   ]
  },
  {
   "cell_type": "markdown",
   "metadata": {},
   "source": [
    "Pınar Pir - 2019 - Gebze Technical University"
   ]
  }
 ],
 "metadata": {
  "anaconda-cloud": {},
  "kernelspec": {
   "display_name": "Python 3",
   "language": "python",
   "name": "python3"
  },
  "language_info": {
   "codemirror_mode": {
    "name": "ipython",
    "version": 3
   },
   "file_extension": ".py",
   "mimetype": "text/x-python",
   "name": "python",
   "nbconvert_exporter": "python",
   "pygments_lexer": "ipython3",
   "version": "3.7.3"
  }
 },
 "nbformat": 4,
 "nbformat_minor": 1
}
