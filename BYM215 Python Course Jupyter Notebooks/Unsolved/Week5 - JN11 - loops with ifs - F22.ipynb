{
 "cells": [
  {
   "cell_type": "markdown",
   "metadata": {},
   "source": [
    "# &nbsp;\n",
    "<font size=\"6\" color=\"#00A0B2\"  face=\"verdana\"> <B>Python Week5 - JN11</B></font>\n",
    "## Using For and While Loops with If statements\n",
    "\n",
    "In Python Lecture 5, we studied how If statements can be used in For loops and While loops\n",
    "Following exercises will help you practice how to use loops together with if statements"
   ]
  },
  {
   "cell_type": "code",
   "execution_count": null,
   "metadata": {},
   "outputs": [],
   "source": [
    "# Write a script to find the numbers which are multiple of 7 and multiple of 5 but not multiple of 3.\n",
    "# Find such numbers between 1 and 1000 and make a list of them.\n",
    "# Hint: Remember that the operator % returns the reminder of a division such as:\n",
    "print(12 % 5)\n"
   ]
  },
  {
   "cell_type": "code",
   "execution_count": null,
   "metadata": {},
   "outputs": [],
   "source": [
    "# A customer is going to buy a pot of Yogurt. They prefer Sütaş, SEK or Tikveşli, in this given order. \n",
    "# If none of them are available, they will buy any brand. But they don't want to buy the brand Pınar.\n",
    "\n",
    "#Y = input('enter the list of yogurts on the shelf')\n",
    "\n",
    "# assume this was entered as the list\n",
    "Y = ['Ada', 'SEK', 'Sütaş', 'Pınar', 'Bergazlı']\n",
    "\n",
    "if(len(Y) == 0):\n",
    "    print('No yogurt in the market :(')\n",
    "elif(len(Y) == 1 and 'Pınar' in Y):\n",
    "    print('Only Pınar in the market :(')\n",
    "else:\n",
    "    if('Pınar' in Y):\n",
    "        Y.remove('Pınar')\n",
    "    if('Sütaş' in Y):\n",
    "        print('Sütaş is bought')\n",
    "    elif('SEK' in Y):\n",
    "        print('SEK is bought')  \n",
    "    elif('Tikveşli' in Y):\n",
    "        print('Tikveşli is bought')\n",
    "    else:\n",
    "        print(Y[0],' is bought')\n"
   ]
  },
  {
   "cell_type": "code",
   "execution_count": null,
   "metadata": {
    "slideshow": {
     "slide_type": "slide"
    }
   },
   "outputs": [],
   "source": [
    "# Re-write the above script by using a for loop that loops the Y list to look for the prefered yogurt in this order:\n",
    "# 1. Sütaş, 2. SEK, 3. Tikveşli\n",
    "# Special requirement: Pınar is not wanted, don't buy Pınar.\n",
    "Y = input('enter the list of yogurts on the shelf')\n"
   ]
  },
  {
   "cell_type": "code",
   "execution_count": null,
   "metadata": {},
   "outputs": [],
   "source": [
    "# Review and run the code:\n",
    "# **** This part generates a random DNA sequence \n",
    "import random\n",
    "seq=''\n",
    "bases = ['A','T','G','C']\n",
    "for i in range(0,1000):\n",
    "    seqi = random.randint(0,3) #choose a random number that represents a base\n",
    "    seq = seq + bases[seqi] #add the base to sequence\n",
    "print(seq)\n",
    "# ***** \n",
    "\n",
    "#Motif finder\n",
    "TF_motif = 'ATGC'\n",
    "motif_count = 0\n",
    "\n",
    "for i in range(len(seq)):\n",
    "    if(TF_motif==seq[i:i+len(TF_motif)]):\n",
    "        motif_count = motif_count + 1\n",
    "        print('Motif No:',motif_count)\n",
    "        print('found a binding site at position', i)"
   ]
  },
  {
   "cell_type": "code",
   "execution_count": null,
   "metadata": {},
   "outputs": [],
   "source": [
    "# Review and run the code:\n",
    "# **** This part generates a random DNA sequence \n",
    "import random\n",
    "seq=''\n",
    "bases = ['A','T','G','C']\n",
    "for i in range(0,1000):\n",
    "    seqi = random.randint(0,3) #choose a random number that represents a base\n",
    "    seq = seq + bases[seqi] #add the base to sequence\n",
    "print(seq)\n",
    "# ***** \n",
    "\n",
    "#CpG island finder\n",
    "window_size = 50\n",
    "slide_size = 5\n",
    "CpG_threshold = 0.1\n",
    "\n",
    "for i in range(0,len(seq),slide_size):\n",
    "    CpG_count = seq[i:i+window_size].count('CG')\n",
    "    CpG_fraction = CpG_count/window_size\n",
    "    #print(CpG_fraction)\n",
    "    if(CpG_fraction > CpG_threshold):\n",
    "        print('CpG island found at position:',i, 'Fraction',CpG_fraction)\n"
   ]
  },
  {
   "cell_type": "code",
   "execution_count": null,
   "metadata": {},
   "outputs": [],
   "source": [
    "# Review and run the code:\n",
    "# Using start codons and stop codons to find a gene in the sequence seq\n",
    "\n",
    "# **** This part generates a random DNA sequence\n",
    "import random\n",
    "seq=''\n",
    "bases = ['A','T','G','C']\n",
    "for i in range(0,1000):\n",
    "    seqi = random.randint(0,3) #choose a random number that represents a base\n",
    "    seq = seq + bases[seqi] #add the base to sequence\n",
    "print(seq) \n",
    "# *****\n",
    "\n",
    "#Gene finder      \n",
    "start_codon = 'ATG'\n",
    "stop_codon = ['TAG','TAA','TGA']\n",
    "\n",
    "for i in range(len(seq)):\n",
    "    if(start_codon==seq[i:i+len(start_codon)]):\n",
    "        gene_start_position = i\n",
    "        print('Gene found at position', i)\n",
    "        for j in range(gene_start_position,len(seq),3): #why 3???\n",
    "            if(seq[j:j+len(start_codon)] in stop_codon):\n",
    "                gene_stop_position = j\n",
    "                print('Gene is coded up to position', j)\n",
    "                break \n",
    "        break"
   ]
  },
  {
   "cell_type": "code",
   "execution_count": null,
   "metadata": {},
   "outputs": [],
   "source": [
    "# Re-use the codes above to find a gene in a sequence and then find CpG islands only in the gene"
   ]
  },
  {
   "cell_type": "code",
   "execution_count": null,
   "metadata": {},
   "outputs": [],
   "source": [
    "# Re-use the codes above to find all genes in a sequence (genes cannot overlap in this genome)"
   ]
  },
  {
   "cell_type": "code",
   "execution_count": null,
   "metadata": {},
   "outputs": [],
   "source": [
    "# GUESS THE NAME!\n",
    "# Review and run the code:\n",
    "name = 'Anakin'\n",
    "guess = input(\"So I'm thinking of person's name. Try to guess it: \")\n",
    "pos = 0\n",
    "\n",
    "while guess != name and pos < len(name):\n",
    "    print(\"Nope, that's not it young Padawan! Hint: letter \", end='')\n",
    "    print(pos + 1, \"is\", name[pos] + \". \", end='')\n",
    "    guess = input(\"Guess again: \")\n",
    "    pos = pos + 1\n",
    "\n",
    "if pos == len(name) and name != guess:\n",
    "    print(\"Too bad, you couldn't get it.  The name was\", name + \".\" +\" You cannot be a Jedi :(\")\n",
    "else:\n",
    "    print(\"\\nGreat, you got it in\", pos + 1,  \"guesses! May the Force be with you!\")\n"
   ]
  },
  {
   "cell_type": "code",
   "execution_count": null,
   "metadata": {},
   "outputs": [],
   "source": [
    "# GUESS THE NUMBER\n",
    "# Review and run the code:\n",
    "number = 50 # Get random number between [1 and 1000)\n",
    "guesses = 0\n",
    "guess = int(input(\"Guess my number between 1 and 1000: \"))\n",
    "\n",
    "while guess != number:\n",
    "    guesses += 1\n",
    "    if guess > number:\n",
    "        print(guess, \"is too high.\") \n",
    "    elif guess < number:\n",
    "        print(guess, \" is too low.\")\n",
    "    guess = int(input(\"Guess again: \"))\n",
    "\n",
    "print(\"\\n\\nGreat, you got it in\", guesses,  \"guesses!\") "
   ]
  },
  {
   "cell_type": "code",
   "execution_count": null,
   "metadata": {},
   "outputs": [],
   "source": [
    "# PROBABILITY GAME\n",
    "# Write a game that asks the player to draw a ball from the bag which has 7 blue, 7 red, 7 green balls.\n",
    "# Tell the user what the propoability of picking that ball was.\n",
    "# There are 21 balls initially, 7 are blue, 7 are red and 7 are green. If the user picks a blue ball, the probability was 7/21 = 0.33\n",
    "# Then they draw another ball, which may be red. Probability of drawing a red one is now 7/20 = 0.35 . Blue would be 6/20 etc\n",
    "# The script should warn the user when they attempt to draw a colour that is not available in the bag anymore.\n",
    "# and the user to draw a ball in another colour.\n",
    "# The game should quit if the user types 'quit' as the next input or when all 21 balls are drawn from the bag\n",
    "ballColour = input(\"What colour is the ball you just drew from the bag?\")"
   ]
  },
  {
   "cell_type": "code",
   "execution_count": null,
   "metadata": {},
   "outputs": [],
   "source": [
    "# A scientist is growing yeast in a flask. But the flask is contaminated by bacteria. \n",
    "# 1 mole of yeast consumes 1 mole of glucose and 1 mole of bacteria also consumes 1 mole of glucose per hour.\n",
    "# For every mole of glucose consumed by yeast, 1 mole of new yeast and 1 mole of ethanol is made.\n",
    "# For every mole of glucose consumed by bacteria, 2 moles of new bacteria and 1 mole of acetate is made. \n",
    "# Ethanol is toxic for bacteria, every mole of ethanol kills 0.1% of the bacteria in the flask per hour, \n",
    "# so if there are 5 moles of ethanol, 0.5% of the bacteria will die every hour.\n",
    "# Initially there is 1000 moles of glucose, 1 mole of yeast, 1 mole of bacteria, no ethanol, no acetate in the flask.\n",
    "# Write a Python script that calculates how much glucose the yeast and bacteria will consume every hour, \n",
    "# how much total yeast, bacteria, ethanol, acetate will be produced, and howmuch of the bacteria will die. \n",
    "# Once glucose is consumed, the script will report that there is no carbon source left in the flask. \n",
    "# Report the ingredients of the flask every hour such as:\n",
    "# Hour 5: X moles of glucose, Y moles of yeast, Z moles of ethanol, B moles of bacteria, C moles of acetate.\n",
    "# (Note: In the last hour of the simulation, the productions are going to be partial. \n",
    "# If A moles of glucose was needed for full growth, but only (A – F) moles of glucose is present, \n",
    "# calculate the full amounts as if A moles was present, then divide them by A and multiple by (A - F) \n",
    "# to calculate partial production rates on residual glucose)\n",
    "# (Hint: Check if there is enough glucose for full growth at that particular time period (hour) \n",
    "# before calculating the new concentrations. If there is not enough glucose, \n",
    "# then calculate partial growth rates and finally calculate the final concentrations. \n",
    "# Final glucose concentration should be zero, if not, you made a mistake in your calculations)"
   ]
  },
  {
   "cell_type": "code",
   "execution_count": null,
   "metadata": {},
   "outputs": [],
   "source": [
    "# OPTIONAL EXERCISE: Write a script that makes a league fixture for four teams. Each team should play with each other twice, one home one away.\n",
    "# Hint: This is a VERY DIFFICULT problem!"
   ]
  },
  {
   "cell_type": "code",
   "execution_count": null,
   "metadata": {},
   "outputs": [],
   "source": [
    "# OPTIONAL EXERCISE: Review and run the code:\n",
    "# There is a mistake in it, CORRECT the mistake first!\n",
    "fruits = ['apple','pear','banana','quince']\n",
    "numberOfFruits=[3, 4, 2, 4]\n",
    "basket = 0\n",
    "vowels = ['a','e','i','o','u']\n",
    "singleFruits = [] \n",
    "i=0\n",
    "for fr in fruits:\n",
    "    for nFr in range(0,numberOfFruits[i]):\n",
    "        singleFruits = singleFruits.append(fr)  \n",
    "    i = i + 1\n",
    "print(singleFruits) \n",
    "\n",
    "basket = 0\n",
    "while(basket < 9):\n",
    "    nextF = singleFruits[basket]\n",
    "    if(nextF[0] in vowels ):\n",
    "        print('An ',nextF, 'is placed in the basket, now I have', basket,'fruits in the basket')\n",
    "    else:\n",
    "        print('A ',nextF, 'is placed in the basket, now I have', basket,'fruits in the basket')       \n",
    "    basket = basket + 1\n",
    "    \n",
    "print('basket is full')"
   ]
  },
  {
   "cell_type": "code",
   "execution_count": null,
   "metadata": {},
   "outputs": [],
   "source": [
    "# OPTIONAL EXCERSIZE: Fill a basket that can fit only 11 fruits:\n",
    "# Add the fruits one-by-one as 1 apple, 1 pear, 1 banana, 1 quince then 1 apple, 1 pear...\n",
    "# Report the added fruit, remaining number of the added fruit, total number of fruits in the basket after each addition\n",
    "fruits = ['apple','pear','banana','quince']\n",
    "numberOfFruits=[3, 1, 6, 2]\n",
    "basket = 0"
   ]
  },
  {
   "cell_type": "markdown",
   "metadata": {},
   "source": [
    "Pınar Pir - 2019 - 2024 Gebze Technical University"
   ]
  }
 ],
 "metadata": {
  "anaconda-cloud": {},
  "kernelspec": {
   "display_name": "Python 3 (ipykernel)",
   "language": "python",
   "name": "python3"
  },
  "language_info": {
   "codemirror_mode": {
    "name": "ipython",
    "version": 3
   },
   "file_extension": ".py",
   "mimetype": "text/x-python",
   "name": "python",
   "nbconvert_exporter": "python",
   "pygments_lexer": "ipython3",
   "version": "3.10.9"
  }
 },
 "nbformat": 4,
 "nbformat_minor": 1
}
