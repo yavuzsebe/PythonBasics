{
 "cells": [
  {
   "cell_type": "markdown",
   "metadata": {},
   "source": [
    "# &nbsp;\n",
    "<font size=\"6\" color=\"#00A0B2\"  face=\"verdana\"> <B>Python Week4 - JN8</B></font>\n",
    "## Using Methods \n",
    "\n",
    "In Python Lecture 3, we have seen that all data types in Python are classes. Every time we declare a variable, we are making an object using a class. For example, when we declare a = 1, an integer object is made and named as 'a' using the class 'integer'.\n",
    "\n",
    "As we have seen in the lecture, the classes have methods to help us use the objects made from t. Following exercises will help you practice how to use methods of objects.\n",
    "\n"
   ]
  },
  {
   "cell_type": "markdown",
   "metadata": {},
   "source": [
    "\n",
    "## Methods of Lists"
   ]
  },
  {
   "cell_type": "code",
   "execution_count": null,
   "metadata": {},
   "outputs": [],
   "source": [
    "# [ ] Review and run code to display methods of lists\n",
    "dir(list)"
   ]
  },
  {
   "cell_type": "code",
   "execution_count": null,
   "metadata": {},
   "outputs": [],
   "source": [
    "# [ ] Review and run the code to make a list\n",
    "myC = ['White','Yellow','Orange','Red','Purple','Blue','Green','Black','Cyan','Magenta']"
   ]
  },
  {
   "cell_type": "code",
   "execution_count": null,
   "metadata": {},
   "outputs": [],
   "source": [
    "# [ ] Get help on a method of lists\n",
    "help(myC.clear)"
   ]
  },
  {
   "cell_type": "code",
   "execution_count": null,
   "metadata": {},
   "outputs": [],
   "source": [
    "# [ ] Modify the list by using each of the methods: append, clear,count,extend,index,insert, pop, remove, reverse and sort\n",
    "# Print the list after each modification\n"
   ]
  },
  {
   "cell_type": "markdown",
   "metadata": {},
   "source": [
    "\n",
    "## Methods of Strings"
   ]
  },
  {
   "cell_type": "code",
   "execution_count": null,
   "metadata": {
    "slideshow": {
     "slide_type": "slide"
    }
   },
   "outputs": [],
   "source": [
    "# [ ] Review and run code to display methods of strings\n",
    "dir(str)"
   ]
  },
  {
   "cell_type": "code",
   "execution_count": null,
   "metadata": {},
   "outputs": [],
   "source": [
    "# [ ] Review and run the code to make a string\n",
    "myStr = 'Price List\\nTomatoes:\\t5 liras\\nPotatoes:\\t4 liras\\nOnions:\\t3 liras'\n",
    "print(myStr)\n"
   ]
  },
  {
   "cell_type": "code",
   "execution_count": null,
   "metadata": {},
   "outputs": [],
   "source": [
    "# [ ] Add a new item and its price to myStr (use concatenation + )\n",
    "# Display the updated myStr\n",
    "\n"
   ]
  },
  {
   "cell_type": "code",
   "execution_count": null,
   "metadata": {},
   "outputs": [],
   "source": [
    "# [ ] Remove all the tab breaks (use a method). Display the new string\n",
    "\n"
   ]
  },
  {
   "cell_type": "code",
   "execution_count": null,
   "metadata": {},
   "outputs": [],
   "source": [
    "# [ ] Find out the price of onions by using a method and indexing\n",
    "\n"
   ]
  },
  {
   "cell_type": "code",
   "execution_count": null,
   "metadata": {},
   "outputs": [],
   "source": [
    "# [ ] Get help on use of 5 of the string methods listed above and use them to modify the text. \n",
    "# Display the string after each modification.\n",
    "\n"
   ]
  },
  {
   "cell_type": "markdown",
   "metadata": {},
   "source": [
    "## Built-in Functions"
   ]
  },
  {
   "cell_type": "code",
   "execution_count": null,
   "metadata": {},
   "outputs": [],
   "source": [
    "# Get help on built-in functions abs,max,min and use them for the values in list L (careful with abs()!)\n",
    "L = [-1, 5, 2, 19, -5]\n"
   ]
  },
  {
   "cell_type": "code",
   "execution_count": null,
   "metadata": {},
   "outputs": [],
   "source": [
    "# Get help on built-in functions bin,hex,oct and use them for two of the values in list N\n",
    "N = [1, 2, 4, 8, 16, 32, 64, 128, 256]\n",
    "bin(N[5])"
   ]
  },
  {
   "cell_type": "code",
   "execution_count": null,
   "metadata": {},
   "outputs": [],
   "source": [
    "# Get help on built-in functions chr and ord, then use them for the characters in list M and list K\n",
    "M = ['s','str','-']\n",
    "K = [35,63,125]\n",
    "chr(35)"
   ]
  },
  {
   "cell_type": "markdown",
   "metadata": {},
   "source": [
    "Pınar Pir - 2019-2020 - Gebze Technical University"
   ]
  }
 ],
 "metadata": {
  "anaconda-cloud": {},
  "kernelspec": {
   "display_name": "Python 3",
   "language": "python",
   "name": "python3"
  },
  "language_info": {
   "codemirror_mode": {
    "name": "ipython",
    "version": 3
   },
   "file_extension": ".py",
   "mimetype": "text/x-python",
   "name": "python",
   "nbconvert_exporter": "python",
   "pygments_lexer": "ipython3",
   "version": "3.7.3"
  }
 },
 "nbformat": 4,
 "nbformat_minor": 1
}
