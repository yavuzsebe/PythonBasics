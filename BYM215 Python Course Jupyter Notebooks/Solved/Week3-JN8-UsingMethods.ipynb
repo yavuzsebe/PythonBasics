{
 "cells": [
  {
   "cell_type": "markdown",
   "metadata": {},
   "source": [
    "# &nbsp;\n",
    "<font size=\"6\" color=\"#00A0B2\"  face=\"verdana\"> <B>Python Week4 - JN8</B></font>\n",
    "## Using Methods \n",
    "\n",
    "In Python Lecture 3, we have seen that all data types in Python are classes. Every time we declare a variable, we are making an object using a class. For example, when we declare a = 1, an integer object is made and named as 'a' using the class 'integer'.\n",
    "\n",
    "As we have seen in the lecture, the classes have methods to help us use the objects made from t. Following exercises will help you practice how to use methods of objects.\n",
    "\n"
   ]
  },
  {
   "cell_type": "markdown",
   "metadata": {},
   "source": [
    "\n",
    "## Methods of Lists"
   ]
  },
  {
   "cell_type": "code",
   "execution_count": 1,
   "metadata": {},
   "outputs": [
    {
     "data": {
      "text/plain": [
       "['__add__',\n",
       " '__class__',\n",
       " '__class_getitem__',\n",
       " '__contains__',\n",
       " '__delattr__',\n",
       " '__delitem__',\n",
       " '__dir__',\n",
       " '__doc__',\n",
       " '__eq__',\n",
       " '__format__',\n",
       " '__ge__',\n",
       " '__getattribute__',\n",
       " '__getitem__',\n",
       " '__getstate__',\n",
       " '__gt__',\n",
       " '__hash__',\n",
       " '__iadd__',\n",
       " '__imul__',\n",
       " '__init__',\n",
       " '__init_subclass__',\n",
       " '__iter__',\n",
       " '__le__',\n",
       " '__len__',\n",
       " '__lt__',\n",
       " '__mul__',\n",
       " '__ne__',\n",
       " '__new__',\n",
       " '__reduce__',\n",
       " '__reduce_ex__',\n",
       " '__repr__',\n",
       " '__reversed__',\n",
       " '__rmul__',\n",
       " '__setattr__',\n",
       " '__setitem__',\n",
       " '__sizeof__',\n",
       " '__str__',\n",
       " '__subclasshook__',\n",
       " 'append',\n",
       " 'clear',\n",
       " 'copy',\n",
       " 'count',\n",
       " 'extend',\n",
       " 'index',\n",
       " 'insert',\n",
       " 'pop',\n",
       " 'remove',\n",
       " 'reverse',\n",
       " 'sort']"
      ]
     },
     "execution_count": 1,
     "metadata": {},
     "output_type": "execute_result"
    }
   ],
   "source": [
    "# [ ] Review and run code to display methods of lists\n",
    "dir(list)"
   ]
  },
  {
   "cell_type": "code",
   "execution_count": 2,
   "metadata": {},
   "outputs": [],
   "source": [
    "# [ ] Review and run the code to make a list\n",
    "myC = ['White','Yellow','Orange','Red','Purple','Blue','Green','Black','Cyan','Magenta']"
   ]
  },
  {
   "cell_type": "code",
   "execution_count": 3,
   "metadata": {},
   "outputs": [
    {
     "name": "stdout",
     "output_type": "stream",
     "text": [
      "Help on built-in function clear:\n",
      "\n",
      "clear() method of builtins.list instance\n",
      "    Remove all items from list.\n",
      "\n"
     ]
    }
   ],
   "source": [
    "# [ ] Get help on a method of lists\n",
    "help(myC.clear)"
   ]
  },
  {
   "cell_type": "code",
   "execution_count": 14,
   "metadata": {},
   "outputs": [
    {
     "name": "stdout",
     "output_type": "stream",
     "text": [
      "Index 0 popped:  ['Yellow', 'Orange', 'Red', 'Purple', 'Blue', 'Green', 'Black', 'Cyan', 'Magenta']\n",
      "Index have been left empty:  ['Yellow', 'Orange', 'Red', 'Purple', 'Blue', 'Green', 'Black', 'Cyan']\n",
      "Insert on index 0:  ['White', 'Yellow', 'Orange', 'Red', 'Purple', 'Blue', 'Green', 'Black', 'Cyan']\n",
      "'Blue' removed:  ['White', 'Yellow', 'Orange', 'Red', 'Purple', 'Green', 'Black', 'Cyan']\n",
      "Reversed myC:  ['Cyan', 'Black', 'Green', 'Purple', 'Red', 'Orange', 'Yellow', 'White']\n",
      "Sorted myC:  ['Black', 'Cyan', 'Green', 'Orange', 'Purple', 'Red', 'White', 'Yellow']\n",
      "Count of 'Red':  1\n",
      "Index of 'Red':  5\n",
      "Clear : []\n",
      "Append:  ['White', 'Yellow', 'Orange', 'Red', 'Purple', 'Blue', 'Green', 'Black', 'Cyan', 'Magenta', 'X']\n",
      "Extend:  ['White', 'Yellow', 'Orange', 'Red', 'Purple', 'Blue', 'Green', 'Black', 'Cyan', 'Magenta', 'X']\n",
      "Append:  ['White', 'Yellow', 'Orange', 'Red', 'Purple', 'Blue', 'Green', 'Black', 'Cyan', 'Magenta', ('Z', 'z')]\n",
      "Extend:  ['White', 'Yellow', 'Orange', 'Red', 'Purple', 'Blue', 'Green', 'Black', 'Cyan', 'Magenta', 'Z', 'z']\n",
      "Append:  ['a', 'b', 'c', 'd', 'e', [1, 2, 3, 4, 5]]\n",
      "Extend:  ['a', 'b', 'c', 'd', 'e', 1, 2, 3, 4, 5]\n"
     ]
    }
   ],
   "source": [
    "# [ ] Modify the list by using each of the methods: append, clear,count,extend,index,insert, pop, remove, reverse and sort\n",
    "# Print the list after each modification\n",
    "myC = ['White','Yellow','Orange','Red','Purple','Blue','Green','Black','Cyan','Magenta']\n",
    "myC.pop(0) #pop the index given\n",
    "print(\"Index 0 popped: \", myC)\n",
    "myC.pop() #pop the last index (-1st index)\n",
    "print(\"Index have been left empty: \", myC) \n",
    "myC.insert(0,\"White\") #inserts on index on the first argument, insterting the second argument given\n",
    "print(\"Insert on index 0: \",myC)\n",
    "myC.remove(\"Blue\") #removes the argument\n",
    "print(\"'Blue' removed: \",myC)\n",
    "myC.reverse()\n",
    "print(\"Reversed myC: \",myC)\n",
    "myC.sort()\n",
    "print(\"Sorted myC: \",myC)\n",
    "print(\"Count of 'Red': \", myC.count(\"Red\"))\n",
    "print(\"Index of 'Red': \", myC.index(\"Red\"))\n",
    "myC.clear()\n",
    "print(\"Clear :\", myC)\n",
    "\n",
    "####################################\n",
    "### APPEND AND EXTEND DIFFERENCE ###\n",
    "#for one item, they're practically same but...\n",
    "myC = ['White','Yellow','Orange','Red','Purple','Blue','Green','Black','Cyan','Magenta']\n",
    "myC.append(\"X\")\n",
    "print(\"Append: \", myC)\n",
    "\n",
    "myC = ['White','Yellow','Orange','Red','Purple','Blue','Green','Black','Cyan','Magenta']\n",
    "myC.extend(\"X\")\n",
    "print(\"Extend: \", myC)\n",
    "\n",
    "#these two are different as you may see:\n",
    "myC = ['White','Yellow','Orange','Red','Purple','Blue','Green','Black','Cyan','Magenta']\n",
    "myC.append((\"Z\",\"z\")) #one item containing two items\n",
    "print(\"Append: \",myC)\n",
    "\n",
    "myC = ['White','Yellow','Orange','Red','Purple','Blue','Green','Black','Cyan','Magenta']\n",
    "myC.extend((\"Z\",\"z\")) #two individual items\n",
    "print(\"Extend: \",myC)\n",
    "\n",
    "#lists may be appended to the lists and there is a difference here as well:\n",
    "myFirstList=[\"a\",\"b\",\"c\",\"d\",\"e\"]\n",
    "myOtherList=[1,2,3,4,5]\n",
    "myFirstList.append(myOtherList) #a list in an index, like an item\n",
    "print(\"Append: \",myFirstList)\n",
    "\n",
    "myFirstList=[\"a\",\"b\",\"c\",\"d\",\"e\"]\n",
    "myOtherList=[1,2,3,4,5]\n",
    "myFirstList.extend(myOtherList) #two lists merged together\n",
    "print(\"Extend: \",myFirstList)\n",
    "####################################"
   ]
  },
  {
   "cell_type": "markdown",
   "metadata": {},
   "source": [
    "\n",
    "## Methods of Strings"
   ]
  },
  {
   "cell_type": "code",
   "execution_count": 2,
   "metadata": {
    "slideshow": {
     "slide_type": "slide"
    }
   },
   "outputs": [
    {
     "data": {
      "text/plain": [
       "['__add__',\n",
       " '__class__',\n",
       " '__contains__',\n",
       " '__delattr__',\n",
       " '__dir__',\n",
       " '__doc__',\n",
       " '__eq__',\n",
       " '__format__',\n",
       " '__ge__',\n",
       " '__getattribute__',\n",
       " '__getitem__',\n",
       " '__getnewargs__',\n",
       " '__getstate__',\n",
       " '__gt__',\n",
       " '__hash__',\n",
       " '__init__',\n",
       " '__init_subclass__',\n",
       " '__iter__',\n",
       " '__le__',\n",
       " '__len__',\n",
       " '__lt__',\n",
       " '__mod__',\n",
       " '__mul__',\n",
       " '__ne__',\n",
       " '__new__',\n",
       " '__reduce__',\n",
       " '__reduce_ex__',\n",
       " '__repr__',\n",
       " '__rmod__',\n",
       " '__rmul__',\n",
       " '__setattr__',\n",
       " '__sizeof__',\n",
       " '__str__',\n",
       " '__subclasshook__',\n",
       " 'capitalize',\n",
       " 'casefold',\n",
       " 'center',\n",
       " 'count',\n",
       " 'encode',\n",
       " 'endswith',\n",
       " 'expandtabs',\n",
       " 'find',\n",
       " 'format',\n",
       " 'format_map',\n",
       " 'index',\n",
       " 'isalnum',\n",
       " 'isalpha',\n",
       " 'isascii',\n",
       " 'isdecimal',\n",
       " 'isdigit',\n",
       " 'isidentifier',\n",
       " 'islower',\n",
       " 'isnumeric',\n",
       " 'isprintable',\n",
       " 'isspace',\n",
       " 'istitle',\n",
       " 'isupper',\n",
       " 'join',\n",
       " 'ljust',\n",
       " 'lower',\n",
       " 'lstrip',\n",
       " 'maketrans',\n",
       " 'partition',\n",
       " 'removeprefix',\n",
       " 'removesuffix',\n",
       " 'replace',\n",
       " 'rfind',\n",
       " 'rindex',\n",
       " 'rjust',\n",
       " 'rpartition',\n",
       " 'rsplit',\n",
       " 'rstrip',\n",
       " 'split',\n",
       " 'splitlines',\n",
       " 'startswith',\n",
       " 'strip',\n",
       " 'swapcase',\n",
       " 'title',\n",
       " 'translate',\n",
       " 'upper',\n",
       " 'zfill']"
      ]
     },
     "execution_count": 2,
     "metadata": {},
     "output_type": "execute_result"
    }
   ],
   "source": [
    "# [ ] Review and run code to display methods of strings\n",
    "dir(str)"
   ]
  },
  {
   "cell_type": "code",
   "execution_count": 79,
   "metadata": {},
   "outputs": [
    {
     "name": "stdout",
     "output_type": "stream",
     "text": [
      "Price List\n",
      "Tomatoes:\t5 liras\n",
      "Potatoes:\t4 liras\n",
      "Eggplants:\t8 liras\n"
     ]
    }
   ],
   "source": [
    "# [ ] Review and run the code to make a string\n",
    "myStr = 'Price List\\nTomatoes:\\t5 liras\\nPotatoes:\\t4 liras\\nEggplants:\\t8 liras'\n",
    "print(myStr)"
   ]
  },
  {
   "cell_type": "code",
   "execution_count": 80,
   "metadata": {},
   "outputs": [
    {
     "name": "stdout",
     "output_type": "stream",
     "text": [
      "Price List\n",
      "Tomatoes:\t5 liras\n",
      "Potatoes:\t4 liras\n",
      "Eggplants:\t8 liras\n",
      "Onions:\t3 liras\n",
      "\n"
     ]
    }
   ],
   "source": [
    "# [ ] Add a new item and its price to myStr (use concatenation + )\n",
    "# Display the updated myStr\n",
    "myStr+=\"\\nOnions:\\t3 liras\\n\"\n",
    "print(myStr)"
   ]
  },
  {
   "cell_type": "code",
   "execution_count": 81,
   "metadata": {},
   "outputs": [
    {
     "name": "stdout",
     "output_type": "stream",
     "text": [
      "Price List Tomatoes: 5 liras Potatoes: 4 liras Eggplants: 8 liras Onions: 3 liras \n"
     ]
    }
   ],
   "source": [
    "# [ ] Remove all the tab breaks (use a method). Display the new string\n",
    "myStr=myStr.replace(\"\\n\",\" \")\n",
    "myStr=myStr.replace(\"\\t\",\" \")\n",
    "print(myStr)"
   ]
  },
  {
   "cell_type": "code",
   "execution_count": 82,
   "metadata": {},
   "outputs": [
    {
     "data": {
      "text/plain": [
       "'Onions: 3 liras'"
      ]
     },
     "execution_count": 82,
     "metadata": {},
     "output_type": "execute_result"
    }
   ],
   "source": [
    "# [ ] Find out the price of onions by using a method and indexing\n",
    "myStr[myStr.find(\"Onions\"):myStr.rfind(\"\\n\")]\n",
    "################################################################# !!!!!!!!!!!!!!!!!!!!!!!!!!!!!"
   ]
  },
  {
   "cell_type": "code",
   "execution_count": null,
   "metadata": {},
   "outputs": [],
   "source": [
    "# [ ] Get help on use of 5 of the string methods listed above and use them to modify the text. \n",
    "# Display the string after each modification.\n",
    "\n"
   ]
  },
  {
   "cell_type": "markdown",
   "metadata": {},
   "source": [
    "## Built-in Functions"
   ]
  },
  {
   "cell_type": "code",
   "execution_count": 97,
   "metadata": {},
   "outputs": [
    {
     "name": "stdout",
     "output_type": "stream",
     "text": [
      "1\n",
      "19\n",
      "-5\n",
      "5\n"
     ]
    }
   ],
   "source": [
    "# Get help on built-in functions abs,max,min and use them for the values in list L (careful with abs()!)\n",
    "L = [-1, 5, 2, 19, -5]\n",
    "\n",
    "print(abs(L[0]))\n",
    "\n",
    "print(max(L))\n",
    "print(min(L)) \n",
    "\n",
    "print(abs(min(L)))"
   ]
  },
  {
   "cell_type": "code",
   "execution_count": 106,
   "metadata": {},
   "outputs": [
    {
     "name": "stdout",
     "output_type": "stream",
     "text": [
      "0b100000\n",
      "0x4\n",
      "0o10\n"
     ]
    }
   ],
   "source": [
    "# Get help on built-in functions bin,hex,oct and use them for two of the values in list N\n",
    "N = [1, 2, 4, 8, 16, 32, 64, 128, 256]\n",
    "print(bin(N[5]))\n",
    "print(hex(N[2]))\n",
    "print(oct(N[3]))"
   ]
  },
  {
   "cell_type": "code",
   "execution_count": 122,
   "metadata": {},
   "outputs": [
    {
     "name": "stdout",
     "output_type": "stream",
     "text": [
      "#\n",
      "?\n",
      "}\n",
      "115\n",
      "45\n"
     ]
    }
   ],
   "source": [
    "# Get help on built-in functions chr and ord, then use them for the characters in list M and list K\n",
    "M = ['s','str','-']\n",
    "K = [35,63,125]\n",
    "print(chr(K[0]))\n",
    "print(chr(K[1]))\n",
    "print(chr(K[2]))\n",
    "print(ord(M[0]))\n",
    "print(ord(M[2]))\n",
    "#print(ord(M[1]))#"
   ]
  },
  {
   "cell_type": "markdown",
   "metadata": {},
   "source": [
    "Pınar Pir - 2019-2020 - Gebze Technical University"
   ]
  }
 ],
 "metadata": {
  "anaconda-cloud": {},
  "kernelspec": {
   "display_name": "Python 3",
   "language": "python",
   "name": "python3"
  },
  "language_info": {
   "codemirror_mode": {
    "name": "ipython",
    "version": 3
   },
   "file_extension": ".py",
   "mimetype": "text/x-python",
   "name": "python",
   "nbconvert_exporter": "python",
   "pygments_lexer": "ipython3",
   "version": "3.12.6"
  }
 },
 "nbformat": 4,
 "nbformat_minor": 1
}
