{
 "cells": [
  {
   "cell_type": "markdown",
   "metadata": {},
   "source": [
    "# &nbsp;\n",
    "<font size=\"6\" color=\"#00A0B2\"  face=\"verdana\"> <B>Python Week4 - JN10</B></font>\n",
    "## Using For and While Loops\n",
    "\n",
    "In Python Lecture 4, we looked at two different ways of repeating tasks in Python: For loop and While loop\n",
    "\n",
    "Following exercises will help you practice how to use these two types of loops"
   ]
  },
  {
   "cell_type": "code",
   "execution_count": 4,
   "metadata": {},
   "outputs": [
    {
     "name": "stdout",
     "output_type": "stream",
     "text": [
      "1275\n"
     ]
    }
   ],
   "source": [
    "# [ ] Write a for loop which adds all numbers from 0 to 50, print the result on the screen\n",
    "a=0\n",
    "for i in range(1,51):\n",
    "    a+=i\n",
    "print(a)"
   ]
  },
  {
   "cell_type": "code",
   "execution_count": 1,
   "metadata": {},
   "outputs": [
    {
     "name": "stdout",
     "output_type": "stream",
     "text": [
      "989 45\n"
     ]
    }
   ],
   "source": [
    "# [ ] Write a while loop which adds all numbers from 0 to X, until the sum is 1000. Find value of X using your loop.\n",
    "i, sum=0, 0\n",
    "while sum<=1000:\n",
    "    sum+=i\n",
    "    i+=1\n",
    "print(sum-i, i-1)"
   ]
  },
  {
   "cell_type": "code",
   "execution_count": 11,
   "metadata": {},
   "outputs": [
    {
     "name": "stdout",
     "output_type": "stream",
     "text": [
      "Y\n",
      "a\n",
      "v\n",
      "u\n",
      "z\n"
     ]
    }
   ],
   "source": [
    "# [ ] Write a code that inputs the name of user and assignes the name to a new string variable\n",
    "# then write a loop that will print each letter of the name in a new line\n",
    "strVar=input(\"Input name: \")\n",
    "for i in strVar:\n",
    "    print(i)"
   ]
  },
  {
   "cell_type": "code",
   "execution_count": 13,
   "metadata": {},
   "outputs": [
    {
     "name": "stdout",
     "output_type": "stream",
     "text": [
      "apples\n",
      "bread\n",
      "milk\n"
     ]
    }
   ],
   "source": [
    "# [ ] Write a code that declares a shopping list such as L = ['apples', 'bread','milk']\n",
    "# then write a loop that will print each item of the list in a new line\n",
    "L = ['apples','bread','milk']\n",
    "for i in L:\n",
    "    print(i)"
   ]
  },
  {
   "cell_type": "code",
   "execution_count": 1,
   "metadata": {
    "slideshow": {
     "slide_type": "slide"
    }
   },
   "outputs": [
    {
     "name": "stdout",
     "output_type": "stream",
     "text": [
      "Ali bought a black pen for 10 liras.\n",
      "Beren bought a red pen for 12 liras.\n",
      "Can bought a blue pen for 7 liras.\n",
      "David bought a green pen for 9 liras.\n"
     ]
    }
   ],
   "source": [
    "# [ ] Four students are buying pens at the stationary shop \n",
    "# Write a loop and print the pen and bought by each student together with the pen's price, such as:\n",
    "# Ali bought a black pen for 10 liras\n",
    "students = ['Ali','Beren','Can','David']\n",
    "pens = ['black','red','blue','green']\n",
    "price =[10,12,7,9]\n",
    "\n",
    "for i, j, k in zip(students, pens, price):\n",
    "    print(\"{} bought a {} pen for {} liras.\".format(i,j,k))"
   ]
  },
  {
   "cell_type": "code",
   "execution_count": 11,
   "metadata": {},
   "outputs": [
    {
     "name": "stdout",
     "output_type": "stream",
     "text": [
      "1 3\n",
      "2 4\n",
      "3 6\n",
      "4 9\n",
      "5 14\n",
      "6 22\n",
      "7 35\n",
      "8 56\n",
      "9 89\n",
      "10 142\n",
      "11 227\n",
      "12 363\n",
      "13 580\n",
      "14 928\n",
      "15 1484\n"
     ]
    }
   ],
   "source": [
    "# [ ] Write a loop that counts the generations of cell growth until 1000 cells are grown from 2 cells.\n",
    "# At every generation, cell number doubles but then %20 of all cells die.\n",
    "# Cell numbers have to be integers, so convert the cell number to integers if you get a non-integer like 3.2\n",
    "cells = 2\n",
    "generation = 0\n",
    "\n",
    "while cells<1000:\n",
    "    cells=int(cells*2*0.8)\n",
    "    generation+=1\n",
    "    print(generation, cells)"
   ]
  },
  {
   "cell_type": "code",
   "execution_count": 31,
   "metadata": {},
   "outputs": [
    {
     "name": "stdout",
     "output_type": "stream",
     "text": [
      "President  is shaking hands with  PrimeMinister\n",
      "President  is shaking hands with  MinisterOfForeignAffairs\n",
      "President  is shaking hands with  MinisterOfDefence\n",
      "PrimeMinister  is shaking hands with  MinisterOfForeignAffairs\n",
      "PrimeMinister  is shaking hands with  MinisterOfDefence\n",
      "MinisterOfForeignAffairs  is shaking hands with  MinisterOfDefence\n"
     ]
    }
   ],
   "source": [
    "# [ ] In an official meeting, everybody is got to shake hands with all other attenders.\n",
    "# Review and run the code:\n",
    "# The second for loop starts from i+1, why? \n",
    "attend = ['President','PrimeMinister','MinisterOfForeignAffairs','MinisterOfDefence']\n",
    "count = 0\n",
    "for i in range(0,len(attend)):\n",
    "    for j in range(i+1,len(attend)):\n",
    "        print(attend[i],' is shaking hands with ',attend[j])"
   ]
  },
  {
   "cell_type": "code",
   "execution_count": 24,
   "metadata": {},
   "outputs": [
    {
     "name": "stdout",
     "output_type": "stream",
     "text": [
      "Team A vs Team B : 2 vs 3\n",
      "Team A vs Team C : 0 vs 3\n",
      "Team A vs Team D : 3 vs 0\n",
      "Team B vs Team C : 4 vs 2\n",
      "Team B vs Team D : 4 vs 0\n",
      "Team C vs Team D : 2 vs 2\n"
     ]
    }
   ],
   "source": [
    "# [ ] Use two for loops as shown above to prepare a fixture of 4 football teams to play one match with each other \n",
    "# and assign scores to matches (gools) such as:\n",
    "# Team A vs TeamB : 2 vs 0\n",
    "# Hint: Use random integer generator to generate random scores:\n",
    "import random\n",
    "random.randint(0, 5)\n",
    "teams = [\"Team A\", \"Team B\", \"Team C\", \"Team D\"]\n",
    "for i in range(len(teams)):\n",
    "    for j in range(i + 1, len(teams)):\n",
    "        team1 = teams[i]\n",
    "        team2 = teams[j]\n",
    "        score1 = random.randint(0, 5)\n",
    "        score2 = random.randint(0, 5)\n",
    "        print(f\"{team1} vs {team2} : {score1} vs {score2}\") "
   ]
  },
  {
   "cell_type": "code",
   "execution_count": 7,
   "metadata": {},
   "outputs": [
    {
     "name": "stdout",
     "output_type": "stream",
     "text": [
      "Team A vs Team B : 1 vs 3\n",
      "Team A vs Team C : 3 vs 1\n",
      "Team A vs Team D : 1 vs 3\n",
      "Team B vs Team C : 1 vs 0\n",
      "Team B vs Team D : 5 vs 4\n",
      "Team C vs Team D : 2 vs 0\n"
     ]
    }
   ],
   "source": [
    "import random\n",
    "teams = [\"Team A\", \"Team B\", \"Team C\", \"Team D\"]\n",
    "for i in range(len(teams)):\n",
    "    for j in range(i + 1, len(teams)):\n",
    "        print(f\"{teams[i]} vs {teams[j]} : {random.randint(0, 5)} vs {random.randint(0, 5)}\")"
   ]
  },
  {
   "cell_type": "code",
   "execution_count": 14,
   "metadata": {},
   "outputs": [
    {
     "name": "stdout",
     "output_type": "stream",
     "text": [
      "Bought 3 black pens\n"
     ]
    }
   ],
   "source": [
    "# A student is going to buy pens, she has only 30 liras. She prefers black, red, blue and green in this given order.\n",
    "# How many pens will she buy with 30 liras? \n",
    "pens = ['black','red','blue','green']\n",
    "price =[10,12,7,9]\n",
    "total_money = 30\n",
    "\n",
    "for i in range(len(pens)):\n",
    "    pen_type = pens[i]\n",
    "    pen_price = price[i]\n",
    "    \n",
    "    max_pens_can_buy = total_money // pen_price\n",
    "    total_money -= max_pens_can_buy * pen_price\n",
    "    \n",
    "    print(f\"Bought {max_pens_can_buy} {pen_type} pens\")\n",
    "    if total_money == 0:\n",
    "        break"
   ]
  },
  {
   "cell_type": "code",
   "execution_count": 22,
   "metadata": {},
   "outputs": [
    {
     "name": "stdout",
     "output_type": "stream",
     "text": [
      "Bought 3 black pens\n"
     ]
    }
   ],
   "source": [
    "pens = ['black', 'red', 'blue', 'green']\n",
    "price = [10, 12, 7, 9]\n",
    "totalMoney = 30\n",
    "\n",
    "for penType, penPrice in zip(pens, price):\n",
    "    maxPensCanBuy = totalMoney // penPrice\n",
    "    totalMoney -= maxPensCanBuy * penPrice\n",
    "    print(f\"Bought {maxPensCanBuy} {penType} pens\")\n",
    "    if totalMoney == 0:\n",
    "        break"
   ]
  },
  {
   "cell_type": "code",
   "execution_count": 25,
   "metadata": {},
   "outputs": [
    {
     "name": "stdout",
     "output_type": "stream",
     "text": [
      "Bought 7 black pens\n",
      "Bought 9 red pens\n",
      "Bought 3 blue pens\n",
      "Bought 0 green pens\n"
     ]
    }
   ],
   "source": [
    "# A student is going to buy a lot of pens, she has 200 liras. She prefers black, red, blue and green in this given order.\n",
    "# How many pens will she buy with 200 liras? Which colours? Print every purchase on the screen.\n",
    "#numberOfPens =[7,9,8,6] available in the shop\n",
    "pens = ['black', 'red', 'blue', 'green']\n",
    "numberOfPens = [7, 9, 8, 6]  # available in the shop\n",
    "price = [10, 12, 7, 9]\n",
    "total_money = 200\n",
    "\n",
    "for i in range(len(pens)):\n",
    "    pen_type = pens[i]\n",
    "    pen_price = price[i]\n",
    "    available_pens = numberOfPens[i]\n",
    "    \n",
    "    max_pens_can_buy = total_money // pen_price\n",
    "    pens_to_buy = min(max_pens_can_buy, available_pens)\n",
    "    \n",
    "    total_money -= pens_to_buy * pen_price\n",
    "    \n",
    "    print(f\"Bought {pens_to_buy} {pen_type} pens\")\n",
    "    if total_money == 0:\n",
    "        break"
   ]
  },
  {
   "cell_type": "code",
   "execution_count": 32,
   "metadata": {},
   "outputs": [
    {
     "name": "stdout",
     "output_type": "stream",
     "text": [
      "Bought 7 black pens, remaining money: 130.\n",
      "Bought 9 red pens, remaining money: 22.\n",
      "Bought 3 blue pens, remaining money: 1.\n",
      "Bought 0 green pens, remaining money: 1.\n"
     ]
    }
   ],
   "source": [
    "pens = ['black', 'red', 'blue', 'green']\n",
    "numberOfPens = [7, 9, 8, 6]\n",
    "price = [10, 12, 7, 9]\n",
    "total_money = 200\n",
    "\n",
    "for pen_type, available_pens, pen_price in zip(pens, numberOfPens, price):\n",
    "    pens_to_buy = min(total_money // pen_price, available_pens)\n",
    "    total_money -= pens_to_buy * pen_price\n",
    "    print(f\"Bought {pens_to_buy} {pen_type} pens, remaining money: {total_money}.\")\n",
    "    if total_money == 0:\n",
    "        break"
   ]
  },
  {
   "cell_type": "markdown",
   "metadata": {},
   "source": [
    "Pınar Pir - 2019 - Gebze Technical University"
   ]
  }
 ],
 "metadata": {
  "anaconda-cloud": {},
  "kernelspec": {
   "display_name": "Python 3",
   "language": "python",
   "name": "python3"
  },
  "language_info": {
   "codemirror_mode": {
    "name": "ipython",
    "version": 3
   },
   "file_extension": ".py",
   "mimetype": "text/x-python",
   "name": "python",
   "nbconvert_exporter": "python",
   "pygments_lexer": "ipython3",
   "version": "3.12.6"
  }
 },
 "nbformat": 4,
 "nbformat_minor": 1
}
