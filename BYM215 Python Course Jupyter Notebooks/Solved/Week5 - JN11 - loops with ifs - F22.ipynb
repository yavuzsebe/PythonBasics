{
 "cells": [
  {
   "cell_type": "markdown",
   "metadata": {},
   "source": [
    "# &nbsp;\n",
    "<font size=\"6\" color=\"#00A0B2\"  face=\"verdana\"> <B>Python Week5 - JN11</B></font>\n",
    "## Using For and While Loops with If statements\n",
    "\n",
    "In Python Lecture 5, we studied how If statements can be used in For loops and While loops\n",
    "Following exercises will help you practice how to use loops together with if statements"
   ]
  },
  {
   "cell_type": "code",
   "execution_count": null,
   "metadata": {},
   "outputs": [
    {
     "name": "stdout",
     "output_type": "stream",
     "text": [
      "35\n",
      "70\n",
      "140\n",
      "175\n",
      "245\n",
      "280\n",
      "350\n",
      "385\n",
      "455\n",
      "490\n",
      "560\n",
      "595\n",
      "665\n",
      "700\n",
      "770\n",
      "805\n",
      "875\n",
      "910\n",
      "980\n"
     ]
    }
   ],
   "source": [
    "#/Users/yavuzsebe/Google\\ Drive/My\\ Drive/GTU\\ Bioinformatics\\ and\\ System\\ Biology/BYM215\\ -\\ Python\\ for\\ Bioengineers/BYM215\\ Notebooks/\n",
    "\n",
    "# Write a script to find the numbers which are multiple of 7 and multiple of 5 but not multiple of 3.\n",
    "# Find such numbers between 1 and 1000 and make a list of them.\n",
    "# Hint: Remember that the operator % returns the reminder of a division such as:\n",
    "#print(12 % 5)\n",
    "for i in range(1,1001):\n",
    "    if i%7==0 and i%5==0 and i%3!=0:\n",
    "        print(i)"
   ]
  },
  {
   "cell_type": "code",
   "execution_count": 59,
   "metadata": {},
   "outputs": [
    {
     "name": "stdout",
     "output_type": "stream",
     "text": [
      "Pınar brand yogurt has been removed. Yogurt brands on the shelf are updated: \n",
      "1. Ada \n",
      "2. SEK \n",
      "3. Sütaş \n",
      "4. Bergazlı\n",
      "Sütaş brand yogurt has been purchased.\n"
     ]
    }
   ],
   "source": [
    "# A customer is going to buy a pot of Yogurt. They prefer Sütaş, SEK or Tikveşli, in this given order. \n",
    "# If none of them are available, they will buy any brand. But they don't want to buy the brand Pınar.\n",
    "\n",
    "#Y = input('enter the list of yogurts on the shelf')\n",
    "\n",
    "# assume this was entered as the list\n",
    "Y = ['Ada', 'SEK', 'Sütaş', 'Pınar', 'Bergazlı']\n",
    "\n",
    "\"\"\"if(len(Y) == 0):\n",
    "    print('No yogurt in the market :(')\n",
    "elif(len(Y) == 1 and 'Pınar' in Y):\n",
    "    print('Only Pınar in the market :(')\n",
    "else:\n",
    "    if('Pınar' in Y):\n",
    "        Y.remove('Pınar')\n",
    "    if('Sütaş' in Y):\n",
    "        print('Sütaş is bought')\n",
    "    elif('SEK' in Y):\n",
    "        print('SEK is bought')  \n",
    "    elif('Tikveşli' in Y):\n",
    "        print('Tikveşli is bought')\n",
    "    else:\n",
    "        print(Y[0],' is bought')\n",
    "\"\"\"\n",
    "\n",
    "if Y:\n",
    "    if \"Pınar\" in Y:\n",
    "        Y.remove(\"Pınar\")\n",
    "        print(\"Pınar brand yogurt has been removed. Yogurt brands on the shelf are updated:\",  *(f\"\\n{Y.index(i)+1}. {i}\" for i in Y))\n",
    "    if \"Sütaş\" in Y:\n",
    "        print(\"Sütaş brand yogurt has been purchased.\")\n",
    "    elif \"SEK\" in Y:\n",
    "        print(\"SEK brand yogurt has been purchased.\")\n",
    "    elif \"Tikveşli\" in Y:\n",
    "        print(\"Tikveşli brand yogurt has been purchased.\")\n",
    "    else:\n",
    "        print(f\"Currently there was not any prefered yogurt brand on the shelf.\\nAt random, {Y[0]} brand yogurt has been purchased.\")\n",
    "else:\n",
    "    print(\"There is not any yogurt left on the shelf!\")\n"
   ]
  },
  {
   "cell_type": "code",
   "execution_count": 109,
   "metadata": {
    "slideshow": {
     "slide_type": "slide"
    }
   },
   "outputs": [
    {
     "name": "stdout",
     "output_type": "stream",
     "text": [
      "Sütaş brand yogurt has been purchased.\n"
     ]
    }
   ],
   "source": [
    "# Re-write the above script by using a for loop that loops the Y list to look for the prefered yogurt in this order:\n",
    "# 1. Sütaş, 2. SEK, 3. Tikveşli\n",
    "# Special requirement: Pınar is not wanted, don't buy Pınar.\n",
    "Y = ['Ada', 'SEK', 'Sütaş', 'Pınar', 'Bergazlı']\n",
    "\n",
    "for i in Y:\n",
    "    if \"Sütaş\"==i:\n",
    "        print(\"Sütaş brand yogurt has been purchased.\")\n",
    "        break\n",
    "    elif \"SEK\"==i and \"Sütaş\" not in Y:\n",
    "        print(\"SEK brand yogurt has been purchased.\")\n",
    "        break\n",
    "    elif \"Tikveşli\"==i and \"Sütaş\" and \"SEK\" not in Y:\n",
    "        print(\"Tikveşli brand yogurt has been purchased.\")\n",
    "        break\n",
    "    elif i!=\"Pınar\" and (\"Tikveşli\" and \"Sütaş\" and \"SEK\" not in Y):\n",
    "        print(f\"Currently there was not any prefered yogurt brand on the shelf.\\nAt random, {i} brand yogurt has been purchased.\")\n",
    "        break\n"
   ]
  },
  {
   "cell_type": "code",
   "execution_count": 115,
   "metadata": {},
   "outputs": [
    {
     "name": "stdout",
     "output_type": "stream",
     "text": [
      "GAGTCACGTTGGTTTAGGTGCATTGTTTTTGTAGTAGTGAAGTTTTTAGTCACCAAAGAATCTGAATGGCAACCAACCGTAGCCTTTTGGTCGTGAGAGGGCATAGTCAGTAAATCCATATACGCATAGACTTACCATGCAGGTAAGACGACGATGTCATCACCGTTCCATGAAGGGCATCATTAATCCCACGCTAGCTCAACGGGTATGGTATTGATCGTTCTTGCTGCGAGCCTCCCGCGCATCAGGAATCGTCCTGGAAGATGTTATGGGTCCCAATGCAGATGCGATTCCTGGACGCGAAAAGGAAAATAATAGCGGCATGTTCCTCTGAGTAGATCTAGTGTGCCTAACGTCGACCATTCCTATGGTATATGAGCGCGTGACCTTCTTGACGCGGCTGGAAGGACGGGGGTATAAGCCGGGCCGTCTGAAGTTGTAGTTATATGAAGTTCCCTGCACGAGTATCGTTGCGCGCGAATTGGAGGAAGTCATGTCGCGCGTTTGCAAATTATACTTGTCTGGATTGTCACGTTAGTTTCATGCCCCGCAGGCGTTCTATTGAGGTCGTTAGTACGGCGAGGATGTGAGAAGGTTCGCGCCAGAAGGTAGGGTCGAAGCCCCTCTACCGCTTGATGCGTTCCCGTTGGACTGGACGCACAGGAAGGACATAGCAATTGGACCACCATTCGAAGGACTATGGCAGCTTGGGCAGCTGAGAGCCGGCCTCCACAGCCGAGCCATCAACCCGGCTATAAGCAGTACAAGTTTGATACATATAAACGATTTCGCACGAGATTTTTTGTTAAAGTTGGTCGAAATGGAGATACTGTCAGATAATTTACCCTTTCCCTCGTCGGACTATTTAGCGCGTTACCACTCGAATCGAAGCCGGACACGCGGGCGAACCCACGGCCGAGGCGACTTGGCCTGGATGCCAAGCTTAAGAGTTTAAGGGTGCAGAATGGGTCCCTCGCGATTCGGCCGCTAATTCATGCTC\n",
      "Motif No: 1\n",
      "found a binding site at position 136\n",
      "Motif No: 2\n",
      "found a binding site at position 278\n",
      "Motif No: 3\n",
      "found a binding site at position 284\n",
      "Motif No: 4\n",
      "found a binding site at position 542\n",
      "Motif No: 5\n",
      "found a binding site at position 635\n",
      "Motif No: 6\n",
      "found a binding site at position 934\n",
      "Motif No: 7\n",
      "found a binding site at position 994\n"
     ]
    }
   ],
   "source": [
    "# Review and run the code:\n",
    "# **** This part generates a random DNA sequence \n",
    "import random\n",
    "seq=''\n",
    "bases = ['A','T','G','C']\n",
    "for i in range(0,1000):\n",
    "    seqi = random.randint(0,3) #choose a random number that represents a base\n",
    "    seq = seq + bases[seqi] #add the base to sequence\n",
    "print(seq)\n",
    "# ***** \n",
    "\n",
    "#Motif finder\n",
    "TF_motif = 'ATGC'\n",
    "motif_count = 0\n",
    "\n",
    "for i in range(len(seq)):\n",
    "    if(TF_motif==seq[i:i+len(TF_motif)]):\n",
    "        motif_count = motif_count + 1\n",
    "        print('Motif No:',motif_count)\n",
    "        print('found a binding site at position', i)"
   ]
  },
  {
   "cell_type": "code",
   "execution_count": 116,
   "metadata": {},
   "outputs": [
    {
     "name": "stdout",
     "output_type": "stream",
     "text": [
      "GAACGCTGGTTAGATGCAGAAGCCGTTGATGCCCTTTCTACGCAGACGGCTTAGCTCGAAGTAACCCTTGTGGTTTGTCTCAAACTGACAAAACACCGAGAAGCCATGGAAGAGCAGCGTTAAACATCGTGTCCCGTGCTGAGTCCCGGTAGTACTAGTTCGACATAGTGAGTTCTAGATATGTAATTTAATCTTCCCCGGATGGCACGTTTTCGACTCGAGCGGTAGCACAGGCTTTTCGTGCCATCTCTAGTCTCTGTGCTTGGCAGAATCGTCCGACGGGCCGTTCGGTATTCCTGTTGTCATTGTTCTAACAAGCTGCCGTTCGGTCCTCCCGAATGGATCATGGATTCAGAACTAAACTAACCCGCTATTTTCCTTATGGATATAAAGTTTAAACGTCGGGGGCTCCAATGTTGAGTTAGATATCGAACCTCGTGCACCTTTTCTCACCTTTCATAGCAGTTACTGATATAGAATATTTAGTATGTGGGGAATGAGTAGACAAAACCGGCGTGCGGTTCTGCGGGCCCCGAGTGGTGTATCTGATGAGTCTGCGTAGTCAGTAGCCCGCGTGCGCGCTTGGCCAAGCATCTCTCGCGAGCTCCCAACATAAAAAACAAAGACGGCTTTGTGAACAAATTTTGACCCCGAGCTAAGGTGTTTCGGGTTAAATACGAACGTACAGAGTTATCAGCATCCATAGTTAATCTCTACCCGGACCGGATCGCCAGCCTGAACATATTGTTCCCGATCAAAACGCGTTAGAGTTTGAAGTTCTCCAGAACCATTACGCACTCAGCCTACTCACCTCTAGTTAAGCAGAGTTTAGTATGGTATACGCAGATTCCTTCAACTTAGCCCGTGGATACCCCCTACACCGACATTGTAGAGGTTTAGGTGGTGATCTTGATCGTCAGCACAGCCTAATAGATTCGGAGTCCTTTACACAAGTTATGGACTGACCTATCTTCCTTTGCTGTAACAAGGCCTCTCGTTC\n",
      "CpG island found at position: 195 Fraction 0.12\n",
      "CpG island found at position: 510 Fraction 0.12\n",
      "CpG island found at position: 550 Fraction 0.12\n",
      "CpG island found at position: 555 Fraction 0.14\n",
      "CpG island found at position: 560 Fraction 0.12\n",
      "CpG island found at position: 565 Fraction 0.12\n",
      "CpG island found at position: 570 Fraction 0.12\n",
      "CpG island found at position: 715 Fraction 0.12\n"
     ]
    }
   ],
   "source": [
    "# Review and run the code:\n",
    "# **** This part generates a random DNA sequence \n",
    "import random\n",
    "seq=''\n",
    "bases = ['A','T','G','C']\n",
    "for i in range(0,1000):\n",
    "    seqi = random.randint(0,3) #choose a random number that represents a base\n",
    "    seq = seq + bases[seqi] #add the base to sequence\n",
    "print(seq)\n",
    "# ***** \n",
    "\n",
    "#CpG island finder\n",
    "window_size = 50\n",
    "slide_size = 5\n",
    "CpG_threshold = 0.1\n",
    "\n",
    "for i in range(0,len(seq),slide_size):\n",
    "    CpG_count = seq[i:i+window_size].count('CG')\n",
    "    CpG_fraction = CpG_count/window_size\n",
    "    #print(CpG_fraction)\n",
    "    if(CpG_fraction > CpG_threshold):\n",
    "        print('CpG island found at position:',i, 'Fraction',CpG_fraction)\n"
   ]
  },
  {
   "cell_type": "code",
   "execution_count": null,
   "metadata": {},
   "outputs": [
    {
     "name": "stdout",
     "output_type": "stream",
     "text": [
      "GGTACCTGACAATGTACCTCCTATCCTTCAACCGACAATGGGGTATAAGCCACTTCGGCGTTTCGTGCTGTACCAGTGCCTCCTGTGATACACTTCTTACACGGTGCTTTCAGTGTCAGTAAGGACGGCTCTACGCAGTTGTAGATCACGTATGGCGACCCCCTGGCGATCTGAACATGTAGAGCTCTTCGGTCGACGCAGGTAGGGTATGCCTGGACATTAGCTGCATAGCAGTTACACCGTTGATCGTGTGCCACTCGCTTTCACCGCGGTAGTATGTAGTGTCGCTGCAGATTCATCTCAATAGTAGGGCGCCGGGAATCATGCGTTTAACCGAGGCGTTAGTGCTTCACGGAGAAAATCCGATTTTTGTGATCTTTCAGAAGGCCAATGATGTTTTCTCCTTGGTAGACGCCGCGTCTAGTTAACGATTGTCTGCTCTGCTAACGCTAATAGAGGAGACACAGTTCACGGCCAGGCCCTCTATTTTCGTTCGTATTGTCGGAGTCCCGCACCGATGAGTCAATAGTCCAGCATATGCCGGTGACGTATTCAACCTACTATTGCTCACCCAGTATTCACCTGGACGTACCCTTCGTGCGTGCGCGGCATGAAGTCCTGAGGCACGTCTTTTTCCACCAATGGAAATCCTAACAGCCGTGGCGTCTGTAGTGCGACATTGTTCAGATCGTATCGATCATTACGTGTGACGTTCCCGGTAGCACGTCCATCTGATGGGCTTGATATAACAGCCCAATCGGCCACAAGTCCCTCACTCCTTCAATCACGGTCAAGGCATTATCGATACGTTGCATACCAGGATTTGTCGGTCAGGTAGCTTCGTCTACGACGGCCGTCTTCTACAGGATCTTTGGGATTTACGCAACTTGCTGTCGCACCGGAGGTCGTCTAGCCTGATGAGTCTGAAGGGAGCGCCACCGGTGGCACCTGTCAAGAAGTAGTCCCCCTAATTTCGACTACCCACGCTATCCGTATGCAT\n",
      "Gene found at position 11\n",
      "Gene is coded up to position 119\n"
     ]
    }
   ],
   "source": [
    "# Review and run the code:\n",
    "# Using start codons and stop codons to find a gene in the sequence seq\n",
    "\n",
    "# **** This part generates a random DNA sequence\n",
    "import random\n",
    "seq=''\n",
    "bases = ['A','T','G','C']\n",
    "for i in range(0,1000):\n",
    "    seqi = random.randint(0,3) #choose a random number that represents a base\n",
    "    seq = seq + bases[seqi] #add the base to sequence\n",
    "print(seq) \n",
    "# *****\n",
    "\n",
    "#Gene finder      \n",
    "start_codon = 'ATG'\n",
    "stop_codons = ['TAG','TAA','TGA']\n",
    "\n",
    "for i in range(len(seq)):\n",
    "    if(start_codon==seq[i:i+len(start_codon)]):\n",
    "        gene_start_position = i\n",
    "        print('Gene found at position', i)\n",
    "        for j in range(gene_start_position,len(seq),3): #why 3??? open reading frame codon count\n",
    "            if(seq[j:j+len(start_codon)] in stop_codons):\n",
    "                gene_stop_position = j\n",
    "                print('Gene is coded up to position', j)\n",
    "                break \n",
    "        break"
   ]
  },
  {
   "cell_type": "code",
   "execution_count": 23,
   "metadata": {},
   "outputs": [
    {
     "name": "stdout",
     "output_type": "stream",
     "text": [
      "Sequence:\n",
      " CGCGCCCGAATTCACTCACCACATTGAAGTTCGTCTGCCACTTTAGAACAAGGTGTGAGTTCATAAGTGAACAAAGAGCGAGCCGAGAATCTCCGGTTAGTTAGTGTTGCCCCATTTGTGTAGGTAAAGCCTACCGTACTCAACAAATCAATAGGGGCTGTCAACCAGAAACGCATGATGAACTCTAGAATGGGTATACTAGGATCGAGTCTTAAATACGTCAGATCCTCTGGTGTCAGAGACATTTGGCGTCAGTGTCGACATTGGTGCCTACTCCTGTTTTCCGTATCTAACAAACCCGCACGGGTGCCAAACCCCCGTCGGGTTCGCGGAGAGAGTGTCTCAATGAGTTGGCTCTGGCCTGGTTGTACTTCTGTCGAATCTTGTAACGCTGGAAGTGAGGACATATGGAACTCACTTGGGGACAGCCAGGTACGAAGCGGCTGACATAGGCTCATGCCGCGTTAAGTTCATAGGCGGGACCTCTACTAGGGCTGGGGCAAGGAAAAAAACTCAATGACCGGGCCCGCTGAGCCTGTCTCCTCTTTGTAGGAGAATAGCCGTGCCCTAGCGCAAGTCAACATAGCGGTAAGGAAACATTTTGGCGGGGCGGGGGTTTTGGTCGTTAGTGCCTCGCCATTGAACCGGTATACTTCTCTGGATGGTGCACACATAAACGGTTCATAAGTTCGACAATCGTCGTGATTAGCCAAACATTGGGGGTACCCTGCGTGACGGCAGGCCAGCGACCGACGGTCTATACTCCAAACAGCTCCTGGGCCCCGCATCCCTTGATTCCAATCTTCCGTCGTCACGGGCCCATTCCTGAACTCTGACAGTGATCTGATATATGCCCTTGGCTTAACGAGAGAGCCGAGTAGGACGTTCGGTGGACCGCTTCATTTTTGAACCGAGGAAGGAGGCGCTCGAAGAGTCCAAGAGTGGAGGGCTTTGGACAACGTCGAGCGTCCCCCGCTGTATGATCGCGGTCGAGTCCGAA\n",
      "Gene found at position 174-444. Gene:\n",
      " ATGATGAACTCTAGAATGGGTATACTAGGATCGAGTCTTAAATACGTCAGATCCTCTGGTGTCAGAGACATTTGGCGTCAGTGTCGACATTGGTGCCTACTCCTGTTTTCCGTATCTAACAAACCCGCACGGGTGCCAAACCCCCGTCGGGTTCGCGGAGAGAGTGTCTCAATGAGTTGGCTCTGGCCTGGTTGTACTTCTGTCGAATCTTGTAACGCTGGAAGTGAGGACATATGGAACTCACTTGGGGACAGCCAGGTACGAAGCGGC\n",
      "CpG island found at position 105 (fraction: 0.12)\n",
      "CpG island found at position 110 (fraction: 0.14)\n",
      "CpG island found at position 115 (fraction: 0.12)\n",
      "CpG island found at position 120 (fraction: 0.12)\n",
      "CpG island found at position 125 (fraction: 0.12)\n"
     ]
    }
   ],
   "source": [
    "# Re-use the codes above to find a gene in a sequence and then find CpG islands only in the gene\n",
    "\n",
    "import random\n",
    "seq=''\n",
    "bases = ['A','T','G','C']\n",
    "for i in range(0,1000):\n",
    "    seqi = random.randint(0,3) \n",
    "    seq = seq + bases[seqi] \n",
    "print(\"Sequence:\\n\",seq) \n",
    "\n",
    "start_codon = 'ATG'\n",
    "stop_codons = ['TAG','TAA','TGA']\n",
    "\n",
    "for i in range(len(seq)):\n",
    "    if(start_codon==seq[i:i+len(start_codon)]):\n",
    "        gene_start_position = i\n",
    "        for j in range(gene_start_position,len(seq),3):\n",
    "            if(seq[j:j+len(start_codon)] in stop_codons):\n",
    "                gene_stop_position = j\n",
    "                gene=seq[gene_start_position:gene_stop_position]\n",
    "                print(f'Gene found at position {i}-{j}. Gene:\\n', gene)\n",
    "                break \n",
    "        break\n",
    "\n",
    "window_size = 50\n",
    "slide_size = 5\n",
    "CpG_threshold = 0.1\n",
    "\n",
    "for i in range(0,len(gene),slide_size):\n",
    "    CpG_count = gene[i:i+window_size].count('CG')\n",
    "    CpG_fraction = CpG_count/window_size\n",
    "    if(CpG_fraction > CpG_threshold):\n",
    "        print(f\"CpG island found at position {i} (fraction: {CpG_fraction})\")\n"
   ]
  },
  {
   "cell_type": "code",
   "execution_count": 49,
   "metadata": {},
   "outputs": [
    {
     "name": "stdout",
     "output_type": "stream",
     "text": [
      "Sequence:\n",
      " TTTGCATCGCCACGGCGATGAGATTGGCACAAGGAGAGGTGTTGTGTACTGATAACGCTCCACTAGCTAACCCTGATCTGCTTAGGCCCTCTTTGGTAATGAAGACCTTGCGGAGGACCGATATACCTCTAGGACACACCCTCCTCAGGAAGGTTATGATTTACGGGTTTCGCACCACGCGTAGTTTTCTCTGGCACCAGACGCGGAACTGGTGAGAGTCCCGCTTATAATATGTTTCAGTCAATATTCGTCCTGCAGCTACACTCGTCCGGGTAACCCCTCCCGACATCCAAAATTCTACGAACCAAGTTTCCTGTGACGGTAGTTAATTACCATTACGGAAACCTACCTTCTAGTAGAAGTAGCTATAAAGCCCTACGCCCGTTCGTCAAGGGCAGGATTGGTCGTACGGCCCATTGGGCGGTGACTAAGTCTTATCGAGGTGTTAGGTGATGGAAAACCTTGCAGCCGTTGCAGCCTGAGCCAGTATAGCCGACTGACATGCCGCCTGCCCGGTTGTGCTAGTTAAATACCTCACTGCATCGCCCATAATGGCTGTTGGGCAACCACTCCTGGAGTCGAGAGAATTGATGATCTTTTTTAAAATGAGCAACCAAAGCGCGCACAGAATCACTTTTAACCAACCGTTGGGCACCCCGCTCTAGCCTACTGCGGAGCGTTTATTATTAATTCCGATCATAACCGTCAGTCGATCATTTACGACGGCTCCAGAAAGTGCTCCCCAACTCTTAGGCTGCGCCATGGTGGAGCGGCCCTGACCGCGACATCCGTCCAGCTACAAATCAGGCCTTAGAAGAACCGCAACACGATAGGGACTGGGGACAAGAACAGTGACCGGAGTGTTTAGTCTGTGACATCGCAGACACACTCGCGGATAGTGAGCGGGAGCACCTGTGAGCACATGGATCATCCCTAGGGCAAAAACCCGACACGCGGATAGTAAGCGAGGGGGAACGATCACAATCATACGGATTATGGC\n",
      "7 \n",
      " ['ATGAGATTGGCACAAGGAGAGGTGTTGTGTACTGATAACGCTCCACTAGCTAACCCTGATCTGCTTAGGCCCTCTTTGGTAATGAAGACCTTGCGGAGGACCGATATACCTCTAGGACACACCCTCCTCAGGAAGGTTATGATTTACGGGTTTCGCACCACGCGTAGTTTTCTCTGGCACCAGACGCGGAACTGGTGA', 'ATGTTTCAGTCAATATTCGTCCTGCAGCTACACTCGTCCGGGTAA', 'ATGGAAAACCTTGCAGCCGTTGCAGCCTGA', 'ATGCCGCCTGCCCGGTTGTGCTAG', 'ATGGCTGTTGGGCAACCACTCCTGGAGTCGAGAGAATTGATGATCTTTTTTAAAATGAGCAACCAAAGCGCGCACAGAATCACTTTTAACCAACCGTTGGGCACCCCGCTCTAG', 'ATGGTGGAGCGGCCCTGA', 'ATGGATCATCCCTAG']\n"
     ]
    }
   ],
   "source": [
    "# Re-use the codes above to find all genes in a sequence (genes cannot overlap in this genome)\n",
    "\n",
    "import random\n",
    "seq=''\n",
    "bases = ['A','T','G','C']\n",
    "for i in range(0,1000):\n",
    "    seqi = random.randint(0,3) \n",
    "    seq = seq + bases[seqi] \n",
    "print(\"Sequence:\\n\",seq) \n",
    "\n",
    "start_codon = 'ATG'\n",
    "stop_codons = ['TAG','TAA','TGA']\n",
    "\n",
    "geneList = []\n",
    "i = 0\n",
    "while i < len(seq):\n",
    "    if seq[i:i+len(start_codon)] == start_codon:\n",
    "        gene_start_position = i\n",
    "        for j in range(gene_start_position + 3, len(seq), 3):\n",
    "            if seq[j:j+3] in stop_codons:\n",
    "                gene_stop_position = j + 3\n",
    "                gene = seq[gene_start_position:gene_stop_position]\n",
    "                if len(gene) > 3: \n",
    "                    geneList.append(gene)\n",
    "                    i = gene_stop_position \n",
    "                    break\n",
    "        else:\n",
    "            i += 3 \n",
    "    else:\n",
    "        i += 1\n",
    "\n",
    "print(len(geneList), \"\\n\", geneList)\n"
   ]
  },
  {
   "cell_type": "code",
   "execution_count": 53,
   "metadata": {},
   "outputs": [
    {
     "name": "stdout",
     "output_type": "stream",
     "text": [
      "Nope, that's not it young Padawan! Hint: letter 1 is A. \n",
      "Great, you got it in 2 guesses! May the Force be with you!\n"
     ]
    }
   ],
   "source": [
    "# GUESS THE NAME!\n",
    "# Review and run the code:\n",
    "name = 'Anakin'\n",
    "guess = input(\"So I'm thinking of person's name. Try to guess it: \")\n",
    "pos = 0\n",
    "\n",
    "while guess != name and pos < len(name):\n",
    "    print(\"Nope, that's not it young Padawan! Hint: letter \", end='')\n",
    "    print(pos + 1, \"is\", name[pos] + \". \", end='')\n",
    "    guess = input(\"Guess again: \")\n",
    "    pos = pos + 1\n",
    "\n",
    "if pos == len(name) and name != guess:\n",
    "    print(\"Too bad, you couldn't get it.  The name was\", name + \".\" +\" You cannot be a Jedi :(\")\n",
    "else:\n",
    "    print(\"\\nGreat, you got it in\", pos + 1,  \"guesses! May the Force be with you!\")\n"
   ]
  },
  {
   "cell_type": "code",
   "execution_count": 54,
   "metadata": {},
   "outputs": [
    {
     "name": "stdout",
     "output_type": "stream",
     "text": [
      "25  is too low.\n",
      "100 is too high.\n",
      "75 is too high.\n",
      "\n",
      "\n",
      "Great, you got it in 3 guesses!\n"
     ]
    }
   ],
   "source": [
    "# GUESS THE NUMBER\n",
    "# Review and run the code:\n",
    "number = 50 # Get random number between [1 and 1000)\n",
    "guesses = 0\n",
    "guess = int(input(\"Guess my number between 1 and 1000: \"))\n",
    "\n",
    "while guess != number:\n",
    "    guesses += 1\n",
    "    if guess > number:\n",
    "        print(guess, \"is too high.\") \n",
    "    elif guess < number:\n",
    "        print(guess, \" is too low.\")\n",
    "    guess = int(input(\"Guess again: \"))\n",
    "\n",
    "print(\"\\n\\nGreat, you got it in\", guesses,  \"guesses!\") "
   ]
  },
  {
   "cell_type": "code",
   "execution_count": null,
   "metadata": {},
   "outputs": [
    {
     "name": "stdout",
     "output_type": "stream",
     "text": [
      "Red: 7, Green: 7, Blue: 7 balls in the bag.\n",
      "Probability of drawing red ball is 0.3333333333333333\n",
      "Unfortunately you drew a blue ball.\n",
      "Red: 7, Green: 7, Blue: 6 balls left in the bag.\n",
      "Probability of drawing green ball is 0.35\n",
      "Congratulations! Luckily you drew a green ball.\n",
      "Red: 7, Green: 6, Blue: 6 balls left in the bag.\n",
      "Game over!\n"
     ]
    }
   ],
   "source": [
    "# PROBABILITY GAME\n",
    "# Write a game that asks the player to draw a ball from the bag which has 7 blue, 7 red, 7 green balls.\n",
    "# Tell the user what the propoability of picking that ball was.\n",
    "# There are 21 balls initially, 7 are blue, 7 are red and 7 are green. If the user picks a blue ball, the probability was 7/21 = 0.33\n",
    "# Then they draw another ball, which may be red. Probability of drawing a red one is now 7/20 = 0.35 . Blue would be 6/20 etc\n",
    "# The script should warn the user when they attempt to draw a colour that is not available in the bag anymore.\n",
    "# and the user to draw a ball in another colour.\n",
    "# The game should quit if the user types 'quit' as the next input or when all 21 balls are drawn from the bag\n",
    "\n",
    "import random\n",
    "\n",
    "# ballBag generation with 7 red, 7 green, 7 blue balls.\n",
    "ballBag = [\"red\"] * 7 + [\"green\"] * 7 + [\"blue\"] * 7\n",
    "print(f\"Red: {ballBag.count('red')}, Green: {ballBag.count('green')}, Blue: {ballBag.count('blue')} balls in the bag.\")\n",
    "\n",
    "while ballBag:\n",
    "    # input\n",
    "    ballColour = input(\"What colour is the ball you just drew from the bag? (type 'quit' to exit): \")\n",
    "    if ballColour == \"quit\":\n",
    "        print(\"Game over!\")\n",
    "        break\n",
    "\n",
    "    if ballColour not in ballBag:\n",
    "        print(f\"There are no {ballColour} balls left in the bag.\")\n",
    "        continue\n",
    "\n",
    "    # probability\n",
    "    print(f\"Probability of drawing {ballColour} ball is {ballBag.count(ballColour) / len(ballBag)}\")\n",
    "\n",
    "    # random drawing\n",
    "    randomIndex = random.randint(0, len(ballBag) - 1)\n",
    "    drawnBall = ballBag[randomIndex]\n",
    "    if drawnBall == ballColour:\n",
    "        print(f\"Congratulations! Luckily you drew a {drawnBall} ball.\")\n",
    "    else:\n",
    "        print(f\"Unfortunately you drew a {drawnBall} ball.\")\n",
    "    \n",
    "    ballBag.remove(drawnBall)\n",
    "    print(f\"Red: {ballBag.count('red')}, Green: {ballBag.count('green')}, Blue: {ballBag.count('blue')} balls left in the bag.\")\n",
    "\n",
    "if not ballBag:\n",
    "    print(\"Ball bag is empty.\")\n"
   ]
  },
  {
   "cell_type": "code",
   "execution_count": 71,
   "metadata": {},
   "outputs": [
    {
     "name": "stdout",
     "output_type": "stream",
     "text": [
      "Hour 0: 1000.00 moles of glucose, 1.00 moles of yeast, 0.00 moles of ethanol, 1.00 moles of bacteria, 0.00 moles of acetate.\n",
      "Hour 1: 998.00 moles of glucose, 2.00 moles of yeast, 1.00 moles of ethanol, 3.00 moles of bacteria, 1.00 moles of acetate.\n",
      "Hour 2: 993.00 moles of glucose, 4.00 moles of yeast, 3.00 moles of ethanol, 8.96 moles of bacteria, 4.00 moles of acetate.\n",
      "Hour 3: 980.04 moles of glucose, 8.00 moles of yeast, 7.00 moles of ethanol, 26.70 moles of bacteria, 12.96 moles of acetate.\n",
      "Hour 4: 945.34 moles of glucose, 16.00 moles of yeast, 15.00 moles of ethanol, 78.91 moles of bacteria, 39.66 moles of acetate.\n",
      "Hour 5: 850.43 moles of glucose, 32.00 moles of yeast, 31.00 moles of ethanol, 229.39 moles of bacteria, 118.57 moles of acetate.\n",
      "Hour 6: 589.03 moles of glucose, 64.00 moles of yeast, 63.00 moles of ethanol, 644.82 moles of bacteria, 347.97 moles of acetate.\n",
      "There is no carbon source left in the flask!\n",
      "Final state at hour 7: 0.00 moles of glucose, 117.18 moles of yeast, 116.18 moles of ethanol, 1517.08 moles of bacteria, 883.82 moles of acetate.\n"
     ]
    }
   ],
   "source": [
    "\n",
    "# A scientist is growing yeast in a flask. But the flask is contaminated by bacteria. \n",
    "# 1 mole of yeast consumes 1 mole of glucose and 1 mole of bacteria also consumes 1 mole of glucose per hour.\n",
    "# For every mole of glucose consumed by yeast, 1 mole of new yeast and 1 mole of ethanol is made.\n",
    "# For every mole of glucose consumed by bacteria, 2 moles of new bacteria and 1 mole of acetate is made. \n",
    "# Ethanol is toxic for bacteria, every mole of ethanol kills 0.1% of the bacteria in the flask per hour, \n",
    "# so if there are 5 moles of ethanol, 0.5% of the bacteria will die every hour.\n",
    "# Initially there is 1000 moles of glucose, 1 mole of yeast, 1 mole of bacteria, no ethanol, no acetate in the flask.\n",
    "# Write a Python script that calculates how much glucose the yeast and bacteria will consume every hour, \n",
    "# how much total yeast, bacteria, ethanol, acetate will be produced, and howmuch of the bacteria will die. \n",
    "# Once glucose is consumed, the script will report that there is no carbon source left in the flask. \n",
    "# Report the ingredients of the flask every hour such as:\n",
    "# Hour 5: X moles of glucose, Y moles of yeast, Z moles of ethanol, B moles of bacteria, C moles of acetate.\n",
    "# (Note: In the last hour of the simulation, the productions are going to be partial. \n",
    "# If A moles of glucose was needed for full growth, but only (A – F) moles of glucose is present, \n",
    "# calculate the full amounts as if A moles was present, then divide them by A and multiple by (A - F) \n",
    "# to calculate partial production rates on residual glucose)\n",
    "# (Hint: Check if there is enough glucose for full growth at that particular time period (hour) \n",
    "# before calculating the new concentrations. If there is not enough glucose, \n",
    "# then calculate partial growth rates and finally calculate the final concentrations. \n",
    "# Final glucose concentration should be zero, if not, you made a mistake in your calculations)\n",
    "\n",
    "glucose,yeast,ethanol,bacteria,acetate,hour=1000,1,0,1,0,0\n",
    "while glucose > 0:\n",
    "    print(f\"Hour {hour}: {glucose:.2f} moles of glucose, {yeast:.2f} moles of yeast, {ethanol:.2f} moles of ethanol, {bacteria:.2f} moles of bacteria, {acetate:.2f} moles of acetate.\")\n",
    "    hour += 1\n",
    "    yeastGlucoseNeed=yeast\n",
    "    bacteriaGlucoseNeed=bacteria\n",
    "    totalGlucoseNeed=yeastGlucoseNeed+bacteriaGlucoseNeed\n",
    "    if glucose>=totalGlucoseNeed:\n",
    "        glucose-=totalGlucoseNeed\n",
    "        ethanol+=yeast\n",
    "        yeast+=yeast\n",
    "        acetate+=bacteria\n",
    "        bacteria+=2*bacteria\n",
    "    else:\n",
    "        yeastFraction=glucose/totalGlucoseNeed\n",
    "        glucose=0\n",
    "        ethanol+=yeast*yeastFraction\n",
    "        yeast+=yeast*yeastFraction\n",
    "        acetate+=bacteria*yeastFraction\n",
    "        bacteria+=2*bacteria*yeastFraction\n",
    "    bacteria-=bacteria*ethanol*0.001\n",
    "print(\"There is no carbon source left in the flask!\")\n",
    "print(f\"Final state at hour {hour}: {glucose:.2f} moles of glucose, {yeast:.2f} moles of yeast, {ethanol:.2f} moles of ethanol, {bacteria:.2f} moles of bacteria, {acetate:.2f} moles of acetate.\")"
   ]
  },
  {
   "cell_type": "code",
   "execution_count": 56,
   "metadata": {},
   "outputs": [
    {
     "name": "stdout",
     "output_type": "stream",
     "text": [
      "RedBull vs Ferrari\n",
      "RedBull vs Mercedes-Benz\n",
      "RedBull vs McLaren\n",
      "Ferrari vs RedBull\n",
      "Ferrari vs Mercedes-Benz\n",
      "Ferrari vs McLaren\n",
      "Mercedes-Benz vs RedBull\n",
      "Mercedes-Benz vs Ferrari\n",
      "Mercedes-Benz vs McLaren\n",
      "McLaren vs RedBull\n",
      "McLaren vs Ferrari\n",
      "McLaren vs Mercedes-Benz\n"
     ]
    }
   ],
   "source": [
    "# OPTIONAL EXERCISE: Write a script that makes a league fixture for four teams. Each team should play with each other twice, one home one away.\n",
    "# Hint: This is a VERY DIFFICULT problem!\n",
    "teamsList=[\"RedBull\",\"Ferrari\",\"Mercedes-Benz\",\"McLaren\"]\n",
    "for i in teamsList:\n",
    "    for j in teamsList:\n",
    "        if i!=j:\n",
    "            print(f\"{i} vs {j}\")"
   ]
  },
  {
   "cell_type": "code",
   "execution_count": 24,
   "metadata": {},
   "outputs": [
    {
     "name": "stdout",
     "output_type": "stream",
     "text": [
      "['apple', 'apple', 'apple', 'pear', 'pear', 'pear', 'pear', 'banana', 'banana', 'quince', 'quince', 'quince', 'quince']\n",
      "An  apple is placed in the basket, now I have 0 fruits in the basket\n",
      "An  apple is placed in the basket, now I have 1 fruits in the basket\n",
      "An  apple is placed in the basket, now I have 2 fruits in the basket\n",
      "A  pear is placed in the basket, now I have 3 fruits in the basket\n",
      "A  pear is placed in the basket, now I have 4 fruits in the basket\n",
      "A  pear is placed in the basket, now I have 5 fruits in the basket\n",
      "A  pear is placed in the basket, now I have 6 fruits in the basket\n",
      "A  banana is placed in the basket, now I have 7 fruits in the basket\n",
      "A  banana is placed in the basket, now I have 8 fruits in the basket\n",
      "basket is full\n"
     ]
    }
   ],
   "source": [
    "# OPTIONAL EXERCISE: Review and run the code:\n",
    "# There is a mistake in it, CORRECT the mistake first!\n",
    "fruits = ['apple','pear','banana','quince']\n",
    "numberOfFruits=[3, 4, 2, 4]\n",
    "basket = 0\n",
    "vowels = ['a','e','i','o','u']\n",
    "singleFruits = [] \n",
    "i=0\n",
    "for fr in fruits:\n",
    "    for nFr in range(0,numberOfFruits[i]):\n",
    "        #singleFruits = singleFruits.append(fr)  MISTAKE\n",
    "        singleFruits.append(fr) \n",
    "    i = i + 1\n",
    "print(singleFruits) \n",
    "\n",
    "basket = 0\n",
    "while(basket < 9):\n",
    "    nextF = singleFruits[basket]\n",
    "    if(nextF[0] in vowels ):\n",
    "        print('An ',nextF, 'is placed in the basket, now I have', basket,'fruits in the basket')\n",
    "    else:\n",
    "        print('A ',nextF, 'is placed in the basket, now I have', basket,'fruits in the basket')       \n",
    "    basket = basket + 1\n",
    "    \n",
    "print('basket is full')"
   ]
  },
  {
   "cell_type": "code",
   "execution_count": 33,
   "metadata": {},
   "outputs": [
    {
     "name": "stdout",
     "output_type": "stream",
     "text": [
      "There are 12 fruits, ['apple', 'apple', 'apple', 'pear', 'banana', 'banana', 'banana', 'banana', 'banana', 'banana', 'quince', 'quince']\n",
      "One apple is added to the basket. 2 apples remaining.\n",
      "One pear is added to the basket. 0 pears remaining.\n",
      "One banana is added to the basket. 5 bananas remaining.\n",
      "One quince is added to the basket. 1 quinces remaining.\n",
      "One apple is added to the basket. 1 apples remaining.\n",
      "One banana is added to the basket. 4 bananas remaining.\n",
      "One quince is added to the basket. 0 quinces remaining.\n",
      "One apple is added to the basket. 0 apples remaining.\n",
      "One banana is added to the basket. 3 bananas remaining.\n",
      "One banana is added to the basket. 2 bananas remaining.\n",
      "One banana is added to the basket. 1 bananas remaining.\n",
      "There are 11 fruits in the basket. Apples: 3, Pears: 1, Bananas: 5, Quinces: 2. Remaining fruits are listed below:  ['banana']\n"
     ]
    }
   ],
   "source": [
    "# OPTIONAL EXCERSIZE: Fill a basket that can fit only 11 fruits:\n",
    "# Add the fruits one-by-one as 1 apple, 1 pear, 1 banana, 1 quince then 1 apple, 1 pear...\n",
    "# Report the added fruit, remaining number of the added fruit, total number of fruits in the basket after each addition\n",
    "fruits = ['apple','pear','banana','quince']\n",
    "numberOfFruits=[3, 1, 6, 2]\n",
    "basket,basketApple, basketPear, basketBanana, basketQuince = 0,0,0,0,0\n",
    "\n",
    "singleFruits = [] \n",
    "i=0\n",
    "for fr in fruits:\n",
    "    for nFr in range(0,numberOfFruits[i]):\n",
    "        singleFruits.append(fr) \n",
    "    i = i + 1\n",
    "print(f\"There are {len(singleFruits)} fruits, {singleFruits}\") \n",
    "\n",
    "while basket<11: #if we say <=11 or <12 then it will run for one more time and can be more than 11!!!!!!!\n",
    "    if \"apple\" in singleFruits:\n",
    "        singleFruits.remove(\"apple\")\n",
    "        basket+=1\n",
    "        basketApple+=1\n",
    "        print(f\"One apple is added to the basket. {singleFruits.count(\"apple\")} apples remaining.\")\n",
    "    if \"pear\" in singleFruits:\n",
    "        singleFruits.remove(\"pear\")\n",
    "        basket+=1\n",
    "        basketPear+=1\n",
    "        print(f\"One pear is added to the basket. {singleFruits.count(\"pear\")} pears remaining.\")\n",
    "    if \"banana\" in singleFruits:\n",
    "        singleFruits.remove(\"banana\")\n",
    "        basket+=1\n",
    "        basketBanana+=1\n",
    "        print(f\"One banana is added to the basket. {singleFruits.count(\"banana\")} bananas remaining.\")\n",
    "    if \"quince\" in singleFruits:\n",
    "        singleFruits.remove(\"quince\")\n",
    "        basket+=1\n",
    "        basketQuince+=1\n",
    "        print(f\"One quince is added to the basket. {singleFruits.count(\"quince\")} quinces remaining.\")\n",
    "print(f\"There are {basket} fruits in the basket. Apples: {basketApple}, Pears: {basketPear}, Bananas: {basketBanana}, Quinces: {basketQuince}. Remaining fruits are listed below: \", singleFruits)\n"
   ]
  },
  {
   "cell_type": "markdown",
   "metadata": {},
   "source": [
    "Pınar Pir - 2019 - 2024 Gebze Technical University"
   ]
  }
 ],
 "metadata": {
  "anaconda-cloud": {},
  "kernelspec": {
   "display_name": "base",
   "language": "python",
   "name": "python3"
  },
  "language_info": {
   "codemirror_mode": {
    "name": "ipython",
    "version": 3
   },
   "file_extension": ".py",
   "mimetype": "text/x-python",
   "name": "python",
   "nbconvert_exporter": "python",
   "pygments_lexer": "ipython3",
   "version": "3.12.2"
  }
 },
 "nbformat": 4,
 "nbformat_minor": 1
}
