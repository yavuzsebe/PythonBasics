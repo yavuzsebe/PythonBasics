{
 "cells": [
  {
   "cell_type": "code",
   "execution_count": 2,
   "id": "d8d7ee38-70ac-434e-b5a2-9591eea0209f",
   "metadata": {},
   "outputs": [],
   "source": [
    "import requests\n",
    "#yüklenmezse aşağıdakini yaz\n",
    "#pip install requests"
   ]
  },
  {
   "cell_type": "markdown",
   "id": "95e42b46-d627-4aaf-96e2-dabc788b23ff",
   "metadata": {},
   "source": [
    "#### parametre istemeyen"
   ]
  },
  {
   "cell_type": "code",
   "execution_count": 13,
   "id": "947e6b53-226d-464e-ac71-9e03e913b1bf",
   "metadata": {},
   "outputs": [
    {
     "data": {
      "text/plain": [
       "<Response [200]>"
      ]
     },
     "execution_count": 13,
     "metadata": {},
     "output_type": "execute_result"
    }
   ],
   "source": [
    "bolgeler_URL = \"https://data.police.uk/api/forces\" # 200 verecek çünkü ulaşılabilir bi site\n",
    "requests.get(bolgeler_URL)"
   ]
  },
  {
   "cell_type": "code",
   "execution_count": 9,
   "id": "c42a9f7c-3c43-453b-b775-a8cab1a7b3bf",
   "metadata": {},
   "outputs": [
    {
     "data": {
      "text/plain": [
       "<Response [404]>"
      ]
     },
     "execution_count": 9,
     "metadata": {},
     "output_type": "execute_result"
    }
   ],
   "source": [
    "bolgeler_URL = \"https://data.police.uk/api/force\" #linkte forces > force yaparsak sayfaya ulaşamayacak ve 404 verecek\n",
    "requests.get(bolgeler_URL)"
   ]
  },
  {
   "cell_type": "code",
   "execution_count": 14,
   "id": "07360648-fe58-4bdc-a1fe-54e88c9fe4f6",
   "metadata": {},
   "outputs": [
    {
     "data": {
      "text/plain": [
       "200"
      ]
     },
     "execution_count": 14,
     "metadata": {},
     "output_type": "execute_result"
    }
   ],
   "source": [
    "response = requests.get(bolgeler_URL)\n",
    "response.status_code"
   ]
  },
  {
   "cell_type": "code",
   "execution_count": 15,
   "id": "7f55af62-d64f-42b4-a265-f0f798e2898a",
   "metadata": {},
   "outputs": [
    {
     "data": {
      "text/plain": [
       "'https://data.police.uk/api/forces'"
      ]
     },
     "execution_count": 15,
     "metadata": {},
     "output_type": "execute_result"
    }
   ],
   "source": [
    "response.url"
   ]
  },
  {
   "cell_type": "code",
   "execution_count": 16,
   "id": "05c12634-24b6-4e1c-b306-3d7cebae958c",
   "metadata": {},
   "outputs": [
    {
     "data": {
      "text/plain": [
       "'[{\"id\":\"avon-and-somerset\",\"name\":\"Avon and Somerset Constabulary\"},{\"id\":\"bedfordshire\",\"name\":\"Bedfordshire Police\"},{\"id\":\"cambridgeshire\",\"name\":\"Cambridgeshire Constabulary\"},{\"id\":\"cheshire\",\"name\":\"Cheshire Constabulary\"},{\"id\":\"city-of-london\",\"name\":\"City of London Police\"},{\"id\":\"cleveland\",\"name\":\"Cleveland Police\"},{\"id\":\"cumbria\",\"name\":\"Cumbria Constabulary\"},{\"id\":\"derbyshire\",\"name\":\"Derbyshire Constabulary\"},{\"id\":\"devon-and-cornwall\",\"name\":\"Devon & Cornwall Police\"},{\"id\":\"dorset\",\"name\":\"Dorset Police\"},{\"id\":\"durham\",\"name\":\"Durham Constabulary\"},{\"id\":\"dyfed-powys\",\"name\":\"Dyfed-Powys Police\"},{\"id\":\"essex\",\"name\":\"Essex Police\"},{\"id\":\"gloucestershire\",\"name\":\"Gloucestershire Constabulary\"},{\"id\":\"greater-manchester\",\"name\":\"Greater Manchester Police\"},{\"id\":\"gwent\",\"name\":\"Gwent Police\"},{\"id\":\"hampshire\",\"name\":\"Hampshire Constabulary\"},{\"id\":\"hertfordshire\",\"name\":\"Hertfordshire Constabulary\"},{\"id\":\"humberside\",\"name\":\"Humberside Police\"},{\"id\":\"kent\",\"name\":\"Kent Police\"},{\"id\":\"lancashire\",\"name\":\"Lancashire Constabulary\"},{\"id\":\"leicestershire\",\"name\":\"Leicestershire Police\"},{\"id\":\"lincolnshire\",\"name\":\"Lincolnshire Police\"},{\"id\":\"merseyside\",\"name\":\"Merseyside Police\"},{\"id\":\"metropolitan\",\"name\":\"Metropolitan Police Service\"},{\"id\":\"norfolk\",\"name\":\"Norfolk Constabulary\"},{\"id\":\"north-wales\",\"name\":\"North Wales Police\"},{\"id\":\"north-yorkshire\",\"name\":\"North Yorkshire Police\"},{\"id\":\"northamptonshire\",\"name\":\"Northamptonshire Police\"},{\"id\":\"northumbria\",\"name\":\"Northumbria Police\"},{\"id\":\"nottinghamshire\",\"name\":\"Nottinghamshire Police\"},{\"id\":\"northern-ireland\",\"name\":\"Police Service of Northern Ireland\"},{\"id\":\"south-wales\",\"name\":\"South Wales Police\"},{\"id\":\"south-yorkshire\",\"name\":\"South Yorkshire Police\"},{\"id\":\"staffordshire\",\"name\":\"Staffordshire Police\"},{\"id\":\"suffolk\",\"name\":\"Suffolk Constabulary\"},{\"id\":\"surrey\",\"name\":\"Surrey Police\"},{\"id\":\"sussex\",\"name\":\"Sussex Police\"},{\"id\":\"thames-valley\",\"name\":\"Thames Valley Police\"},{\"id\":\"warwickshire\",\"name\":\"Warwickshire Police\"},{\"id\":\"west-mercia\",\"name\":\"West Mercia Police\"},{\"id\":\"west-midlands\",\"name\":\"West Midlands Police\"},{\"id\":\"west-yorkshire\",\"name\":\"West Yorkshire Police\"},{\"id\":\"wiltshire\",\"name\":\"Wiltshire Police\"}]'"
      ]
     },
     "execution_count": 16,
     "metadata": {},
     "output_type": "execute_result"
    }
   ],
   "source": [
    "response.text"
   ]
  },
  {
   "cell_type": "code",
   "execution_count": 18,
   "id": "2164bd40-6374-42a0-805f-05de8b8cc809",
   "metadata": {},
   "outputs": [
    {
     "data": {
      "text/plain": [
       "[{'id': 'avon-and-somerset', 'name': 'Avon and Somerset Constabulary'},\n",
       " {'id': 'bedfordshire', 'name': 'Bedfordshire Police'},\n",
       " {'id': 'cambridgeshire', 'name': 'Cambridgeshire Constabulary'},\n",
       " {'id': 'cheshire', 'name': 'Cheshire Constabulary'},\n",
       " {'id': 'city-of-london', 'name': 'City of London Police'},\n",
       " {'id': 'cleveland', 'name': 'Cleveland Police'},\n",
       " {'id': 'cumbria', 'name': 'Cumbria Constabulary'},\n",
       " {'id': 'derbyshire', 'name': 'Derbyshire Constabulary'},\n",
       " {'id': 'devon-and-cornwall', 'name': 'Devon & Cornwall Police'},\n",
       " {'id': 'dorset', 'name': 'Dorset Police'},\n",
       " {'id': 'durham', 'name': 'Durham Constabulary'},\n",
       " {'id': 'dyfed-powys', 'name': 'Dyfed-Powys Police'},\n",
       " {'id': 'essex', 'name': 'Essex Police'},\n",
       " {'id': 'gloucestershire', 'name': 'Gloucestershire Constabulary'},\n",
       " {'id': 'greater-manchester', 'name': 'Greater Manchester Police'},\n",
       " {'id': 'gwent', 'name': 'Gwent Police'},\n",
       " {'id': 'hampshire', 'name': 'Hampshire Constabulary'},\n",
       " {'id': 'hertfordshire', 'name': 'Hertfordshire Constabulary'},\n",
       " {'id': 'humberside', 'name': 'Humberside Police'},\n",
       " {'id': 'kent', 'name': 'Kent Police'},\n",
       " {'id': 'lancashire', 'name': 'Lancashire Constabulary'},\n",
       " {'id': 'leicestershire', 'name': 'Leicestershire Police'},\n",
       " {'id': 'lincolnshire', 'name': 'Lincolnshire Police'},\n",
       " {'id': 'merseyside', 'name': 'Merseyside Police'},\n",
       " {'id': 'metropolitan', 'name': 'Metropolitan Police Service'},\n",
       " {'id': 'norfolk', 'name': 'Norfolk Constabulary'},\n",
       " {'id': 'north-wales', 'name': 'North Wales Police'},\n",
       " {'id': 'north-yorkshire', 'name': 'North Yorkshire Police'},\n",
       " {'id': 'northamptonshire', 'name': 'Northamptonshire Police'},\n",
       " {'id': 'northumbria', 'name': 'Northumbria Police'},\n",
       " {'id': 'nottinghamshire', 'name': 'Nottinghamshire Police'},\n",
       " {'id': 'northern-ireland', 'name': 'Police Service of Northern Ireland'},\n",
       " {'id': 'south-wales', 'name': 'South Wales Police'},\n",
       " {'id': 'south-yorkshire', 'name': 'South Yorkshire Police'},\n",
       " {'id': 'staffordshire', 'name': 'Staffordshire Police'},\n",
       " {'id': 'suffolk', 'name': 'Suffolk Constabulary'},\n",
       " {'id': 'surrey', 'name': 'Surrey Police'},\n",
       " {'id': 'sussex', 'name': 'Sussex Police'},\n",
       " {'id': 'thames-valley', 'name': 'Thames Valley Police'},\n",
       " {'id': 'warwickshire', 'name': 'Warwickshire Police'},\n",
       " {'id': 'west-mercia', 'name': 'West Mercia Police'},\n",
       " {'id': 'west-midlands', 'name': 'West Midlands Police'},\n",
       " {'id': 'west-yorkshire', 'name': 'West Yorkshire Police'},\n",
       " {'id': 'wiltshire', 'name': 'Wiltshire Police'}]"
      ]
     },
     "execution_count": 18,
     "metadata": {},
     "output_type": "execute_result"
    }
   ],
   "source": [
    "response.json() # response.text in okunaklı hali, dictionary verir"
   ]
  },
  {
   "cell_type": "markdown",
   "id": "822aa40d-4e52-4d64-8e26-78558c0478cb",
   "metadata": {},
   "source": [
    "#### parametre isteyen"
   ]
  },
  {
   "cell_type": "code",
   "execution_count": 36,
   "id": "1bac1482-ad3a-45cc-94f8-3254684fb0e0",
   "metadata": {},
   "outputs": [
    {
     "data": {
      "text/plain": [
       "<Response [200]>"
      ]
     },
     "execution_count": 36,
     "metadata": {},
     "output_type": "execute_result"
    }
   ],
   "source": [
    "bolgeler_URL = \"https://data.police.uk/docs/method/crimes-no-location/\"\n",
    "requests.get(bolgeler_URL)"
   ]
  },
  {
   "cell_type": "code",
   "execution_count": 37,
   "id": "66aabaf0-be44-4ef2-acd9-820559f3068f",
   "metadata": {},
   "outputs": [],
   "source": [
    "sucKategorileri_URL = \"https://data.police.uk/api/crime-categories?date=2011-08\" # ?xxxx= şeklinde olan url ler parametre alan url lerdir\n",
    "payload = {\"date\": \"2024-02\"} # burada dictionary tipinde giriş yapmamız gerekiyor\n",
    "response = requests.get(sucKategorileri_URL, params=payload)"
   ]
  },
  {
   "cell_type": "code",
   "execution_count": 38,
   "id": "f25cc832-7b0a-4761-a375-091d76ef5fad",
   "metadata": {},
   "outputs": [
    {
     "data": {
      "text/plain": [
       "200"
      ]
     },
     "execution_count": 38,
     "metadata": {},
     "output_type": "execute_result"
    }
   ],
   "source": [
    "response.status_code #başarıyla çalıştı mı? 200se başarılı"
   ]
  },
  {
   "cell_type": "code",
   "execution_count": 39,
   "id": "67e542d8-b6d1-464a-92e8-1da5c38b9808",
   "metadata": {},
   "outputs": [
    {
     "data": {
      "text/plain": [
       "'https://data.police.uk/api/crime-categories?date=2011-08&date=2024-02'"
      ]
     },
     "execution_count": 39,
     "metadata": {},
     "output_type": "execute_result"
    }
   ],
   "source": [
    "response.url #linkte ? ve tarih değişiyor"
   ]
  },
  {
   "cell_type": "code",
   "execution_count": 40,
   "id": "6fa1c08d-0e4c-4ab0-a0ef-9f4d5675ac15",
   "metadata": {},
   "outputs": [
    {
     "data": {
      "text/plain": [
       "[{'url': 'all-crime', 'name': 'All crime'},\n",
       " {'url': 'anti-social-behaviour', 'name': 'Anti-social behaviour'},\n",
       " {'url': 'bicycle-theft', 'name': 'Bicycle theft'},\n",
       " {'url': 'burglary', 'name': 'Burglary'},\n",
       " {'url': 'criminal-damage-arson', 'name': 'Criminal damage and arson'},\n",
       " {'url': 'drugs', 'name': 'Drugs'},\n",
       " {'url': 'other-theft', 'name': 'Other theft'},\n",
       " {'url': 'possession-of-weapons', 'name': 'Possession of weapons'},\n",
       " {'url': 'public-order', 'name': 'Public order'},\n",
       " {'url': 'robbery', 'name': 'Robbery'},\n",
       " {'url': 'shoplifting', 'name': 'Shoplifting'},\n",
       " {'url': 'theft-from-the-person', 'name': 'Theft from the person'},\n",
       " {'url': 'vehicle-crime', 'name': 'Vehicle crime'},\n",
       " {'url': 'violent-crime', 'name': 'Violence and sexual offences'},\n",
       " {'url': 'other-crime', 'name': 'Other crime'}]"
      ]
     },
     "execution_count": 40,
     "metadata": {},
     "output_type": "execute_result"
    }
   ],
   "source": [
    "response.json()"
   ]
  },
  {
   "cell_type": "code",
   "execution_count": 76,
   "id": "821246dd-7c49-430c-8d97-2996a2d8b49f",
   "metadata": {},
   "outputs": [],
   "source": [
    "suc_URL = \"https://data.police.uk/docs/method/crimes-no-location\"\n",
    "\n",
    "payload= {\n",
    "    \"category\": \"drugs\", # bu request parameter ın zorunlu tutulduğu sitede belirtilmiş\n",
    "    \"force\": \"bedfordshire\", # bu request parameter ın zorunlu tutulduğu sitede belirtilmiş\n",
    "    \"date\": \"2022-08\"} #bu ise optional olarak bırakılmış ama biz yine de girelim\n",
    "response1 = requests.get(suc_URL, params=payload)"
   ]
  },
  {
   "cell_type": "code",
   "execution_count": 77,
   "id": "e0ea4392-27a1-4aab-89f0-b287aee5e7de",
   "metadata": {},
   "outputs": [
    {
     "data": {
      "text/plain": [
       "200"
      ]
     },
     "execution_count": 77,
     "metadata": {},
     "output_type": "execute_result"
    }
   ],
   "source": [
    "response1.status_code"
   ]
  },
  {
   "cell_type": "code",
   "execution_count": 78,
   "id": "728b0b15-daf9-4eda-a382-84572b43d70e",
   "metadata": {},
   "outputs": [
    {
     "data": {
      "text/plain": [
       "'https://data.police.uk/docs/method/crimes-no-location/?category=drugs&force=bedfordshire&date=2022-08'"
      ]
     },
     "execution_count": 78,
     "metadata": {},
     "output_type": "execute_result"
    }
   ],
   "source": [
    "response1.url"
   ]
  },
  {
   "cell_type": "code",
   "execution_count": 79,
   "id": "46ce9867-d78d-4c5a-b557-42b7d71100de",
   "metadata": {},
   "outputs": [
    {
     "data": {
      "text/plain": [
       "'\\n<!doctype html>\\n\\n<!--[if lt IE 7]><html class=\"no-js lt-ie9 lt-ie8 lt-ie7\" lang=\"en\" \\n><![endif]-->\\n<!--[if (IE 7)&!(IEMobile)]><html class=\"no-js lt-ie9 lt-ie8 ie7\" lang=\"en\" \\n><![endif]-->\\n<!--[if (IE 8)&!(IEMobile)]><html class=\"no-js lt-ie9 ie8\" lang=\"en\" \\n><![endif]-->\\n    <!--[if gt IE 8]><!--><html class=\"no-js\" lang=\"en\" \\n><!--<![endif]-->\\n    <head>\\n        <title>Crimes with no location | data.police.uk</title>\\n\\n        <meta charset=\"utf-8\">\\n        <meta name=\"viewport\" content=\"width=device-width, initial-scale=1.0\">\\n        <meta http-equiv=\"X-UA-Compatible\" content=\"IE=edge,chrome=1\">\\n\\n        <meta name=\"mobile-web-app-capable\" content=\"yes\"/>\\n\\n        <meta name=\"description\" content=\"\">\\n\\n            <!-- Google tag (gtag.js) -->\\n        <script async src=\"https://www.googletagmanager.com/gtag/js?id=G-VR2SY40V3F\"></script>\\n        <script>\\n            window.dataLayer = window.dataLayer || [];\\n            function gtag(){dataLayer.push(arguments);}\\n            gtag(\\'js\\', new Date());\\n\\n            gtag(\\'config\\', \\'G-VR2SY40V3F\\');\\n        </script>\\n\\n        <link href=\"/static/css/base.min.ee7ad2be4dec.css\" rel=\"stylesheet\" type=\"text/css\" media=\"all\" />\\n\\n        <!--[if lt IE 8]>\\n        <link href=\"/static/css/ie7.min.8861f08901c8.css\" rel=\"stylesheet\" type=\"text/css\" media=\"all\" />\\n        <![endif]-->\\n\\n        <script src=\"/static/js/libs/modernizr-3.6.0-min.js\"></script>\\n        <script src=\"/jsi18n/\"></script>\\n\\n        <link rel=\"shortcut icon\" href=\"/static/img/favicon.ico\"/>\\n        <link rel=\"shortcut icon\" sizes=\"196x196\" href=\"/static/img/shortcut-icon-196x196.png\"/>\\n        <link rel=\"apple-touch-icon-precomposed\" sizes=\"144x144\" href=\"/static/img/shortcut-icon-144x144.png\"/>\\n        <link rel=\"apple-touch-icon-precomposed\" sizes=\"114x114\" href=\"/static/img/shortcut-icon-114x114.png\"/>\\n        <link rel=\"apple-touch-icon-precomposed\" sizes=\"72x72\" href=\"/static/shortcut-icon-72x72.png\"/>\\n        <link rel=\"apple-touch-icon-precomposed\" href=\"/static/shortcut-icon-57x57.png\"/>\\n\\n        \\n    \\n    <link href=\"/static/css/docs.min.b479d83658b1.css\" rel=\"stylesheet\" type=\"text/css\" media=\"all\" />\\n\\n    <link href=\"/static/css/method.min.a00095b0388b.css\" rel=\"stylesheet\" type=\"text/css\" media=\"all\" />\\n\\n\\n        <script>\\n            Modernizr.mq(\\'(min-width:0)\\') || document.write(\\'<script src=\"/static/js/libs/respond.min.js\">\\\\x3C/script>\\');\\n        </script>\\n    </head>\\n\\n    <body class=\"home\">\\n\\n        <a href=\"#content\" id=\"skipnav\">Skip to main content</a>\\n\\n        \\n            <ul id=\"messages\">\\n                \\n                    <li class=\"info\" role=\"alert\"><div class=\"inner\">data.police.uk uses cookies to make the site simpler. <a href=\"https://www.police.uk/pu/cookies/\">Find out more about cookies</a></div></li>\\n                \\n            </ul>\\n        \\n\\n        <header role=\"banner\">\\n            <div class=\"inner\">\\n\\n                <a id=\"logo\" href=\"/\" title=\"Go to the data.police.uk home page\"><img src=\"/static/img/logo.png\"/></a>\\n\\n            </div>\\n\\n            <div id=\"content_header\">\\n                <div class=\"inner\">\\n                    <p id=\"shownav\"><a href=\"#navigation\">Menu</a></p>\\n\\n                    <nav role=\"navigation\" id=\"navigation\" class=\"main\">\\n                        \\n    \\n\\n\\n\\n<ul>\\n    <li class=\"\">\\n    <a href=\"/\">Home</a>\\n    </li>\\n    <li class=\"\">\\n    <a href=\"/data/\">Data</a>\\n    </li>\\n    <li class=\"active\">\\n        <a href=\"/docs/\">API</a>\\n    </li>\\n    <li class=\"\">\\n        <a href=\"/changelog/\">Changelog</a>\\n    </li>\\n    <li class=\"\">\\n        <a href=\"/contact/\">Contact</a>\\n    </li>\\n    <li class=\"\">\\n        <a href=\"/about/\">About</a>\\n    </li>\\n    <li class=\"lang\">\\n        \\n        \\n\\n        \\n            \\n        \\n            \\n                <a href=\"/cy/docs/method/crimes-no-location/\" class=\"lang cy \" aria-label=\"Change language to \\'Cymraeg\\'\">Cymraeg</a>\\n            \\n        \\n    </li>\\n</ul>\\n\\n\\n                    </nav>\\n                </div>\\n            </div>\\n        </header>\\n\\n        <div id=\"content\">\\n            \\n<p id=\"breadcrumb\"><a href=\"/\">Home</a> &gt;\\n    <a href=\"/docs/\">Police API Documentation</a> &gt;</p>\\n\\n            <div role=\"main\">\\n                \\n    <h1>Crimes with no location</h1>\\n\\n    <div>\\n        \\nReturns a list of crimes that could not be mapped to a location.\\n\\n    </div>\\n\\n    \\n        <h2>Request parameters</h2>\\n\\n        <table class=\\'params\\'>\\n            <tr>\\n                <th>Parameter</th>\\n                <th>Description</th>\\n            </tr>\\n            \\n<tr>\\n    <td>category</td>\\n    <td class=\"desc\"><a href=\"/docs/method/crime-categories/\">The category of the crimes</a></td>\\n</tr>\\n<tr>\\n    <td>force</td>\\n    <td class=\"desc\">Specific police force</td>\\n</tr>\\n\\t<tr>\\n        <td>date</td>\\n        <td class=\"desc\"><strong>Optional</strong>. (YYYY-MM) Limit results to a specific month.<br /> The latest month will be shown by default</td>\\n    </tr>\\n\\n        </table>\\n    \\n\\n    <h2>Example request</h2>\\n\\n    \\n    <p id=\"example_request\">https://data.police.uk/api/crimes-no-location?<strong>category</strong>=all-crime&amp;<strong>force</strong>=leicestershire&amp;<strong>date</strong>=2017-03</p>\\n    \\n\\n    <h2>Example response</h2>\\n\\n    \\n        <pre><code>[\\n    {\\n        \"category\": \"burglary\", \\n        \"persistent_id\": \"4ea1d4da29bd8b9e362af35cbabb6157149f62b65d37486dffd185a18e1aaadd\", \\n        \"location_subtype\": \"\", \\n        \"id\": 56862854, \\n        \"location\": null, \\n        \"context\": \"\", \\n        \"month\": \"2017-03\", \\n        \"location_type\": null, \\n        \"outcome_status\": {\\n            \"category\": \"Investigation complete; no suspect identified\", \\n            \"date\": \"2017-03\"\\n        }\\n    }, \\n    {\\n        \"category\": \"criminal-damage-arson\", \\n        \"persistent_id\": \"979f2338f25f62196268b52c8405ca8ff431fd2fb02ab11b2192c479816547e5\", \\n        \"location_subtype\": \"\", \\n        \"id\": 56866806, \\n        \"location\": null, \\n        \"context\": \"\", \\n        \"month\": \"2017-03\", \\n        \"location_type\": null, \\n        \"outcome_status\": {\\n            \"category\": \"Under investigation\", \\n            \"date\": \"2017-03\"\\n        }\\n    }, \\n    ...\\n]</code></pre>\\n    \\n\\n    <h2>Response description</h2>\\n\\n    \\n        <table>\\n            <thead>\\n                <tr>\\n                    <th>Tag</th>\\n                    <th>Description</th>\\n                </tr>\\n            </thead>\\n            <tbody>\\n                \\n<tr>\\n    <th>category</th>\\n    <td class=\"desc\"><a href=\"/docs/method/crime-categories/\">Category of the crime</a></td>\\n</tr>\\n<tr>\\n    <th>location_type</th>\\n    <td class=\"desc\">Always null for this method.</td>\\n</tr>\\n<tr>\\n    <th>location_subtype</th>\\n    <td class=\"desc\">Always an empty string for this method.</td>\\n</tr>\\n<tr>\\n    <th>persistent_id</th>\\n    <td class=\"desc\">64-character unique identifier for that crime. (This is different to the existing \\'id\\' attribute, which is not guaranteed to always stay the same for each crime.)</td>\\n</tr>\\n<tr>\\n    <th>month</th>\\n    <td class=\"desc\">Month of the crime</td>\\n</tr>\\n<tr>\\n    <th>location</th>\\n    <td class=\"desc\">Always null for this method.</td>\\n</tr>\\n<tr>\\n    <th>context</th>\\n    <td class=\"desc\">Extra information about the crime (if applicable)</td>\\n</tr>\\n<tr>\\n    <th>id</th>\\n    <td class=\"desc\">ID of the crime.<br/><strong>This ID only relates to the API, it is NOT a police identifier</strong></td>\\n</tr>\\n<tr>\\n    <th>outcome_status</th>\\n    <td class=\"desc\">The category and date of the latest recorded outcome for the crime</td>\\n</tr>\\n<tr>\\n    <th class=\"i1\">category</th>\\n    <td class=\"desc\">Category of the outcome<br /><strong>The full category name is returned</strong><br /><br />\\n        <table>\\n            <thead>\\n                <tr>\\n                    <th>Code</th>\\n                    <th>Name</th>\\n                </tr>\\n            </thead>\\n            <tbody>\\n                \\n\\n<tr>\\n    <td>awaiting-court-result</td>\\n    <td class=\"desc\">Awaiting court outcome</td>\\n</tr>\\n<tr>\\n    <td>court-result-unavailable</td>\\n    <td class=\"desc\">Court result unavailable</td>\\n</tr>\\n<tr>\\n    <td>unable-to-proceed</td>\\n    <td class=\"desc\">Court case unable to proceed</td>\\n</tr>\\n<tr>\\n    <td>local-resolution</td>\\n    <td class=\"desc\">Local resolution</td>\\n</tr>\\n<tr>\\n    <td>no-further-action</td>\\n    <td class=\"desc\">Investigation complete; no suspect identified</td>\\n</tr>\\n<tr>\\n    <td>deprived-of-property</td>\\n    <td class=\"desc\">Offender deprived of property</td>\\n</tr>\\n<tr>\\n    <td>fined</td>\\n    <td class=\"desc\">Offender fined</td>\\n</tr>\\n<tr>\\n    <td>absolute-discharge</td>\\n    <td class=\"desc\">Offender given absolute discharge</td>\\n</tr>\\n<tr>\\n    <td>cautioned</td>\\n    <td class=\"desc\">Offender given a caution</td>\\n</tr>\\n<tr>\\n    <td>drugs-possession-warning</td>\\n    <td class=\"desc\">Offender given a drugs possession warning</td>\\n</tr>\\n<tr>\\n    <td>penalty-notice-issued</td>\\n    <td class=\"desc\">Offender given a penalty notice</td>\\n</tr>\\n<tr>\\n    <td>community-penalty</td>\\n    <td class=\"desc\">Offender given community sentence</td>\\n</tr>\\n<tr>\\n    <td>conditional-discharge</td>\\n    <td class=\"desc\">Offender given conditional discharge</td>\\n</tr>\\n<tr>\\n    <td>suspended-sentence</td>\\n    <td class=\"desc\">Offender given suspended prison sentence</td>\\n</tr>\\n<tr>\\n    <td>imprisoned</td>\\n    <td class=\"desc\">Offender sent to prison</td>\\n</tr>\\n<tr>\\n    <td>other-court-disposal</td>\\n    <td class=\"desc\">Offender otherwise dealt with</td>\\n</tr>\\n<tr>\\n    <td>compensation</td>\\n    <td class=\"desc\">Offender ordered to pay compensation</td>\\n</tr>\\n<tr>\\n    <td>sentenced-in-another-case</td>\\n    <td class=\"desc\">Suspect charged as part of another case</td>\\n</tr>\\n<tr>\\n    <td>charged</td>\\n    <td class=\"desc\">Suspect charged</td>\\n</tr>\\n<tr>\\n    <td>not-guilty</td>\\n    <td class=\"desc\">Defendant found not guilty</td>\\n</tr>\\n<tr>\\n    <td>sent-to-crown-court</td>\\n    <td class=\"desc\">Defendant sent to Crown Court</td>\\n</tr>\\n<tr>\\n    <td>unable-to-prosecute</td>\\n    <td class=\"desc\">Unable to prosecute suspect</td>\\n</tr>\\n<tr>\\n    <td>formal-action-not-in-public-interest</td>\\n    <td class=\"desc\">Formal action is not in the public interest</td>\\n</tr>\\n<tr>\\n    <td>action-taken-by-another-organisation</td>\\n    <td class=\"desc\">Action to be taken by another organisation</td>\\n</tr>\\n<tr>\\n    <td>further-investigation-not-in-public-interest</td>\\n    <td class=\"desc\">Further investigation is not in the public interest</td>\\n</tr>\\n<tr>\\n    <td>further-action-not-in-public-interest</td>\\n    <td class=\"desc\">Further action is not in the public interest</td>\\n</tr>\\n<tr>\\n    <td>under-investigation</td>\\n    <td class=\"desc\">Under investigation</td>\\n</tr>\\n<tr>\\n    <td>status-update-unavailable</td>\\n    <td class=\"desc\">Status update unavailable</td>\\n</tr>\\n\\n            </tbody>\\n        </table>\\n    </td>\\n</tr>\\n<tr>\\n    <th class=\"i1\">date</th>\\n    <td class=\"desc\">Date of the outcome</td>\\n</tr>\\n\\n            </tbody>\\n        </table>\\n    \\n\\n\\n            </div>\\n        </div>\\n\\n        \\n\\n<p id=\"show_nav\"><a href=\"\">API Methods</a></p>\\n<p id=\"hide_nav\"><a title=\"Hide API Methods\" href=\"\"><i class=\"icon-chevron-right\"></i></a></p>\\n\\n\\n<nav role=\"navigation\" id=\"api_nav\">\\n\\n    <ul>\\n        <li><a href=\"/docs/authentication/\" title=\"Police API authentication\">Authentication</a></li>\\n        <li><a href=\"/docs/api-call-limits/\" title=\"API call limits\">API call limits</a></li>\\n    </ul>\\n\\n    <h5>Methods</h5>\\n\\n    <ul>\\n        <li><a href=\"/docs/method/crimes-street-dates/\" title=\"List of available dates for crime and stop and search data\">Availability</a></li>\\n    </ul>\\n\\n    <h6>Force related</h6>\\n\\n    <ul>\\n        <li><a href=\"/docs/method/forces/\" title=\"List of all the forces\">Forces</a></li>\\n        <li><a href=\"/docs/method/force/\" title=\"Specific force\">Specific force</a></li>\\n        <li><a href=\"/docs/method/senior-officers/\" title=\"Force senior officers\">Force senior officers</a></li>\\n    </ul>\\n\\n    <h6>Crime related</h6>\\n\\n    <ul>\\n        <li><a href=\"/docs/method/crime-street/\" title=\"Street level crime data\">Street level crimes</a></li>\\n        <li><a href=\"/docs/method/outcomes-at-location/\" title=\"Outcomes at street-level; either at a specific location, within a 1 mile radius of a single point, or within a custom area.\">Street level outcomes</a></li>\\n        <li><a href=\"/docs/method/crimes-at-location/\" title=\"Returns just the crimes which occurred at the specified location, rather than those within a radius. If given latitude and longitude, finds the nearest pre-defined location and returns the crimes which occurred there.\">Crimes at location</a></li>\\n        <li><a href=\"/docs/method/crimes-no-location/\" title=\"Street level crimes with no location\">Crimes with no location</a></li>\\n        <li><a href=\"/docs/method/crime-categories/\" title=\"List of all the crime categories available in the API\">Crime categories</a></li>\\n        <li><a href=\"/docs/method/crime-last-updated/\" title=\"Last time the crime data was updated\">Last updated</a></li>\\n        <li><a href=\"/docs/method/outcomes-for-crime/\" title=\"Returns the outcomes (case history) for the specified crime.\">Outcomes for a specific crime</a></li>\\n    </ul>\\n\\n    <h6>Neighbourhood related</h6>\\n\\n    <ul>\\n        <li><a href=\"/docs/method/neighbourhoods/\" title=\"List of all the neighbourhoods for a force\">Neighbourhoods</a></li>\\n        <li><a href=\"/docs/method/neighbourhood/\" title=\"Specific neighbourhood details\">Specific neighbourhood</a></li>\\n        <li><a href=\"/docs/method/neighbourhood-boundary/\" title=\"Neighbourhood boundary\">Neighbourhood boundary</a></li>\\n        <li><a href=\"/docs/method/neighbourhood-team/\" title=\"Neighbourhood team\">Neighbourhood team</a></li>\\n        <li><a href=\"/docs/method/neighbourhood-events/\" title=\"Neighbourhood events\">Neighbourhood events</a></li>\\n        <li><a href=\"/docs/method/neighbourhood-priorities/\" title=\"Neighbourhood priorities\">Neighbourhood priorities</a></li>\\n        <li><a href=\"/docs/method/neighbourhood-locate/\" title=\"Locate a neighbourhood\">Locate neighbourhood</a></li>\\n    </ul>\\n\\n    <h6>Stop and search related</h6>\\n\\n    <ul>\\n        <li><a href=\"/docs/method/stops-street/\" title=\"Stop and searches in a given area\">Stop and searches by area</a></li>\\n        <li><a href=\"/docs/method/stops-at-location/\" title=\"Stop and searches at a given point\">Stop and searches by location</a></li>\\n        <li><a href=\"/docs/method/stops-no-location/\" title=\"Stop and searches with no location data\">Stop and searches with no location</a></li>\\n        <li><a href=\"/docs/method/stops-force/\" title=\"All stop and searches for a particular police force\">Stop and searches by force</a></li>\\n    </ul>\\n\\n</nav>\\n\\n\\n\\n\\n        <footer role=\"contentinfo\">\\n            <div class=\"inner\">\\n                <p id=\"footer_links\">\\n                    <a href=\"https://www.police.uk/pu/cookies/\">Cookies</a>\\n                </p>\\n            </div>\\n        </footer>\\n\\n        <script type=\"text/javascript\" src=\"/static/js/base.min.73380e57fde0.js\" charset=\"utf-8\"></script>\\n\\n        \\n    <script type=\"text/javascript\" src=\"/static/js/method.min.ee83e5281c8c.js\" charset=\"utf-8\"></script>\\n\\n\\n    </script>\\n\\n</body>\\n\\n</html>\\n'"
      ]
     },
     "execution_count": 79,
     "metadata": {},
     "output_type": "execute_result"
    }
   ],
   "source": [
    "response1.text"
   ]
  },
  {
   "cell_type": "code",
   "execution_count": 80,
   "id": "12bb09ef-4389-4d36-ad4e-ff329de35fe1",
   "metadata": {},
   "outputs": [
    {
     "data": {
      "text/plain": [
       "<bound method Response.json of <Response [200]>>"
      ]
     },
     "execution_count": 80,
     "metadata": {},
     "output_type": "execute_result"
    }
   ],
   "source": [
    "response1.json"
   ]
  },
  {
   "cell_type": "code",
   "execution_count": 87,
   "id": "6c258978-ab2c-4e38-aca7-6b0a65a05488",
   "metadata": {
    "scrolled": true
   },
   "outputs": [
    {
     "ename": "JSONDecodeError",
     "evalue": "Expecting value: line 2 column 1 (char 1)",
     "output_type": "error",
     "traceback": [
      "\u001b[0;31m---------------------------------------------------------------------------\u001b[0m",
      "\u001b[0;31mJSONDecodeError\u001b[0m                           Traceback (most recent call last)",
      "File \u001b[0;32m~/anaconda3/lib/python3.10/site-packages/requests/models.py:971\u001b[0m, in \u001b[0;36mResponse.json\u001b[0;34m(self, **kwargs)\u001b[0m\n\u001b[1;32m    970\u001b[0m \u001b[38;5;28;01mtry\u001b[39;00m:\n\u001b[0;32m--> 971\u001b[0m     \u001b[38;5;28;01mreturn\u001b[39;00m \u001b[43mcomplexjson\u001b[49m\u001b[38;5;241;43m.\u001b[39;49m\u001b[43mloads\u001b[49m\u001b[43m(\u001b[49m\u001b[38;5;28;43mself\u001b[39;49m\u001b[38;5;241;43m.\u001b[39;49m\u001b[43mtext\u001b[49m\u001b[43m,\u001b[49m\u001b[43m \u001b[49m\u001b[38;5;241;43m*\u001b[39;49m\u001b[38;5;241;43m*\u001b[39;49m\u001b[43mkwargs\u001b[49m\u001b[43m)\u001b[49m\n\u001b[1;32m    972\u001b[0m \u001b[38;5;28;01mexcept\u001b[39;00m JSONDecodeError \u001b[38;5;28;01mas\u001b[39;00m e:\n\u001b[1;32m    973\u001b[0m     \u001b[38;5;66;03m# Catch JSON-related errors and raise as requests.JSONDecodeError\u001b[39;00m\n\u001b[1;32m    974\u001b[0m     \u001b[38;5;66;03m# This aliases json.JSONDecodeError and simplejson.JSONDecodeError\u001b[39;00m\n",
      "File \u001b[0;32m~/anaconda3/lib/python3.10/json/__init__.py:346\u001b[0m, in \u001b[0;36mloads\u001b[0;34m(s, cls, object_hook, parse_float, parse_int, parse_constant, object_pairs_hook, **kw)\u001b[0m\n\u001b[1;32m    343\u001b[0m \u001b[38;5;28;01mif\u001b[39;00m (\u001b[38;5;28mcls\u001b[39m \u001b[38;5;129;01mis\u001b[39;00m \u001b[38;5;28;01mNone\u001b[39;00m \u001b[38;5;129;01mand\u001b[39;00m object_hook \u001b[38;5;129;01mis\u001b[39;00m \u001b[38;5;28;01mNone\u001b[39;00m \u001b[38;5;129;01mand\u001b[39;00m\n\u001b[1;32m    344\u001b[0m         parse_int \u001b[38;5;129;01mis\u001b[39;00m \u001b[38;5;28;01mNone\u001b[39;00m \u001b[38;5;129;01mand\u001b[39;00m parse_float \u001b[38;5;129;01mis\u001b[39;00m \u001b[38;5;28;01mNone\u001b[39;00m \u001b[38;5;129;01mand\u001b[39;00m\n\u001b[1;32m    345\u001b[0m         parse_constant \u001b[38;5;129;01mis\u001b[39;00m \u001b[38;5;28;01mNone\u001b[39;00m \u001b[38;5;129;01mand\u001b[39;00m object_pairs_hook \u001b[38;5;129;01mis\u001b[39;00m \u001b[38;5;28;01mNone\u001b[39;00m \u001b[38;5;129;01mand\u001b[39;00m \u001b[38;5;129;01mnot\u001b[39;00m kw):\n\u001b[0;32m--> 346\u001b[0m     \u001b[38;5;28;01mreturn\u001b[39;00m \u001b[43m_default_decoder\u001b[49m\u001b[38;5;241;43m.\u001b[39;49m\u001b[43mdecode\u001b[49m\u001b[43m(\u001b[49m\u001b[43ms\u001b[49m\u001b[43m)\u001b[49m\n\u001b[1;32m    347\u001b[0m \u001b[38;5;28;01mif\u001b[39;00m \u001b[38;5;28mcls\u001b[39m \u001b[38;5;129;01mis\u001b[39;00m \u001b[38;5;28;01mNone\u001b[39;00m:\n",
      "File \u001b[0;32m~/anaconda3/lib/python3.10/json/decoder.py:337\u001b[0m, in \u001b[0;36mJSONDecoder.decode\u001b[0;34m(self, s, _w)\u001b[0m\n\u001b[1;32m    333\u001b[0m \u001b[38;5;124;03m\"\"\"Return the Python representation of ``s`` (a ``str`` instance\u001b[39;00m\n\u001b[1;32m    334\u001b[0m \u001b[38;5;124;03mcontaining a JSON document).\u001b[39;00m\n\u001b[1;32m    335\u001b[0m \n\u001b[1;32m    336\u001b[0m \u001b[38;5;124;03m\"\"\"\u001b[39;00m\n\u001b[0;32m--> 337\u001b[0m obj, end \u001b[38;5;241m=\u001b[39m \u001b[38;5;28;43mself\u001b[39;49m\u001b[38;5;241;43m.\u001b[39;49m\u001b[43mraw_decode\u001b[49m\u001b[43m(\u001b[49m\u001b[43ms\u001b[49m\u001b[43m,\u001b[49m\u001b[43m \u001b[49m\u001b[43midx\u001b[49m\u001b[38;5;241;43m=\u001b[39;49m\u001b[43m_w\u001b[49m\u001b[43m(\u001b[49m\u001b[43ms\u001b[49m\u001b[43m,\u001b[49m\u001b[43m \u001b[49m\u001b[38;5;241;43m0\u001b[39;49m\u001b[43m)\u001b[49m\u001b[38;5;241;43m.\u001b[39;49m\u001b[43mend\u001b[49m\u001b[43m(\u001b[49m\u001b[43m)\u001b[49m\u001b[43m)\u001b[49m\n\u001b[1;32m    338\u001b[0m end \u001b[38;5;241m=\u001b[39m _w(s, end)\u001b[38;5;241m.\u001b[39mend()\n",
      "File \u001b[0;32m~/anaconda3/lib/python3.10/json/decoder.py:355\u001b[0m, in \u001b[0;36mJSONDecoder.raw_decode\u001b[0;34m(self, s, idx)\u001b[0m\n\u001b[1;32m    354\u001b[0m \u001b[38;5;28;01mexcept\u001b[39;00m \u001b[38;5;167;01mStopIteration\u001b[39;00m \u001b[38;5;28;01mas\u001b[39;00m err:\n\u001b[0;32m--> 355\u001b[0m     \u001b[38;5;28;01mraise\u001b[39;00m JSONDecodeError(\u001b[38;5;124m\"\u001b[39m\u001b[38;5;124mExpecting value\u001b[39m\u001b[38;5;124m\"\u001b[39m, s, err\u001b[38;5;241m.\u001b[39mvalue) \u001b[38;5;28;01mfrom\u001b[39;00m \u001b[38;5;28mNone\u001b[39m\n\u001b[1;32m    356\u001b[0m \u001b[38;5;28;01mreturn\u001b[39;00m obj, end\n",
      "\u001b[0;31mJSONDecodeError\u001b[0m: Expecting value: line 2 column 1 (char 1)",
      "\nDuring handling of the above exception, another exception occurred:\n",
      "\u001b[0;31mJSONDecodeError\u001b[0m                           Traceback (most recent call last)",
      "Cell \u001b[0;32mIn[87], line 1\u001b[0m\n\u001b[0;32m----> 1\u001b[0m \u001b[43mresponse1\u001b[49m\u001b[38;5;241;43m.\u001b[39;49m\u001b[43mjson\u001b[49m\u001b[43m(\u001b[49m\u001b[43m)\u001b[49m\n",
      "File \u001b[0;32m~/anaconda3/lib/python3.10/site-packages/requests/models.py:975\u001b[0m, in \u001b[0;36mResponse.json\u001b[0;34m(self, **kwargs)\u001b[0m\n\u001b[1;32m    971\u001b[0m     \u001b[38;5;28;01mreturn\u001b[39;00m complexjson\u001b[38;5;241m.\u001b[39mloads(\u001b[38;5;28mself\u001b[39m\u001b[38;5;241m.\u001b[39mtext, \u001b[38;5;241m*\u001b[39m\u001b[38;5;241m*\u001b[39mkwargs)\n\u001b[1;32m    972\u001b[0m \u001b[38;5;28;01mexcept\u001b[39;00m JSONDecodeError \u001b[38;5;28;01mas\u001b[39;00m e:\n\u001b[1;32m    973\u001b[0m     \u001b[38;5;66;03m# Catch JSON-related errors and raise as requests.JSONDecodeError\u001b[39;00m\n\u001b[1;32m    974\u001b[0m     \u001b[38;5;66;03m# This aliases json.JSONDecodeError and simplejson.JSONDecodeError\u001b[39;00m\n\u001b[0;32m--> 975\u001b[0m     \u001b[38;5;28;01mraise\u001b[39;00m RequestsJSONDecodeError(e\u001b[38;5;241m.\u001b[39mmsg, e\u001b[38;5;241m.\u001b[39mdoc, e\u001b[38;5;241m.\u001b[39mpos)\n",
      "\u001b[0;31mJSONDecodeError\u001b[0m: Expecting value: line 2 column 1 (char 1)"
     ]
    }
   ],
   "source": [
    "response1.json() #vermiyor çünkü data html türünce json değil sanırım güncellemişler"
   ]
  },
  {
   "cell_type": "code",
   "execution_count": 77,
   "id": "3b32fa4e-5f30-4dff-a2ac-720106ab2640",
   "metadata": {},
   "outputs": [],
   "source": [
    "# AUTHOR: YAVUZ SELIM BASTEMUR\n",
    "# ASSISTED BY JR. DEV. SAMET ENDS ORSDEMIR \n",
    "# TOTAL TIME SPENT: 17 minutes (Including as coffee break :D)\n",
    "import requests\n",
    "from collections import Counter\n",
    "\n",
    "class SucRaporu():\n",
    "    def __init__(self, bolge, tarih, suc_tipi=\"all-crime\"):\n",
    "        self.bolge = bolge\n",
    "        self.tarih = tarih\n",
    "        self.suc_tipi = suc_tipi\n",
    "        self.suclar = self.suclari_bul()\n",
    "\n",
    "    def url_hazirla(self): \n",
    "        urlPart1=\"https://data.police.uk/api/crimes-no-location?category=\"\n",
    "        urlPart2=\"&force=\"\n",
    "        urlPart3=\"&date=\"\n",
    "        return \"\".join([\n",
    "            urlPart1,\n",
    "            str(self.suc_tipi),\n",
    "            urlPart2,\n",
    "            str(self.bolge),\n",
    "            urlPart3,\n",
    "            str(self.tarih)])\n",
    "        \n",
    "    def suclari_bul(self):\n",
    "        #suc_URL = \"https://data.police.uk/docs/method/crimes-no-location\"\n",
    "        enes_url = \"https://data.police.uk/api/crimes-no-location?category=all-crime&force=norfolk&date=2023-11\" # Buradaki URI dogru olan.\n",
    "        # Aşağidaki payload doğru bir şekilde doldurulmamış. \"params=?\" kullannılmış mantıken olması lazım ama anasayfanın urlsine gidip HTML sayfasi alıyor.\n",
    "        # O yüzden url yi elle yazdim anadim ki sorun çözüldü. Ama bu programlama mantigana aykiridir. Bunun cözülmesi gerekiyor\n",
    "        # Çözüm yontemi olarak string manipulasyonu yapilabilir. Örnnegin: new url - sue_url + ? + category payload(\"category\"]&force payload (\"force\") &date payload [\"date\"] gibi.\n",
    "        \n",
    "        payload = {\n",
    "            \"category\": self.suc_tipi,\n",
    "            \"force\": self.bolge,\n",
    "            \"date\": self.tarih}\n",
    "        \n",
    "        #response - requests.get (suc_URL, params- payload)\n",
    "        response = requests.get(enes_url) \n",
    "        if response.status_code==200:\n",
    "            return response.json()\n",
    "        else:\n",
    "            return None\n",
    "            \n",
    "    def suclari_raporla(self):\n",
    "        suclar_listesi=[]\n",
    "        \n",
    "        if self.suclar is not None:\n",
    "            for suc in self.suclar:\n",
    "                suclar_listesi.append(suc[\"category\"])\n",
    "                \n",
    "            return Counter(suclar_listesi)"
   ]
  },
  {
   "cell_type": "code",
   "execution_count": 78,
   "id": "5c5f36eb-3e87-4e13-82b7-201783466a55",
   "metadata": {},
   "outputs": [],
   "source": [
    "sr=SucRaporu(\"norfolk\",\"2020-11\")"
   ]
  },
  {
   "cell_type": "code",
   "execution_count": 79,
   "id": "06e0c4df-c317-410f-b58e-f19a81ca31bd",
   "metadata": {},
   "outputs": [
    {
     "name": "stdout",
     "output_type": "stream",
     "text": [
      "Counter({'violent-crime': 36, 'other-theft': 14, 'public-order': 13, 'shoplifting': 13, 'drugs': 12, 'criminal-damage-arson': 9, 'burglary': 4, 'vehicle-crime': 3, 'bicycle-theft': 2, 'possession-of-weapons': 2, 'robbery': 2})\n"
     ]
    }
   ],
   "source": [
    "print(sr.suclari_raporla())"
   ]
  },
  {
   "cell_type": "code",
   "execution_count": 80,
   "id": "2b027c82-5018-4fd4-89ad-25ba0538365c",
   "metadata": {},
   "outputs": [],
   "source": [
    "#hatta daha iyisini yaptık"
   ]
  },
  {
   "cell_type": "code",
   "execution_count": 81,
   "id": "ccb1e04c-2d42-4b31-a0c5-ba2fe2e97419",
   "metadata": {},
   "outputs": [],
   "source": [
    "import requests\n",
    "from collections import Counter\n",
    "\n",
    "class SucRaporu():\n",
    "    def __init__(self, suc_tipi, bolge, tarih):\n",
    "        self.suc_tipi = suc_tipi\n",
    "        self.bolge = bolge\n",
    "        self.tarih = tarih\n",
    "        \n",
    "    def url_hazirla(self): \n",
    "        urlPart1 = \"https://data.police.uk/api/crimes-no-location?category=\"\n",
    "        urlPart2 = \"&force=\"\n",
    "        urlPart3 = \"&date=\"\n",
    "        enes_url2 = urlPart1 + self.suc_tipi + urlPart2 + self.bolge + urlPart3 + self.tarih\n",
    "        return enes_url2\n",
    "        \n",
    "    def suclari_bul(self):\n",
    "        enes_url2 = self.url_hazirla()\n",
    "        response = requests.get(enes_url2) \n",
    "        print(f\"Request URL: {enes_url2}\")\n",
    "        print(f\"Response Status Code: {response.status_code}\")\n",
    "    \n",
    "        if response.status_code == 200:\n",
    "            return response.json()\n",
    "        else:\n",
    "            print(f\"Error: {response.text}\")\n",
    "            return None\n",
    "\n",
    "    def suclari_raporla(self):\n",
    "        suclar_listesi = []\n",
    "        self.suclar = self.suclari_bul()\n",
    "        if self.suclar is not None and isinstance(self.suclar, list):\n",
    "            for suc in self.suclar:\n",
    "                suclar_listesi.append(suc[\"category\"])\n",
    "            rapor = Counter(suclar_listesi)\n",
    "            \n",
    "            if rapor:\n",
    "                sorted_rapor = sorted(rapor.items())\n",
    "                rapor_text = \"\\n\".join([f\"{suç}: {sayı}\" for suç, sayı in sorted_rapor])\n",
    "                return rapor_text\n",
    "            else:\n",
    "                return \"Herhangi bir suç bulunamadı.\"\n",
    "        else:\n",
    "            return \"Veri alınamadı.\""
   ]
  },
  {
   "cell_type": "code",
   "execution_count": 82,
   "id": "27e759bc-22b9-4b88-8d8d-1bca75466847",
   "metadata": {},
   "outputs": [],
   "source": [
    "sr = SucRaporu(\"all-crime\", \"norfolk\", \"2023-11\")"
   ]
  },
  {
   "cell_type": "code",
   "execution_count": 84,
   "id": "b5fe2798-cc0f-4e11-ac09-311d54649764",
   "metadata": {},
   "outputs": [
    {
     "name": "stdout",
     "output_type": "stream",
     "text": [
      "Request URL: https://data.police.uk/api/crimes-no-location?category=all-crime&force=norfolk&date=2023-11\n",
      "Response Status Code: 200\n"
     ]
    }
   ],
   "source": [
    "rapor = sr.suclari_raporla()"
   ]
  },
  {
   "cell_type": "code",
   "execution_count": 85,
   "id": "92a11063-3422-4cc8-8735-2f68ac9857b9",
   "metadata": {},
   "outputs": [
    {
     "name": "stdout",
     "output_type": "stream",
     "text": [
      "bicycle-theft: 2\n",
      "burglary: 4\n",
      "criminal-damage-arson: 9\n",
      "drugs: 12\n",
      "other-theft: 14\n",
      "possession-of-weapons: 2\n",
      "public-order: 13\n",
      "robbery: 2\n",
      "shoplifting: 13\n",
      "vehicle-crime: 3\n",
      "violent-crime: 36\n"
     ]
    }
   ],
   "source": [
    "print(rapor)"
   ]
  },
  {
   "cell_type": "code",
   "execution_count": 86,
   "id": "f711285f-de74-404d-a7a4-5aeec505aaf9",
   "metadata": {},
   "outputs": [],
   "source": [
    "sr2 = SucRaporu(\"all-crime\", \"norfolk\", \"2020-11\")"
   ]
  },
  {
   "cell_type": "code",
   "execution_count": 87,
   "id": "14a2e613-4e14-40f9-9a9e-3844cd05bb64",
   "metadata": {},
   "outputs": [
    {
     "name": "stdout",
     "output_type": "stream",
     "text": [
      "Request URL: https://data.police.uk/api/crimes-no-location?category=all-crime&force=norfolk&date=2020-11\n",
      "Response Status Code: 404\n",
      "Error: \n"
     ]
    }
   ],
   "source": [
    "rapor = sr2.suclari_raporla()"
   ]
  },
  {
   "cell_type": "code",
   "execution_count": 88,
   "id": "2899a632-248f-4d48-806c-f327ccc03620",
   "metadata": {},
   "outputs": [
    {
     "name": "stdout",
     "output_type": "stream",
     "text": [
      "Veri alınamadı.\n"
     ]
    }
   ],
   "source": [
    "print(rapor)"
   ]
  },
  {
   "cell_type": "code",
   "execution_count": null,
   "id": "68975d82-2224-460b-8079-228e86d94f30",
   "metadata": {},
   "outputs": [],
   "source": []
  }
 ],
 "metadata": {
  "kernelspec": {
   "display_name": "Python 3 (ipykernel)",
   "language": "python",
   "name": "python3"
  },
  "language_info": {
   "codemirror_mode": {
    "name": "ipython",
    "version": 3
   },
   "file_extension": ".py",
   "mimetype": "text/x-python",
   "name": "python",
   "nbconvert_exporter": "python",
   "pygments_lexer": "ipython3",
   "version": "3.12.4"
  }
 },
 "nbformat": 4,
 "nbformat_minor": 5
}
