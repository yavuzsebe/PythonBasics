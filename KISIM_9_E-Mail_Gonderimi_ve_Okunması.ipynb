{
 "cells": [
  {
   "cell_type": "markdown",
   "id": "c802f424-baf2-4f21-82fa-b7416f3fa857",
   "metadata": {
    "jp-MarkdownHeadingCollapsed": true
   },
   "source": [
    "### Basit e-mail gönderimi"
   ]
  },
  {
   "cell_type": "markdown",
   "id": "936146df-94bc-44f0-a278-68fb8d85256d",
   "metadata": {
    "jp-MarkdownHeadingCollapsed": true
   },
   "source": [
    "#### gmail ile deneme:"
   ]
  },
  {
   "cell_type": "code",
   "execution_count": 2,
   "id": "b250a849-7a03-43fe-bd42-f7ae9d956798",
   "metadata": {},
   "outputs": [],
   "source": [
    "import ssl # ssl: simple socket layer\n",
    "import smtplib # smtp: simple mail transfer protocol"
   ]
  },
  {
   "cell_type": "code",
   "execution_count": 4,
   "id": "565a73c7-90ab-4309-bdbc-60282204ba00",
   "metadata": {},
   "outputs": [],
   "source": [
    "#kullanici = \" \"\n",
    "#sifre = \" \""
   ]
  },
  {
   "cell_type": "code",
   "execution_count": 6,
   "id": "eb0a1128-8f5e-4e1e-a345-1dfd9235e7b5",
   "metadata": {},
   "outputs": [],
   "source": [
    "alici=kullanici\n",
    "\n",
    "mesaj = \"Deneme mesajı.\"\n",
    "\n",
    "context=ssl.create_default_context() #ezber"
   ]
  },
  {
   "cell_type": "code",
   "execution_count": 7,
   "id": "996757bf-b343-4230-8b8b-a97bd62a0edf",
   "metadata": {},
   "outputs": [
    {
     "ename": "SMTPAuthenticationError",
     "evalue": "(535, b'5.7.8 Username and Password not accepted. For more information, go to\\n5.7.8  https://support.google.com/mail/?p=BadCredentials ag14-20020a1709069a8e00b00a3f963c66a8sm89568ejc.121 - gsmtp')",
     "output_type": "error",
     "traceback": [
      "\u001b[0;31m---------------------------------------------------------------------------\u001b[0m",
      "\u001b[0;31mSMTPAuthenticationError\u001b[0m                   Traceback (most recent call last)",
      "Cell \u001b[0;32mIn[7], line 7\u001b[0m\n\u001b[1;32m      4\u001b[0m host \u001b[38;5;241m=\u001b[39m \u001b[38;5;124m\"\u001b[39m\u001b[38;5;124msmtp.gmail.com\u001b[39m\u001b[38;5;124m\"\u001b[39m\n\u001b[1;32m      6\u001b[0m eposta_sunucu \u001b[38;5;241m=\u001b[39m smtplib\u001b[38;5;241m.\u001b[39mSMTP_SSL(host \u001b[38;5;241m=\u001b[39m host, port \u001b[38;5;241m=\u001b[39m port, context \u001b[38;5;241m=\u001b[39m context) \n\u001b[0;32m----> 7\u001b[0m \u001b[43meposta_sunucu\u001b[49m\u001b[38;5;241;43m.\u001b[39;49m\u001b[43mlogin\u001b[49m\u001b[43m(\u001b[49m\u001b[43mkullanici\u001b[49m\u001b[43m,\u001b[49m\u001b[43m \u001b[49m\u001b[43msifre\u001b[49m\u001b[43m)\u001b[49m\n\u001b[1;32m      8\u001b[0m eposta_sunucu\u001b[38;5;241m.\u001b[39msendmail(kullanici, alici, mesaj)\n",
      "File \u001b[0;32m~/anaconda3/lib/python3.10/smtplib.py:750\u001b[0m, in \u001b[0;36mSMTP.login\u001b[0;34m(self, user, password, initial_response_ok)\u001b[0m\n\u001b[1;32m    747\u001b[0m         last_exception \u001b[38;5;241m=\u001b[39m e\n\u001b[1;32m    749\u001b[0m \u001b[38;5;66;03m# We could not login successfully.  Return result of last attempt.\u001b[39;00m\n\u001b[0;32m--> 750\u001b[0m \u001b[38;5;28;01mraise\u001b[39;00m last_exception\n",
      "File \u001b[0;32m~/anaconda3/lib/python3.10/smtplib.py:739\u001b[0m, in \u001b[0;36mSMTP.login\u001b[0;34m(self, user, password, initial_response_ok)\u001b[0m\n\u001b[1;32m    737\u001b[0m method_name \u001b[38;5;241m=\u001b[39m \u001b[38;5;124m'\u001b[39m\u001b[38;5;124mauth_\u001b[39m\u001b[38;5;124m'\u001b[39m \u001b[38;5;241m+\u001b[39m authmethod\u001b[38;5;241m.\u001b[39mlower()\u001b[38;5;241m.\u001b[39mreplace(\u001b[38;5;124m'\u001b[39m\u001b[38;5;124m-\u001b[39m\u001b[38;5;124m'\u001b[39m, \u001b[38;5;124m'\u001b[39m\u001b[38;5;124m_\u001b[39m\u001b[38;5;124m'\u001b[39m)\n\u001b[1;32m    738\u001b[0m \u001b[38;5;28;01mtry\u001b[39;00m:\n\u001b[0;32m--> 739\u001b[0m     (code, resp) \u001b[38;5;241m=\u001b[39m \u001b[38;5;28;43mself\u001b[39;49m\u001b[38;5;241;43m.\u001b[39;49m\u001b[43mauth\u001b[49m\u001b[43m(\u001b[49m\n\u001b[1;32m    740\u001b[0m \u001b[43m        \u001b[49m\u001b[43mauthmethod\u001b[49m\u001b[43m,\u001b[49m\u001b[43m \u001b[49m\u001b[38;5;28;43mgetattr\u001b[39;49m\u001b[43m(\u001b[49m\u001b[38;5;28;43mself\u001b[39;49m\u001b[43m,\u001b[49m\u001b[43m \u001b[49m\u001b[43mmethod_name\u001b[49m\u001b[43m)\u001b[49m\u001b[43m,\u001b[49m\n\u001b[1;32m    741\u001b[0m \u001b[43m        \u001b[49m\u001b[43minitial_response_ok\u001b[49m\u001b[38;5;241;43m=\u001b[39;49m\u001b[43minitial_response_ok\u001b[49m\u001b[43m)\u001b[49m\n\u001b[1;32m    742\u001b[0m     \u001b[38;5;66;03m# 235 == 'Authentication successful'\u001b[39;00m\n\u001b[1;32m    743\u001b[0m     \u001b[38;5;66;03m# 503 == 'Error: already authenticated'\u001b[39;00m\n\u001b[1;32m    744\u001b[0m     \u001b[38;5;28;01mif\u001b[39;00m code \u001b[38;5;129;01min\u001b[39;00m (\u001b[38;5;241m235\u001b[39m, \u001b[38;5;241m503\u001b[39m):\n",
      "File \u001b[0;32m~/anaconda3/lib/python3.10/smtplib.py:662\u001b[0m, in \u001b[0;36mSMTP.auth\u001b[0;34m(self, mechanism, authobject, initial_response_ok)\u001b[0m\n\u001b[1;32m    660\u001b[0m \u001b[38;5;28;01mif\u001b[39;00m code \u001b[38;5;129;01min\u001b[39;00m (\u001b[38;5;241m235\u001b[39m, \u001b[38;5;241m503\u001b[39m):\n\u001b[1;32m    661\u001b[0m     \u001b[38;5;28;01mreturn\u001b[39;00m (code, resp)\n\u001b[0;32m--> 662\u001b[0m \u001b[38;5;28;01mraise\u001b[39;00m SMTPAuthenticationError(code, resp)\n",
      "\u001b[0;31mSMTPAuthenticationError\u001b[0m: (535, b'5.7.8 Username and Password not accepted. For more information, go to\\n5.7.8  https://support.google.com/mail/?p=BadCredentials ag14-20020a1709069a8e00b00a3f963c66a8sm89568ejc.121 - gsmtp')"
     ]
    }
   ],
   "source": [
    "#gmail smpt adresi https://support.google.com/mail/answer/7126229?hl=tr\n",
    "\n",
    "port = 465\n",
    "host = \"smtp.gmail.com\"\n",
    "\n",
    "eposta_sunucu = smtplib.SMTP_SSL(host = host, port = port, context = context) \n",
    "eposta_sunucu.login(kullanici, sifre)\n",
    "eposta_sunucu.sendmail(kullanici, alici, mesaj)\n"
   ]
  },
  {
   "cell_type": "code",
   "execution_count": 10,
   "id": "d543e7b4-3f9c-40e9-996f-f1b3b4257a25",
   "metadata": {},
   "outputs": [],
   "source": [
    "# 2023 itibariyle güvenlik sebepleri sonucunda google buna izin vermiyor"
   ]
  },
  {
   "cell_type": "markdown",
   "id": "0d99af29-889c-43fb-bcf1-a5ccb4bb2180",
   "metadata": {
    "jp-MarkdownHeadingCollapsed": true
   },
   "source": [
    "#### Outlook ile deneme:"
   ]
  },
  {
   "cell_type": "code",
   "execution_count": null,
   "id": "11477b6b-ea46-43ba-8609-389447c7156e",
   "metadata": {},
   "outputs": [],
   "source": [
    "# outlook smtp adresi \n",
    "# https://support.microsoft.com/tr-tr/office/outlook-com-için-pop-imap-ve-smtp-ayarları-d088b986-291d-42b8-9564-9c414e2aa040\n",
    "\n",
    "#IMAP sunucusu adı (host)   outlook.office365.com\n",
    "#IMAP bağlantı noktası (port)   993\n",
    "\n",
    "#SMTP sunucusu adı (host)   smtp-mail.outlook.com\n",
    "#SMTP bağlantı noktası (port)   587"
   ]
  },
  {
   "cell_type": "code",
   "execution_count": 57,
   "id": "7b2688d1-aaa8-4213-be40-9341e8bec082",
   "metadata": {},
   "outputs": [],
   "source": [
    "import ssl \n",
    "import smtplib "
   ]
  },
  {
   "cell_type": "code",
   "execution_count": 4,
   "id": "2f376357-e845-4dfc-93e7-7eb1969139a3",
   "metadata": {},
   "outputs": [
    {
     "name": "stdin",
     "output_type": "stream",
     "text": [
      "E-posta adresinizi giriniz:  denemeysb1@outlook.com\n",
      "Şifrenizi giriniz:  ········\n",
      "Alıcı e-posta adresini giriniz:  denemeysb1@outlook.com\n",
      "Konu:  Python'dan mail gönderiyorum!\n",
      "Mesaj:  Bu maili kendime pythondan yazdığım kod aracılığıyla gönderiyorum.\n"
     ]
    },
    {
     "name": "stdout",
     "output_type": "stream",
     "text": [
      "Mail gönderme başarılı.\n"
     ]
    }
   ],
   "source": [
    "import smtplib\n",
    "import ssl\n",
    "import getpass\n",
    "from email.mime.multipart import MIMEMultipart\n",
    "from email.mime.text import MIMEText\n",
    "\n",
    "kullanici = input(\"E-posta adresinizi giriniz: \")\n",
    "sifre = getpass.getpass(\"Şifrenizi giriniz: \")\n",
    "\n",
    "context = ssl.create_default_context()\n",
    "\n",
    "port = 587\n",
    "host = \"smtp-mail.outlook.com\"\n",
    "eposta_sunucu = smtplib.SMTP(host=host, port=port)\n",
    "eposta_sunucu.starttls(context=context)\n",
    "eposta_sunucu.login(kullanici, sifre)\n",
    "\n",
    "alici = input(\"Alıcı e-posta adresini giriniz: \")\n",
    "subject = input(\"Konu: \")\n",
    "icerik = input(\"Mesaj: \")\n",
    "\n",
    "html_icerik = \"\"\"\\\n",
    "<html>\n",
    "  <body>\n",
    "    <p>{}</p>\n",
    "  </body>\n",
    "</html>\n",
    "\"\"\".format(icerik)\n",
    "mesaj = MIMEMultipart()\n",
    "mesaj.attach(MIMEText(html_icerik, 'html'))\n",
    "mesaj[\"Subject\"] = subject\n",
    "\n",
    "eposta_sunucu.sendmail(kullanici, alici, mesaj.as_string())\n",
    "eposta_sunucu.quit()\n",
    "\n",
    "print(\"Mail gönderme başarılı.\")"
   ]
  },
  {
   "cell_type": "markdown",
   "id": "58134541-9d79-433d-94f9-7e8007dd734a",
   "metadata": {
    "jp-MarkdownHeadingCollapsed": true
   },
   "source": [
    "### Eklentili e-mail gönderimi"
   ]
  },
  {
   "cell_type": "raw",
   "id": "b2d01b69-3b7b-4fe0-81a9-845c05e246c7",
   "metadata": {},
   "source": [
    "# outlook smtp adresi \n",
    "# https://support.microsoft.com/tr-tr/office/outlook-com-için-pop-imap-ve-smtp-ayarları-d088b986-291d-42b8-9564-9c414e2aa040\n",
    "\n",
    "#IMAP sunucusu adı (host)   outlook.office365.com\n",
    "#IMAP bağlantı noktası (port)   993\n",
    "\n",
    "#SMTP sunucusu adı (host)   smtp-mail.outlook.com\n",
    "#SMTP bağlantı noktası (port)   587"
   ]
  },
  {
   "cell_type": "code",
   "execution_count": 55,
   "id": "5605c5cd-d43a-4661-bdf0-edebd77040ee",
   "metadata": {},
   "outputs": [
    {
     "name": "stdin",
     "output_type": "stream",
     "text": [
      "E-posta adresinizi giriniz:  denemeysb1@outlook\n"
     ]
    },
    {
     "name": "stdout",
     "output_type": "stream",
     "text": [
      "E-posta adresiniz hatalı veya eksik girildi.\n"
     ]
    },
    {
     "name": "stdin",
     "output_type": "stream",
     "text": [
      "E-posta adresinizi kontrol ederek tekrar deneyiniz:  denemeysb1@outlook.com\n",
      "Şifrenizi giriniz:  ········\n"
     ]
    },
    {
     "name": "stdout",
     "output_type": "stream",
     "text": [
      "Giriş başarısız. \n",
      "E-posta adresinizi veya giriş şifrenizi kontrol ederek tekrar deneyiniz.\n"
     ]
    },
    {
     "name": "stdin",
     "output_type": "stream",
     "text": [
      "E-posta adresinizi giriniz:  denemeysb1@outlook.com\n",
      "Şifrenizi giriniz:  ········\n"
     ]
    },
    {
     "name": "stdout",
     "output_type": "stream",
     "text": [
      "Giriş başarısız. \n",
      "E-posta adresinizi veya giriş şifrenizi kontrol ederek tekrar deneyiniz.\n"
     ]
    },
    {
     "name": "stdin",
     "output_type": "stream",
     "text": [
      "E-posta adresinizi giriniz:  denemeysb1@outlook.com\n",
      "Şifrenizi giriniz:  ········\n"
     ]
    },
    {
     "name": "stdout",
     "output_type": "stream",
     "text": [
      "Giriş başarılı.\n"
     ]
    },
    {
     "name": "stdin",
     "output_type": "stream",
     "text": [
      "Alıcı e-posta adresini giriniz:  denemeysb1@outlook.com\n",
      "Konu:  Python'dan eklentili mail gönderiyorum!\n",
      "Mesaj:  Bu eklentili maili kendime pythondan yazdığım kod aracılığıyla gönderiyorum.\n",
      "Eklenti adresini giriniz: /Users/yavuzsebe/Library/CloudStorage/OneDrive-YildizTechnicalUniversity/MacbookAirScreenshots/gui.png\n"
     ]
    },
    {
     "name": "stdout",
     "output_type": "stream",
     "text": [
      "Mail gönderme başarılı.\n"
     ]
    }
   ],
   "source": [
    "from email.mime.base import MIMEBase\n",
    "from email import encoders #eklentiler de string şekliyle gönderilecek ancak stringe encode edilmeli \n",
    "                           #mesela jpg stringe dönüşecek öyle gidecek\n",
    "\n",
    "### önceki kısımla aynı\n",
    "import smtplib\n",
    "import ssl\n",
    "import getpass\n",
    "from email.mime.multipart import MIMEMultipart\n",
    "from email.mime.text import MIMEText\n",
    "\n",
    "kullanici = input(\"E-posta adresinizi giriniz: \")\n",
    "\n",
    "while not (\"@\" and \".\") in kullanici:\n",
    "    print(\"E-posta adresiniz hatalı veya eksik girildi.\")\n",
    "    kullanici = input(\"E-posta adresinizi kontrol ederek tekrar deneyiniz: \")\n",
    "else:\n",
    "    pass\n",
    "  \n",
    "sifre = getpass.getpass(\"Şifrenizi giriniz: \")\n",
    "\n",
    "context = ssl.create_default_context()\n",
    "\n",
    "port = 587\n",
    "host = \"smtp-mail.outlook.com\"\n",
    "eposta_sunucu = smtplib.SMTP(host=host, port=port)\n",
    "eposta_sunucu.starttls(context=context)\n",
    "while True:\n",
    "    try:\n",
    "        eposta_sunucu.login(kullanici, sifre)\n",
    "        print(\"Giriş başarılı.\")\n",
    "        break\n",
    "    except:\n",
    "        print(\"Giriş başarısız. \\nE-posta adresinizi veya giriş şifrenizi kontrol ederek tekrar deneyiniz.\")\n",
    "        kullanici = input(\"E-posta adresinizi giriniz: \")\n",
    "        sifre = getpass.getpass(\"Şifrenizi giriniz: \")\n",
    "        \n",
    "alici = input(\"Alıcı e-posta adresini giriniz: \")\n",
    "\n",
    "while not (\"@\" and \".\") in alici:\n",
    "    print(\"Alıcı e-posta adresi hatalı veya eksik girildi.\")\n",
    "    alici = input(\"Alici e-posta adresini kontrol ederek tekrar deneyiniz: \")\n",
    "else:\n",
    "    pass\n",
    "    \n",
    "subject = input(\"Konu: \")\n",
    "icerik = input(\"Mesaj: \")\n",
    "\n",
    "html_icerik = \"\"\"\\\n",
    "<html>\n",
    "  <body>\n",
    "    <p>{}</p>\n",
    "  </body>\n",
    "</html>\n",
    "\"\"\".format(icerik)\n",
    "#bu kısmı ekliyoruz\n",
    "posta = MIMEMultipart()\n",
    "posta[\"Subject\"] = subject\n",
    "posta[\"From\"]=kullanici\n",
    "posta[\"To\"]=alici # bu kısımda çoklu alıcı varsa [kullanici, kullanici2, oguzyilmaz@gmail.com] vs. diye liste halinde ekleyip uzatabiliriz\n",
    "posta.attach(MIMEText(html_icerik, 'html'))\n",
    "\n",
    "eklenti = input(\"Eklenti adresini giriniz:\")\n",
    "\n",
    "mimetype, _ = mimetypes.guess_type(eklenti) #eklenti uzantısı olmadan açılamaz. MIME tipini belirliyoruz\n",
    "if mimetype is None:\n",
    "    mimetype = \"application/octet-stream\"\n",
    "\n",
    "with(open(eklenti,\"rb\")) as eklenti_dosyasi: #read okumasını istiyoruz\n",
    "    #payload = MIMEBase(\"application\", \"octate-stream\")\n",
    "    #üstteki susturdum çünkü mimetype = \"application/octet-stream\" dedik\n",
    "    payload = MIMEBase(*mimetype.split(\"/\")) \n",
    "    payload.set_payload((eklenti_dosyasi).read())\n",
    "    encoders.encode_base64(payload)\n",
    "\n",
    "    dosya_adı = eklenti.split(\"/\")[-1] #dosya adından uzantısını alıp ekliyoruz\n",
    "    payload.add_header(\"Content-Decomposition\",\"attachment\", filename=dosya_adı)\n",
    "    posta.attach(payload)\n",
    "\n",
    "    posta_str=posta.as_string() #bu kısmı aşağıda parantez içinde de yapabiliriz\n",
    "                                #eposta_sunucu.sendmail(kullanici, alici, mesaj.as_string()) şeklinde\n",
    "\n",
    "eposta_sunucu.sendmail(kullanici, alici, posta_str)\n",
    "eposta_sunucu.quit()\n",
    "\n",
    "print(\"Mail gönderme başarılı.\")"
   ]
  },
  {
   "cell_type": "code",
   "execution_count": null,
   "id": "75075ba0-d8e2-4697-9c2a-072223c6dc81",
   "metadata": {},
   "outputs": [],
   "source": []
  },
  {
   "cell_type": "markdown",
   "id": "0e82adf4-daf8-49f3-a7ba-2e28d1e57b6a",
   "metadata": {
    "jp-MarkdownHeadingCollapsed": true
   },
   "source": [
    "### E-mail okuma"
   ]
  },
  {
   "cell_type": "code",
   "execution_count": 1,
   "id": "e5dbe050-7aa3-490d-8d80-b81962c4ac84",
   "metadata": {},
   "outputs": [
    {
     "name": "stdout",
     "output_type": "stream",
     "text": [
      "Collecting imap_tools\n",
      "  Downloading imap_tools-1.5.0-py3-none-any.whl (32 kB)\n",
      "Installing collected packages: imap_tools\n",
      "Successfully installed imap_tools-1.5.0\n",
      "Note: you may need to restart the kernel to use updated packages.\n"
     ]
    }
   ],
   "source": [
    "pip install imap_tools\n",
    "#github.com/ikvk/imap_tools"
   ]
  },
  {
   "cell_type": "code",
   "execution_count": 2,
   "id": "943fb7f0-36e3-4867-97bd-263c25e55e52",
   "metadata": {},
   "outputs": [],
   "source": [
    "# outlook smtp adresi \n",
    "# https://support.microsoft.com/tr-tr/office/outlook-com-için-pop-imap-ve-smtp-ayarları-d088b986-291d-42b8-9564-9c414e2aa040\n",
    "\n",
    "#IMAP sunucusu adı (host)   outlook.office365.com\n",
    "#IMAP bağlantı noktası (port)   993\n",
    "\n",
    "#SMTP sunucusu adı (host)   smtp-mail.outlook.com\n",
    "#SMTP bağlantı noktası (port)   587"
   ]
  },
  {
   "cell_type": "code",
   "execution_count": 94,
   "id": "44df43af-b860-4df3-94e2-1b71c469ef99",
   "metadata": {},
   "outputs": [],
   "source": [
    "kullanici = \" \"\n",
    "sifre = \" \""
   ]
  },
  {
   "cell_type": "code",
   "execution_count": 88,
   "id": "b4c8ebf7-1c74-4634-8829-105017671646",
   "metadata": {},
   "outputs": [
    {
     "name": "stdout",
     "output_type": "stream",
     "text": [
      "Konu: Python'dan mail gönderiyorum!\n",
      "Gönderen: denemeysb1@outlook.com\n",
      "Tarih: Sat, 24 Feb 2024 11:35:29 +0000\n",
      "Metin: Bu maili kendime pythondan yazdığım kod aracılığıyla gönderiyorum.\n",
      "------------------------------------------\n",
      "Konu: Python'dan eklentili mail gönderiyorum!\n",
      "Gönderen: denemeysb1@outlook.com\n",
      "Tarih: Sun, 25 Feb 2024 21:20:10 +0000\n",
      "Metin: Bu eklentili maili kendime pythondan yazdığım kod aracılığıyla gönderiyorum.\n",
      "------------------------------------------\n"
     ]
    }
   ],
   "source": [
    "import imaplib\n",
    "import email\n",
    "import datetime\n",
    "from email import policy\n",
    "from email.parser import BytesParser\n",
    "from imap_tools import AND # AND, OR, Q, NOT gibi çokça şey eklenebilir\n",
    "from bs4 import BeautifulSoup  # BeautifulSoup HTML parsing için kullanılacak\n",
    "\n",
    "# IMAP4_SSL kullanarak bağlantı kurulacak\n",
    "mail = imaplib.IMAP4_SSL(\"outlook.office365.com\")\n",
    "mail.login(kullanici, sifre)\n",
    "\"\"\"\n",
    "with imaplib.IMAP4_SSL(\"outlook.office365.com\").login(kullanici, sifre) as mail:\n",
    "    -kodun kalanı- #indent halinde\n",
    "    #bu şekilde daha kısa şekilde yazılabilir\n",
    "\"\"\"\n",
    "# gelen kutusundaki mailleri almak için\n",
    "mail.select(\"inbox\")\n",
    "\n",
    "# belirli bir tarihten itibaren gelen mailleri almak için\n",
    "\n",
    "kriter = AND(date_gte=datetime.date(2024, 2, 24), from_=kullanici)\n",
    "\n",
    "# kriter i bytes türüne çevirme\n",
    "kriter = bytes(str(kriter), 'utf-8')\n",
    "\n",
    "#kriter = f'(SINCE {tarih.strftime(\"%d-%b-%Y\")})' # f'(xxx{y}xxx{z}xxx)' aynı format gibi çalışır (xxx{}xx{}x).format(y,z)\n",
    "# kriter=AND(date_gte=datetime.date(2024,2,24), from_=kullanici) böyle de yazım mevcut\n",
    "#gte: greater than equal belli bir tarih ve sonrasını getirmesini sağlayabiliriz datetime modülü gerekir\n",
    "#kullanici kişisinden mailleri al\n",
    "\n",
    "# IMAP4.uid fonksiyonunu çağırma\n",
    "result, data = mail.uid('search', None, kriter)\n",
    "\n",
    "#bu kısım metnin html den decode edilmesi ve yazdırılması üzerine\n",
    "if result == 'OK':\n",
    "    for num in data[0].split():\n",
    "        result, msg_data = mail.uid('fetch', num, '(RFC822)')\n",
    "        if result == 'OK':\n",
    "            raw_email = msg_data[0][1]\n",
    "            parsed_email = BytesParser(policy=policy.default).parsebytes(raw_email)\n",
    "    \n",
    "            print(\"Konu:\", parsed_email[\"subject\"])\n",
    "            print(\"Gönderen:\", parsed_email[\"from\"])\n",
    "            print(\"Tarih:\", parsed_email[\"date\"])\n",
    "    \n",
    "            #metin içeriğini al\n",
    "            metin = None\n",
    "            for part in parsed_email.iter_parts():\n",
    "                if part.get_content_type() == \"text/plain\":\n",
    "                    metin = part.get_payload(decode=True)\n",
    "                    break\n",
    "                elif part.get_content_type() == \"text/html\":\n",
    "                    metin = part.get_payload(decode=True)\n",
    "                    break\n",
    "    \n",
    "            #eğer metin içeriği varsa, HTML etiketlerini temizler\n",
    "            if metin:\n",
    "                charset = parsed_email.get_charset() or \"utf-8\"\n",
    "                try:\n",
    "                    metin = metin.decode(charset, \"ignore\")\n",
    "                    # HTML etiketlerini temizleme kısmı\n",
    "                    soup = BeautifulSoup(metin, 'html.parser')\n",
    "                    metin = soup.get_text(separator='\\n', strip=True)\n",
    "                    print(\"Metin:\", metin)\n",
    "                except UnicodeDecodeError:\n",
    "                    print(\"Metin çözümlenemedi.\")\n",
    "    \n",
    "            print(\"------------------------------------------\")\n",
    "            \n",
    "#mail.logout()"
   ]
  },
  {
   "cell_type": "code",
   "execution_count": 89,
   "id": "e92d64ab-7013-4399-a9c2-1731d84af406",
   "metadata": {},
   "outputs": [
    {
     "name": "stdout",
     "output_type": "stream",
     "text": [
      "\n",
      "\n"
     ]
    }
   ],
   "source": [
    "import datetime\n",
    "from imap_tools import MailBox\n",
    "from imap_tools import AND # and,or,q gibi çokça şey eklenebilir\n",
    "\n",
    "with MailBox(\"outlook.office365.com\").login(kullanici, sifre, initial_folder=\"INBOX\") as posta_kutusu:\n",
    "    kriter=AND(date_gte=datetime.date(2024,2,24), from_=kullanici) \n",
    "    \n",
    "    for msg in posta_kutusu.fetch(kriter):\n",
    "        print(msg.text)"
   ]
  },
  {
   "cell_type": "code",
   "execution_count": 92,
   "id": "b42bd969-466f-48a1-af55-2c4ebad53d98",
   "metadata": {},
   "outputs": [],
   "source": [
    "def dosya_isminden_mail_bul(eposta_kutusu_param, dosya_ismi_param, kriter_param):\n",
    "    kriter_param = 'HEADER FROM {} SINCE 24-Feb-2024'.format(kullanici)\n",
    "    for mesaj in eposta_kutusu_param.fetch(kriter_param, 'BODY.PEEK[]'):\n",
    "        if mesaj.attachments:\n",
    "            for ek in mesaj.attachments:\n",
    "                if dosya_ismi_param == ek.filename:\n",
    "                    return f\"{dosya_ismi_param} isimli dosya, {mesaj.date_str} tarihli ve {mesaj.subject} başlıklı e-postadadır.\"\n",
    "    return f'{dosya_ismi_param} isimli dosya bulunamadı.'\n"
   ]
  },
  {
   "cell_type": "code",
   "execution_count": null,
   "id": "ac28a736-69fb-470f-a61d-23692edd7f09",
   "metadata": {},
   "outputs": [],
   "source": [
    "kriter = AND(date_gte=datetime.date(2024, 2, 24), from_=kullanici)\n",
    "dosya_ismi = \"gui.png\"\n",
    "eposta_kutusu = mail\n",
    "dosya_isminden_mail_bul(eposta_kutusu, dosya_ismi, kriter)"
   ]
  },
  {
   "cell_type": "code",
   "execution_count": null,
   "id": "d7afe6fa-7128-448e-a1c2-656a0b47a261",
   "metadata": {},
   "outputs": [],
   "source": []
  }
 ],
 "metadata": {
  "kernelspec": {
   "display_name": "Python 3 (ipykernel)",
   "language": "python",
   "name": "python3"
  },
  "language_info": {
   "codemirror_mode": {
    "name": "ipython",
    "version": 3
   },
   "file_extension": ".py",
   "mimetype": "text/x-python",
   "name": "python",
   "nbconvert_exporter": "python",
   "pygments_lexer": "ipython3",
   "version": "3.10.9"
  }
 },
 "nbformat": 4,
 "nbformat_minor": 5
}
