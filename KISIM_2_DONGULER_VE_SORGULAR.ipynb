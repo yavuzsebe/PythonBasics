{
 "cells": [
  {
   "attachments": {},
   "cell_type": "markdown",
   "id": "caf9fec8-dcac-45e9-b9d0-3c6dd5ab737a",
   "metadata": {},
   "source": [
    "# if Sorguları"
   ]
  },
  {
   "cell_type": "raw",
   "id": "11b71a06-5605-44a3-9038-cd7406403467",
   "metadata": {},
   "source": [
    "# Kullanım senaryosu-1:\n",
    "if  <koşul sağlanıyorsa>:\n",
    "    <burada yazılanı yap>"
   ]
  },
  {
   "cell_type": "code",
   "execution_count": 1,
   "id": "d1b6bf50-fff5-4a5b-84fc-cdfacf825ebd",
   "metadata": {},
   "outputs": [
    {
     "name": "stdout",
     "output_type": "stream",
     "text": [
      "şemsiyeni al\n"
     ]
    }
   ],
   "source": [
    "hava_durumu = \"yağışlı\"\n",
    "if hava_durumu == \"yağışlı\":\n",
    "    print(\"şemsiyeni al\")"
   ]
  },
  {
   "cell_type": "code",
   "execution_count": 2,
   "id": "357299f6-2b51-46d7-8e0d-7e3bcd50d64f",
   "metadata": {},
   "outputs": [],
   "source": [
    "hava_durumu = \"karlı\"\n",
    "if hava_durumu == \"yağışlı\":\n",
    "    print(\"şemsiyeni al\") #else durumu olmadığı için çıktı vermez"
   ]
  },
  {
   "cell_type": "raw",
   "id": "160489ee-42af-4199-90bc-f124b0b1728c",
   "metadata": {},
   "source": [
    "#Kullanım senaryosu-2:\n",
    "if  <koşul sağlanıyorsa>:\n",
    "    <burada yazılanı yap>\n",
    "else:\n",
    "    <burada yazılanı yap>"
   ]
  },
  {
   "cell_type": "code",
   "execution_count": 4,
   "id": "b8dfdd31-8aaf-48cc-bdd3-8b5095afbb42",
   "metadata": {},
   "outputs": [
    {
     "name": "stdout",
     "output_type": "stream",
     "text": [
      "şemsiyeni al\n"
     ]
    }
   ],
   "source": [
    "hava_durumu = \"yağışlı\" # =\n",
    "if hava_durumu == \"yağışlı\": # == :\n",
    "    print(\"şemsiyeni al\")\n",
    "else: # :\n",
    "    print(\"sorun yok\")"
   ]
  },
  {
   "cell_type": "code",
   "execution_count": 5,
   "id": "5fb68825-4170-438c-82a2-e84629bf860c",
   "metadata": {},
   "outputs": [
    {
     "name": "stdout",
     "output_type": "stream",
     "text": [
      "sorun yok\n"
     ]
    }
   ],
   "source": [
    "hava_durumu = \"güneşli\" # =\n",
    "if hava_durumu == \"yağışlı\": # == :\n",
    "    print(\"şemsiyeni al\")\n",
    "else:\n",
    "    print(\"sorun yok\")"
   ]
  },
  {
   "cell_type": "raw",
   "id": "03b5d79b-fbc5-4200-8d26-a374c83e0ccc",
   "metadata": {},
   "source": [
    "#Kullanım senaryosu-3:\n",
    "if   <koşul sağlanıyorsa>:\n",
    "     <burada yazılanı yap>\n",
    "elif <alternatif koşul sağlanıyorsa>:\n",
    "     <burada yazılanı yap>\n",
    "else:\n",
    "     <burada yazılanı yap>"
   ]
  },
  {
   "cell_type": "code",
   "execution_count": 6,
   "id": "4d2d6b79-5050-4aaa-abf5-6fe4113ba0a4",
   "metadata": {},
   "outputs": [
    {
     "name": "stdout",
     "output_type": "stream",
     "text": [
      "atkını al\n"
     ]
    }
   ],
   "source": [
    "hava_durumu = \"karlı\"\n",
    "if hava_durumu == \"yağışlı\":\n",
    "    print(\"şemsiyeni al\")\n",
    "elif hava_durumu == \"karlı\":\n",
    "    print(\"atkını al\")\n",
    "else:\n",
    "    print(\"sorun yok\")"
   ]
  },
  {
   "cell_type": "code",
   "execution_count": 11,
   "id": "9c82a575-db31-4294-b8f6-f1e1647bd0d9",
   "metadata": {},
   "outputs": [
    {
     "name": "stdout",
     "output_type": "stream",
     "text": [
      "sen buraya ait değilsin\n"
     ]
    }
   ],
   "source": [
    "yas = 16\n",
    "if yas > 18:\n",
    "    print(\"selam\")\n",
    "else:\n",
    "    print(\"sen buraya ait değilsin\")"
   ]
  },
  {
   "cell_type": "code",
   "execution_count": 12,
   "id": "ed8f4f7c-82f3-4773-9446-d23abc6f3fb5",
   "metadata": {},
   "outputs": [
    {
     "name": "stdout",
     "output_type": "stream",
     "text": [
      "liste güncellendi\n",
      "güncel liste ['a', 'b', 'c', 'd']\n"
     ]
    }
   ],
   "source": [
    "liste=[\"a\",\"b\",\"c\"]\n",
    "\n",
    "hedef_harf = \"d\"\n",
    "if hedef_harf in liste:\n",
    "    print(\"buldum\")\n",
    "else:\n",
    "    liste.append(hedef_harf)\n",
    "\n",
    "    print(\"liste güncellendi\")\n",
    "    print(\"güncel liste {}\".format(liste))"
   ]
  },
  {
   "cell_type": "code",
   "execution_count": 13,
   "id": "1341c4de-9c51-46e0-bed1-a048ae8b36f7",
   "metadata": {},
   "outputs": [
    {
     "name": "stdout",
     "output_type": "stream",
     "text": [
      "buldum ama ilk konumda değil\n"
     ]
    }
   ],
   "source": [
    "hedef_harf = \"d\"\n",
    "if (hedef_harf in liste) and (hedef_harf == liste[0]):\n",
    "    print(\"buldum ve ilk konumda\")\n",
    "elif (hedef_harf in liste): # sırayla yapar ilk kapıdan çıkar\n",
    "    print(\"buldum ama ilk konumda değil\")\n",
    "else:\n",
    "    liste.append(hedef_harf)\n",
    "\n",
    "    print(\"liste güncellendi\")\n",
    "    print(\"güncel liste {}\".format(liste))"
   ]
  },
  {
   "cell_type": "code",
   "execution_count": 14,
   "id": "a77222f3-acae-4c26-a829-1610bfc035fa",
   "metadata": {},
   "outputs": [
    {
     "name": "stdout",
     "output_type": "stream",
     "text": [
      "buldum ve ilk konumda\n"
     ]
    }
   ],
   "source": [
    "hedef_harf = \"d\"\n",
    "if (hedef_harf in liste):\n",
    "    print(\"buldum ve ilk konumda\")\n",
    "elif (hedef_harf in liste) and (hedef_harf == liste[0]): # sırayla yapar ilk kapıdan çıkar!!!\n",
    "    print(\"buldum ama ilk konumda değil\")\n",
    "else:\n",
    "    liste.append(hedef_harf)\n",
    "\n",
    "    print(\"liste güncellendi\")\n",
    "    print(\"güncel liste {}\".format(liste))"
   ]
  },
  {
   "cell_type": "markdown",
   "id": "4d26ac61-143a-46c0-99fa-3896fbfc157c",
   "metadata": {
    "jp-MarkdownHeadingCollapsed": true
   },
   "source": [
    "# for Döngüleri"
   ]
  },
  {
   "cell_type": "raw",
   "id": "3ce4dd95-bbf5-4813-aca5-fd2bda190295",
   "metadata": {},
   "source": [
    "Kullanım yapısı:\n",
    "for <değişken> in <iterable>\n",
    "    <buraya yazılanı yap>"
   ]
  },
  {
   "cell_type": "code",
   "execution_count": 42,
   "id": "ffe942d4-f664-4e0d-b631-0a26a0cd0902",
   "metadata": {},
   "outputs": [],
   "source": [
    "yorum_birakanlar = [\"Ismail Aydemir\", \"Uygar Aydin\", \"Naz Yagcioglu\",\"Ferhat Ibrik\",\"Ulas Acil\", \"Bilal Kurucay\"]"
   ]
  },
  {
   "cell_type": "code",
   "execution_count": 20,
   "id": "3d6faf9e-4e2e-4f27-a4cf-1772a2625768",
   "metadata": {},
   "outputs": [
    {
     "name": "stdout",
     "output_type": "stream",
     "text": [
      "Ismail Aydemir\n",
      "Uygar Aydin\n",
      "Naz Yagcioglu\n",
      "Ferhat Ibrik\n",
      "Ulas Acil\n",
      "Bilal Kurucay\n"
     ]
    }
   ],
   "source": [
    "for kullanici in yorum_birakanlar: # :\n",
    "    print(kullanici)"
   ]
  },
  {
   "cell_type": "code",
   "execution_count": 21,
   "id": "a55561d2-15e6-4446-bf2a-3f5a6d8aa02f",
   "metadata": {},
   "outputs": [
    {
     "name": "stdout",
     "output_type": "stream",
     "text": [
      "1 Ismail Aydemir\n",
      "2 Uygar Aydin\n",
      "3 Naz Yagcioglu\n",
      "4 Ferhat Ibrik\n",
      "5 Ulas Acil\n",
      "6 Bilal Kurucay\n"
     ]
    }
   ],
   "source": [
    "kullanici_sayisi = 0\n",
    "for kullanici in yorum_birakanlar:\n",
    "    kullanici_sayisi = kullanici_sayisi + 1\n",
    "    print(kullanici_sayisi, kullanici)"
   ]
  },
  {
   "cell_type": "code",
   "execution_count": 22,
   "id": "1217d155-b4c1-4249-a729-47c52ae7eb41",
   "metadata": {},
   "outputs": [
    {
     "name": "stdout",
     "output_type": "stream",
     "text": [
      "0 Ismail Aydemir\n",
      "1 Uygar Aydin\n",
      "2 Naz Yagcioglu\n",
      "3 Ferhat Ibrik\n",
      "4 Ulas Acil\n",
      "5 Bilal Kurucay\n"
     ]
    }
   ],
   "source": [
    " kullanici_sayisi = 0\n",
    "for kullanici in yorum_birakanlar:\n",
    "\n",
    "    print(kullanici_sayisi, kullanici)\n",
    "    kullanici_sayisi = kullanici_sayisi + 1 # sıra önemli"
   ]
  },
  {
   "cell_type": "code",
   "execution_count": 23,
   "id": "97886fa8-c345-47e5-b2ca-35566fc105cd",
   "metadata": {},
   "outputs": [
    {
     "data": {
      "text/plain": [
       "['Ismail', 'Aydemir']"
      ]
     },
     "execution_count": 23,
     "metadata": {},
     "output_type": "execute_result"
    }
   ],
   "source": [
    "yorum_birakanlar[0].split()"
   ]
  },
  {
   "cell_type": "code",
   "execution_count": 31,
   "id": "cb142744-adf4-4312-a76b-08582db9bc27",
   "metadata": {},
   "outputs": [
    {
     "name": "stdout",
     "output_type": "stream",
     "text": [
      "Ismail\n",
      "Aydemir\n"
     ]
    }
   ],
   "source": [
    "print(yorum_birakanlar[0].split()[0]) #index kullanılabilir\n",
    "print(yorum_birakanlar[0].split()[1])"
   ]
  },
  {
   "cell_type": "code",
   "execution_count": 34,
   "id": "95442603-1f60-4b1e-898d-5b3eab993264",
   "metadata": {},
   "outputs": [
    {
     "name": "stdout",
     "output_type": "stream",
     "text": [
      "Ismail\n",
      "Aydemir\n"
     ]
    }
   ],
   "source": [
    "ad, soyad = yorum_birakanlar[0].split()[0], yorum_birakanlar[0].split()[1]\n",
    "print(ad)\n",
    "print(soyad)"
   ]
  },
  {
   "cell_type": "code",
   "execution_count": 37,
   "id": "27df1899-6b8f-445f-9bc0-8f1084cb43b9",
   "metadata": {},
   "outputs": [
    {
     "name": "stdout",
     "output_type": "stream",
     "text": [
      "1. Kullanıcının adı Ismail, soyadı Aydemir.\n",
      "2. Kullanıcının adı Uygar, soyadı Aydin.\n",
      "3. Kullanıcının adı Naz, soyadı Yagcioglu.\n",
      "4. Kullanıcının adı Ferhat, soyadı Ibrik.\n",
      "5. Kullanıcının adı Ulas, soyadı Acil.\n",
      "6. Kullanıcının adı Bilal, soyadı Kurucay.\n"
     ]
    }
   ],
   "source": [
    "kullanici_sayisi = 0\n",
    "for kullanici in yorum_birakanlar:\n",
    "    kullanici_sayisi += 1 # kullanici_sayisi = kullanici_sayisi + 1\n",
    "    ad, soyad = kullanici.split()[0], kullanici.split()[1]\n",
    "    print(\"{0}. Kullanıcının adı {1}, soyadı {2}.\".format(kullanici_sayisi, ad, soyad))"
   ]
  },
  {
   "cell_type": "code",
   "execution_count": 48,
   "id": "9d258ff5-6b03-44e5-845a-86f9753777b7",
   "metadata": {},
   "outputs": [
    {
     "name": "stdout",
     "output_type": "stream",
     "text": [
      "1. Kullanıcının adı Ismail, soyadı Aydemir.\n",
      "2. Kullanıcının adı Uygar, soyadı Aydin.\n",
      "3. Kullanıcının adı Naz, soyadı Yagcioglu.\n",
      "1. Moderatörün adı Ferhat, soyadı Ibrik.\n",
      "4. Kullanıcının adı Ulas, soyadı Acil.\n",
      "5. Kullanıcının adı Bilal, soyadı Kurucay.\n"
     ]
    }
   ],
   "source": [
    "moderator = \"Ferhat Ibrik\"\n",
    "\n",
    "kullanici_sayisi = 0\n",
    "moderator_sayisi = 0\n",
    "\n",
    "for kullanici in yorum_birakanlar:\n",
    "    ad, soyad = kullanici.split()[0], kullanici.split()[1]\n",
    "    if  kullanici == moderator: # ==\n",
    "        moderator_sayisi += 1\n",
    "        print(\"{0}. Moderatörün adı {1}, soyadı {2}.\".format(moderator_sayisi, ad, soyad))\n",
    "    else:\n",
    "        kullanici_sayisi += 1\n",
    "        print(\"{0}. Kullanıcının adı {1}, soyadı {2}.\".format(kullanici_sayisi, ad, soyad))\n",
    "    "
   ]
  },
  {
   "cell_type": "code",
   "execution_count": 49,
   "id": "21949809-61e9-45aa-91f2-d2f7c272df5a",
   "metadata": {},
   "outputs": [
    {
     "ename": "IndentationError",
     "evalue": "expected an indented block after 'for' statement on line 7 (609810610.py, line 8)",
     "output_type": "error",
     "traceback": [
      "\u001b[0;36m  Cell \u001b[0;32mIn[49], line 8\u001b[0;36m\u001b[0m\n\u001b[0;31m    ad, soyad = kullanici.split()[0], kullanici.split()[1]\u001b[0m\n\u001b[0m    ^\u001b[0m\n\u001b[0;31mIndentationError\u001b[0m\u001b[0;31m:\u001b[0m expected an indented block after 'for' statement on line 7\n"
     ]
    }
   ],
   "source": [
    "#YUKARIDAKİYLE AYNI AMA TABLAR YOK ÇALIŞMAZ!!!!!\n",
    "moderator = \"Ferhat Ibrik\"\n",
    "\n",
    "kullanici_sayisi = 0\n",
    "moderator_sayisi = 0\n",
    "\n",
    "for kullanici in yorum_birakanlar:\n",
    "ad, soyad = kullanici.split()[0], kullanici.split()[1]\n",
    "if  kullanici == moderator: # ==\n",
    "moderator_sayisi += 1\n",
    "print(\"{0}. Moderatörün adı {1}, soyadı {2}.\".format(moderator_sayisi, ad, soyad))\n",
    "else:\n",
    "kullanici_sayisi += 1\n",
    "print(\"{0}. Kullanıcının adı {1}, soyadı {2}.\".format(kullanici_sayisi, ad, soyad))"
   ]
  },
  {
   "cell_type": "markdown",
   "id": "e3f601bd-3bf4-49ef-ad19-26e8bc625f4d",
   "metadata": {},
   "source": [
    "## Diğer Iterable Objelerde for Döngüleri"
   ]
  },
  {
   "cell_type": "code",
   "execution_count": 50,
   "id": "181ca920-f8eb-4c80-b2aa-b71653a683d0",
   "metadata": {},
   "outputs": [
    {
     "name": "stdout",
     "output_type": "stream",
     "text": [
      "1\n",
      "3\n",
      "5\n",
      "7\n"
     ]
    }
   ],
   "source": [
    "tup1 =(1, 3, 5, 7)\n",
    "for sayi in tup1:\n",
    "    print(sayi)"
   ]
  },
  {
   "cell_type": "code",
   "execution_count": 51,
   "id": "10ee7ea9-8c3e-46ae-8778-98a940369b49",
   "metadata": {},
   "outputs": [
    {
     "name": "stdout",
     "output_type": "stream",
     "text": [
      "1\n",
      "3\n"
     ]
    }
   ],
   "source": [
    "liste = [[1,2],[3,4]]\n",
    "for x,y in liste:\n",
    "    print(x)"
   ]
  },
  {
   "cell_type": "code",
   "execution_count": 52,
   "id": "2a464404-659f-4d4f-9a21-e450b1ab3d05",
   "metadata": {},
   "outputs": [
    {
     "ename": "ValueError",
     "evalue": "too many values to unpack (expected 2)",
     "output_type": "error",
     "traceback": [
      "\u001b[0;31m---------------------------------------------------------------------------\u001b[0m",
      "\u001b[0;31mValueError\u001b[0m                                Traceback (most recent call last)",
      "Cell \u001b[0;32mIn[52], line 2\u001b[0m\n\u001b[1;32m      1\u001b[0m liste \u001b[38;5;241m=\u001b[39m [[\u001b[38;5;241m1\u001b[39m,\u001b[38;5;241m2\u001b[39m,\u001b[38;5;241m3\u001b[39m],[\u001b[38;5;241m3\u001b[39m,\u001b[38;5;241m4\u001b[39m,\u001b[38;5;241m5\u001b[39m]] \u001b[38;5;66;03m# index sayısı eşit olmalı\u001b[39;00m\n\u001b[0;32m----> 2\u001b[0m \u001b[38;5;28;01mfor\u001b[39;00m x,y \u001b[38;5;129;01min\u001b[39;00m liste:\n\u001b[1;32m      3\u001b[0m     \u001b[38;5;28mprint\u001b[39m(x)\n",
      "\u001b[0;31mValueError\u001b[0m: too many values to unpack (expected 2)"
     ]
    }
   ],
   "source": [
    "liste = [[1,2,3],[3,4,5]] # index sayısı eşit olmalı HATA VERİR\n",
    "for x,y in liste:\n",
    "    print(x)"
   ]
  },
  {
   "cell_type": "code",
   "execution_count": 53,
   "id": "9a80b7e8-f56c-497c-8f55-57f489a1e337",
   "metadata": {},
   "outputs": [
    {
     "name": "stdout",
     "output_type": "stream",
     "text": [
      "1\n",
      "3\n",
      "5\n"
     ]
    }
   ],
   "source": [
    "liste = [[1,2],[3,4],[5,6]] # index sayısı eşit olmalı\n",
    "for x,y in liste:\n",
    "    print(x)"
   ]
  },
  {
   "cell_type": "code",
   "execution_count": 54,
   "id": "d858c258-cbcb-454b-99a6-d1c35abb9eeb",
   "metadata": {},
   "outputs": [
    {
     "name": "stdout",
     "output_type": "stream",
     "text": [
      "1\n",
      "3\n"
     ]
    }
   ],
   "source": [
    "liste = [[1,2,3],[3,4,5]] # index sayısı eşit olmalı\n",
    "for x,y,z in liste:\n",
    "    print(x)"
   ]
  },
  {
   "cell_type": "code",
   "execution_count": 55,
   "id": "8763134b-3e71-4c22-b287-733c3666c450",
   "metadata": {},
   "outputs": [
    {
     "name": "stdout",
     "output_type": "stream",
     "text": [
      "1\n",
      "3\n",
      "5\n"
     ]
    },
    {
     "ename": "ValueError",
     "evalue": "not enough values to unpack (expected 2, got 1)",
     "output_type": "error",
     "traceback": [
      "\u001b[0;31m---------------------------------------------------------------------------\u001b[0m",
      "\u001b[0;31mValueError\u001b[0m                                Traceback (most recent call last)",
      "Cell \u001b[0;32mIn[55], line 2\u001b[0m\n\u001b[1;32m      1\u001b[0m liste \u001b[38;5;241m=\u001b[39m [[\u001b[38;5;241m1\u001b[39m,\u001b[38;5;241m2\u001b[39m],[\u001b[38;5;241m3\u001b[39m,\u001b[38;5;241m4\u001b[39m],[\u001b[38;5;241m5\u001b[39m,\u001b[38;5;241m6\u001b[39m], \u001b[38;5;124m\"\u001b[39m\u001b[38;5;124ma\u001b[39m\u001b[38;5;124m\"\u001b[39m] \u001b[38;5;66;03m# 2 atama yapılamayan obje var eksik burada da\u001b[39;00m\n\u001b[0;32m----> 2\u001b[0m \u001b[38;5;28;01mfor\u001b[39;00m x,y \u001b[38;5;129;01min\u001b[39;00m liste:\n\u001b[1;32m      3\u001b[0m     \u001b[38;5;28mprint\u001b[39m(x)\n",
      "\u001b[0;31mValueError\u001b[0m: not enough values to unpack (expected 2, got 1)"
     ]
    }
   ],
   "source": [
    "liste = [[1,2],[3,4],[5,6], \"a\"] # 2 atama yapılamayan obje var eksik burada da\n",
    "for x,y in liste:\n",
    "    print(x)"
   ]
  },
  {
   "cell_type": "code",
   "execution_count": 56,
   "id": "9f5183be-9753-4e63-b69e-b278e93ab6db",
   "metadata": {},
   "outputs": [
    {
     "name": "stdout",
     "output_type": "stream",
     "text": [
      "1 2\n",
      "3 4\n",
      "5 6\n"
     ]
    }
   ],
   "source": [
    "liste = [[1,2],[3,4],[5,6]] # index sayısı eşit olmalı\n",
    "for x,y in liste:\n",
    "    print(x,y)"
   ]
  },
  {
   "cell_type": "code",
   "execution_count": 61,
   "id": "aa9bb809-4362-4230-93a2-68ff80c7b73e",
   "metadata": {},
   "outputs": [
    {
     "name": "stdout",
     "output_type": "stream",
     "text": [
      "dict_items([('ad', 'Naz'), ('soyad', 'Yağcıoğlu')])\n",
      "dict_keys(['ad', 'soyad'])\n"
     ]
    }
   ],
   "source": [
    "kullanici1 = {\n",
    "    \"ad\": \"Naz\",\n",
    "    \"soyad\": \"Yağcıoğlu\"\n",
    "}\n",
    "print(kullanici1.items())\n",
    "print(kullanici1.keys())"
   ]
  },
  {
   "cell_type": "code",
   "execution_count": 59,
   "id": "43e8eead-cca2-4987-9981-b264b0e3c2b6",
   "metadata": {},
   "outputs": [
    {
     "name": "stdout",
     "output_type": "stream",
     "text": [
      "Key: ad \t Value: Naz\n",
      "Key: soyad \t Value: Yağcıoğlu\n"
     ]
    }
   ],
   "source": [
    "for k, v in kullanici1.items():\n",
    "    print(\"Key: {} \\t Value: {}\".format(k,v))"
   ]
  },
  {
   "cell_type": "markdown",
   "id": "12d6b60b-5cad-4260-a457-73c978c27f8d",
   "metadata": {},
   "source": [
    "# while Döngüleri"
   ]
  },
  {
   "cell_type": "raw",
   "id": "7589c56d-7e83-4b61-9ac2-66b9d8595b35",
   "metadata": {},
   "source": [
    "Kullanım yapısı-1:\n",
    "while <şart doğruyken>:\n",
    "      <burada yazılanı yap>"
   ]
  },
  {
   "cell_type": "code",
   "execution_count": 1,
   "id": "51dfcf7c-37fd-46a7-bc84-65d549138e50",
   "metadata": {},
   "outputs": [
    {
     "name": "stdout",
     "output_type": "stream",
     "text": [
      "0 değeri 10'dan küçüktür\n",
      "1 değeri 10'dan küçüktür\n",
      "2 değeri 10'dan küçüktür\n",
      "3 değeri 10'dan küçüktür\n",
      "4 değeri 10'dan küçüktür\n",
      "5 değeri 10'dan küçüktür\n",
      "6 değeri 10'dan küçüktür\n",
      "7 değeri 10'dan küçüktür\n",
      "8 değeri 10'dan küçüktür\n",
      "9 değeri 10'dan küçüktür\n"
     ]
    }
   ],
   "source": [
    "x=0\n",
    "while x < 10:\n",
    "    print(\"{} değeri 10'dan küçüktür\".format(x))\n",
    "    x +=1"
   ]
  },
  {
   "cell_type": "code",
   "execution_count": null,
   "id": "9cfa0e22-b33d-4678-be52-0e00df6efb83",
   "metadata": {},
   "outputs": [],
   "source": [
    "while True:\n",
    "   # print(\"abc\") yazdırma yoksa kasıyo..."
   ]
  },
  {
   "cell_type": "raw",
   "id": "a677792f-b783-4b3d-97aa-6f86d5577604",
   "metadata": {},
   "source": [
    "Kullanım yapısı-2:\n",
    "while <şart doğruyken>:\n",
    "      <burada yazılanı yap>\n",
    "else:      \n",
    "      <burada yazılanı yap>"
   ]
  },
  {
   "cell_type": "code",
   "execution_count": 2,
   "id": "585fc45c-313b-449f-b3ee-72dd7264a932",
   "metadata": {},
   "outputs": [
    {
     "name": "stdout",
     "output_type": "stream",
     "text": [
      "0 değeri 10'dan küçüktür\n",
      "1 değeri 10'dan küçüktür\n",
      "2 değeri 10'dan küçüktür\n",
      "3 değeri 10'dan küçüktür\n",
      "4 değeri 10'dan küçüktür\n",
      "5 değeri 10'dan küçüktür\n",
      "6 değeri 10'dan küçüktür\n",
      "7 değeri 10'dan küçüktür\n",
      "8 değeri 10'dan küçüktür\n",
      "9 değeri 10'dan küçüktür\n",
      "10 değeri 10'dan küçük değildir\n"
     ]
    }
   ],
   "source": [
    "x = 0\n",
    "while x < 10:\n",
    "    print(\"{} değeri 10'dan küçüktür\".format(x))\n",
    "    x += 1\n",
    "else:\n",
    "    print(\"{} değeri 10'dan küçük değildir\".format(x))"
   ]
  },
  {
   "cell_type": "code",
   "execution_count": 5,
   "id": "52af5d30-961d-4a96-b7d9-f2c19f753524",
   "metadata": {},
   "outputs": [
    {
     "name": "stdout",
     "output_type": "stream",
     "text": [
      "720\n"
     ]
    }
   ],
   "source": [
    "# Faktöriyel\n",
    "# 3! = 3*2*1=6\n",
    "sayi = 6\n",
    "sonuc = 1\n",
    "while sayi > 0:\n",
    "    sonuc=sonuc*sayi\n",
    "    sayi -=1\n",
    "print(sonuc)"
   ]
  },
  {
   "cell_type": "markdown",
   "id": "8c62c90a-b240-4640-988b-bb407e9882bb",
   "metadata": {
    "jp-MarkdownHeadingCollapsed": true
   },
   "source": [
    "# range"
   ]
  },
  {
   "cell_type": "code",
   "execution_count": 7,
   "id": "b7966be0-4414-47f9-a323-c603ee47f90e",
   "metadata": {},
   "outputs": [
    {
     "data": {
      "text/plain": [
       "range(0, 10)"
      ]
     },
     "execution_count": 7,
     "metadata": {},
     "output_type": "execute_result"
    }
   ],
   "source": [
    "range(10)"
   ]
  },
  {
   "cell_type": "code",
   "execution_count": 8,
   "id": "a767eb1d-1682-4ae6-9cb1-6675331f7e8a",
   "metadata": {},
   "outputs": [
    {
     "data": {
      "text/plain": [
       "[0, 1, 2, 3, 4, 5, 6, 7, 8, 9]"
      ]
     },
     "execution_count": 8,
     "metadata": {},
     "output_type": "execute_result"
    }
   ],
   "source": [
    "list(range(10))"
   ]
  },
  {
   "cell_type": "code",
   "execution_count": 12,
   "id": "84689592-2176-4602-b171-9ceebecf59b9",
   "metadata": {},
   "outputs": [
    {
     "data": {
      "text/plain": [
       "[0, 1, 2, 3, 4, 5, 6, 7, 8, 9]"
      ]
     },
     "execution_count": 12,
     "metadata": {},
     "output_type": "execute_result"
    }
   ],
   "source": [
    "[*range(10)] #hızlı kullanımı"
   ]
  },
  {
   "cell_type": "code",
   "execution_count": 10,
   "id": "c74a9210-efe8-48bf-b1f7-e969b9c3d956",
   "metadata": {},
   "outputs": [
    {
     "data": {
      "text/plain": [
       "[2, 4, 6]"
      ]
     },
     "execution_count": 10,
     "metadata": {},
     "output_type": "execute_result"
    }
   ],
   "source": [
    "[*range(2,7,2)]"
   ]
  },
  {
   "cell_type": "code",
   "execution_count": 11,
   "id": "1a89d23d-fd47-4566-87f9-a7033d4c4eb1",
   "metadata": {},
   "outputs": [
    {
     "name": "stdout",
     "output_type": "stream",
     "text": [
      "6\n",
      "7\n",
      "8\n",
      "9\n"
     ]
    }
   ],
   "source": [
    "for sayi in range(10):\n",
    "    if sayi > 5:\n",
    "        print(sayi)"
   ]
  },
  {
   "cell_type": "markdown",
   "id": "ba154c82-0fe3-4def-b3e5-23a38b54fd66",
   "metadata": {
    "jp-MarkdownHeadingCollapsed": true
   },
   "source": [
    "# enumerate"
   ]
  },
  {
   "cell_type": "code",
   "execution_count": 14,
   "id": "fc23b928-ada9-4b64-9f2f-de8d4b363234",
   "metadata": {},
   "outputs": [
    {
     "name": "stdout",
     "output_type": "stream",
     "text": [
      "(0, 'a')\n",
      "(1, 'b')\n",
      "(2, 'c')\n",
      "(3, 'd')\n",
      "(4, 'e')\n"
     ]
    }
   ],
   "source": [
    "harfler = [\"a\",\"b\",\"c\",\"d\",\"e\"]\n",
    "for harf in enumerate(harfler):\n",
    "    print(harf)"
   ]
  },
  {
   "cell_type": "code",
   "execution_count": 15,
   "id": "7e0f6b1f-3961-4fd6-bcb8-5f7b98b78376",
   "metadata": {},
   "outputs": [
    {
     "name": "stdout",
     "output_type": "stream",
     "text": [
      "1 a\n",
      "2 b\n",
      "3 c\n",
      "4 d\n",
      "5 e\n"
     ]
    }
   ],
   "source": [
    "for index, harf in enumerate(harfler):\n",
    "    print(index+1, harf)"
   ]
  },
  {
   "cell_type": "code",
   "execution_count": 18,
   "id": "22d80f78-013e-412b-8408-6a66a7262066",
   "metadata": {},
   "outputs": [
    {
     "name": "stdout",
     "output_type": "stream",
     "text": [
      "1. harf: a\n",
      "2. harf: b\n",
      "3. harf: c\n",
      "4. harf: d\n",
      "5. harf: e\n"
     ]
    }
   ],
   "source": [
    "for index, harf in enumerate(harfler):\n",
    "    print(\"{}. harf: {}\".format(index+1, harf))"
   ]
  },
  {
   "cell_type": "markdown",
   "id": "1104d5e8-9c67-4709-8036-8564fa3ced44",
   "metadata": {
    "jp-MarkdownHeadingCollapsed": true
   },
   "source": [
    "# zip"
   ]
  },
  {
   "cell_type": "code",
   "execution_count": 22,
   "id": "5af2aa1e-1187-4bed-b408-3a5233d51da1",
   "metadata": {},
   "outputs": [
    {
     "name": "stdout",
     "output_type": "stream",
     "text": [
      "('TR', 1)\n",
      "('FR', 2)\n",
      "('DE', 3)\n"
     ]
    }
   ],
   "source": [
    "ulkeler = [\"TR\",\"FR\",\"DE\"]\n",
    "siralamalar = range(1,4)\n",
    "for ulke in zip(ulkeler, siralamalar):\n",
    "    print(ulke)"
   ]
  },
  {
   "cell_type": "markdown",
   "id": "54a65592-4f33-4c50-9e48-95ee04ec0c0c",
   "metadata": {
    "jp-MarkdownHeadingCollapsed": true
   },
   "source": [
    "# break"
   ]
  },
  {
   "cell_type": "code",
   "execution_count": 27,
   "id": "13c7ba8d-6ac6-424d-8776-102507a7c053",
   "metadata": {},
   "outputs": [
    {
     "name": "stdout",
     "output_type": "stream",
     "text": [
      "c harfi 2. indexte!\n"
     ]
    }
   ],
   "source": [
    "harfler = [\"a\",\"b\",\"c\",\"d\",\"e\"]\n",
    "for index, harf in enumerate(harfler):\n",
    "    if harf == \"c\":\n",
    "        print(\"{} harfi {}. indexte!\".format(harf, index))"
   ]
  },
  {
   "cell_type": "code",
   "execution_count": 29,
   "id": "055a1e12-d430-4580-8a1d-d0fcbc46ae07",
   "metadata": {},
   "outputs": [
    {
     "name": "stdout",
     "output_type": "stream",
     "text": [
      "c harfi 2. indexte!\n",
      "c harfi 7. indexte!\n",
      "c harfi 12. indexte!\n",
      "c harfi 17. indexte!\n",
      "c harfi 22. indexte!\n",
      "c harfi 27. indexte!\n",
      "c harfi 32. indexte!\n",
      "c harfi 37. indexte!\n",
      "c harfi 42. indexte!\n",
      "c harfi 47. indexte!\n",
      "c harfi 52. indexte!\n",
      "c harfi 57. indexte!\n",
      "c harfi 62. indexte!\n",
      "c harfi 67. indexte!\n",
      "c harfi 72. indexte!\n",
      "c harfi 77. indexte!\n",
      "c harfi 82. indexte!\n",
      "c harfi 87. indexte!\n",
      "c harfi 92. indexte!\n",
      "c harfi 97. indexte!\n"
     ]
    }
   ],
   "source": [
    "harfler = [\"a\",\"b\",\"c\",\"d\",\"e\"]*20\n",
    "for index, harf in enumerate(harfler):\n",
    "    if harf == \"c\":\n",
    "        print(\"{} harfi {}. indexte!\".format(harf, index))"
   ]
  },
  {
   "cell_type": "code",
   "execution_count": 30,
   "id": "8c79e86a-5f81-4d65-9a37-4f9203df490e",
   "metadata": {},
   "outputs": [
    {
     "name": "stdout",
     "output_type": "stream",
     "text": [
      "c harfi 2. indexte!\n"
     ]
    }
   ],
   "source": [
    "harfler = [\"a\",\"b\",\"c\",\"d\",\"e\"]*20\n",
    "for index, harf in enumerate(harfler):\n",
    "    if harf == \"c\":\n",
    "        print(\"{} harfi {}. indexte!\".format(harf, index))\n",
    "        break"
   ]
  },
  {
   "cell_type": "markdown",
   "id": "13c77224-82e9-4065-9664-7537772f9a63",
   "metadata": {
    "jp-MarkdownHeadingCollapsed": true
   },
   "source": [
    "# continue"
   ]
  },
  {
   "cell_type": "code",
   "execution_count": 32,
   "id": "4ac62743-9c15-454f-8a73-34c5dac05040",
   "metadata": {},
   "outputs": [
    {
     "name": "stdout",
     "output_type": "stream",
     "text": [
      "2\n",
      "4\n"
     ]
    }
   ],
   "source": [
    "for sayi in range(1,6):\n",
    "    if sayi%2==0: #çift sayı sorgulama mantığı\n",
    "        print(sayi)"
   ]
  },
  {
   "cell_type": "code",
   "execution_count": 37,
   "id": "54faeea9-4dde-4768-8c30-7855834b28cd",
   "metadata": {},
   "outputs": [
    {
     "name": "stdout",
     "output_type": "stream",
     "text": [
      "1\n",
      "3\n",
      "5\n"
     ]
    }
   ],
   "source": [
    "for sayi in range(1,6):\n",
    "    if sayi%2==0: \n",
    "        continue\n",
    "    print(sayi)"
   ]
  },
  {
   "cell_type": "code",
   "execution_count": 34,
   "id": "e030569a-f268-4edf-a85e-382254838a74",
   "metadata": {},
   "outputs": [
    {
     "name": "stdout",
     "output_type": "stream",
     "text": [
      "1\n",
      "3\n",
      "5\n"
     ]
    }
   ],
   "source": [
    "for sayi in range(1,6):\n",
    "    if sayi%2!=0: \n",
    "        print(sayi)"
   ]
  },
  {
   "cell_type": "markdown",
   "id": "65ebdf6e-d685-4fe9-b7f5-67b90e9574bc",
   "metadata": {
    "jp-MarkdownHeadingCollapsed": true
   },
   "source": [
    "# pass"
   ]
  },
  {
   "cell_type": "code",
   "execution_count": 40,
   "id": "60af7970-68a9-4b60-9589-2de160cb9849",
   "metadata": {},
   "outputs": [
    {
     "name": "stdout",
     "output_type": "stream",
     "text": [
      "1\n",
      "3\n",
      "5\n"
     ]
    }
   ],
   "source": [
    "for sayi in range(1,6):\n",
    "    if sayi%2==0: \n",
    "        pass # else gerektirir!!!\n",
    "    else:\n",
    "        print(sayi)"
   ]
  },
  {
   "cell_type": "code",
   "execution_count": 42,
   "id": "ec266f76-50d7-40f2-b4cf-6792b462bdf4",
   "metadata": {},
   "outputs": [
    {
     "ename": "IndentationError",
     "evalue": "expected an indented block after 'if' statement on line 1 (601663463.py, line 3)",
     "output_type": "error",
     "traceback": [
      "\u001b[0;36m  Cell \u001b[0;32mIn[42], line 3\u001b[0;36m\u001b[0m\n\u001b[0;31m    else:\u001b[0m\n\u001b[0m    ^\u001b[0m\n\u001b[0;31mIndentationError\u001b[0m\u001b[0;31m:\u001b[0m expected an indented block after 'if' statement on line 1\n"
     ]
    }
   ],
   "source": [
    "if sayi <5:\n",
    "    #henüz oluşturulmayan çıktıları eleyip sorunları gidermede de kullanılabilir\n",
    "else:\n",
    "    print(\"Hey\")"
   ]
  },
  {
   "cell_type": "code",
   "execution_count": 43,
   "id": "a7b6bb4e-11d3-4313-b73c-46da25bef625",
   "metadata": {},
   "outputs": [
    {
     "name": "stdout",
     "output_type": "stream",
     "text": [
      "Hey\n"
     ]
    }
   ],
   "source": [
    "if sayi <5:\n",
    "    pass\n",
    "else:\n",
    "    print(\"Hey\")"
   ]
  },
  {
   "cell_type": "code",
   "execution_count": null,
   "id": "7e8a9b23-56fd-4c00-8cd0-7639f5937376",
   "metadata": {},
   "outputs": [],
   "source": []
  }
 ],
 "metadata": {
  "kernelspec": {
   "display_name": "Python 3 (ipykernel)",
   "language": "python",
   "name": "python3"
  },
  "language_info": {
   "codemirror_mode": {
    "name": "ipython",
    "version": 3
   },
   "file_extension": ".py",
   "mimetype": "text/x-python",
   "name": "python",
   "nbconvert_exporter": "python",
   "pygments_lexer": "ipython3",
   "version": "3.10.9"
  }
 },
 "nbformat": 4,
 "nbformat_minor": 5
}
