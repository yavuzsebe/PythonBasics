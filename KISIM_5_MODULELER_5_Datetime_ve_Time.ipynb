{
 "cells": [
  {
   "cell_type": "markdown",
   "id": "3b3a6eb2-8aa7-4317-b285-dfa612dd5cda",
   "metadata": {},
   "source": [
    "# datetime"
   ]
  },
  {
   "cell_type": "code",
   "execution_count": 1,
   "id": "c2e40d62-86ad-4b68-88ac-d993d37acb7b",
   "metadata": {},
   "outputs": [],
   "source": [
    "import datetime"
   ]
  },
  {
   "cell_type": "markdown",
   "id": "5d114df0-0eb5-4927-b66e-094e4dfa216f",
   "metadata": {
    "jp-MarkdownHeadingCollapsed": true
   },
   "source": [
    "### datetime.date"
   ]
  },
  {
   "cell_type": "code",
   "execution_count": 3,
   "id": "e3e409a1-319b-42f7-b87d-680b40b5de3c",
   "metadata": {},
   "outputs": [],
   "source": [
    "from datetime import date"
   ]
  },
  {
   "cell_type": "code",
   "execution_count": 4,
   "id": "428afc9e-0572-40e0-9160-30382023a4cd",
   "metadata": {},
   "outputs": [
    {
     "data": {
      "text/plain": [
       "datetime.date(2024, 2, 23)"
      ]
     },
     "execution_count": 4,
     "metadata": {},
     "output_type": "execute_result"
    }
   ],
   "source": [
    "bugun=date.today()\n",
    "bugun"
   ]
  },
  {
   "cell_type": "code",
   "execution_count": 5,
   "id": "23b826ea-fb3d-45b5-9e7e-3e7c6454223e",
   "metadata": {},
   "outputs": [
    {
     "data": {
      "text/plain": [
       "datetime.date(2024, 2, 22)"
      ]
     },
     "execution_count": 5,
     "metadata": {},
     "output_type": "execute_result"
    }
   ],
   "source": [
    "dun=date(2024,2,22)\n",
    "dun"
   ]
  },
  {
   "cell_type": "code",
   "execution_count": 6,
   "id": "c4a36167-a5e8-4da8-9208-39125f5e5124",
   "metadata": {},
   "outputs": [
    {
     "data": {
      "text/plain": [
       "datetime.timedelta(days=1)"
      ]
     },
     "execution_count": 6,
     "metadata": {},
     "output_type": "execute_result"
    }
   ],
   "source": [
    "bugun-dun"
   ]
  },
  {
   "cell_type": "code",
   "execution_count": 9,
   "id": "eff6a62c-7a24-41e5-b0b2-f1aa8bd58c50",
   "metadata": {},
   "outputs": [
    {
     "data": {
      "text/plain": [
       "datetime.date(2024, 2, 24)"
      ]
     },
     "execution_count": 9,
     "metadata": {},
     "output_type": "execute_result"
    }
   ],
   "source": [
    "yarin=bugun+datetime.timedelta(days=1)\n",
    "yarin"
   ]
  },
  {
   "cell_type": "code",
   "execution_count": 10,
   "id": "105630ac-98cd-4a22-88b3-d23661408a3d",
   "metadata": {},
   "outputs": [
    {
     "data": {
      "text/plain": [
       "1"
      ]
     },
     "execution_count": 10,
     "metadata": {},
     "output_type": "execute_result"
    }
   ],
   "source": [
    "(bugun-dun).days"
   ]
  },
  {
   "cell_type": "code",
   "execution_count": 11,
   "id": "2f22fa14-06f5-4c68-8507-f0b4ab56151c",
   "metadata": {},
   "outputs": [
    {
     "data": {
      "text/plain": [
       "1"
      ]
     },
     "execution_count": 11,
     "metadata": {},
     "output_type": "execute_result"
    }
   ],
   "source": [
    "zaman_araligi=(bugun-dun)\n",
    "zaman_araligi.days #days() değil sadece days"
   ]
  },
  {
   "cell_type": "code",
   "execution_count": 12,
   "id": "cfe20270-a3e8-4d22-bf9f-fd7b9c17578f",
   "metadata": {},
   "outputs": [
    {
     "data": {
      "text/plain": [
       "False"
      ]
     },
     "execution_count": 12,
     "metadata": {},
     "output_type": "execute_result"
    }
   ],
   "source": [
    "dun > bugun"
   ]
  },
  {
   "cell_type": "code",
   "execution_count": 13,
   "id": "da6e96b6-9496-4ebd-882f-0ec965cd46f4",
   "metadata": {},
   "outputs": [
    {
     "data": {
      "text/plain": [
       "2024"
      ]
     },
     "execution_count": 13,
     "metadata": {},
     "output_type": "execute_result"
    }
   ],
   "source": [
    "bugun.year"
   ]
  },
  {
   "cell_type": "code",
   "execution_count": 14,
   "id": "1cc8a099-1754-4a1a-82d2-7cfa0ba884e8",
   "metadata": {},
   "outputs": [
    {
     "data": {
      "text/plain": [
       "2"
      ]
     },
     "execution_count": 14,
     "metadata": {},
     "output_type": "execute_result"
    }
   ],
   "source": [
    "bugun.month"
   ]
  },
  {
   "cell_type": "code",
   "execution_count": 15,
   "id": "f8407b6d-fd5d-47d5-8952-541211aa9d38",
   "metadata": {},
   "outputs": [
    {
     "data": {
      "text/plain": [
       "2"
      ]
     },
     "execution_count": 15,
     "metadata": {},
     "output_type": "execute_result"
    }
   ],
   "source": [
    "bugun.__getattribute__(\"month\") #dunder methodu ama uzun"
   ]
  },
  {
   "cell_type": "code",
   "execution_count": 16,
   "id": "5bd91c61-ec46-4c19-a2f0-3d4b96fc8d9e",
   "metadata": {},
   "outputs": [
    {
     "data": {
      "text/plain": [
       "datetime.IsoCalendarDate(year=2024, week=8, weekday=5)"
      ]
     },
     "execution_count": 16,
     "metadata": {},
     "output_type": "execute_result"
    }
   ],
   "source": [
    "date.isocalendar(bugun) #yıl, kaçıncı hafta, haftanın kaçıncı günü"
   ]
  },
  {
   "cell_type": "code",
   "execution_count": 17,
   "id": "e0cadbdc-f846-4e53-90e2-5e7ce4fdeae2",
   "metadata": {},
   "outputs": [
    {
     "data": {
      "text/plain": [
       "4"
      ]
     },
     "execution_count": 17,
     "metadata": {},
     "output_type": "execute_result"
    }
   ],
   "source": [
    "date.weekday(bugun) #haftanın kaçıncı günü ama 0dan başlayarak"
   ]
  },
  {
   "cell_type": "code",
   "execution_count": 20,
   "id": "4a6d8c83-ca86-4ac6-8b1e-8cb3e43d52cf",
   "metadata": {},
   "outputs": [
    {
     "data": {
      "text/plain": [
       "5"
      ]
     },
     "execution_count": 20,
     "metadata": {},
     "output_type": "execute_result"
    }
   ],
   "source": [
    "date.isocalendar(bugun)[2] #weekdaye direkt ulaşım"
   ]
  },
  {
   "cell_type": "code",
   "execution_count": 21,
   "id": "02715e00-a29e-4d7e-bfc6-13977bdc3273",
   "metadata": {},
   "outputs": [
    {
     "data": {
      "text/plain": [
       "'Fri Feb 23 00:00:00 2024'"
      ]
     },
     "execution_count": 21,
     "metadata": {},
     "output_type": "execute_result"
    }
   ],
   "source": [
    "date.ctime(bugun)"
   ]
  },
  {
   "cell_type": "code",
   "execution_count": 23,
   "id": "0f641170-bb86-4224-b86e-f20b47719229",
   "metadata": {},
   "outputs": [
    {
     "data": {
      "text/plain": [
       "'Fri Feb 23 00:00:00 2024'"
      ]
     },
     "execution_count": 23,
     "metadata": {},
     "output_type": "execute_result"
    }
   ],
   "source": [
    "date.ctime(date.today())"
   ]
  },
  {
   "cell_type": "markdown",
   "id": "63020d92-2be6-49ba-91e1-8802672c5856",
   "metadata": {},
   "source": [
    "### datetime.time"
   ]
  },
  {
   "cell_type": "code",
   "execution_count": 25,
   "id": "2cea1aab-6a73-4cf1-bdd1-4288e5aa67fd",
   "metadata": {},
   "outputs": [],
   "source": [
    "from datetime import time"
   ]
  },
  {
   "cell_type": "code",
   "execution_count": 26,
   "id": "307b14a6-14b8-4eb7-8ec2-c93582d51ca9",
   "metadata": {},
   "outputs": [
    {
     "name": "stdout",
     "output_type": "stream",
     "text": [
      "21:15:05\n"
     ]
    }
   ],
   "source": [
    "zaman = time(21,15,5)\n",
    "print(zaman)"
   ]
  },
  {
   "cell_type": "code",
   "execution_count": 27,
   "id": "c54df41c-4c4f-468c-9958-c07ee4fbdb56",
   "metadata": {},
   "outputs": [
    {
     "data": {
      "text/plain": [
       "21"
      ]
     },
     "execution_count": 27,
     "metadata": {},
     "output_type": "execute_result"
    }
   ],
   "source": [
    "zaman.hour"
   ]
  },
  {
   "cell_type": "code",
   "execution_count": 28,
   "id": "487a279c-3606-4785-9fd4-f997d08dea1e",
   "metadata": {},
   "outputs": [
    {
     "data": {
      "text/plain": [
       "15"
      ]
     },
     "execution_count": 28,
     "metadata": {},
     "output_type": "execute_result"
    }
   ],
   "source": [
    "zaman.minute"
   ]
  },
  {
   "cell_type": "code",
   "execution_count": 29,
   "id": "713a2541-4f33-4614-8ae6-00df90a7d3ff",
   "metadata": {},
   "outputs": [
    {
     "data": {
      "text/plain": [
       "5"
      ]
     },
     "execution_count": 29,
     "metadata": {},
     "output_type": "execute_result"
    }
   ],
   "source": [
    "zaman.second"
   ]
  },
  {
   "cell_type": "markdown",
   "id": "9c6e7aaf-1b5f-4621-a83b-d34fa8cfa141",
   "metadata": {},
   "source": [
    "### datetime.datetime"
   ]
  },
  {
   "cell_type": "code",
   "execution_count": 31,
   "id": "fb4b292b-ce10-414a-a018-4dc675a29639",
   "metadata": {},
   "outputs": [
    {
     "name": "stdout",
     "output_type": "stream",
     "text": [
      "2024-02-24 11:05:03\n"
     ]
    }
   ],
   "source": [
    "dt = datetime.datetime(2024,2,24,11,5,3)\n",
    "print(dt)"
   ]
  },
  {
   "cell_type": "code",
   "execution_count": 32,
   "id": "5f1d87f3-ad6a-4420-a3a7-9eb2fe9e1b0e",
   "metadata": {},
   "outputs": [
    {
     "data": {
      "text/plain": [
       "24"
      ]
     },
     "execution_count": 32,
     "metadata": {},
     "output_type": "execute_result"
    }
   ],
   "source": [
    "dt.day"
   ]
  },
  {
   "cell_type": "markdown",
   "id": "8eda5ff5-95b7-446f-8810-db1334ec3db7",
   "metadata": {},
   "source": [
    "# time"
   ]
  },
  {
   "cell_type": "code",
   "execution_count": 33,
   "id": "1c6f82dc-7afc-4797-8830-8f551dfc0b00",
   "metadata": {},
   "outputs": [],
   "source": [
    "import time"
   ]
  },
  {
   "cell_type": "code",
   "execution_count": 34,
   "id": "70997ea2-4fed-4dfb-b835-1b67233b7f75",
   "metadata": {},
   "outputs": [
    {
     "data": {
      "text/plain": [
       "1708692075.4932039"
      ]
     },
     "execution_count": 34,
     "metadata": {},
     "output_type": "execute_result"
    }
   ],
   "source": [
    "time.time() #şu andaki mevcut zaman ama okunaklı değil 60a bölünmeli"
   ]
  },
  {
   "cell_type": "code",
   "execution_count": 35,
   "id": "19fe21ef-757a-4cb0-b08f-b4d2022abdd9",
   "metadata": {},
   "outputs": [
    {
     "name": "stdout",
     "output_type": "stream",
     "text": [
      "Başlangıç zaman:\t1708692206.065089\n",
      "Bitiş zamanı:\t1708692211.068798\n",
      "Çalışma süresi:\t5.003709077835083\n"
     ]
    }
   ],
   "source": [
    "startTime=time.time()\n",
    "print(\"Başlangıç zaman:\\t{}\".format(startTime))\n",
    "time.sleep(5) # 5 saniye donuyor \n",
    "finishTime=time.time()\n",
    "print(\"Bitiş zamanı:\\t{}\".format(finishTime))\n",
    "print(\"Çalışma süresi:\\t{}\".format(finishTime-startTime))"
   ]
  },
  {
   "cell_type": "code",
   "execution_count": 37,
   "id": "720e5cdc-d402-4608-85ce-146a7b0a7c85",
   "metadata": {},
   "outputs": [
    {
     "name": "stdout",
     "output_type": "stream",
     "text": [
      "Başlangıç zaman:\t1708692231.8511732\n",
      "Bitiş zamanı:\t1708692232.8586838\n",
      "Çalışma süresi:\t1.0075106620788574\n"
     ]
    }
   ],
   "source": [
    "startTime=time.time()\n",
    "print(\"Başlangıç zaman:\\t{}\".format(startTime))\n",
    "time.sleep(1) # 1 saniye donuyor \n",
    "finishTime=time.time()\n",
    "print(\"Bitiş zamanı:\\t{}\".format(finishTime))\n",
    "print(\"Çalışma süresi:\\t{}\".format(finishTime-startTime))"
   ]
  },
  {
   "cell_type": "code",
   "execution_count": null,
   "id": "7cfbc77c-5fe2-441a-8ca3-c71f390ebff6",
   "metadata": {},
   "outputs": [],
   "source": []
  }
 ],
 "metadata": {
  "kernelspec": {
   "display_name": "Python 3 (ipykernel)",
   "language": "python",
   "name": "python3"
  },
  "language_info": {
   "codemirror_mode": {
    "name": "ipython",
    "version": 3
   },
   "file_extension": ".py",
   "mimetype": "text/x-python",
   "name": "python",
   "nbconvert_exporter": "python",
   "pygments_lexer": "ipython3",
   "version": "3.10.9"
  }
 },
 "nbformat": 4,
 "nbformat_minor": 5
}
