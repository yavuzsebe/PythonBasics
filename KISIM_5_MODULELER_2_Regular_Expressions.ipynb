{
 "cells": [
  {
   "cell_type": "markdown",
   "id": "eed8d7cf-8807-4554-86ed-e219b5fac233",
   "metadata": {},
   "source": [
    "## REGular EXpressions (REGEX)"
   ]
  },
  {
   "cell_type": "code",
   "execution_count": 1,
   "id": "fc426482-34b5-4021-9476-456e1c2c512c",
   "metadata": {},
   "outputs": [],
   "source": [
    "import re"
   ]
  },
  {
   "cell_type": "code",
   "execution_count": 2,
   "id": "12657a05-92d2-4c06-a5f2-9a9cf40ed9b5",
   "metadata": {},
   "outputs": [
    {
     "data": {
      "text/plain": [
       "<re.Match object; span=(23, 27), match='Türk'>"
      ]
     },
     "execution_count": 2,
     "metadata": {},
     "output_type": "execute_result"
    }
   ],
   "source": [
    "cumle = \"Mustafa Kemal Atatürk, Türk asker, devlet adamı ve Türkiye Cumhuriyeti'nin kurucusudur.\"\n",
    "patern = \"Türk\"\n",
    "\n",
    "re.search(patern, cumle) #belirlenen paterni cümle içinde arar ve çeşitli parametrelerini verir"
   ]
  },
  {
   "cell_type": "code",
   "execution_count": 3,
   "id": "98fcb7c8-b674-41ce-8111-62ed618417ea",
   "metadata": {},
   "outputs": [
    {
     "data": {
      "text/plain": [
       "(23, 27)"
      ]
     },
     "execution_count": 3,
     "metadata": {},
     "output_type": "execute_result"
    }
   ],
   "source": [
    "durum = re.search(patern, cumle)\n",
    "durum.span()"
   ]
  },
  {
   "cell_type": "code",
   "execution_count": 4,
   "id": "8f2a3b2e-d49f-4c41-aca2-3be2a86bd860",
   "metadata": {},
   "outputs": [
    {
     "data": {
      "text/plain": [
       "['__class__',\n",
       " '__class_getitem__',\n",
       " '__copy__',\n",
       " '__deepcopy__',\n",
       " '__delattr__',\n",
       " '__dir__',\n",
       " '__doc__',\n",
       " '__eq__',\n",
       " '__format__',\n",
       " '__ge__',\n",
       " '__getattribute__',\n",
       " '__getitem__',\n",
       " '__gt__',\n",
       " '__hash__',\n",
       " '__init__',\n",
       " '__init_subclass__',\n",
       " '__le__',\n",
       " '__lt__',\n",
       " '__module__',\n",
       " '__ne__',\n",
       " '__new__',\n",
       " '__reduce__',\n",
       " '__reduce_ex__',\n",
       " '__repr__',\n",
       " '__setattr__',\n",
       " '__sizeof__',\n",
       " '__str__',\n",
       " '__subclasshook__',\n",
       " 'end',\n",
       " 'endpos',\n",
       " 'expand',\n",
       " 'group',\n",
       " 'groupdict',\n",
       " 'groups',\n",
       " 'lastgroup',\n",
       " 'lastindex',\n",
       " 'pos',\n",
       " 're',\n",
       " 'regs',\n",
       " 'span',\n",
       " 'start',\n",
       " 'string']"
      ]
     },
     "execution_count": 4,
     "metadata": {},
     "output_type": "execute_result"
    }
   ],
   "source": [
    "dir(durum)"
   ]
  },
  {
   "cell_type": "code",
   "execution_count": 6,
   "id": "bfba7cf5-8e47-41e5-8ea5-d41f81f8cf62",
   "metadata": {},
   "outputs": [
    {
     "data": {
      "text/plain": [
       "23"
      ]
     },
     "execution_count": 6,
     "metadata": {},
     "output_type": "execute_result"
    }
   ],
   "source": [
    "durum.start()"
   ]
  },
  {
   "cell_type": "code",
   "execution_count": 7,
   "id": "59da021c-ce2c-4f9f-8088-2d703627b92e",
   "metadata": {},
   "outputs": [
    {
     "data": {
      "text/plain": [
       "27"
      ]
     },
     "execution_count": 7,
     "metadata": {},
     "output_type": "execute_result"
    }
   ],
   "source": [
    "durum.end()"
   ]
  },
  {
   "cell_type": "code",
   "execution_count": 8,
   "id": "7edd71c4-d25f-4fd3-9294-55a274dcb39d",
   "metadata": {},
   "outputs": [
    {
     "data": {
      "text/plain": [
       "'Türk'"
      ]
     },
     "execution_count": 8,
     "metadata": {},
     "output_type": "execute_result"
    }
   ],
   "source": [
    "durum.group()"
   ]
  },
  {
   "cell_type": "markdown",
   "id": "fd26e646-7bdd-4e83-9737-1fab57ee3f32",
   "metadata": {
    "jp-MarkdownHeadingCollapsed": true
   },
   "source": [
    "### Çoklu Eşleşmelerde (match) Kullanım"
   ]
  },
  {
   "cell_type": "code",
   "execution_count": 10,
   "id": "9b9da40d-9a2d-48c0-8146-bf5b2afb7d92",
   "metadata": {},
   "outputs": [
    {
     "name": "stdout",
     "output_type": "stream",
     "text": [
      "Türk\n",
      "Türk\n"
     ]
    }
   ],
   "source": [
    "for eslesme in re.findall(patern, cumle): #findall tüm eşleşmeleri verir ancak konumları görünmez\n",
    "    print(eslesme)"
   ]
  },
  {
   "cell_type": "code",
   "execution_count": 11,
   "id": "5160a845-1bee-4553-aca3-6cf524794ccc",
   "metadata": {},
   "outputs": [
    {
     "name": "stdout",
     "output_type": "stream",
     "text": [
      "(23, 27) Türk\n",
      "(51, 55) Türk\n"
     ]
    }
   ],
   "source": [
    "for eslesme in re.finditer(patern, cumle):\n",
    "    print(eslesme.span(), eslesme.group())"
   ]
  },
  {
   "cell_type": "code",
   "execution_count": 12,
   "id": "a429b1ca-b269-4e2d-bfa5-a061685149b2",
   "metadata": {},
   "outputs": [
    {
     "ename": "AttributeError",
     "evalue": "'str' object has no attribute 'span'",
     "output_type": "error",
     "traceback": [
      "\u001b[0;31m---------------------------------------------------------------------------\u001b[0m",
      "\u001b[0;31mAttributeError\u001b[0m                            Traceback (most recent call last)",
      "Cell \u001b[0;32mIn[12], line 2\u001b[0m\n\u001b[1;32m      1\u001b[0m \u001b[38;5;28;01mfor\u001b[39;00m eslesme \u001b[38;5;129;01min\u001b[39;00m re\u001b[38;5;241m.\u001b[39mfindall(patern, cumle): \u001b[38;5;66;03m#findall böyle çalışmaz finditer çalışır\u001b[39;00m\n\u001b[0;32m----> 2\u001b[0m     \u001b[38;5;28mprint\u001b[39m(\u001b[43meslesme\u001b[49m\u001b[38;5;241;43m.\u001b[39;49m\u001b[43mspan\u001b[49m(), eslesme\u001b[38;5;241m.\u001b[39mgroup())\n",
      "\u001b[0;31mAttributeError\u001b[0m: 'str' object has no attribute 'span'"
     ]
    }
   ],
   "source": [
    "for eslesme in re.findall(patern, cumle): #findall böyle çalışmaz finditer çalışır\n",
    "    print(eslesme.span(), eslesme.group())"
   ]
  },
  {
   "cell_type": "markdown",
   "id": "e076738a-98f8-47b4-940c-15f089631e8f",
   "metadata": {},
   "source": [
    "### Dinamik Kullanım"
   ]
  },
  {
   "cell_type": "raw",
   "id": "dbacf2c4-3254-45b0-8124-d507c2c36fbb",
   "metadata": {},
   "source": [
    "###############################################################################\n",
    "####### Ifade ########## Aciklama ######## Örnek ########### Patern ###########\n",
    "####### --------------------------------------------------------------- #######\n",
    "#######  \\d   #########   rakam  #######  base42  #########  base\\d\\d #########\n",
    "#######  \\w   ########   karakter  #####   R2-D2  ######### \\w\\w\\w\\w\\w ########\n",
    "#######  \\s   ########    bosluk  ###### Ping Pong ######## Ping\\sPong ########\n",
    "#######  \\D   #######   rakam degil  #####  base  #########  \\D\\D\\D\\D #########\n",
    "#######  \\W   #####   karakter degil  ###   R2D2  ######### \\W\\W\\W\\W ##########\n",
    "#######  \\S   #####    bosluk degil ##### PingPong ### \\S\\S\\S\\S\\S\\S\\S\\S #######\n",
    "####### --------------------------------------------------------------- #######\n",
    "###############################################################################"
   ]
  },
  {
   "cell_type": "code",
   "execution_count": 17,
   "id": "8aaf7e5a-4afc-4987-adfc-8be2fcd41cf1",
   "metadata": {},
   "outputs": [
    {
     "data": {
      "text/plain": [
       "<re.Match object; span=(18, 24), match='base42'>"
      ]
     },
     "execution_count": 17,
     "metadata": {},
     "output_type": "execute_result"
    }
   ],
   "source": [
    "ornek = \"En sevdiğim kanal base42.\" \n",
    "patern = r\"base\\d\\d\" #base ile başlayıp sonrasında 2 rakam gelen elemanlar aranır, r kullanımı tavsiye edilir pythonista stili\n",
    "re.search(patern, ornek)"
   ]
  },
  {
   "cell_type": "code",
   "execution_count": 20,
   "id": "6859ca2d-a573-4405-b358-dc3c64846b0e",
   "metadata": {},
   "outputs": [
    {
     "data": {
      "text/plain": [
       "<re.Match object; span=(29, 41), match='0535-9998877'>"
      ]
     },
     "execution_count": 20,
     "metadata": {},
     "output_type": "execute_result"
    }
   ],
   "source": [
    "cumle = \"Selam, benim telefon numaram 0535-9998877\"\n",
    "patern = r\"\\d\\d\\d\\d-\\d\\d\\d\\d\\d\\d\\d\"\n",
    "\n",
    "re.search(patern, cumle)"
   ]
  },
  {
   "cell_type": "raw",
   "id": "7b9be3d6-2510-49af-89dc-e04c22685df3",
   "metadata": {},
   "source": [
    "######## Ifade ####### Aciklama ######## Örnek ############# Patern ############\n",
    "####### ---------------------------------------------------------------- #######\n",
    "#######  {5}   ########  adet  #######  aaaaa  #########    \\w{5}     ##########\n",
    "#######  {3,4} #######   veya  #######   abc  ##########   \\w{3,4}     #########\n",
    "#######  {2,}  ########  en az  ##### 198721321 ########    \\d{2,}     #########\n",
    "#######    *   ###  0 ya da fazla #######  x  ##########     \\w*        ########\n",
    "#######    +   ### 1 ya da fazla ######  Ahmet1  #######    \\w+\\d+     #########\n",
    "#######    ?   #####  ya 1 ya hic ####### Mura #########     Murat?       ######\n",
    "####### --------------------------------------------------------------- ########\n",
    "################################################################################"
   ]
  },
  {
   "cell_type": "code",
   "execution_count": 23,
   "id": "6ac894d4-d0e3-4724-8f8f-9c69d9962aa6",
   "metadata": {},
   "outputs": [
    {
     "data": {
      "text/plain": [
       "<re.Match object; span=(29, 41), match='0535-9998877'>"
      ]
     },
     "execution_count": 23,
     "metadata": {},
     "output_type": "execute_result"
    }
   ],
   "source": [
    "cumle = \"Selam, benim telefon numaram 0535-9998877\"\n",
    "patern = r\"\\d{3,4}-\\d{7}\" #3 veya 4 - 7\n",
    "\n",
    "re.search(patern, cumle)"
   ]
  },
  {
   "cell_type": "code",
   "execution_count": 24,
   "id": "23cd01a9-1d4f-4fd2-be0c-8973ec335345",
   "metadata": {},
   "outputs": [
    {
     "data": {
      "text/plain": [
       "<re.Match object; span=(30, 41), match='535-9998877'>"
      ]
     },
     "execution_count": 24,
     "metadata": {},
     "output_type": "execute_result"
    }
   ],
   "source": [
    "cumle = \"Selam, benim telefon numaram 0535-9998877\"\n",
    "patern = r\"\\d{3}-\\d{7}\" #3 - 7 dediğimizde baştaki sıfırı yok etti ki işimize gelebilir\n",
    "\n",
    "re.search(patern, cumle)"
   ]
  },
  {
   "cell_type": "code",
   "execution_count": 26,
   "id": "5d33a841-d4a8-4b19-8702-a8047134ff91",
   "metadata": {},
   "outputs": [
    {
     "data": {
      "text/plain": [
       "<re.Match object; span=(2, 11), match=' sevdigim'>"
      ]
     },
     "execution_count": 26,
     "metadata": {},
     "output_type": "execute_result"
    }
   ],
   "source": [
    "cumle = \"En sevdigim kanal base42.\"\n",
    "patern = r\"\\s\\w{5,}\" #boşlukla başlayacak (kelimeyi başından al) ve 4 karakter takip edecek\n",
    "re.search(patern, cumle) #ilkini alır"
   ]
  },
  {
   "cell_type": "code",
   "execution_count": 31,
   "id": "e72cf23c-a26c-48d2-a90b-6de7ff241f73",
   "metadata": {},
   "outputs": [
    {
     "name": "stdout",
     "output_type": "stream",
     "text": [
      "(2, 11)  sevdigim\n",
      "(11, 17)  kanal\n",
      "(17, 24)  base42\n"
     ]
    }
   ],
   "source": [
    "cumle = \"En sevdigim kanal base42.\"\n",
    "patern = r\"\\s\\w{5,}\"\n",
    "for match in re.finditer(patern, cumle):\n",
    "    print(match.span(), match.group())"
   ]
  },
  {
   "cell_type": "code",
   "execution_count": 34,
   "id": "ed63b69c-d09e-49c3-8d43-3514c3e8971a",
   "metadata": {},
   "outputs": [
    {
     "name": "stdout",
     "output_type": "stream",
     "text": [
      "(0, 0) \n",
      "(1, 1) \n",
      "(2, 2) \n",
      "(3, 3) \n",
      "(4, 4) \n",
      "(5, 5) \n",
      "(6, 6) \n",
      "(7, 7) \n",
      "(8, 8) \n",
      "(9, 9) \n",
      "(10, 10) \n",
      "(11, 11) \n",
      "(12, 12) \n",
      "(13, 13) \n",
      "(14, 14) \n",
      "(15, 15) \n",
      "(16, 16) \n",
      "(17, 17) \n",
      "(18, 18) \n",
      "(19, 19) \n",
      "(20, 20) \n",
      "(21, 21) \n",
      "(22, 23) 4\n",
      "(23, 24) 2\n",
      "(24, 24) \n",
      "(25, 25) \n"
     ]
    }
   ],
   "source": [
    "patern = r\"\\d?\"\n",
    "for match in re.finditer(patern, cumle):\n",
    "    print(match.span(), match.group())"
   ]
  },
  {
   "cell_type": "code",
   "execution_count": 41,
   "id": "6f302176-0727-46fe-8159-d42f048feeb3",
   "metadata": {},
   "outputs": [
    {
     "name": "stdout",
     "output_type": "stream",
     "text": [
      "(22, 24) 42\n"
     ]
    }
   ],
   "source": [
    "patern = r\"\\d+\" # bir ya da daha fazla sayı\n",
    "for match in re.finditer(patern, cumle):\n",
    "    print(match.span(), match.group())"
   ]
  },
  {
   "cell_type": "code",
   "execution_count": 42,
   "id": "07d18b57-e2ca-494f-97ac-cc2dc2321545",
   "metadata": {},
   "outputs": [
    {
     "name": "stdout",
     "output_type": "stream",
     "text": [
      "(18, 24) base42\n"
     ]
    }
   ],
   "source": [
    "patern = r\"\\w*\\d+\" #harf olsun olmasın, bir ya da daha fazla sayı\n",
    "                   #üsttekinden farkı artık bunu group ile çağırdığımızda kelime de beraberinde gelecek\n",
    "for match in re.finditer(patern, cumle):\n",
    "    print(match.span(), match.group())"
   ]
  },
  {
   "cell_type": "code",
   "execution_count": 43,
   "id": "1b6f2fd3-d118-4bdd-9c23-639e54f040b3",
   "metadata": {},
   "outputs": [
    {
     "name": "stdout",
     "output_type": "stream",
     "text": [
      "(18, 20) 42\n"
     ]
    }
   ],
   "source": [
    "cumle = \"En sevdigim kanal 42base.\" #42nin yerini değiştirirsek öyle olmaz ama\n",
    "patern = r\"\\w*\\d+\" \n",
    "\n",
    "for match in re.finditer(patern, cumle):\n",
    "    print(match.span(), match.group())"
   ]
  },
  {
   "cell_type": "code",
   "execution_count": 44,
   "id": "aedfbf1d-0726-4163-838e-b864e95dc8ec",
   "metadata": {},
   "outputs": [
    {
     "name": "stdout",
     "output_type": "stream",
     "text": [
      "(18, 24) 42base\n"
     ]
    }
   ],
   "source": [
    "cumle = \"En sevdigim kanal 42base.\" #böyle olabilir\n",
    "patern = r\"\\w*\\d+\\w*\" \n",
    "\n",
    "for match in re.finditer(patern, cumle):\n",
    "    print(match.span(), match.group())"
   ]
  },
  {
   "cell_type": "raw",
   "id": "e7d00fe9-f4e9-4cbb-bd9b-4861b92b81ec",
   "metadata": {},
   "source": [
    "### GSM Operatörleri:\n",
    "# 54...         -> Vodafone\n",
    "# 501,505,506   -> Turk Telekom\n",
    "# 53...         -> Turkcell"
   ]
  },
  {
   "cell_type": "code",
   "execution_count": 59,
   "id": "16849db5-2cc4-4d9f-bfdb-1f5f80da32f5",
   "metadata": {},
   "outputs": [],
   "source": [
    "def gsm_operator_bul(tel_no):\n",
    "    patern= r\"(\\d{3,4})-(\\d{7})\" # \\d{3,4} bize 0xxx verir ve bu if leri döndürmede sıkıntı yaşatacak\n",
    "    match = re.search(patern, tel_no)\n",
    "\n",
    "    if match:\n",
    "        kod = match.group()[0] #group yazmak bize 0 veya 5 sayısını verir \n",
    "        print(kod)\n",
    "        if kod.startswith(\"54\"):\n",
    "            return \"Vodafone\"\n",
    "        if kod.startswith(\"501\") or kod.startswith(\"505\") or kod.startswith(\"506\"):\n",
    "            return \"Turk Telekom\"\n",
    "        if kod.startswith(\"53\"):\n",
    "            return \"Turkcell\"\n",
    "        else:\n",
    "            return \"Operator bilinmiyor.\"\n",
    "    else:\n",
    "        return \"Patern bulunamadı.\""
   ]
  },
  {
   "cell_type": "code",
   "execution_count": 60,
   "id": "b67b8e88-8e25-4f3c-b85f-86ca4c168e65",
   "metadata": {},
   "outputs": [
    {
     "name": "stdout",
     "output_type": "stream",
     "text": [
      "0\n"
     ]
    },
    {
     "data": {
      "text/plain": [
       "'Operator bilinmiyor.'"
      ]
     },
     "execution_count": 60,
     "metadata": {},
     "output_type": "execute_result"
    }
   ],
   "source": [
    "tel_no = \"0535-8886622.\"\n",
    "gsm_operator_bul(tel_no)"
   ]
  },
  {
   "cell_type": "code",
   "execution_count": 61,
   "id": "a62745a3-435d-4de1-811b-652c4d0fc2c7",
   "metadata": {},
   "outputs": [],
   "source": [
    "def gsm_operator_bul(tel_no):\n",
    "    patern= r\"(\\d{3})-(\\d{7})\" # \\d{3} yaparsak çalışır\n",
    "    match = re.search(patern, tel_no)\n",
    "\n",
    "    if match:\n",
    "        kod = match.groups()[0]\n",
    "        print(kod)\n",
    "        if kod.startswith(\"54\"):\n",
    "            return \"Vodafone\"\n",
    "        if kod.startswith(\"501\") or kod.startswith(\"505\") or kod.startswith(\"506\"):\n",
    "            return \"Turk Telekom\"\n",
    "        if kod.startswith(\"53\"):\n",
    "            return \"Turkcell\"\n",
    "        else:\n",
    "            return \"Operator bilinmiyor.\"\n",
    "    else:\n",
    "        return \"Patern bulunamadı.\""
   ]
  },
  {
   "cell_type": "code",
   "execution_count": 62,
   "id": "84216328-237e-4766-b964-a8cff5a05061",
   "metadata": {},
   "outputs": [
    {
     "name": "stdout",
     "output_type": "stream",
     "text": [
      "535\n"
     ]
    },
    {
     "data": {
      "text/plain": [
       "'Turkcell'"
      ]
     },
     "execution_count": 62,
     "metadata": {},
     "output_type": "execute_result"
    }
   ],
   "source": [
    "tel_no = \"0535-8886622.\"\n",
    "gsm_operator_bul(tel_no)"
   ]
  },
  {
   "cell_type": "code",
   "execution_count": 63,
   "id": "fb35afbc-2c99-41e1-9671-723772f898f8",
   "metadata": {},
   "outputs": [
    {
     "name": "stdout",
     "output_type": "stream",
     "text": [
      "535\n"
     ]
    },
    {
     "data": {
      "text/plain": [
       "'Turkcell'"
      ]
     },
     "execution_count": 63,
     "metadata": {},
     "output_type": "execute_result"
    }
   ],
   "source": [
    "tel_no = \"Selam, benim telefon numaram 0535-8886622.\" #cümle içinde de bulabilir çünkü biz sayıları arıyoruz sadece\n",
    "gsm_operator_bul(tel_no)"
   ]
  },
  {
   "cell_type": "raw",
   "id": "03f64bc7-0bff-4e0e-be3f-0a1c2970ab9d",
   "metadata": {},
   "source": [
    "######## Ifade ####### Aciklama ######## Örnek ############# Patern ############\n",
    "####### ---------------------------------------------------------------- #######\n",
    "#######    |   ########  veya  #######  slm  #########    selam|slm   ##########\n",
    "#######    ^    ####### baslar  #######  Ahmet  ##########   ^\\w+      #########\n",
    "#######    $   ########  biter   ##### base42   ########     \\d$       #########\n",
    "#######    .   ######  herhangi  #####  abcdef  ########      .*       #########\n",
    "#######    \\   ########  esc     #####  (not)   ########   \\(\\w{3}\\)   #########\n",
    "####### --------------------------------------------------------------- ########\n",
    "################################################################################"
   ]
  },
  {
   "cell_type": "code",
   "execution_count": 64,
   "id": "3c16c1d6-b560-4778-a6df-363d634cdb95",
   "metadata": {},
   "outputs": [],
   "source": [
    "import re\n",
    "\n",
    "def mesaj_hissi_bul(mesaj):\n",
    "    hisler = []\n",
    "    \n",
    "    pozitif_patern = r\"(merhaba|selam|ask|sevgi|dost|kardes|:\\)+)\"\n",
    "    negatif_patern = r\"(lan|aptal|abv|yeter|birak)\"\n",
    "    \n",
    "    heyecanli_patern = r\"!|[!|?]{2,}$\"\n",
    "    sakin_patern = r\"^[Tabi+|Hayhay]\"\n",
    "    \n",
    "    emin_patern = r\"[K|k]esin|[T|t]abi|[E|e]lbet\"\n",
    "    kararsiz_patern = r\"[B|b]elki|[S|s]anirim\"\n",
    "    \n",
    "    if re.search(pozitif_patern, mesaj):\n",
    "        hisler.append(\"Pozitif\")\n",
    "    if re.search(negatif_patern, mesaj):\n",
    "        hisler.append(\"Negatif\")\n",
    "    if re.search(heyecanli_patern, mesaj):\n",
    "        hisler.append(\"Heyecanli\")\n",
    "    if re.search(sakin_patern, mesaj):\n",
    "        hisler.append(\"Sakin\")\n",
    "    if re.search(emin_patern, mesaj):\n",
    "        hisler.append(\"Emin\")\n",
    "    if re.search(kararsiz_patern, mesaj):\n",
    "        hisler.append(\"Kararsiz\")\n",
    "    \n",
    "    return hisler"
   ]
  },
  {
   "cell_type": "code",
   "execution_count": 65,
   "id": "164327c7-442b-4f99-876a-613d79dc33e4",
   "metadata": {},
   "outputs": [
    {
     "name": "stdout",
     "output_type": "stream",
     "text": [
      "Naber abi? :)              \t ['Pozitif']\n",
      "Tabiii ki buyrun           \t ['Sakin', 'Emin']\n",
      "Sacmalamayi birak artik!   \t ['Negatif', 'Heyecanli']\n",
      "Belki yarindan da yakin... \t ['Kararsiz']\n",
      "Elbet birgün bulusacagiz   \t ['Emin']\n"
     ]
    }
   ],
   "source": [
    "cumle1 = \"Naber abi? :)             \"\n",
    "cumle2 = \"Tabiii ki buyrun          \"\n",
    "cumle3 = \"Sacmalamayi birak artik!  \"\n",
    "cumle4 = \"Belki yarindan da yakin...\"\n",
    "cumle5 = \"Elbet birgün bulusacagiz  \"\n",
    "cumleler = [cumle1, cumle2, cumle3, cumle4, cumle5]\n",
    "for cumle in cumleler :\n",
    "    print(cumle, '\\t', mesaj_hissi_bul(cumle))"
   ]
  },
  {
   "cell_type": "code",
   "execution_count": null,
   "id": "dd4d7dc6-cb68-422e-886e-4a52726119fa",
   "metadata": {},
   "outputs": [],
   "source": []
  }
 ],
 "metadata": {
  "kernelspec": {
   "display_name": "Python 3 (ipykernel)",
   "language": "python",
   "name": "python3"
  },
  "language_info": {
   "codemirror_mode": {
    "name": "ipython",
    "version": 3
   },
   "file_extension": ".py",
   "mimetype": "text/x-python",
   "name": "python",
   "nbconvert_exporter": "python",
   "pygments_lexer": "ipython3",
   "version": "3.10.9"
  }
 },
 "nbformat": 4,
 "nbformat_minor": 5
}
