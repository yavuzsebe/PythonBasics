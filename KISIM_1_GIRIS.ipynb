{
 "cells": [
  {
   "cell_type": "code",
   "execution_count": 4,
   "id": "19baa893",
   "metadata": {},
   "outputs": [
    {
     "name": "stdout",
     "output_type": "stream",
     "text": [
      "Hello world\n"
     ]
    }
   ],
   "source": [
    "print(\"Hello world\")"
   ]
  },
  {
   "cell_type": "code",
   "execution_count": 5,
   "id": "053bfcc5",
   "metadata": {},
   "outputs": [
    {
     "name": "stdout",
     "output_type": "stream",
     "text": [
      "Benim adim \n",
      "Yavuz\n"
     ]
    }
   ],
   "source": [
    "print(\"Benim adim \\nYavuz\")"
   ]
  },
  {
   "cell_type": "code",
   "execution_count": 6,
   "id": "d452899f",
   "metadata": {},
   "outputs": [
    {
     "name": "stdout",
     "output_type": "stream",
     "text": [
      "Benim adim \n",
      "n\n"
     ]
    }
   ],
   "source": [
    "print(\"Benim adim \\nn\")"
   ]
  },
  {
   "cell_type": "code",
   "execution_count": 7,
   "id": "131ad1d3",
   "metadata": {},
   "outputs": [
    {
     "name": "stdout",
     "output_type": "stream",
     "text": [
      "Benim adim \t Yavuz\n"
     ]
    }
   ],
   "source": [
    "print(\"Benim adim \\t Yavuz\")"
   ]
  },
  {
   "cell_type": "markdown",
   "id": "b1960345",
   "metadata": {},
   "source": [
    "# .format() kullanımı"
   ]
  },
  {
   "cell_type": "code",
   "execution_count": 8,
   "id": "a58397f4",
   "metadata": {},
   "outputs": [
    {
     "name": "stdout",
     "output_type": "stream",
     "text": [
      "Benim adim Yavuz\n"
     ]
    }
   ],
   "source": [
    "print(\"Benim adim {}\".format(\"Yavuz\"))"
   ]
  },
  {
   "cell_type": "code",
   "execution_count": 9,
   "id": "cf35a273",
   "metadata": {},
   "outputs": [
    {
     "name": "stdout",
     "output_type": "stream",
     "text": [
      "Benim adim Yavuz, yasim 24\n"
     ]
    }
   ],
   "source": [
    "print(\"Benim adim {}, yasim {}\".format(\"Yavuz\",\"24\"))"
   ]
  },
  {
   "cell_type": "code",
   "execution_count": 10,
   "id": "399d1d05",
   "metadata": {},
   "outputs": [
    {
     "name": "stdout",
     "output_type": "stream",
     "text": [
      "Benim adim Yavuz, yasim 24\n"
     ]
    }
   ],
   "source": [
    "print(\"Benim adim {1}, yasim {0}\".format(\"24\",\"Yavuz\"))"
   ]
  },
  {
   "cell_type": "code",
   "execution_count": 14,
   "id": "1c10a0f3",
   "metadata": {},
   "outputs": [
    {
     "name": "stdout",
     "output_type": "stream",
     "text": [
      "Benim adim Yavuz, yasim 24\n"
     ]
    }
   ],
   "source": [
    "print(\"Benim adim {ad}, yasim {yas}\".format(yas=24,ad=\"Yavuz\")) #text yazdırmak için \"Yavuz\" tırnak içinde yazılmalı"
   ]
  },
  {
   "cell_type": "markdown",
   "id": "9eeb714a",
   "metadata": {
    "jp-MarkdownHeadingCollapsed": true
   },
   "source": [
    "# Değişkenler"
   ]
  },
  {
   "cell_type": "raw",
   "id": "027456f9",
   "metadata": {},
   "source": [
    "Kabul edilmeyen degisken isim atama senaryolari:\n",
    "• sayi ile baslamak\n",
    "• bosluk icermek\n",
    "• \"*(/ gibi semboller icermek\n",
    "• rezerve edilmis isimleri kullanmak"
   ]
  },
  {
   "cell_type": "code",
   "execution_count": 15,
   "id": "10e7268a",
   "metadata": {},
   "outputs": [
    {
     "name": "stdout",
     "output_type": "stream",
     "text": [
      "10\n"
     ]
    }
   ],
   "source": [
    "sayi = 10\n",
    "print(sayi)"
   ]
  },
  {
   "cell_type": "code",
   "execution_count": 16,
   "id": "0309cae6",
   "metadata": {},
   "outputs": [
    {
     "name": "stdout",
     "output_type": "stream",
     "text": [
      "11\n"
     ]
    }
   ],
   "source": [
    "sayi = 11\n",
    "print(sayi)"
   ]
  },
  {
   "cell_type": "code",
   "execution_count": 17,
   "id": "0ab52177",
   "metadata": {},
   "outputs": [
    {
     "name": "stdout",
     "output_type": "stream",
     "text": [
      "12\n"
     ]
    }
   ],
   "source": [
    "sayi = sayi + 1\n",
    "print(sayi)"
   ]
  },
  {
   "cell_type": "code",
   "execution_count": 19,
   "id": "2cda8bb6",
   "metadata": {},
   "outputs": [
    {
     "name": "stdout",
     "output_type": "stream",
     "text": [
      "10\n"
     ]
    }
   ],
   "source": [
    "sayi_ilk = 10\n",
    "print(sayi_ilk)"
   ]
  },
  {
   "cell_type": "code",
   "execution_count": 33,
   "id": "5d72dcb1",
   "metadata": {},
   "outputs": [],
   "source": [
    "#1say = 10\n",
    "#print(1say) hata verir"
   ]
  },
  {
   "cell_type": "code",
   "execution_count": 14,
   "id": "165301cd",
   "metadata": {},
   "outputs": [
    {
     "name": "stdout",
     "output_type": "stream",
     "text": [
      "10\n"
     ]
    }
   ],
   "source": [
    "sayi1 = 10\n",
    "print(sayi1)"
   ]
  },
  {
   "cell_type": "code",
   "execution_count": 34,
   "id": "b462af06",
   "metadata": {},
   "outputs": [],
   "source": [
    "#sayi ilk = 10\n",
    "#print(sayi ilk) hata verir"
   ]
  },
  {
   "cell_type": "code",
   "execution_count": 15,
   "id": "f0b05ca9",
   "metadata": {},
   "outputs": [
    {
     "name": "stdout",
     "output_type": "stream",
     "text": [
      "11\n"
     ]
    }
   ],
   "source": [
    "_=11\n",
    "print(_)"
   ]
  },
  {
   "cell_type": "code",
   "execution_count": 40,
   "id": "b37321cc",
   "metadata": {},
   "outputs": [],
   "source": [
    "#print=\"abc\"\n",
    "#print çalışır ama sonra sıkıntı verebilir"
   ]
  },
  {
   "cell_type": "code",
   "execution_count": 41,
   "id": "b6006b89",
   "metadata": {},
   "outputs": [],
   "source": [
    "#print=\"abc\"\n",
    "#print(print) Hata verir"
   ]
  },
  {
   "cell_type": "markdown",
   "id": "7483a598",
   "metadata": {
    "jp-MarkdownHeadingCollapsed": true
   },
   "source": [
    "# Veri Tipleri"
   ]
  },
  {
   "cell_type": "raw",
   "id": "6df1a04c",
   "metadata": {},
   "source": [
    "Integer int 3, 10\n",
    "Float float 1.5, 7.0\n",
    "String str \"Slm\", \"2\"\n",
    "Boolean bool True, False\n",
    "List list [1,2,True,\"a\",1]\n",
    "Set set {1,2,True}\n",
    "Dictionary dict {\"isim\":\"Yavuz\", \"yas\":32}\n",
    "Tuple tup (1,2,True)"
   ]
  },
  {
   "cell_type": "code",
   "execution_count": 17,
   "id": "25ef2100",
   "metadata": {},
   "outputs": [
    {
     "name": "stdout",
     "output_type": "stream",
     "text": [
      "5\n"
     ]
    },
    {
     "data": {
      "text/plain": [
       "3"
      ]
     },
     "execution_count": 17,
     "metadata": {},
     "output_type": "execute_result"
    }
   ],
   "source": [
    "print(5)\n",
    "3"
   ]
  },
  {
   "cell_type": "code",
   "execution_count": 18,
   "id": "319eaf88",
   "metadata": {},
   "outputs": [
    {
     "data": {
      "text/plain": [
       "11"
      ]
     },
     "execution_count": 18,
     "metadata": {},
     "output_type": "execute_result"
    }
   ],
   "source": [
    "4+7"
   ]
  },
  {
   "cell_type": "code",
   "execution_count": 25,
   "id": "668d90b5",
   "metadata": {},
   "outputs": [
    {
     "data": {
      "text/plain": [
       "int"
      ]
     },
     "execution_count": 25,
     "metadata": {},
     "output_type": "execute_result"
    }
   ],
   "source": [
    "type(6)"
   ]
  },
  {
   "cell_type": "code",
   "execution_count": 26,
   "id": "c002d00b",
   "metadata": {},
   "outputs": [
    {
     "data": {
      "text/plain": [
       "float"
      ]
     },
     "execution_count": 26,
     "metadata": {},
     "output_type": "execute_result"
    }
   ],
   "source": [
    "type(1.5)"
   ]
  },
  {
   "cell_type": "code",
   "execution_count": 27,
   "id": "d9e49dec",
   "metadata": {},
   "outputs": [
    {
     "data": {
      "text/plain": [
       "2"
      ]
     },
     "execution_count": 27,
     "metadata": {},
     "output_type": "execute_result"
    }
   ],
   "source": [
    "5%3 #modüler"
   ]
  },
  {
   "cell_type": "code",
   "execution_count": 28,
   "id": "b65d9721",
   "metadata": {},
   "outputs": [
    {
     "data": {
      "text/plain": [
       "1.6666666666666667"
      ]
     },
     "execution_count": 28,
     "metadata": {},
     "output_type": "execute_result"
    }
   ],
   "source": [
    "5/3 #bölme"
   ]
  },
  {
   "cell_type": "code",
   "execution_count": 29,
   "id": "ba56d48a",
   "metadata": {},
   "outputs": [
    {
     "data": {
      "text/plain": [
       "15.0"
      ]
     },
     "execution_count": 29,
     "metadata": {},
     "output_type": "execute_result"
    }
   ],
   "source": [
    "3.0*5"
   ]
  },
  {
   "cell_type": "markdown",
   "id": "6bc155e2",
   "metadata": {
    "jp-MarkdownHeadingCollapsed": true
   },
   "source": [
    "# Yazılar"
   ]
  },
  {
   "cell_type": "code",
   "execution_count": 16,
   "id": "d7982bfd",
   "metadata": {},
   "outputs": [
    {
     "name": "stdout",
     "output_type": "stream",
     "text": [
      "Python\n"
     ]
    }
   ],
   "source": [
    "strvar=\"Python\"\n",
    "print(strvar)"
   ]
  },
  {
   "cell_type": "code",
   "execution_count": 2,
   "id": "10b4425c",
   "metadata": {},
   "outputs": [
    {
     "data": {
      "text/plain": [
       "'P'"
      ]
     },
     "execution_count": 2,
     "metadata": {},
     "output_type": "execute_result"
    }
   ],
   "source": [
    "strvar[0]"
   ]
  },
  {
   "cell_type": "code",
   "execution_count": 4,
   "id": "bd216a4f",
   "metadata": {},
   "outputs": [
    {
     "data": {
      "text/plain": [
       "'y'"
      ]
     },
     "execution_count": 4,
     "metadata": {},
     "output_type": "execute_result"
    }
   ],
   "source": [
    "strvar[-5]"
   ]
  },
  {
   "cell_type": "code",
   "execution_count": 5,
   "id": "f1ce17d2",
   "metadata": {},
   "outputs": [
    {
     "data": {
      "text/plain": [
       "'y'"
      ]
     },
     "execution_count": 5,
     "metadata": {},
     "output_type": "execute_result"
    }
   ],
   "source": [
    "strvar[1]"
   ]
  },
  {
   "cell_type": "raw",
   "id": "00770a8b",
   "metadata": {},
   "source": [
    "[] #tek bir eleman alınır\n",
    "[:] #başlangıç ve bitiş arasındaki elemanlar alınır (sonuncu alınmaz)\n",
    "[::]#başlangıç ve bitiş arasındaki elemanlar üçüncü değere göre atlanarak alınır"
   ]
  },
  {
   "cell_type": "code",
   "execution_count": 6,
   "id": "97deddc2",
   "metadata": {},
   "outputs": [
    {
     "data": {
      "text/plain": [
       "'yt'"
      ]
     },
     "execution_count": 6,
     "metadata": {},
     "output_type": "execute_result"
    }
   ],
   "source": [
    "strvar[1:3] #3 dahil değil"
   ]
  },
  {
   "cell_type": "code",
   "execution_count": 7,
   "id": "6f1d2033",
   "metadata": {},
   "outputs": [
    {
     "data": {
      "text/plain": [
       "'Pto'"
      ]
     },
     "execution_count": 7,
     "metadata": {},
     "output_type": "execute_result"
    }
   ],
   "source": [
    "strvar[0:5:2] #0'dan 5'e 2'şer atlayarak yazdır"
   ]
  },
  {
   "cell_type": "code",
   "execution_count": 8,
   "id": "339e2b24",
   "metadata": {},
   "outputs": [
    {
     "data": {
      "text/plain": [
       "'Python'"
      ]
     },
     "execution_count": 8,
     "metadata": {},
     "output_type": "execute_result"
    }
   ],
   "source": [
    "strvar[:] #tamamını alır"
   ]
  },
  {
   "cell_type": "code",
   "execution_count": 9,
   "id": "6ef33de2",
   "metadata": {},
   "outputs": [
    {
     "data": {
      "text/plain": [
       "'Ph'"
      ]
     },
     "execution_count": 9,
     "metadata": {},
     "output_type": "execute_result"
    }
   ],
   "source": [
    "strvar[::3] #baştan sona 3'er atla "
   ]
  },
  {
   "cell_type": "code",
   "execution_count": 10,
   "id": "61fe3eb2",
   "metadata": {},
   "outputs": [
    {
     "data": {
      "text/plain": [
       "6"
      ]
     },
     "execution_count": 10,
     "metadata": {},
     "output_type": "execute_result"
    }
   ],
   "source": [
    "len(strvar) #uzunluğu verir"
   ]
  },
  {
   "cell_type": "code",
   "execution_count": 17,
   "id": "c82b441c",
   "metadata": {},
   "outputs": [
    {
     "name": "stdout",
     "output_type": "stream",
     "text": [
      "Python öğren! \n"
     ]
    }
   ],
   "source": [
    "strvar = strvar + \" öğren! \"\n",
    "print(strvar)"
   ]
  },
  {
   "cell_type": "code",
   "execution_count": 18,
   "id": "3c4047e6",
   "metadata": {},
   "outputs": [
    {
     "name": "stdout",
     "output_type": "stream",
     "text": [
      "Python öğren! Python öğren! Python öğren! Python öğren! Python öğren! \n"
     ]
    }
   ],
   "source": [
    "print(strvar*5)"
   ]
  },
  {
   "cell_type": "raw",
   "id": "61b1bd5a",
   "metadata": {},
   "source": [
    "strvar. nokta koyup tab tuşuna basınca fonksiyonlara ulaşılabilir, seçip () ortasında shift+tab yapınca instruction verir"
   ]
  },
  {
   "cell_type": "code",
   "execution_count": 20,
   "id": "d7472563",
   "metadata": {},
   "outputs": [
    {
     "data": {
      "text/plain": [
       "'PYTHON ÖĞREN! '"
      ]
     },
     "execution_count": 20,
     "metadata": {},
     "output_type": "execute_result"
    }
   ],
   "source": [
    "strvar.upper()"
   ]
  },
  {
   "cell_type": "code",
   "execution_count": 21,
   "id": "ecf88068",
   "metadata": {},
   "outputs": [
    {
     "data": {
      "text/plain": [
       "'python öğren! '"
      ]
     },
     "execution_count": 21,
     "metadata": {},
     "output_type": "execute_result"
    }
   ],
   "source": [
    "strvar.lower()"
   ]
  },
  {
   "cell_type": "code",
   "execution_count": 22,
   "id": "aade8abd",
   "metadata": {},
   "outputs": [
    {
     "data": {
      "text/plain": [
       "['Python', 'öğren!']"
      ]
     },
     "execution_count": 22,
     "metadata": {},
     "output_type": "execute_result"
    }
   ],
   "source": [
    "strvar.split()"
   ]
  },
  {
   "cell_type": "code",
   "execution_count": 24,
   "id": "7f4cd842",
   "metadata": {},
   "outputs": [
    {
     "data": {
      "text/plain": [
       "['Pyth', 'n öğren! ']"
      ]
     },
     "execution_count": 24,
     "metadata": {},
     "output_type": "execute_result"
    }
   ],
   "source": [
    "strvar.split(\"o\") #o'dan ayır"
   ]
  },
  {
   "cell_type": "code",
   "execution_count": 25,
   "id": "de39c5c8",
   "metadata": {},
   "outputs": [
    {
     "data": {
      "text/plain": [
       "['Pyht', 'n ogren!']"
      ]
     },
     "execution_count": 25,
     "metadata": {},
     "output_type": "execute_result"
    }
   ],
   "source": [
    "strvar1=\"Pyhton ogren!\"\n",
    "strvar1.split(sep=\"o\",maxsplit=1) #kaç split yapılacağı da belirlenebilir"
   ]
  },
  {
   "cell_type": "markdown",
   "id": "77b190e9",
   "metadata": {
    "jp-MarkdownHeadingCollapsed": true
   },
   "source": [
    "# Boolean"
   ]
  },
  {
   "cell_type": "code",
   "execution_count": 27,
   "id": "b3fb2ced",
   "metadata": {},
   "outputs": [
    {
     "name": "stdout",
     "output_type": "stream",
     "text": [
      "<class 'bool'>\n",
      "True\n",
      "False\n",
      "<class 'str'>\n",
      "True\n"
     ]
    }
   ],
   "source": [
    "a = True\n",
    "print(type(a))\n",
    "b=False\n",
    "print(a)\n",
    "print(b)\n",
    "c=\"True\" #string olup aynı işlevi görmez ama çıktı olarak aynı görünür dikkat \n",
    "print(type(c))\n",
    "print(c)"
   ]
  },
  {
   "cell_type": "code",
   "execution_count": 28,
   "id": "3935ce44",
   "metadata": {},
   "outputs": [
    {
     "name": "stdout",
     "output_type": "stream",
     "text": [
      "True\n",
      "False\n"
     ]
    }
   ],
   "source": [
    "yas1 = 20\n",
    "yas2 = 18\n",
    "print(yas1>18)\n",
    "print(yas2>18)"
   ]
  },
  {
   "cell_type": "code",
   "execution_count": 30,
   "id": "12021e25",
   "metadata": {},
   "outputs": [
    {
     "data": {
      "text/plain": [
       "False"
      ]
     },
     "execution_count": 30,
     "metadata": {},
     "output_type": "execute_result"
    }
   ],
   "source": [
    "yas1 == 18"
   ]
  },
  {
   "cell_type": "code",
   "execution_count": 31,
   "id": "3f5e662a",
   "metadata": {},
   "outputs": [
    {
     "data": {
      "text/plain": [
       "True"
      ]
     },
     "execution_count": 31,
     "metadata": {},
     "output_type": "execute_result"
    }
   ],
   "source": [
    "yas2 == 18 #== eşit midir?"
   ]
  },
  {
   "cell_type": "code",
   "execution_count": 32,
   "id": "e41caa4e",
   "metadata": {},
   "outputs": [
    {
     "data": {
      "text/plain": [
       "False"
      ]
     },
     "execution_count": 32,
     "metadata": {},
     "output_type": "execute_result"
    }
   ],
   "source": [
    "yas2 != 18 #!= eşit değil midir?"
   ]
  },
  {
   "cell_type": "code",
   "execution_count": 33,
   "id": "582c0a52",
   "metadata": {},
   "outputs": [
    {
     "data": {
      "text/plain": [
       "False"
      ]
     },
     "execution_count": 33,
     "metadata": {},
     "output_type": "execute_result"
    }
   ],
   "source": [
    "not yas1 > 18 #başa not koymak da olumsuzluğu verir"
   ]
  },
  {
   "cell_type": "markdown",
   "id": "73d196c1",
   "metadata": {
    "jp-MarkdownHeadingCollapsed": true
   },
   "source": [
    "# List & Set"
   ]
  },
  {
   "cell_type": "code",
   "execution_count": 44,
   "id": "7c9d33a5",
   "metadata": {},
   "outputs": [
    {
     "name": "stdout",
     "output_type": "stream",
     "text": [
      "['a', 'b', 'c', 'd', 'e', 'a']\n"
     ]
    }
   ],
   "source": [
    "liste = [\"a\", \"b\", \"c\", \"d\", \"e\", \"a\"]\n",
    "print(liste)"
   ]
  },
  {
   "cell_type": "code",
   "execution_count": 45,
   "id": "5118a3b9",
   "metadata": {},
   "outputs": [
    {
     "name": "stdout",
     "output_type": "stream",
     "text": [
      "['a', 'b', 'c', 'd', 'e', 'a', 'f']\n"
     ]
    }
   ],
   "source": [
    "#liste = liste + \"f\" çalışmaz\n",
    "liste = liste +[\"f\"]\n",
    "print(liste)"
   ]
  },
  {
   "cell_type": "code",
   "execution_count": 46,
   "id": "caa5a2a7",
   "metadata": {},
   "outputs": [
    {
     "data": {
      "text/plain": [
       "'a'"
      ]
     },
     "execution_count": 46,
     "metadata": {},
     "output_type": "execute_result"
    }
   ],
   "source": [
    "liste[0]"
   ]
  },
  {
   "cell_type": "code",
   "execution_count": 47,
   "id": "d46855e3",
   "metadata": {},
   "outputs": [
    {
     "data": {
      "text/plain": [
       "['a', 'b', 'c', 'd', 'e', 'a', 'f', 'g']"
      ]
     },
     "execution_count": 47,
     "metadata": {},
     "output_type": "execute_result"
    }
   ],
   "source": [
    "liste.append(\"g\") #ekler\n",
    "liste"
   ]
  },
  {
   "cell_type": "code",
   "execution_count": 48,
   "id": "85476f06",
   "metadata": {},
   "outputs": [
    {
     "data": {
      "text/plain": [
       "['a', 'b', 'c', 'd', 'e', 'a', 'f']"
      ]
     },
     "execution_count": 48,
     "metadata": {},
     "output_type": "execute_result"
    }
   ],
   "source": [
    "liste.pop() #son elemanı atar\n",
    "liste"
   ]
  },
  {
   "cell_type": "code",
   "execution_count": 49,
   "id": "5150a4ce",
   "metadata": {},
   "outputs": [
    {
     "data": {
      "text/plain": [
       "['a', 'b', 'c', 'd', 'e', 'f']"
      ]
     },
     "execution_count": 49,
     "metadata": {},
     "output_type": "execute_result"
    }
   ],
   "source": [
    "liste.pop(5) #5. indexli elemanı atar\n",
    "liste"
   ]
  },
  {
   "cell_type": "code",
   "execution_count": 50,
   "id": "9fe32145",
   "metadata": {},
   "outputs": [
    {
     "data": {
      "text/plain": [
       "[1, 1, 123, 312, 335, 345, 4535, 12321]"
      ]
     },
     "execution_count": 50,
     "metadata": {},
     "output_type": "execute_result"
    }
   ],
   "source": [
    "sayilar = [123,12321,312,4535,335,345,1,1]\n",
    "sayilar.sort() #küçükten büyüğe sıralama\n",
    "sayilar"
   ]
  },
  {
   "cell_type": "code",
   "execution_count": 51,
   "id": "468e46a7",
   "metadata": {},
   "outputs": [
    {
     "data": {
      "text/plain": [
       "[12321, 4535, 345, 335, 312, 123, 1, 1]"
      ]
     },
     "execution_count": 51,
     "metadata": {},
     "output_type": "execute_result"
    }
   ],
   "source": [
    "sayilar.reverse() #tersine çevirme\n",
    "sayilar"
   ]
  },
  {
   "cell_type": "code",
   "execution_count": 53,
   "id": "617d8f1c",
   "metadata": {},
   "outputs": [
    {
     "data": {
      "text/plain": [
       "{1, 123, 312, 335, 345, 4535, 12321}"
      ]
     },
     "execution_count": 53,
     "metadata": {},
     "output_type": "execute_result"
    }
   ],
   "source": [
    "set(sayilar) #sete aktarma, tekrarlar kalkar, sıralanır"
   ]
  },
  {
   "cell_type": "code",
   "execution_count": 54,
   "id": "1b89c5fd",
   "metadata": {},
   "outputs": [
    {
     "data": {
      "text/plain": [
       "{1, 123, 312, 335, 345, 4535, 12321}"
      ]
     },
     "execution_count": 54,
     "metadata": {},
     "output_type": "execute_result"
    }
   ],
   "source": [
    "sayilar = [123,12321,312,4535,335,345,1,1]\n",
    "set(sayilar) "
   ]
  },
  {
   "cell_type": "markdown",
   "id": "f0c982d0",
   "metadata": {
    "jp-MarkdownHeadingCollapsed": true
   },
   "source": [
    "# Tuple"
   ]
  },
  {
   "cell_type": "code",
   "execution_count": 1,
   "id": "f5f014e9",
   "metadata": {},
   "outputs": [
    {
     "name": "stdout",
     "output_type": "stream",
     "text": [
      "['a', 'b', 'c', 'd', 'e', 'a']\n",
      "('a', 'b', 'c', 'd', 'e', 'a')\n"
     ]
    }
   ],
   "source": [
    "liste = [\"a\", \"b\", \"c\", \"d\", \"e\", \"a\"]\n",
    "print(liste)\n",
    "tup = (\"a\", \"b\", \"c\", \"d\", \"e\", \"a\")\n",
    "print(tup)"
   ]
  },
  {
   "cell_type": "code",
   "execution_count": 2,
   "id": "2c0748a6",
   "metadata": {},
   "outputs": [
    {
     "data": {
      "text/plain": [
       "[12312, 'b', 'c', 'd', 'e', 'a']"
      ]
     },
     "execution_count": 2,
     "metadata": {},
     "output_type": "execute_result"
    }
   ],
   "source": [
    "liste[0] = 12312\n",
    "liste"
   ]
  },
  {
   "cell_type": "code",
   "execution_count": 3,
   "id": "98b5868d",
   "metadata": {},
   "outputs": [
    {
     "ename": "TypeError",
     "evalue": "'tuple' object does not support item assignment",
     "output_type": "error",
     "traceback": [
      "\u001b[0;31m---------------------------------------------------------------------------\u001b[0m",
      "\u001b[0;31mTypeError\u001b[0m                                 Traceback (most recent call last)",
      "Cell \u001b[0;32mIn[3], line 1\u001b[0m\n\u001b[0;32m----> 1\u001b[0m tup[\u001b[38;5;241m0\u001b[39m] \u001b[38;5;241m=\u001b[39m \u001b[38;5;241m12312\u001b[39m\n\u001b[1;32m      2\u001b[0m tup\n",
      "\u001b[0;31mTypeError\u001b[0m: 'tuple' object does not support item assignment"
     ]
    }
   ],
   "source": [
    "tup[0] = 12312\n",
    "tup #çalışmaz, değiştirilemez immutable"
   ]
  },
  {
   "cell_type": "code",
   "execution_count": 4,
   "id": "5cb3aa12",
   "metadata": {},
   "outputs": [
    {
     "data": {
      "text/plain": [
       "2"
      ]
     },
     "execution_count": 4,
     "metadata": {},
     "output_type": "execute_result"
    }
   ],
   "source": [
    "tup.count(\"a\")"
   ]
  },
  {
   "cell_type": "code",
   "execution_count": 5,
   "id": "875347cf",
   "metadata": {},
   "outputs": [
    {
     "data": {
      "text/plain": [
       "1"
      ]
     },
     "execution_count": 5,
     "metadata": {},
     "output_type": "execute_result"
    }
   ],
   "source": [
    "tup.count(\"d\")"
   ]
  },
  {
   "cell_type": "code",
   "execution_count": 6,
   "id": "edcd4323",
   "metadata": {},
   "outputs": [
    {
     "data": {
      "text/plain": [
       "0"
      ]
     },
     "execution_count": 6,
     "metadata": {},
     "output_type": "execute_result"
    }
   ],
   "source": [
    "tup.count(True)"
   ]
  },
  {
   "cell_type": "code",
   "execution_count": 7,
   "id": "3f303afc",
   "metadata": {},
   "outputs": [
    {
     "data": {
      "text/plain": [
       "0"
      ]
     },
     "execution_count": 7,
     "metadata": {},
     "output_type": "execute_result"
    }
   ],
   "source": [
    "tup.index(\"a\") #ilki verir"
   ]
  },
  {
   "cell_type": "code",
   "execution_count": 8,
   "id": "1741f9fd",
   "metadata": {},
   "outputs": [
    {
     "data": {
      "text/plain": [
       "3"
      ]
     },
     "execution_count": 8,
     "metadata": {},
     "output_type": "execute_result"
    }
   ],
   "source": [
    "tup.index(\"d\")"
   ]
  },
  {
   "cell_type": "code",
   "execution_count": 9,
   "id": "18135753",
   "metadata": {},
   "outputs": [
    {
     "ename": "ValueError",
     "evalue": "tuple.index(x): x not in tuple",
     "output_type": "error",
     "traceback": [
      "\u001b[0;31m---------------------------------------------------------------------------\u001b[0m",
      "\u001b[0;31mValueError\u001b[0m                                Traceback (most recent call last)",
      "Cell \u001b[0;32mIn[9], line 1\u001b[0m\n\u001b[0;32m----> 1\u001b[0m \u001b[43mtup\u001b[49m\u001b[38;5;241;43m.\u001b[39;49m\u001b[43mindex\u001b[49m\u001b[43m(\u001b[49m\u001b[38;5;28;43;01mTrue\u001b[39;49;00m\u001b[43m)\u001b[49m\n",
      "\u001b[0;31mValueError\u001b[0m: tuple.index(x): x not in tuple"
     ]
    }
   ],
   "source": [
    "tup.index(True) #hata verir"
   ]
  },
  {
   "cell_type": "markdown",
   "id": "5309eb24",
   "metadata": {
    "jp-MarkdownHeadingCollapsed": true
   },
   "source": [
    "# Çok Boyutlu Veri Tipleri DICTIONARY"
   ]
  },
  {
   "cell_type": "code",
   "execution_count": 12,
   "id": "dd07a925",
   "metadata": {},
   "outputs": [
    {
     "data": {
      "text/plain": [
       "{'isim': 'Yavuz', 'yas': 24, 'lokasyon': 'Pendik'}"
      ]
     },
     "execution_count": 12,
     "metadata": {},
     "output_type": "execute_result"
    }
   ],
   "source": [
    "dict1 = {\"isim\": \"Yavuz\",\"yas\": 24, \"lokasyon\": \"Pendik\"}\n",
    "dict1"
   ]
  },
  {
   "cell_type": "code",
   "execution_count": 13,
   "id": "ba5b42d2",
   "metadata": {},
   "outputs": [
    {
     "data": {
      "text/plain": [
       "{'isim': 'Yavuz', 'yas': 24, 'lokasyon': 'Pendik'}"
      ]
     },
     "execution_count": 13,
     "metadata": {},
     "output_type": "execute_result"
    }
   ],
   "source": [
    "dict1 = {\n",
    "    \"isim\": \"Yavuz\", #= kullanılmıyor, : kullanılıyor dikkat!\n",
    "    \"yas\": 24,\n",
    "    \"lokasyon\": \"Pendik\"\n",
    "}\n",
    "dict1"
   ]
  },
  {
   "cell_type": "code",
   "execution_count": 17,
   "id": "624f73e1",
   "metadata": {},
   "outputs": [
    {
     "data": {
      "text/plain": [
       "{'isim': 'Yavuz',\n",
       " 'yas': 24,\n",
       " 'lokasyon': {'yasadigi_sehir': 'Londra', 'dogdugu_sehir': 'İstanbul'}}"
      ]
     },
     "execution_count": 17,
     "metadata": {},
     "output_type": "execute_result"
    }
   ],
   "source": [
    "dict2 = {\n",
    "    \"isim\": \"Yavuz\",\n",
    "    \"yas\": 24,\n",
    "    \"lokasyon\": {\n",
    "        \"yasadigi_sehir\" : \"Londra\",\n",
    "        \"dogdugu_sehir\" : \"İstanbul\"\n",
    "    }\n",
    "}\n",
    "dict2"
   ]
  },
  {
   "cell_type": "code",
   "execution_count": 19,
   "id": "6522b380",
   "metadata": {},
   "outputs": [
    {
     "data": {
      "text/plain": [
       "24"
      ]
     },
     "execution_count": 19,
     "metadata": {},
     "output_type": "execute_result"
    }
   ],
   "source": [
    "dict2[\"yas\"]"
   ]
  },
  {
   "cell_type": "code",
   "execution_count": 22,
   "id": "da3a41cd",
   "metadata": {},
   "outputs": [
    {
     "ename": "KeyError",
     "evalue": "'yasadigi_sehir'",
     "output_type": "error",
     "traceback": [
      "\u001b[0;31m---------------------------------------------------------------------------\u001b[0m",
      "\u001b[0;31mKeyError\u001b[0m                                  Traceback (most recent call last)",
      "Cell \u001b[0;32mIn[22], line 1\u001b[0m\n\u001b[0;32m----> 1\u001b[0m \u001b[43mdict2\u001b[49m\u001b[43m[\u001b[49m\u001b[38;5;124;43m\"\u001b[39;49m\u001b[38;5;124;43myasadigi_sehir\u001b[39;49m\u001b[38;5;124;43m\"\u001b[39;49m\u001b[43m]\u001b[49m\n",
      "\u001b[0;31mKeyError\u001b[0m: 'yasadigi_sehir'"
     ]
    }
   ],
   "source": [
    "dict2[\"yasadigi_sehir\"] #çalışmaz"
   ]
  },
  {
   "cell_type": "code",
   "execution_count": 23,
   "id": "8f5a00dc",
   "metadata": {},
   "outputs": [
    {
     "data": {
      "text/plain": [
       "'Londra'"
      ]
     },
     "execution_count": 23,
     "metadata": {},
     "output_type": "execute_result"
    }
   ],
   "source": [
    "dict2[\"lokasyon\"][\"yasadigi_sehir\"]"
   ]
  },
  {
   "cell_type": "code",
   "execution_count": 25,
   "id": "45954bf3",
   "metadata": {},
   "outputs": [
    {
     "data": {
      "text/plain": [
       "'Londra'"
      ]
     },
     "execution_count": 25,
     "metadata": {},
     "output_type": "execute_result"
    }
   ],
   "source": [
    "dict2.get(\"lokasyon\").get(\"yasadigi_sehir\")"
   ]
  },
  {
   "cell_type": "code",
   "execution_count": 26,
   "id": "374d40a7",
   "metadata": {},
   "outputs": [
    {
     "data": {
      "text/plain": [
       "{'yasadigi_sehir': 'Londra', 'dogdugu_sehir': 'İstanbul'}"
      ]
     },
     "execution_count": 26,
     "metadata": {},
     "output_type": "execute_result"
    }
   ],
   "source": [
    "dict2.get(\"lokasyon\")"
   ]
  },
  {
   "cell_type": "code",
   "execution_count": 27,
   "id": "40f9545d",
   "metadata": {},
   "outputs": [
    {
     "data": {
      "text/plain": [
       "dict_keys(['isim', 'yas', 'lokasyon'])"
      ]
     },
     "execution_count": 27,
     "metadata": {},
     "output_type": "execute_result"
    }
   ],
   "source": [
    "dict2.keys()"
   ]
  },
  {
   "cell_type": "code",
   "execution_count": 28,
   "id": "ba7388e7",
   "metadata": {},
   "outputs": [
    {
     "data": {
      "text/plain": [
       "dict_values(['Yavuz', 24, {'yasadigi_sehir': 'Londra', 'dogdugu_sehir': 'İstanbul'}])"
      ]
     },
     "execution_count": 28,
     "metadata": {},
     "output_type": "execute_result"
    }
   ],
   "source": [
    "dict2.values()"
   ]
  },
  {
   "cell_type": "code",
   "execution_count": 29,
   "id": "a36e5742",
   "metadata": {},
   "outputs": [
    {
     "data": {
      "text/plain": [
       "dict_items([('isim', 'Yavuz'), ('yas', 24), ('lokasyon', {'yasadigi_sehir': 'Londra', 'dogdugu_sehir': 'İstanbul'})])"
      ]
     },
     "execution_count": 29,
     "metadata": {},
     "output_type": "execute_result"
    }
   ],
   "source": [
    "dict2.items()"
   ]
  },
  {
   "cell_type": "code",
   "execution_count": null,
   "id": "405edb78",
   "metadata": {},
   "outputs": [],
   "source": []
  }
 ],
 "metadata": {
  "kernelspec": {
   "display_name": "Python 3 (ipykernel)",
   "language": "python",
   "name": "python3"
  },
  "language_info": {
   "codemirror_mode": {
    "name": "ipython",
    "version": 3
   },
   "file_extension": ".py",
   "mimetype": "text/x-python",
   "name": "python",
   "nbconvert_exporter": "python",
   "pygments_lexer": "ipython3",
   "version": "3.12.6"
  }
 },
 "nbformat": 4,
 "nbformat_minor": 5
}
