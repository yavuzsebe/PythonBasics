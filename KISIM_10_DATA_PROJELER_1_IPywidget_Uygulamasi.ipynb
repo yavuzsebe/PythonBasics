{
 "cells": [
  {
   "cell_type": "markdown",
   "id": "369181ea-bd9e-44ab-9f35-ad6fcddf60ae",
   "metadata": {
    "jp-MarkdownHeadingCollapsed": true
   },
   "source": [
    "## Content"
   ]
  },
  {
   "cell_type": "raw",
   "id": "565bb498-fe4b-4da7-93c5-4be7aedfc9a8",
   "metadata": {},
   "source": [
    "1 ### Library Import ###\n",
    "    1.1 ### Widgets\n",
    "    1.2 ### CSV/Data Ops\n",
    "    1.3 ### Drawing\n",
    "\n",
    "2 ###     Widgets    ###\n",
    "    2.1  ### Tabs\n",
    "    2.2  ### FileUpload\n",
    "    2.3  ### Output\n",
    "    2.4  ### SelectMultiple\n",
    "    2.5  ### RadioButton\n",
    "    2.6  ### IntSlider\n",
    "    2.7  ### Accordion\n",
    "    2.8  ### Button\n",
    "    2.9  ### HBox/VBox\n",
    "    2.10 ### ToggleButtons\n",
    "    2.11 ### Dropdown\n",
    "    2.12 ### ColorPicker\n",
    "\n",
    "3 ###  Value Import  ###\n",
    "\n",
    "4 ###  Button Action ###\n",
    "    4.1 ### Preview Button\n",
    "    4.2 ### Upload Button\n",
    "    4.3 ### Description ToggleButton\n",
    "    4.4 ### Plot Button"
   ]
  },
  {
   "cell_type": "markdown",
   "id": "02a7b761-8723-43c0-b582-bbbd1ddca627",
   "metadata": {},
   "source": [
    "## Library Import"
   ]
  },
  {
   "cell_type": "raw",
   "id": "32da4a71-3683-4a73-8a1a-f1ee4a932ce8",
   "metadata": {},
   "source": [
    "    1.1 ### Widgets\n",
    "    1.2 ### CSV/Data Ops\n",
    "    1.3 ### Drawing"
   ]
  },
  {
   "cell_type": "code",
   "execution_count": 1,
   "id": "e59955bf-7a1e-401a-a108-fdacc97d2f04",
   "metadata": {
    "scrolled": true
   },
   "outputs": [
    {
     "name": "stdout",
     "output_type": "stream",
     "text": [
      "Requirement already satisfied: ipywidgets in /Users/yavuzsebe/anaconda3/lib/python3.10/site-packages (8.1.2)\n",
      "Requirement already satisfied: ipython>=6.1.0 in /Users/yavuzsebe/anaconda3/lib/python3.10/site-packages (from ipywidgets) (8.10.0)\n",
      "Requirement already satisfied: widgetsnbextension~=4.0.10 in /Users/yavuzsebe/anaconda3/lib/python3.10/site-packages (from ipywidgets) (4.0.10)\n",
      "Requirement already satisfied: jupyterlab-widgets~=3.0.10 in /Users/yavuzsebe/anaconda3/lib/python3.10/site-packages (from ipywidgets) (3.0.10)\n",
      "Requirement already satisfied: comm>=0.1.3 in /Users/yavuzsebe/anaconda3/lib/python3.10/site-packages (from ipywidgets) (0.2.1)\n",
      "Requirement already satisfied: traitlets>=4.3.1 in /Users/yavuzsebe/anaconda3/lib/python3.10/site-packages (from ipywidgets) (5.7.1)\n",
      "Requirement already satisfied: pygments>=2.4.0 in /Users/yavuzsebe/anaconda3/lib/python3.10/site-packages (from ipython>=6.1.0->ipywidgets) (2.11.2)\n",
      "Requirement already satisfied: backcall in /Users/yavuzsebe/anaconda3/lib/python3.10/site-packages (from ipython>=6.1.0->ipywidgets) (0.2.0)\n",
      "Requirement already satisfied: decorator in /Users/yavuzsebe/anaconda3/lib/python3.10/site-packages (from ipython>=6.1.0->ipywidgets) (5.1.1)\n",
      "Requirement already satisfied: prompt-toolkit<3.1.0,>=3.0.30 in /Users/yavuzsebe/anaconda3/lib/python3.10/site-packages (from ipython>=6.1.0->ipywidgets) (3.0.36)\n",
      "Requirement already satisfied: pickleshare in /Users/yavuzsebe/anaconda3/lib/python3.10/site-packages (from ipython>=6.1.0->ipywidgets) (0.7.5)\n",
      "Requirement already satisfied: appnope in /Users/yavuzsebe/anaconda3/lib/python3.10/site-packages (from ipython>=6.1.0->ipywidgets) (0.1.2)\n",
      "Requirement already satisfied: jedi>=0.16 in /Users/yavuzsebe/anaconda3/lib/python3.10/site-packages (from ipython>=6.1.0->ipywidgets) (0.18.1)\n",
      "Requirement already satisfied: stack-data in /Users/yavuzsebe/anaconda3/lib/python3.10/site-packages (from ipython>=6.1.0->ipywidgets) (0.2.0)\n",
      "Requirement already satisfied: matplotlib-inline in /Users/yavuzsebe/anaconda3/lib/python3.10/site-packages (from ipython>=6.1.0->ipywidgets) (0.1.6)\n",
      "Requirement already satisfied: pexpect>4.3 in /Users/yavuzsebe/anaconda3/lib/python3.10/site-packages (from ipython>=6.1.0->ipywidgets) (4.8.0)\n",
      "Requirement already satisfied: parso<0.9.0,>=0.8.0 in /Users/yavuzsebe/anaconda3/lib/python3.10/site-packages (from jedi>=0.16->ipython>=6.1.0->ipywidgets) (0.8.3)\n",
      "Requirement already satisfied: ptyprocess>=0.5 in /Users/yavuzsebe/anaconda3/lib/python3.10/site-packages (from pexpect>4.3->ipython>=6.1.0->ipywidgets) (0.7.0)\n",
      "Requirement already satisfied: wcwidth in /Users/yavuzsebe/anaconda3/lib/python3.10/site-packages (from prompt-toolkit<3.1.0,>=3.0.30->ipython>=6.1.0->ipywidgets) (0.2.5)\n",
      "Requirement already satisfied: pure-eval in /Users/yavuzsebe/anaconda3/lib/python3.10/site-packages (from stack-data->ipython>=6.1.0->ipywidgets) (0.2.2)\n",
      "Requirement already satisfied: executing in /Users/yavuzsebe/anaconda3/lib/python3.10/site-packages (from stack-data->ipython>=6.1.0->ipywidgets) (0.8.3)\n",
      "Requirement already satisfied: asttokens in /Users/yavuzsebe/anaconda3/lib/python3.10/site-packages (from stack-data->ipython>=6.1.0->ipywidgets) (2.0.5)\n",
      "Requirement already satisfied: six in /Users/yavuzsebe/anaconda3/lib/python3.10/site-packages (from asttokens->stack-data->ipython>=6.1.0->ipywidgets) (1.16.0)\n",
      "Note: you may need to restart the kernel to use updated packages.\n"
     ]
    }
   ],
   "source": [
    "pip install ipywidgets"
   ]
  },
  {
   "cell_type": "code",
   "execution_count": 2,
   "id": "fd71dbd0-ca02-4eac-b442-4a5815d606f4",
   "metadata": {},
   "outputs": [],
   "source": [
    "# bash\n",
    "# jupyter labextension install @jupyter-widgets/jupyterlab-manager"
   ]
  },
  {
   "cell_type": "code",
   "execution_count": 3,
   "id": "377cd3f4-0f7a-4bd0-bc51-95bff06bc743",
   "metadata": {},
   "outputs": [],
   "source": [
    "# Widgets:\n",
    "import ipywidgets as widgets\n",
    "\n",
    "# CSV/DataFrame:\n",
    "import pandas as pd\n",
    "import numpy as np\n",
    "from io import StringIO\n",
    "\n",
    "# Drawing\n",
    "import matplotlib.pyplot as plt\n",
    "%matplotlib inline\n",
    "\n",
    "from IPython.display import display"
   ]
  },
  {
   "cell_type": "markdown",
   "id": "c9c1c10e-2f61-4f71-93bc-cb2f8c020b00",
   "metadata": {},
   "source": [
    "## Widgets"
   ]
  },
  {
   "cell_type": "raw",
   "id": "6e0599fc-4474-4dbe-9dcb-8ca3c9dd1d07",
   "metadata": {},
   "source": [
    "    2.1  ### Tabs\n",
    "    2.2  ### FileUpload\n",
    "    2.3  ### Output\n",
    "    2.4  ### SelectMultiple\n",
    "    2.5  ### RadioButton\n",
    "    2.6  ### IntSlider\n",
    "    2.7  ### Accordion\n",
    "    2.8  ### Button\n",
    "    2.9  ### HBox/VBox\n",
    "    2.10 ### ToggleButtons\n",
    "    2.11 ### Dropdown\n",
    "    2.12 ### ColorPicker"
   ]
  },
  {
   "cell_type": "markdown",
   "id": "1648f69b-20c7-4669-b149-544f85dd6695",
   "metadata": {},
   "source": [
    "### Tabs"
   ]
  },
  {
   "cell_type": "code",
   "execution_count": 4,
   "id": "997d6c38-32ea-4816-a76b-b3bc934fbe50",
   "metadata": {},
   "outputs": [
    {
     "data": {
      "application/vnd.jupyter.widget-view+json": {
       "model_id": "f9e2932da9af4166984d7ae5e4a83768",
       "version_major": 2,
       "version_minor": 0
      },
      "text/plain": [
       "Tab(children=(Label(value=''), Label(value=''), Label(value='')), selected_index=0, titles=('Upload', 'Describ…"
      ]
     },
     "execution_count": 4,
     "metadata": {},
     "output_type": "execute_result"
    }
   ],
   "source": [
    "tab = widgets.Tab()\n",
    "placeholder = widgets.Label() # başlığı yazmak için önemli sonrasındaki childrenlardan ayrı tutulmalı her türlü yazılmalı...\n",
    "tab.children = [placeholder, placeholder, placeholder] # ... her türlü yazılmalı\n",
    "tab.set_title(0, \"Upload\")\n",
    "tab.set_title(1, \"Describer\")\n",
    "tab.set_title(2, \"Plotter\")\n",
    "tab"
   ]
  },
  {
   "cell_type": "markdown",
   "id": "705663f8-27eb-4919-8d7d-90ba927c1152",
   "metadata": {},
   "source": [
    "### FileUpload"
   ]
  },
  {
   "cell_type": "code",
   "execution_count": 5,
   "id": "046a74f9-0312-4d6b-8653-ba2350f3a8b3",
   "metadata": {},
   "outputs": [
    {
     "data": {
      "application/vnd.jupyter.widget-view+json": {
       "model_id": "0b782d9da8a14a3dae91db00d0a0069f",
       "version_major": 2,
       "version_minor": 0
      },
      "text/plain": [
       "FileUpload(value=(), description='Upload')"
      ]
     },
     "execution_count": 5,
     "metadata": {},
     "output_type": "execute_result"
    }
   ],
   "source": [
    "up = widgets.FileUpload(accept=\"\", multiple=False)\n",
    "up"
   ]
  },
  {
   "cell_type": "markdown",
   "id": "4378ea24-e5c5-4a40-a23c-0abc07bf7b30",
   "metadata": {},
   "source": [
    "### Output"
   ]
  },
  {
   "cell_type": "code",
   "execution_count": 6,
   "id": "2ac440c1-8bbd-4f75-992a-9d7e5aea5923",
   "metadata": {},
   "outputs": [
    {
     "data": {
      "application/vnd.jupyter.widget-view+json": {
       "model_id": "f9e2932da9af4166984d7ae5e4a83768",
       "version_major": 2,
       "version_minor": 0
      },
      "text/plain": [
       "Tab(children=(FileUpload(value=(), description='Upload'), Output(layout=Layout(border_bottom='1px solid black'…"
      ]
     },
     "execution_count": 6,
     "metadata": {},
     "output_type": "execute_result"
    }
   ],
   "source": [
    "out = widgets.Output(layout={\"border\": \"1px solid black\"})\n",
    "tab.children = [up, out, out]\n",
    "tab"
   ]
  },
  {
   "cell_type": "markdown",
   "id": "5011bb4e-65b2-41a9-9060-19b5b05e0e22",
   "metadata": {},
   "source": [
    "### SelectMultiple"
   ]
  },
  {
   "cell_type": "code",
   "execution_count": 7,
   "id": "c77962c3-835c-4a46-9044-9140b76c434c",
   "metadata": {},
   "outputs": [
    {
     "data": {
      "application/vnd.jupyter.widget-view+json": {
       "model_id": "5ad8b1aef2c84e9bb2d8d7607332a1d0",
       "version_major": 2,
       "version_minor": 0
      },
      "text/plain": [
       "SelectMultiple(description='Eraser: ', index=(0,), options=('tab', '\"'), value=('tab',))"
      ]
     },
     "execution_count": 7,
     "metadata": {},
     "output_type": "execute_result"
    }
   ],
   "source": [
    "eraser = widgets.SelectMultiple(\n",
    "    options = [\"tab\", '\"'],\n",
    "    value = [\"tab\"],\n",
    "    #rows=10,\n",
    "    description = \"Eraser: \",\n",
    "    disabled = False\n",
    ")\n",
    "eraser"
   ]
  },
  {
   "cell_type": "markdown",
   "id": "57fb7f6c-f048-4deb-baa4-890d62cccbb8",
   "metadata": {},
   "source": [
    "### RadioButtons"
   ]
  },
  {
   "cell_type": "code",
   "execution_count": 8,
   "id": "5bc47db2-308c-46ae-aeba-eefcbc020ff4",
   "metadata": {},
   "outputs": [
    {
     "data": {
      "application/vnd.jupyter.widget-view+json": {
       "model_id": "4b816e2ae7ab4bb7acabe07dd81d1452",
       "version_major": 2,
       "version_minor": 0
      },
      "text/plain": [
       "RadioButtons(description='Seperator: ', options=(';', ',', ' '), value=';')"
      ]
     },
     "execution_count": 8,
     "metadata": {},
     "output_type": "execute_result"
    }
   ],
   "source": [
    "delim = widgets.RadioButtons(\n",
    "    options = [\";\", \",\", \" \"],\n",
    "    description=\"Seperator: \",\n",
    "    disabled = False\n",
    ")\n",
    "delim"
   ]
  },
  {
   "cell_type": "markdown",
   "id": "d2555ee8-1594-4162-88c0-f46efcf1d54b",
   "metadata": {},
   "source": [
    "### IntSlider"
   ]
  },
  {
   "cell_type": "code",
   "execution_count": 9,
   "id": "a980dc54-c7fa-4b11-87fa-48fcfedb80ac",
   "metadata": {},
   "outputs": [
    {
     "data": {
      "application/vnd.jupyter.widget-view+json": {
       "model_id": "815c7b0ee7754c73a446c115dc266a73",
       "version_major": 2,
       "version_minor": 0
      },
      "text/plain": [
       "IntSlider(value=0, description='# of lines:')"
      ]
     },
     "execution_count": 9,
     "metadata": {},
     "output_type": "execute_result"
    }
   ],
   "source": [
    "rows = widgets.IntSlider(\n",
    "    value = 0, #0la başlayan\n",
    "    step = 1, #her basamakta 1 artan\n",
    "    description = \"# of lines:\",\n",
    "    disabled = False,\n",
    "    continous_update = False,\n",
    "    orientation = \"horizontal\",\n",
    "    readout = True,\n",
    "    readout_format= \"d\"\n",
    ")\n",
    "rows"
   ]
  },
  {
   "cell_type": "markdown",
   "id": "24e6b92e-1ae1-4ac0-9b88-28730c39462f",
   "metadata": {},
   "source": [
    "### Accordion"
   ]
  },
  {
   "cell_type": "code",
   "execution_count": 10,
   "id": "0e2af4c6-d89f-4d7b-9195-8156e71635a8",
   "metadata": {},
   "outputs": [
    {
     "data": {
      "application/vnd.jupyter.widget-view+json": {
       "model_id": "992a3f6fbcc8413d8bdc1f2bcc59561a",
       "version_major": 2,
       "version_minor": 0
      },
      "text/plain": [
       "Accordion(children=(FileUpload(value=(), description='Upload'), RadioButtons(description='Seperator: ', option…"
      ]
     },
     "execution_count": 10,
     "metadata": {},
     "output_type": "execute_result"
    }
   ],
   "source": [
    "accordion = widgets.Accordion()\n",
    "accordion.children = [\n",
    "    up,\n",
    "    delim,\n",
    "    rows]\n",
    "accordion.set_title(0, \"File Selection\")\n",
    "accordion.set_title(1, \"Delimiter\")\n",
    "accordion.set_title(2, \"Skip Rows\")\n",
    "accordion"
   ]
  },
  {
   "cell_type": "markdown",
   "id": "7a24f8b9-42d4-4109-826a-eda93a29c107",
   "metadata": {},
   "source": [
    "### Button"
   ]
  },
  {
   "cell_type": "code",
   "execution_count": 11,
   "id": "6968c755-cd67-4199-9b91-e6069701fbca",
   "metadata": {},
   "outputs": [
    {
     "data": {
      "application/vnd.jupyter.widget-view+json": {
       "model_id": "41ef8c06932b4debb22683a108b861cd",
       "version_major": 2,
       "version_minor": 0
      },
      "text/plain": [
       "Button(button_style='warning', description='Upload', icon='check', style=ButtonStyle(), tooltip='Click to Uplo…"
      ]
     },
     "execution_count": 11,
     "metadata": {},
     "output_type": "execute_result"
    }
   ],
   "source": [
    "button_upload = widgets.Button(\n",
    "    description = \"Upload\",\n",
    "    disabled = False,\n",
    "    button_style = \"warning\",\n",
    "    tooltip = \"Click to Upload\",\n",
    "    icon = \"check\"\n",
    ")\n",
    "button_upload"
   ]
  },
  {
   "cell_type": "code",
   "execution_count": 12,
   "id": "9b96c95a-6716-494b-99db-5a2619c5b0f4",
   "metadata": {},
   "outputs": [
    {
     "data": {
      "application/vnd.jupyter.widget-view+json": {
       "model_id": "7c5c56f77d6246b3ae56b05ec0366b11",
       "version_major": 2,
       "version_minor": 0
      },
      "text/plain": [
       "Button(button_style='info', description='Preview', icon='search', style=ButtonStyle(), tooltip='Click to Previ…"
      ]
     },
     "execution_count": 12,
     "metadata": {},
     "output_type": "execute_result"
    }
   ],
   "source": [
    "button_preview = widgets.Button(\n",
    "    description = \"Preview\",\n",
    "    disabled = False,\n",
    "    button_style = \"info\",\n",
    "    tooltip = \"Click to Preview\",\n",
    "    icon = \"search\"\n",
    ")\n",
    "button_preview"
   ]
  },
  {
   "cell_type": "code",
   "execution_count": 13,
   "id": "006a400f-914a-494a-84b3-07838cf841c6",
   "metadata": {},
   "outputs": [
    {
     "data": {
      "application/vnd.jupyter.widget-view+json": {
       "model_id": "15804f22b9094077a112f0990289237f",
       "version_major": 2,
       "version_minor": 0
      },
      "text/plain": [
       "Button(button_style='danger', description='Plot', icon='pencil', style=ButtonStyle(), tooltip='Click to Plot')"
      ]
     },
     "execution_count": 13,
     "metadata": {},
     "output_type": "execute_result"
    }
   ],
   "source": [
    "button_plot = widgets.Button(\n",
    "    description = \"Plot\",\n",
    "    disabled = False,\n",
    "    button_style = \"danger\",\n",
    "    tooltip = \"Click to Plot\",\n",
    "    icon = \"pencil\"\n",
    ")\n",
    "button_plot"
   ]
  },
  {
   "cell_type": "markdown",
   "id": "92b060bb-0b51-494a-a353-5b12f88dcdc7",
   "metadata": {},
   "source": [
    "### HBox/VBox - Groupping"
   ]
  },
  {
   "cell_type": "code",
   "execution_count": 14,
   "id": "fc01d96a-01fc-4b20-ad0a-dc121ecea806",
   "metadata": {},
   "outputs": [
    {
     "data": {
      "application/vnd.jupyter.widget-view+json": {
       "model_id": "34c6f5a9647e46a289d5c19eb72a74f5",
       "version_major": 2,
       "version_minor": 0
      },
      "text/plain": [
       "VBox(children=(RadioButtons(description='Seperator: ', options=(';', ',', ' '), value=';'), SelectMultiple(des…"
      ]
     },
     "execution_count": 14,
     "metadata": {},
     "output_type": "execute_result"
    }
   ],
   "source": [
    "vb = widgets.VBox([delim, eraser]) # bir accordion a gruplar eklenebilir\n",
    "vb"
   ]
  },
  {
   "cell_type": "code",
   "execution_count": 15,
   "id": "76de1050-4b35-4def-bd41-e708a10826d1",
   "metadata": {},
   "outputs": [
    {
     "data": {
      "application/vnd.jupyter.widget-view+json": {
       "model_id": "0f5e7ac1241e4a65ad08217bbd5b1139",
       "version_major": 2,
       "version_minor": 0
      },
      "text/plain": [
       "HBox(children=(RadioButtons(description='Seperator: ', options=(';', ',', ' '), value=';'), SelectMultiple(des…"
      ]
     },
     "execution_count": 15,
     "metadata": {},
     "output_type": "execute_result"
    }
   ],
   "source": [
    "hb = widgets.HBox([delim, eraser])\n",
    "hb"
   ]
  },
  {
   "cell_type": "code",
   "execution_count": 16,
   "id": "ecf57658-9403-4c7c-a7c7-94980a0680f2",
   "metadata": {},
   "outputs": [
    {
     "data": {
      "application/vnd.jupyter.widget-view+json": {
       "model_id": "a354a53477c14bf1af6fe76471c4d4e1",
       "version_major": 2,
       "version_minor": 0
      },
      "text/plain": [
       "VBox(children=(Accordion(children=(FileUpload(value=(), description='Upload'), VBox(children=(RadioButtons(des…"
      ]
     },
     "execution_count": 16,
     "metadata": {},
     "output_type": "execute_result"
    }
   ],
   "source": [
    "accordion.children = [\n",
    "    up,\n",
    "    widgets.VBox([delim, eraser]), # bir accordion a gruplar eklenebilir\n",
    "    rows]\n",
    "\n",
    "accordion_box = widgets.VBox([\n",
    "    accordion,\n",
    "    widgets.HBox([button_preview, button_upload]), # bir accordion a gruplar eklenebilir\n",
    "    out\n",
    "])\n",
    "accordion_box"
   ]
  },
  {
   "cell_type": "markdown",
   "id": "2dfa27d9-a126-4fc1-a7ae-9159312391eb",
   "metadata": {},
   "source": [
    "### ToggleButtons"
   ]
  },
  {
   "cell_type": "code",
   "execution_count": 17,
   "id": "d161c0fc-84ea-4c23-87e4-86c071dd9ea1",
   "metadata": {},
   "outputs": [
    {
     "data": {
      "application/vnd.jupyter.widget-view+json": {
       "model_id": "8487b6b52c6a4afc8fc392f36ea7b134",
       "version_major": 2,
       "version_minor": 0
      },
      "text/plain": [
       "ToggleButtons(description='Options', icons=('search', 'info', 'tachometer'), options=('Preview  ', 'Info  ', '…"
      ]
     },
     "execution_count": 17,
     "metadata": {},
     "output_type": "execute_result"
    }
   ],
   "source": [
    "toggle = widgets.ToggleButtons(\n",
    "    options = [\"Preview  \", \"Info  \", \"Stats  \"], \n",
    "    #assignmentlar butona özgü değil hangi butonun seçili olduğuna göre\n",
    "    #radiobutton gibi\n",
    "    description = \"Options\",\n",
    "    disabled = False,\n",
    "    button_Style = \"warning\",\n",
    "    icons = [\"search\", \"info\", \"tachometer\"]\n",
    ")\n",
    "#toggle.observe(desc_clicked, \"value\")\n",
    "toggle"
   ]
  },
  {
   "cell_type": "markdown",
   "id": "62c8c635-9f4d-4e5a-9791-d926393e09f8",
   "metadata": {},
   "source": [
    "### Dropdown"
   ]
  },
  {
   "cell_type": "code",
   "execution_count": 18,
   "id": "1b76a65d-2102-42e7-b09a-a7a71ff80fd5",
   "metadata": {},
   "outputs": [
    {
     "data": {
      "application/vnd.jupyter.widget-view+json": {
       "model_id": "d4a2b15dd3014642bdbac668dd2cbabf",
       "version_major": 2,
       "version_minor": 0
      },
      "text/plain": [
       "Dropdown(description='Chart Type:', options=('Bar Chart', 'Line Chart'), value='Bar Chart')"
      ]
     },
     "execution_count": 18,
     "metadata": {},
     "output_type": "execute_result"
    }
   ],
   "source": [
    "x_axis = widgets.Dropdown(\n",
    "    options = [\"\"],\n",
    "    value = \"\",\n",
    "    description = \"X-Axis:\",\n",
    "    disabled = False)\n",
    "\n",
    "y_axis = widgets.Dropdown(\n",
    "    options = [\"\"],\n",
    "    value = \"\",\n",
    "    description = \"Y-Axis:\",\n",
    "    disabled = False)\n",
    "\n",
    "graph_type = widgets.Dropdown(\n",
    "    options = [\"Bar Chart\", \"Line Chart\"],\n",
    "    value = \"Bar Chart\",\n",
    "    description = \"Chart Type:\",\n",
    "    disabled = False)\n",
    "graph_type"
   ]
  },
  {
   "cell_type": "markdown",
   "id": "821b68ab-6717-46d8-ae0f-95d64b51f0f4",
   "metadata": {},
   "source": [
    "### ColorPicker"
   ]
  },
  {
   "cell_type": "code",
   "execution_count": 19,
   "id": "2f88a2c3-8e1d-4efe-bb37-1e747c34673c",
   "metadata": {},
   "outputs": [
    {
     "data": {
      "application/vnd.jupyter.widget-view+json": {
       "model_id": "dd9b55f8370d48f5a0820eba21cfbb50",
       "version_major": 2,
       "version_minor": 0
      },
      "text/plain": [
       "ColorPicker(value='lightblue', description='Color Picker: ')"
      ]
     },
     "execution_count": 19,
     "metadata": {},
     "output_type": "execute_result"
    }
   ],
   "source": [
    "color_picker = widgets.ColorPicker(\n",
    "    concise = False,\n",
    "    description = \"Color Picker: \",\n",
    "    value = \"lightblue\",\n",
    "    disabled = False)\n",
    "color_picker"
   ]
  },
  {
   "cell_type": "markdown",
   "id": "bb7845da-2e3c-4570-bba1-010c8e58380c",
   "metadata": {},
   "source": [
    "## Şu ana kadar yaptıklarımız hepsinin çıktısı:"
   ]
  },
  {
   "cell_type": "code",
   "execution_count": 20,
   "id": "64671068-cbdf-4027-a2e6-3c7963a860f2",
   "metadata": {},
   "outputs": [
    {
     "data": {
      "application/vnd.jupyter.widget-view+json": {
       "model_id": "f9e2932da9af4166984d7ae5e4a83768",
       "version_major": 2,
       "version_minor": 0
      },
      "text/plain": [
       "Tab(children=(VBox(children=(Accordion(children=(FileUpload(value=(), description='Upload'), VBox(children=(Ra…"
      ]
     },
     "execution_count": 20,
     "metadata": {},
     "output_type": "execute_result"
    }
   ],
   "source": [
    "children = [\n",
    "    accordion_box,\n",
    "    widgets.VBox([toggle, out]),\n",
    "    widgets.VBox([\n",
    "        widgets.HBox([graph_type, color_picker]),\n",
    "        widgets.HBox([x_axis, y_axis]),\n",
    "        button_plot,\n",
    "        out])]\n",
    "tab.children = children\n",
    "tab"
   ]
  },
  {
   "cell_type": "markdown",
   "id": "f1ae4db5-5d0e-4fa4-beab-c70da2621157",
   "metadata": {},
   "source": [
    "## Value Import"
   ]
  },
  {
   "cell_type": "code",
   "execution_count": 21,
   "id": "36032836-9f60-4b76-848c-833c58eecacd",
   "metadata": {},
   "outputs": [],
   "source": [
    "def content_parser():\n",
    "    if not up.value or \"type\" not in up.value[0]:\n",
    "        with out:\n",
    "            print(\"No CSV loaded.\")\n",
    "    else:\n",
    "        typ, content = \"\", \"\"\n",
    "        up_value = up.value[0][\"type\"]\n",
    "        #up_value = up.value\n",
    "        #for i in up_value.keys():\n",
    "            #typ = up_value[i][\"metadata\"][\"type\"]\n",
    "        \n",
    "        if up_value == \"text/csv\":\n",
    "            #content = up_value[i][\"content\"]\n",
    "            content = up.value[0][\"content\"]\n",
    "            content_str = str(content, \"utf-8\")\n",
    "\n",
    "            #if eraser.value != {}:\n",
    "            if eraser.value:\n",
    "                for val in eraser.value:\n",
    "                    if val == \"tab\":\n",
    "                        content_str = content_str.replace(\"\\t\", \"\")\n",
    "                    else:\n",
    "                        content_str = content_str.replace(val, \"\")\n",
    "            #if content_str != \"\":\n",
    "            if content_str:\n",
    "                str_io = StringIO(content_str)\n",
    "                return str_io\n",
    "\n",
    "def df_converter():\n",
    "    content = content_parser()\n",
    "    if content is not None:\n",
    "        #df = pd.read_csv(content, sep = delim.value, index_Col = False, skiprows = rows.value)\n",
    "        df = pd.read_csv(content, sep=delim.value)\n",
    "        return df\n",
    "    else:\n",
    "        return None\n"
   ]
  },
  {
   "cell_type": "code",
   "execution_count": 22,
   "id": "dbff8391-3b62-4a80-ae7e-0582602753b4",
   "metadata": {},
   "outputs": [
    {
     "data": {
      "application/vnd.jupyter.widget-view+json": {
       "model_id": "f9e2932da9af4166984d7ae5e4a83768",
       "version_major": 2,
       "version_minor": 0
      },
      "text/plain": [
       "Tab(children=(VBox(children=(Accordion(children=(FileUpload(value=(), description='Upload'), VBox(children=(Ra…"
      ]
     },
     "execution_count": 22,
     "metadata": {},
     "output_type": "execute_result"
    }
   ],
   "source": [
    "tab"
   ]
  },
  {
   "cell_type": "code",
   "execution_count": 36,
   "id": "8f0bb879-b495-4658-a6f1-54e914d67096",
   "metadata": {},
   "outputs": [
    {
     "data": {
      "text/html": [
       "<div>\n",
       "<style scoped>\n",
       "    .dataframe tbody tr th:only-of-type {\n",
       "        vertical-align: middle;\n",
       "    }\n",
       "\n",
       "    .dataframe tbody tr th {\n",
       "        vertical-align: top;\n",
       "    }\n",
       "\n",
       "    .dataframe thead th {\n",
       "        text-align: right;\n",
       "    }\n",
       "</style>\n",
       "<table border=\"1\" class=\"dataframe\">\n",
       "  <thead>\n",
       "    <tr style=\"text-align: right;\">\n",
       "      <th></th>\n",
       "      <th>oscar_no</th>\n",
       "      <th>oscar_yr</th>\n",
       "      <th>award</th>\n",
       "      <th>name</th>\n",
       "      <th>movie</th>\n",
       "      <th>age</th>\n",
       "      <th>birth_pl</th>\n",
       "      <th>birth_date</th>\n",
       "      <th>birth_mo</th>\n",
       "      <th>birth_d</th>\n",
       "      <th>birth_y</th>\n",
       "    </tr>\n",
       "  </thead>\n",
       "  <tbody>\n",
       "    <tr>\n",
       "      <th>0</th>\n",
       "      <td>1</td>\n",
       "      <td>1929</td>\n",
       "      <td>Best actress</td>\n",
       "      <td>Janet Gaynor</td>\n",
       "      <td>7th Heaven</td>\n",
       "      <td>22</td>\n",
       "      <td>Pennsylvania</td>\n",
       "      <td>1906-10-06</td>\n",
       "      <td>10</td>\n",
       "      <td>6</td>\n",
       "      <td>1906</td>\n",
       "    </tr>\n",
       "    <tr>\n",
       "      <th>1</th>\n",
       "      <td>2</td>\n",
       "      <td>1930</td>\n",
       "      <td>Best actress</td>\n",
       "      <td>Mary Pickford</td>\n",
       "      <td>Coquette</td>\n",
       "      <td>37</td>\n",
       "      <td>Canada</td>\n",
       "      <td>1892-04-08</td>\n",
       "      <td>4</td>\n",
       "      <td>8</td>\n",
       "      <td>1892</td>\n",
       "    </tr>\n",
       "    <tr>\n",
       "      <th>2</th>\n",
       "      <td>3</td>\n",
       "      <td>1931</td>\n",
       "      <td>Best actress</td>\n",
       "      <td>Norma Shearer</td>\n",
       "      <td>The Divorcee</td>\n",
       "      <td>28</td>\n",
       "      <td>Canada</td>\n",
       "      <td>1902-08-10</td>\n",
       "      <td>8</td>\n",
       "      <td>10</td>\n",
       "      <td>1902</td>\n",
       "    </tr>\n",
       "    <tr>\n",
       "      <th>3</th>\n",
       "      <td>4</td>\n",
       "      <td>1932</td>\n",
       "      <td>Best actress</td>\n",
       "      <td>Marie Dressler</td>\n",
       "      <td>Min and Bill</td>\n",
       "      <td>63</td>\n",
       "      <td>Canada</td>\n",
       "      <td>1868-11-09</td>\n",
       "      <td>11</td>\n",
       "      <td>9</td>\n",
       "      <td>1868</td>\n",
       "    </tr>\n",
       "    <tr>\n",
       "      <th>4</th>\n",
       "      <td>5</td>\n",
       "      <td>1933</td>\n",
       "      <td>Best actress</td>\n",
       "      <td>Helen Hayes</td>\n",
       "      <td>The Sin of Madelon Claudet</td>\n",
       "      <td>32</td>\n",
       "      <td>Washington DC</td>\n",
       "      <td>1900-10-10</td>\n",
       "      <td>10</td>\n",
       "      <td>10</td>\n",
       "      <td>1900</td>\n",
       "    </tr>\n",
       "    <tr>\n",
       "      <th>...</th>\n",
       "      <td>...</td>\n",
       "      <td>...</td>\n",
       "      <td>...</td>\n",
       "      <td>...</td>\n",
       "      <td>...</td>\n",
       "      <td>...</td>\n",
       "      <td>...</td>\n",
       "      <td>...</td>\n",
       "      <td>...</td>\n",
       "      <td>...</td>\n",
       "      <td>...</td>\n",
       "    </tr>\n",
       "    <tr>\n",
       "      <th>179</th>\n",
       "      <td>87</td>\n",
       "      <td>2015</td>\n",
       "      <td>Best actor</td>\n",
       "      <td>Eddie Redmayne</td>\n",
       "      <td>The Theory of Everything</td>\n",
       "      <td>32</td>\n",
       "      <td>England</td>\n",
       "      <td>1982-01-06</td>\n",
       "      <td>1</td>\n",
       "      <td>6</td>\n",
       "      <td>1982</td>\n",
       "    </tr>\n",
       "    <tr>\n",
       "      <th>180</th>\n",
       "      <td>88</td>\n",
       "      <td>2016</td>\n",
       "      <td>Best actor</td>\n",
       "      <td>Leonardo Di Caprio</td>\n",
       "      <td>The Revenant</td>\n",
       "      <td>41</td>\n",
       "      <td>California</td>\n",
       "      <td>1974-11-11</td>\n",
       "      <td>11</td>\n",
       "      <td>11</td>\n",
       "      <td>1974</td>\n",
       "    </tr>\n",
       "    <tr>\n",
       "      <th>181</th>\n",
       "      <td>89</td>\n",
       "      <td>2017</td>\n",
       "      <td>Best actor</td>\n",
       "      <td>Casey Affleck</td>\n",
       "      <td>Manchester by the Sa</td>\n",
       "      <td>41</td>\n",
       "      <td>Massachusetts</td>\n",
       "      <td>1975-08-12</td>\n",
       "      <td>8</td>\n",
       "      <td>12</td>\n",
       "      <td>1975</td>\n",
       "    </tr>\n",
       "    <tr>\n",
       "      <th>182</th>\n",
       "      <td>90</td>\n",
       "      <td>2018</td>\n",
       "      <td>Best actor</td>\n",
       "      <td>Gary Oldman</td>\n",
       "      <td>Darkest Hour</td>\n",
       "      <td>59</td>\n",
       "      <td>England</td>\n",
       "      <td>1958-03-21</td>\n",
       "      <td>3</td>\n",
       "      <td>21</td>\n",
       "      <td>1958</td>\n",
       "    </tr>\n",
       "    <tr>\n",
       "      <th>183</th>\n",
       "      <td>91</td>\n",
       "      <td>2019</td>\n",
       "      <td>Best actor</td>\n",
       "      <td>Rami Malek</td>\n",
       "      <td>Bohemian Rhapsody</td>\n",
       "      <td>37</td>\n",
       "      <td>California</td>\n",
       "      <td>1981-05-12</td>\n",
       "      <td>5</td>\n",
       "      <td>12</td>\n",
       "      <td>1981</td>\n",
       "    </tr>\n",
       "  </tbody>\n",
       "</table>\n",
       "<p>184 rows × 11 columns</p>\n",
       "</div>"
      ],
      "text/plain": [
       "     oscar_no  oscar_yr         award                name  \\\n",
       "0           1      1929  Best actress        Janet Gaynor   \n",
       "1           2      1930  Best actress       Mary Pickford   \n",
       "2           3      1931  Best actress       Norma Shearer   \n",
       "3           4      1932  Best actress      Marie Dressler   \n",
       "4           5      1933  Best actress         Helen Hayes   \n",
       "..        ...       ...           ...                 ...   \n",
       "179        87      2015    Best actor      Eddie Redmayne   \n",
       "180        88      2016    Best actor  Leonardo Di Caprio   \n",
       "181        89      2017    Best actor       Casey Affleck   \n",
       "182        90      2018    Best actor         Gary Oldman   \n",
       "183        91      2019    Best actor          Rami Malek   \n",
       "\n",
       "                          movie  age       birth_pl  birth_date  birth_mo  \\\n",
       "0                    7th Heaven   22   Pennsylvania  1906-10-06        10   \n",
       "1                      Coquette   37         Canada  1892-04-08         4   \n",
       "2                  The Divorcee   28         Canada  1902-08-10         8   \n",
       "3                  Min and Bill   63         Canada  1868-11-09        11   \n",
       "4    The Sin of Madelon Claudet   32  Washington DC  1900-10-10        10   \n",
       "..                          ...  ...            ...         ...       ...   \n",
       "179    The Theory of Everything   32        England  1982-01-06         1   \n",
       "180                The Revenant   41     California  1974-11-11        11   \n",
       "181        Manchester by the Sa   41  Massachusetts  1975-08-12         8   \n",
       "182                Darkest Hour   59        England  1958-03-21         3   \n",
       "183           Bohemian Rhapsody   37     California  1981-05-12         5   \n",
       "\n",
       "     birth_d  birth_y  \n",
       "0          6     1906  \n",
       "1          8     1892  \n",
       "2         10     1902  \n",
       "3          9     1868  \n",
       "4         10     1900  \n",
       "..       ...      ...  \n",
       "179        6     1982  \n",
       "180       11     1974  \n",
       "181       12     1975  \n",
       "182       21     1958  \n",
       "183       12     1981  \n",
       "\n",
       "[184 rows x 11 columns]"
      ]
     },
     "execution_count": 36,
     "metadata": {},
     "output_type": "execute_result"
    }
   ],
   "source": [
    "df_converter()"
   ]
  },
  {
   "cell_type": "markdown",
   "id": "f364b71e-b1c9-4cc4-9c84-ba1e99d50ab1",
   "metadata": {},
   "source": [
    "## Button Action"
   ]
  },
  {
   "cell_type": "raw",
   "id": "08597ee4-1ca9-4c71-8872-cf84d1252b1d",
   "metadata": {},
   "source": [
    "    4.1 ### Preview Button\n",
    "    4.2 ### Upload Button\n",
    "    4.3 ### Description ToggleButton\n",
    "    4.4 ### Plot Button"
   ]
  },
  {
   "cell_type": "markdown",
   "id": "5972b3b3-f73b-4c64-a125-1076dc69dbd9",
   "metadata": {},
   "source": [
    "### Preview Button"
   ]
  },
  {
   "cell_type": "code",
   "execution_count": 24,
   "id": "31d85ecf-7f53-4583-acca-892093bbed71",
   "metadata": {},
   "outputs": [],
   "source": [
    "def preview():\n",
    "    df = df_converter()\n",
    "    with out:\n",
    "        out.clear_output()\n",
    "        print(\"\\n -------------------- Now this is how your DF looks like: -------------------- \\n\")\n",
    "        if df is not None:\n",
    "            print(df.head(10))\n",
    "        else:\n",
    "            print(\"Configuration is wrong/missing...\")"
   ]
  },
  {
   "cell_type": "code",
   "execution_count": 25,
   "id": "452a008f-a5fc-41fe-bbb7-b5b534caf5ae",
   "metadata": {},
   "outputs": [],
   "source": [
    "def preview_clicked(b): # butona fonksiyonu direkt atayamıyoruz, parantez içine kullanmayacağımızı düşündüğümüz bir parametre eklemek zorundayız\n",
    "    preview() # başka bir fonksiyon içerisinde çalıştırıp...\n",
    "button_preview.on_click(preview_clicked) # fonksiyonu on_click komutu içinde butona atayabiliyoruz"
   ]
  },
  {
   "cell_type": "markdown",
   "id": "caec3d86-12b2-4655-a5ee-2cfda836e9bc",
   "metadata": {},
   "source": [
    "### Upload Button"
   ]
  },
  {
   "cell_type": "code",
   "execution_count": 26,
   "id": "888d48db-63e9-46be-8a09-c65b6d5aee48",
   "metadata": {},
   "outputs": [],
   "source": [
    "def upload():\n",
    "    df = df_converter()\n",
    "    with out:\n",
    "        out.clear_output()\n",
    "        print(\"\\n -------------------- Your uploaded DF looks like: -------------------- \\n\")\n",
    "        if df is not None:\n",
    "            print(df)\n",
    "            x_axis.options = df.columns\n",
    "            y_axis.options = df.columns\n",
    "        else:\n",
    "            print(\"Configuration is wrong/missing...\")"
   ]
  },
  {
   "cell_type": "code",
   "execution_count": 27,
   "id": "5b2a1145-2cad-4c54-afe3-ac2d2a4d086e",
   "metadata": {},
   "outputs": [],
   "source": [
    "def upload_clicked(b): #önceki atadığımız parametrenin aynısını koyabiliriz\n",
    "    upload()\n",
    "button_upload.on_click(upload_clicked)"
   ]
  },
  {
   "cell_type": "code",
   "execution_count": 28,
   "id": "3ee66f8b-157d-4d1d-9beb-867b232a9fe6",
   "metadata": {},
   "outputs": [
    {
     "data": {
      "application/vnd.jupyter.widget-view+json": {
       "model_id": "f9e2932da9af4166984d7ae5e4a83768",
       "version_major": 2,
       "version_minor": 0
      },
      "text/plain": [
       "Tab(children=(VBox(children=(Accordion(children=(FileUpload(value=(), description='Upload'), VBox(children=(Ra…"
      ]
     },
     "execution_count": 28,
     "metadata": {},
     "output_type": "execute_result"
    }
   ],
   "source": [
    "tab"
   ]
  },
  {
   "cell_type": "markdown",
   "id": "f623b7aa-30d6-446a-a446-093f6324cfb2",
   "metadata": {},
   "source": [
    "### Description ToggleButton"
   ]
  },
  {
   "cell_type": "code",
   "execution_count": 29,
   "id": "f2e9353c-6c35-4d90-8625-1482b310da20",
   "metadata": {},
   "outputs": [],
   "source": [
    "def desc():\n",
    "    info_level = toggle.value\n",
    "    if info_level != {}:\n",
    "        df = df_converter()\n",
    "        with out:\n",
    "            out.clear_output()\n",
    "            print(\"\\n -------------------- Your  {}looks like: -------------------- \\n\".format(info_level))\n",
    "            if df is not None:\n",
    "                if info_level == \"Info  \":\n",
    "                    print(df.info(verbose=True))\n",
    "                elif info_level == \"Stats  \":\n",
    "                    print(df.describe())\n",
    "                elif info_level == \"Preview  \":\n",
    "                    print(df.head(5))\n",
    "            else:\n",
    "                print(\"Configuration is wrong/missing...\")"
   ]
  },
  {
   "cell_type": "code",
   "execution_count": 30,
   "id": "4f963ba7-f20f-4abb-a67e-8e49e0380312",
   "metadata": {},
   "outputs": [],
   "source": [
    "def desc_clicked(b):\n",
    "    desc()\n",
    "toggle.observe(desc_clicked, \"value\") #value değerince seçim yapmasını istiyoruz"
   ]
  },
  {
   "cell_type": "code",
   "execution_count": 31,
   "id": "24acc727-84c9-4fa4-bff8-d9de5cab7ac0",
   "metadata": {},
   "outputs": [
    {
     "data": {
      "application/vnd.jupyter.widget-view+json": {
       "model_id": "f9e2932da9af4166984d7ae5e4a83768",
       "version_major": 2,
       "version_minor": 0
      },
      "text/plain": [
       "Tab(children=(VBox(children=(Accordion(children=(FileUpload(value=(), description='Upload'), VBox(children=(Ra…"
      ]
     },
     "execution_count": 31,
     "metadata": {},
     "output_type": "execute_result"
    }
   ],
   "source": [
    "tab"
   ]
  },
  {
   "cell_type": "markdown",
   "id": "b838bfe0-0d84-4c41-94aa-343fff9fa856",
   "metadata": {},
   "source": [
    "### Plot Button"
   ]
  },
  {
   "cell_type": "code",
   "execution_count": 32,
   "id": "a91cea6b-941a-4b29-a737-f34f19c946ef",
   "metadata": {},
   "outputs": [],
   "source": [
    "def plot():\n",
    "    graph = graph_type.value\n",
    "    if graph != {}:\n",
    "        df = df_converter()\n",
    "        with out:\n",
    "            out.clear_output()\n",
    "            print(\"\\n -------------------- Your  {}looks like: -------------------- \\n\".format(graph))\n",
    "            if (df is not None):\n",
    "                #df = df.head(5)\n",
    "                height = df[y_axis.value]\n",
    "                bars = df[x_axis.value]\n",
    "                y_pos = np.arange(len(height))\n",
    "                plt.figure(figsize = (10,4))\n",
    "                if graph == \"Bar Chart\":\n",
    "\n",
    "                    # create bars\n",
    "                    plt.bar(\n",
    "                        y_pos,\n",
    "                        height,\n",
    "                        color = color_picker.value)\n",
    "                    # create names on the x-axis\n",
    "                    plt.xticks(y_pos, bars)\n",
    "                    \n",
    "                elif graph == \"Line Chart\":\n",
    "                    plt.plot(\n",
    "                        bars,\n",
    "                        height,\n",
    "                        color = color_picker.value,\n",
    "                        marker = \"o\",\n",
    "                        linestyle = \"solid\")\n",
    "                    plt.xticks(bars)\n",
    "\n",
    "                plt.show()"
   ]
  },
  {
   "cell_type": "code",
   "execution_count": 33,
   "id": "9b09be86-5cd7-4e26-8800-6419e549ceab",
   "metadata": {},
   "outputs": [],
   "source": [
    "def plotter_clicked(b):\n",
    "    plot()\n",
    "button_plot.on_click(plotter_clicked)"
   ]
  },
  {
   "cell_type": "code",
   "execution_count": 34,
   "id": "7142eab8-d4c4-4151-bb9b-1e7b24baaa47",
   "metadata": {},
   "outputs": [
    {
     "data": {
      "application/vnd.jupyter.widget-view+json": {
       "model_id": "f9e2932da9af4166984d7ae5e4a83768",
       "version_major": 2,
       "version_minor": 0
      },
      "text/plain": [
       "Tab(children=(VBox(children=(Accordion(children=(FileUpload(value=(), description='Upload'), VBox(children=(Ra…"
      ]
     },
     "execution_count": 34,
     "metadata": {},
     "output_type": "execute_result"
    }
   ],
   "source": [
    "tab"
   ]
  },
  {
   "cell_type": "markdown",
   "id": "2aabde9a-8793-4786-97d0-7b1ff2b31745",
   "metadata": {},
   "source": [
    "## Sonuç"
   ]
  },
  {
   "cell_type": "code",
   "execution_count": 35,
   "id": "0d1b623b-dce8-4b45-a62a-921d08769fef",
   "metadata": {},
   "outputs": [
    {
     "data": {
      "application/vnd.jupyter.widget-view+json": {
       "model_id": "f9e2932da9af4166984d7ae5e4a83768",
       "version_major": 2,
       "version_minor": 0
      },
      "text/plain": [
       "Tab(children=(VBox(children=(Accordion(children=(FileUpload(value=(), description='Upload'), VBox(children=(Ra…"
      ]
     },
     "execution_count": 35,
     "metadata": {},
     "output_type": "execute_result"
    }
   ],
   "source": [
    "tab"
   ]
  },
  {
   "cell_type": "code",
   "execution_count": null,
   "id": "43aec614-62f6-46d0-86dc-35add7fdddcf",
   "metadata": {},
   "outputs": [],
   "source": []
  }
 ],
 "metadata": {
  "kernelspec": {
   "display_name": "Python 3 (ipykernel)",
   "language": "python",
   "name": "python3"
  },
  "language_info": {
   "codemirror_mode": {
    "name": "ipython",
    "version": 3
   },
   "file_extension": ".py",
   "mimetype": "text/x-python",
   "name": "python",
   "nbconvert_exporter": "python",
   "pygments_lexer": "ipython3",
   "version": "3.10.9"
  }
 },
 "nbformat": 4,
 "nbformat_minor": 5
}
