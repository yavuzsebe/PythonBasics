{
 "cells": [
  {
   "cell_type": "raw",
   "id": "c0a964bb-29dc-4273-80b2-049183c2c2bd",
   "metadata": {},
   "source": [
    "class <Class Ismi>():   ### class isimleri, genelin aksine büyük harfle baslar (zorunluluk degil)\n",
    "    \n",
    "    <class attr>        ### class attribute, olusturulanin aksine genel degerleri icerir\n",
    "    \n",
    "    def __init__(self, <attr>):         ### init, instantiation yani örneklendirmenin kisaltmasidir\n",
    "        self.<instance attr> = attr     ### instance attribute'lar, olusturulan örnege özgüdür\n",
    "        ...\n",
    "    \n",
    "    def <method>(self, <params>):       ### methodlar class'a özgü fonksiyonlardir\n",
    "        ...\n",
    "        return ..."
   ]
  },
  {
   "cell_type": "markdown",
   "id": "2a6791cc-0f86-4e04-bb20-64ee96676175",
   "metadata": {
    "jp-MarkdownHeadingCollapsed": true
   },
   "source": [
    "### class oluşturma, attribute'lar ve method'lar"
   ]
  },
  {
   "cell_type": "code",
   "execution_count": 1,
   "id": "9280e16d-7ea6-4faf-8f37-c532ee260b6e",
   "metadata": {},
   "outputs": [],
   "source": [
    "class Ucus():\n",
    "    havayolu = \"THY\" #bu atanan classa ait her şeyi tanımlıyor superior yani"
   ]
  },
  {
   "cell_type": "code",
   "execution_count": 3,
   "id": "23c90e4d-9139-42ac-a9e5-2c1b2704e9c1",
   "metadata": {},
   "outputs": [],
   "source": [
    "ucus1 = Ucus() #ucus1 i classımıza tanımlıyoruz artık onun bir elementi haline geliyor"
   ]
  },
  {
   "cell_type": "code",
   "execution_count": 4,
   "id": "5f64ba5d-bf35-46bd-82d3-a3be543474b0",
   "metadata": {},
   "outputs": [
    {
     "data": {
      "text/plain": [
       "'THY'"
      ]
     },
     "execution_count": 4,
     "metadata": {},
     "output_type": "execute_result"
    }
   ],
   "source": [
    "ucus1.havayolu #ucus1 classa atanınca superiorı sorgulayabiliriz"
   ]
  },
  {
   "cell_type": "code",
   "execution_count": 15,
   "id": "ad18e33b-3303-4c78-8454-1b959375b297",
   "metadata": {},
   "outputs": [],
   "source": [
    "class Ucus():\n",
    "    havayolu = \"THY\"\n",
    "\n",
    "    def __init__(self, kod, kalkis, varis, sure, kapasite, yolcu):\n",
    "        \"\"\"\n",
    "        burada __init__ tanımlı bir fonksiyon\n",
    "        self de fonksiyonun kendi classına ait olduğunu dönüşlü olduğunu belirtiyor\n",
    "        \"\"\"\n",
    "        self.kod = kod\n",
    "        self.kalkis = kalkis\n",
    "        self.varis = varis\n",
    "        self.sure = sure\n",
    "        self.kapasite = kapasite\n",
    "        self.yolcu = yolcu\n",
    "    "
   ]
  },
  {
   "cell_type": "code",
   "execution_count": 25,
   "id": "b3f2075b-b304-4fde-88d3-fbd86f607935",
   "metadata": {},
   "outputs": [
    {
     "ename": "TypeError",
     "evalue": "Ucus.__init__() missing 6 required positional arguments: 'kod', 'kalkis', 'varis', 'sure', 'kapasite', and 'yolcu'",
     "output_type": "error",
     "traceback": [
      "\u001b[0;31m---------------------------------------------------------------------------\u001b[0m",
      "\u001b[0;31mTypeError\u001b[0m                                 Traceback (most recent call last)",
      "Cell \u001b[0;32mIn[25], line 1\u001b[0m\n\u001b[0;32m----> 1\u001b[0m ucus2 \u001b[38;5;241m=\u001b[39m \u001b[43mUcus\u001b[49m\u001b[43m(\u001b[49m\u001b[43m)\u001b[49m\n",
      "\u001b[0;31mTypeError\u001b[0m: Ucus.__init__() missing 6 required positional arguments: 'kod', 'kalkis', 'varis', 'sure', 'kapasite', and 'yolcu'"
     ]
    }
   ],
   "source": [
    "ucus2 = Ucus() #ucus2'yi Ucus classına tanıtırken instance attributeları tamamlayarak vermemiz gerekmekte"
   ]
  },
  {
   "cell_type": "code",
   "execution_count": 37,
   "id": "2f56bedc-0ea7-4fb4-beab-583a1c530a03",
   "metadata": {},
   "outputs": [],
   "source": [
    "ucus2 = Ucus(\"TK2342\",\"IST\",\"BER\",9.5,230,219) #instance attributelar girilince kabul ediyor"
   ]
  },
  {
   "cell_type": "code",
   "execution_count": 27,
   "id": "bfd05bef-f5ea-4cff-81fc-a293f28d4eba",
   "metadata": {},
   "outputs": [
    {
     "data": {
      "text/plain": [
       "'BER'"
      ]
     },
     "execution_count": 27,
     "metadata": {},
     "output_type": "execute_result"
    }
   ],
   "source": [
    "ucus2.varis"
   ]
  },
  {
   "cell_type": "code",
   "execution_count": 28,
   "id": "2868adc2-5f77-487c-b55b-f0d1ecaf0f1a",
   "metadata": {},
   "outputs": [
    {
     "data": {
      "text/plain": [
       "'TK2342'"
      ]
     },
     "execution_count": 28,
     "metadata": {},
     "output_type": "execute_result"
    }
   ],
   "source": [
    "ucus2.kod"
   ]
  },
  {
   "cell_type": "code",
   "execution_count": 29,
   "id": "a73340df-ebfd-412e-8c0a-f7683507f97a",
   "metadata": {},
   "outputs": [
    {
     "data": {
      "text/plain": [
       "9.5"
      ]
     },
     "execution_count": 29,
     "metadata": {},
     "output_type": "execute_result"
    }
   ],
   "source": [
    "ucus2.sure"
   ]
  },
  {
   "cell_type": "code",
   "execution_count": 30,
   "id": "b7823d07-d73e-48b2-a0b5-700f70a56f42",
   "metadata": {},
   "outputs": [
    {
     "data": {
      "text/plain": [
       "'THY'"
      ]
     },
     "execution_count": 30,
     "metadata": {},
     "output_type": "execute_result"
    }
   ],
   "source": [
    "ucus2.havayolu"
   ]
  },
  {
   "cell_type": "code",
   "execution_count": 35,
   "id": "0eb02a94-5861-4546-b9cb-dcd5f40cf188",
   "metadata": {},
   "outputs": [],
   "source": [
    "ucus3=Ucus(\"TK4397\",\"ANK\",\"NYC\",23.5,230,228)"
   ]
  },
  {
   "cell_type": "code",
   "execution_count": 39,
   "id": "72068d40-5110-4c6f-b742-0e7767b0f874",
   "metadata": {},
   "outputs": [],
   "source": [
    "class Ucus():\n",
    "    havayolu = \"THY\"\n",
    "\n",
    "    def __init__(self, kod, kalkis, varis, sure, kapasite, yolcu):\n",
    "        \n",
    "        self.kod = kod\n",
    "        self.kalkis = kalkis\n",
    "        self.varis = varis\n",
    "        self.sure = sure\n",
    "        self.kapasite = kapasite\n",
    "        self.yolcu = yolcu\n",
    "    \n",
    "    def anons(self): #yazılan fonksiyonun classa dönüşlü olacağını belirtmek için daima argüman kısmına self yazılmalı\n",
    "        return \"{} sefer sayılı {}-{} uçuşumuz {} saat sürecektir.\".format(\n",
    "            self.kod, #böyle alt alta yazarken de virgülü unutma!\n",
    "            self.kalkis,\n",
    "            self.varis,\n",
    "            self.sure)"
   ]
  },
  {
   "cell_type": "code",
   "execution_count": 40,
   "id": "cca01b0e-0609-4cbf-b613-7ab8fdf07224",
   "metadata": {},
   "outputs": [
    {
     "data": {
      "text/plain": [
       "'TK4397 sefer sayılı ANK-NYC uçuşumuz 23.5 saat sürecektir.'"
      ]
     },
     "execution_count": 40,
     "metadata": {},
     "output_type": "execute_result"
    }
   ],
   "source": [
    "ucus3.anons()"
   ]
  },
  {
   "cell_type": "code",
   "execution_count": 41,
   "id": "a8e11032-0a77-46ab-afd5-f14794992d91",
   "metadata": {},
   "outputs": [
    {
     "data": {
      "text/plain": [
       "'TK2342 sefer sayılı IST-BER uçuşumuz 9.5 saat sürecektir.'"
      ]
     },
     "execution_count": 41,
     "metadata": {},
     "output_type": "execute_result"
    }
   ],
   "source": [
    "ucus2.anons()"
   ]
  },
  {
   "cell_type": "code",
   "execution_count": 97,
   "id": "38fa408d-01c9-44d1-9c75-ccad398aca1a",
   "metadata": {},
   "outputs": [],
   "source": [
    "class Ucus():\n",
    "    havayolu = \"THY\"\n",
    "#Attributelar\n",
    "    def __init__(self, kod, kalkis, varis, sure, kapasite, yolcu):\n",
    "        \n",
    "        self.kod = kod\n",
    "        self.kalkis = kalkis\n",
    "        self.varis = varis\n",
    "        self.sure = sure\n",
    "        self.kapasite = kapasite\n",
    "        self.yolcu = yolcu\n",
    "#Anons    \n",
    "    def anons(self):\n",
    "        print(\"{} sefer sayılı {}-{} uçuşumuz {} saat sürecektir.\".format(\n",
    "            self.kod,\n",
    "            self.kalkis,\n",
    "            self.varis,\n",
    "            self.sure))\n",
    "#Koltuk Sayısı Güncelleme        \n",
    "    def koltuk_sayisi_guncelle(self):\n",
    "        return self.kapasite-self.yolcu\n",
    "#Bilet Satışı        \n",
    "    def bilet_satis(self, bilet_adedi=1):\n",
    "        if bilet_adedi <= (self.kapasite-self.yolcu):\n",
    "            self.yolcu += bilet_adedi\n",
    "            self.koltuk_sayisi_guncelle()\n",
    "            print(\"Satış işlemi başarılı. {} adet bilet satılmıştır. Güncel boş koltuk sayısı {}.\".format(\n",
    "                bilet_adedi,\n",
    "                self.koltuk_sayisi_guncelle()))\n",
    "        else: \n",
    "            print(\"Satış işlemi için yeteri kadar boş koltuk sayısı mevcut değildir. {} adet boş koltuk mevcuttur.\".format(\n",
    "                self.koltuk_sayisi_guncelle()))\n",
    "#Bilet İptali\n",
    "    def bilet_iptal(self, bilet_adedi=1):\n",
    "        if bilet_adedi <= self.yolcu:\n",
    "            self.yolcu -= bilet_adedi\n",
    "            self.koltuk_sayisi_guncelle()\n",
    "            print(\"İptal işlemi başarılı. {} adet bilet iptal edilmiştir. Güncel boş koltuk sayısı {}.\".format(\n",
    "                bilet_adedi,\n",
    "                self.koltuk_sayisi_guncelle()))\n",
    "        else:\n",
    "            print(\"Satış işlemi için yeteri kadar dolu koltuk sayısı mevcut değildir. {} adet dolu koltuk mevcuttur.\".format(\n",
    "                self.koltuk_sayisi_guncelle()))"
   ]
  },
  {
   "cell_type": "code",
   "execution_count": 126,
   "id": "3cfe1663-f707-4400-8c34-2c802327a927",
   "metadata": {},
   "outputs": [],
   "source": [
    "ucus1 = Ucus(\"TK8623\",\"IZM\",\"LON\",12.5,230,217)\n",
    "ucus2 = Ucus(\"TK2342\",\"IST\",\"BER\",9.5,230,219)\n",
    "ucus3 = Ucus(\"TK4397\",\"ANK\",\"NYC\",23.5,230,228)"
   ]
  },
  {
   "cell_type": "code",
   "execution_count": 108,
   "id": "c5233593-2dc4-4418-89f7-d796713a4fbd",
   "metadata": {},
   "outputs": [
    {
     "data": {
      "text/plain": [
       "13"
      ]
     },
     "execution_count": 108,
     "metadata": {},
     "output_type": "execute_result"
    }
   ],
   "source": [
    "ucus1.koltuk_sayisi_guncelle()"
   ]
  },
  {
   "cell_type": "code",
   "execution_count": 109,
   "id": "6281a587-5395-4b42-83b7-70fb7c39cfc8",
   "metadata": {},
   "outputs": [
    {
     "name": "stdout",
     "output_type": "stream",
     "text": [
      "Satış işlemi başarılı. 10 adet bilet satılmıştır. Güncel boş koltuk sayısı 3.\n"
     ]
    }
   ],
   "source": [
    "ucus1.bilet_satis(10)"
   ]
  },
  {
   "cell_type": "code",
   "execution_count": 110,
   "id": "6aa33def-a824-4248-9fb9-59feda528c79",
   "metadata": {},
   "outputs": [
    {
     "data": {
      "text/plain": [
       "3"
      ]
     },
     "execution_count": 110,
     "metadata": {},
     "output_type": "execute_result"
    }
   ],
   "source": [
    "ucus1.koltuk_sayisi_guncelle()"
   ]
  },
  {
   "cell_type": "code",
   "execution_count": 111,
   "id": "140b8a0a-4c97-418a-813b-388614d87be3",
   "metadata": {},
   "outputs": [
    {
     "name": "stdout",
     "output_type": "stream",
     "text": [
      "İptal işlemi başarılı. 10 adet bilet iptal edilmiştir. Güncel boş koltuk sayısı 13.\n"
     ]
    }
   ],
   "source": [
    "ucus1.bilet_iptal(10)"
   ]
  },
  {
   "cell_type": "code",
   "execution_count": 112,
   "id": "416b61fd-2d12-4390-8854-e1d4b3e5e356",
   "metadata": {},
   "outputs": [
    {
     "data": {
      "text/plain": [
       "13"
      ]
     },
     "execution_count": 112,
     "metadata": {},
     "output_type": "execute_result"
    }
   ],
   "source": [
    "ucus1.koltuk_sayisi_guncelle()"
   ]
  },
  {
   "cell_type": "code",
   "execution_count": 113,
   "id": "6fa6acf1-c18e-448a-9979-5a5c612c12f9",
   "metadata": {},
   "outputs": [
    {
     "name": "stdout",
     "output_type": "stream",
     "text": [
      "Satış işlemi için yeteri kadar boş koltuk sayısı mevcut değildir. 13 adet boş koltuk mevcuttur.\n"
     ]
    }
   ],
   "source": [
    "ucus1.bilet_satis(1000)"
   ]
  },
  {
   "cell_type": "code",
   "execution_count": 114,
   "id": "da201fcd-d00b-4427-9ae4-a04ab27d32d1",
   "metadata": {},
   "outputs": [
    {
     "data": {
      "text/plain": [
       "13"
      ]
     },
     "execution_count": 114,
     "metadata": {},
     "output_type": "execute_result"
    }
   ],
   "source": [
    "ucus1.koltuk_sayisi_guncelle()"
   ]
  },
  {
   "cell_type": "code",
   "execution_count": 115,
   "id": "f791949e-1a9b-4c37-8a3d-e730f78d98cd",
   "metadata": {},
   "outputs": [
    {
     "name": "stdout",
     "output_type": "stream",
     "text": [
      "Satış işlemi için yeteri kadar dolu koltuk sayısı mevcut değildir. 13 adet dolu koltuk mevcuttur.\n"
     ]
    }
   ],
   "source": [
    "ucus1.bilet_iptal(1000)"
   ]
  },
  {
   "cell_type": "code",
   "execution_count": 116,
   "id": "b1e1d180-6068-4aa9-822f-9b84461671d8",
   "metadata": {},
   "outputs": [
    {
     "data": {
      "text/plain": [
       "13"
      ]
     },
     "execution_count": 116,
     "metadata": {},
     "output_type": "execute_result"
    }
   ],
   "source": [
    "ucus1.koltuk_sayisi_guncelle()"
   ]
  },
  {
   "cell_type": "code",
   "execution_count": 119,
   "id": "b53c52ca-17e3-4aa7-b398-0fec7a8f0119",
   "metadata": {},
   "outputs": [
    {
     "name": "stdout",
     "output_type": "stream",
     "text": [
      "İptal işlemi başarılı. 1 adet bilet iptal edilmiştir. Güncel boş koltuk sayısı 14.\n"
     ]
    }
   ],
   "source": [
    "ucus1.bilet_iptal() #eğer değer girilmezse default bilet_adedi=1 devreye girer ve o kullanılır"
   ]
  },
  {
   "cell_type": "code",
   "execution_count": 120,
   "id": "ff660751-f55b-459a-9014-81e8d1cfab89",
   "metadata": {},
   "outputs": [
    {
     "name": "stdout",
     "output_type": "stream",
     "text": [
      "Satış işlemi başarılı. 1 adet bilet satılmıştır. Güncel boş koltuk sayısı 13.\n"
     ]
    }
   ],
   "source": [
    "ucus1.bilet_satis() #eğer değer girilmezse default bilet_adedi=1 devreye girer ve o kullanılır"
   ]
  },
  {
   "cell_type": "markdown",
   "id": "64c3b7d8-b5bf-4c78-990d-4ab8c5ac6e78",
   "metadata": {
    "jp-MarkdownHeadingCollapsed": true
   },
   "source": [
    "### Dunder Method'lar (Double Under Score)"
   ]
  },
  {
   "cell_type": "code",
   "execution_count": 121,
   "id": "cc8c1d4e-c03f-413c-8c46-52e12169587c",
   "metadata": {},
   "outputs": [
    {
     "data": {
      "text/plain": [
       "['kod',\n",
       " 'kalkis',\n",
       " 'varis',\n",
       " 'sure',\n",
       " 'kapasite',\n",
       " 'yolcu',\n",
       " '__module__',\n",
       " 'havayolu',\n",
       " '__init__',\n",
       " 'anons',\n",
       " 'koltuk_sayisi_guncelle',\n",
       " 'bilet_satis',\n",
       " 'bilet_iptal',\n",
       " '__dict__',\n",
       " '__weakref__',\n",
       " '__doc__',\n",
       " '__new__',\n",
       " '__repr__',\n",
       " '__hash__',\n",
       " '__str__',\n",
       " '__getattribute__',\n",
       " '__setattr__',\n",
       " '__delattr__',\n",
       " '__lt__',\n",
       " '__le__',\n",
       " '__eq__',\n",
       " '__ne__',\n",
       " '__gt__',\n",
       " '__ge__',\n",
       " '__reduce_ex__',\n",
       " '__reduce__',\n",
       " '__subclasshook__',\n",
       " '__init_subclass__',\n",
       " '__format__',\n",
       " '__sizeof__',\n",
       " '__dir__',\n",
       " '__class__']"
      ]
     },
     "execution_count": 121,
     "metadata": {},
     "output_type": "execute_result"
    }
   ],
   "source": [
    "#__init__ gibi methodlar dunder methodtur ve classa önceden tanımlıdır\n",
    "ucus3.__dir__() #bize classa tanımlı tüm attribute ve dunderları verir"
   ]
  },
  {
   "cell_type": "code",
   "execution_count": 123,
   "id": "878c8929-0c30-42b4-a006-6de9c579f020",
   "metadata": {},
   "outputs": [
    {
     "data": {
      "text/plain": [
       "<__main__.Ucus at 0x7f78001ff910>"
      ]
     },
     "execution_count": 123,
     "metadata": {},
     "output_type": "execute_result"
    }
   ],
   "source": [
    "ucus3 #burada bize verinin tutulduğu yeri veriyor"
   ]
  },
  {
   "cell_type": "code",
   "execution_count": 124,
   "id": "7fe567e2-6ba9-4850-bc2a-f7e959110f80",
   "metadata": {},
   "outputs": [],
   "source": [
    "class Ucus():\n",
    "    havayolu = \"THY\"\n",
    "#Attributelar\n",
    "    def __init__(self, kod, kalkis, varis, sure, kapasite, yolcu):\n",
    "        \n",
    "        self.kod = kod\n",
    "        self.kalkis = kalkis\n",
    "        self.varis = varis\n",
    "        self.sure = sure\n",
    "        self.kapasite = kapasite\n",
    "        self.yolcu = yolcu\n",
    "#Kayıt Bilgisi\n",
    "    def __repr__(self):\n",
    "        return \"{} sefer sayılı uçuş sisteme kaydedilmiştir.\".format(self.kod)\n",
    "#Anons    \n",
    "    def anons(self):\n",
    "        print(\"{} sefer sayılı {}-{} uçuşumuz {} saat sürecektir.\".format(\n",
    "            self.kod,\n",
    "            self.kalkis,\n",
    "            self.varis,\n",
    "            self.sure))\n",
    "#Koltuk Sayısı Güncelleme        \n",
    "    def koltuk_sayisi_guncelle(self):\n",
    "        return self.kapasite-self.yolcu\n",
    "#Bilet Satışı        \n",
    "    def bilet_satis(self, bilet_adedi=1):\n",
    "        if bilet_adedi <= (self.kapasite-self.yolcu):\n",
    "            self.yolcu += bilet_adedi\n",
    "            self.koltuk_sayisi_guncelle()\n",
    "            print(\"Satış işlemi başarılı. {} adet bilet satılmıştır. Güncel boş koltuk sayısı {}.\".format(\n",
    "                bilet_adedi,\n",
    "                self.koltuk_sayisi_guncelle()))\n",
    "        else: \n",
    "            print(\"Satış işlemi için yeteri kadar boş koltuk sayısı mevcut değildir. {} adet boş koltuk mevcuttur.\".format(\n",
    "                self.koltuk_sayisi_guncelle()))\n",
    "#Bilet İptali\n",
    "    def bilet_iptal(self, bilet_adedi=1):\n",
    "        if bilet_adedi <= self.yolcu:\n",
    "            self.yolcu -= bilet_adedi\n",
    "            self.koltuk_sayisi_guncelle()\n",
    "            print(\"İptal işlemi başarılı. {} adet bilet iptal edilmiştir. Güncel boş koltuk sayısı {}.\".format(\n",
    "                bilet_adedi,\n",
    "                self.koltuk_sayisi_guncelle()))\n",
    "        else:\n",
    "            print(\"Satış işlemi için yeteri kadar dolu koltuk sayısı mevcut değildir. {} adet dolu koltuk mevcuttur.\".format(\n",
    "                self.koltuk_sayisi_guncelle()))"
   ]
  },
  {
   "cell_type": "code",
   "execution_count": 130,
   "id": "f468bcc4-b9db-4994-a7ee-998cacac396e",
   "metadata": {},
   "outputs": [
    {
     "data": {
      "text/plain": [
       "TK4397 sefer sayılı uçuş sisteme kaydedilmiştir."
      ]
     },
     "execution_count": 130,
     "metadata": {},
     "output_type": "execute_result"
    }
   ],
   "source": [
    "ucus3\n",
    "#Aşağıdaki kısım ile sağladık:\n",
    "#Kayıt Bilgisi\n",
    "#    def __repr__(self):\n",
    "#        return \"{} sefer sayılı uçuş sisteme kaydedilmiştir.\".format(self.kod)"
   ]
  },
  {
   "cell_type": "code",
   "execution_count": 128,
   "id": "24008a0f-6050-49f6-a3e2-7146c7ca2303",
   "metadata": {},
   "outputs": [
    {
     "data": {
      "text/plain": [
       "['kod',\n",
       " 'kalkis',\n",
       " 'varis',\n",
       " 'sure',\n",
       " 'kapasite',\n",
       " 'yolcu',\n",
       " '__module__',\n",
       " 'havayolu',\n",
       " '__init__',\n",
       " '__repr__',\n",
       " 'anons',\n",
       " 'koltuk_sayisi_guncelle',\n",
       " 'bilet_satis',\n",
       " 'bilet_iptal',\n",
       " '__dict__',\n",
       " '__weakref__',\n",
       " '__doc__',\n",
       " '__new__',\n",
       " '__hash__',\n",
       " '__str__',\n",
       " '__getattribute__',\n",
       " '__setattr__',\n",
       " '__delattr__',\n",
       " '__lt__',\n",
       " '__le__',\n",
       " '__eq__',\n",
       " '__ne__',\n",
       " '__gt__',\n",
       " '__ge__',\n",
       " '__reduce_ex__',\n",
       " '__reduce__',\n",
       " '__subclasshook__',\n",
       " '__init_subclass__',\n",
       " '__format__',\n",
       " '__sizeof__',\n",
       " '__dir__',\n",
       " '__class__']"
      ]
     },
     "execution_count": 128,
     "metadata": {},
     "output_type": "execute_result"
    }
   ],
   "source": [
    "ucus3.__dir__()"
   ]
  },
  {
   "cell_type": "markdown",
   "id": "4f5aaf62-e7c6-4708-b506-95f21f7e0a66",
   "metadata": {
    "jp-MarkdownHeadingCollapsed": true
   },
   "source": [
    "### Inheritance (Kalıtım)"
   ]
  },
  {
   "cell_type": "code",
   "execution_count": 168,
   "id": "ae250b3d-0947-4710-aaf2-3275f0cc4f5f",
   "metadata": {},
   "outputs": [],
   "source": [
    "class Seyehat():\n",
    "    \n",
    "    def __init__(self, kalkis, varis):\n",
    "        self.kalkis=kalkis\n",
    "        self.varis=varis\n",
    "        \n",
    "    def __repr__(self):\n",
    "        return \"{}-{} seferi sisteme kaydedilmiştir.\".format(self.kalkis,self.varis)\n",
    "        \n",
    "    def anons(self):\n",
    "        return \"{}-{} seferine hoş geldiniz.\".format(self.kalkis,self.varis)\n",
    "        \n",
    "class Otobus(Seyehat): # parantez içine yazılanın alt class ı olduğunu ve inherit ettiğini belirtiyoruz\n",
    "    def __init__(self, mola, kalkis, varis):\n",
    "        Seyehat.__init__(self, kalkis, varis) #kalkış ve varış bilgilerini seyehat süper classından almasını belirtiyoruz\n",
    "        self.mola=mola\n",
    "    def __repr__(self):\n",
    "        return \"{}-{} seferi sisteme kaydedilmiştir.\".format(self.kalkis,self.varis)   \n",
    "    def anons(self):\n",
    "        return \"{}-{} seferine hoş geldiniz. {} ve {} duraklarında mola verilecektir.\".format(\n",
    "            self.kalkis,\n",
    "            self.varis,\n",
    "            self.mola[0],\n",
    "            self.mola[1])"
   ]
  },
  {
   "cell_type": "code",
   "execution_count": 169,
   "id": "552f7361-953b-4806-974a-6fc769a14c5f",
   "metadata": {},
   "outputs": [
    {
     "name": "stdout",
     "output_type": "stream",
     "text": [
      "ANT-BOD seferi sisteme kaydedilmiştir.\n",
      "ANT-BOD seferine hoş geldiniz.\n"
     ]
    }
   ],
   "source": [
    "seyehat1=Seyehat(\"ANT\",\"BOD\")\n",
    "print(seyehat1)\n",
    "print(seyehat1.anons())"
   ]
  },
  {
   "cell_type": "code",
   "execution_count": 170,
   "id": "c845eac4-014b-4b3c-87af-f90b7c499589",
   "metadata": {},
   "outputs": [
    {
     "name": "stdout",
     "output_type": "stream",
     "text": [
      "ANT-BOD seferi sisteme kaydedilmiştir.\n",
      "ANT-BOD seferine hoş geldiniz. FET ve ALN duraklarında mola verilecektir.\n"
     ]
    }
   ],
   "source": [
    "otobus1=Otobus([\"FET\",\"ALN\"], \"ANT\", \"BOD\")\n",
    "print(otobus1)\n",
    "print(otobus1.anons())"
   ]
  },
  {
   "cell_type": "code",
   "execution_count": null,
   "id": "12a4c879-a070-4c0e-b97d-a82588ff74bc",
   "metadata": {},
   "outputs": [],
   "source": []
  }
 ],
 "metadata": {
  "kernelspec": {
   "display_name": "Python 3 (ipykernel)",
   "language": "python",
   "name": "python3"
  },
  "language_info": {
   "codemirror_mode": {
    "name": "ipython",
    "version": 3
   },
   "file_extension": ".py",
   "mimetype": "text/x-python",
   "name": "python",
   "nbconvert_exporter": "python",
   "pygments_lexer": "ipython3",
   "version": "3.10.9"
  }
 },
 "nbformat": 4,
 "nbformat_minor": 5
}
