{
 "cells": [
  {
   "cell_type": "raw",
   "id": "8de3d461-866a-4937-b211-7e2c307740c6",
   "metadata": {},
   "source": [
    "def <fonksiyon_ismi>(<argümanlar>): # snake_case\n",
    "    \"\"\"\n",
    "    Bu kod ne ise yarar             # docstring\n",
    "    \"\"\"\n",
    "    ...                             # return/print\n",
    "    "
   ]
  },
  {
   "cell_type": "code",
   "execution_count": 124,
   "id": "c97450d8-41db-45c8-91ec-6a84aa3cfc41",
   "metadata": {},
   "outputs": [],
   "source": [
    "def bes_bastir():\n",
    "    \"\"\"\n",
    "    burası aynı # gibi çalışır ve adı docstringtir\n",
    "    satırlarca \n",
    "    açıklama \n",
    "    yapabilirsin\n",
    "    \"\"\"\n",
    "    print(5)"
   ]
  },
  {
   "cell_type": "code",
   "execution_count": 125,
   "id": "a1b7390b-f596-4142-bb55-04530a12d41f",
   "metadata": {},
   "outputs": [
    {
     "name": "stdout",
     "output_type": "stream",
     "text": [
      "5\n"
     ]
    }
   ],
   "source": [
    "bes_bastir()"
   ]
  },
  {
   "cell_type": "markdown",
   "id": "07df13d5-de0b-4298-b745-70e2d23a9021",
   "metadata": {},
   "source": [
    "### Fonksiyonlarda print ve return farki"
   ]
  },
  {
   "cell_type": "code",
   "execution_count": 7,
   "id": "7aeaf626-e792-4e7f-bfcb-a52ec02d5e6a",
   "metadata": {},
   "outputs": [],
   "source": [
    "def bes_dondur():\n",
    "    return 5 # print gibidir ama print gibi satır satır çağrılmaz sadece ilki çağrılır\n",
    "    return 6 # mesela burayı basmaz"
   ]
  },
  {
   "cell_type": "code",
   "execution_count": 9,
   "id": "8ca898aa-4720-40a4-9099-e26233fbc894",
   "metadata": {},
   "outputs": [
    {
     "data": {
      "text/plain": [
       "5"
      ]
     },
     "execution_count": 9,
     "metadata": {},
     "output_type": "execute_result"
    }
   ],
   "source": [
    "bes_dondur()"
   ]
  },
  {
   "cell_type": "code",
   "execution_count": 13,
   "id": "91cf4fd2-b60b-4309-a354-0f12ef211d96",
   "metadata": {},
   "outputs": [
    {
     "name": "stdout",
     "output_type": "stream",
     "text": [
      "5\n"
     ]
    }
   ],
   "source": [
    "a = bes_bastir()\n",
    "a"
   ]
  },
  {
   "cell_type": "code",
   "execution_count": 14,
   "id": "0f79c0a1-dbe3-4809-8485-02670426fc91",
   "metadata": {},
   "outputs": [
    {
     "name": "stdout",
     "output_type": "stream",
     "text": [
      "None\n"
     ]
    }
   ],
   "source": [
    "print(a) #print print içine girmedi"
   ]
  },
  {
   "cell_type": "code",
   "execution_count": 15,
   "id": "fdbeb2a7-2dad-46ed-878d-c6ec52abbfaf",
   "metadata": {},
   "outputs": [
    {
     "data": {
      "text/plain": [
       "5"
      ]
     },
     "execution_count": 15,
     "metadata": {},
     "output_type": "execute_result"
    }
   ],
   "source": [
    "b = bes_dondur()\n",
    "b"
   ]
  },
  {
   "cell_type": "code",
   "execution_count": 16,
   "id": "b0be5ad5-14df-4972-8706-719103514edb",
   "metadata": {},
   "outputs": [
    {
     "name": "stdout",
     "output_type": "stream",
     "text": [
      "5\n"
     ]
    }
   ],
   "source": [
    "print(b) #ama return print içine girdi"
   ]
  },
  {
   "cell_type": "markdown",
   "id": "a4d5a830-17e0-4a37-b075-326f4fd61848",
   "metadata": {},
   "source": [
    "### Fonksiyonlarda Argümanlar"
   ]
  },
  {
   "cell_type": "code",
   "execution_count": 20,
   "id": "9201b420-1b43-408e-a643-6a5d84f2c2d4",
   "metadata": {},
   "outputs": [],
   "source": [
    "def sayi_dondur(sayi): #parantez içi argüman\n",
    "    return sayi"
   ]
  },
  {
   "cell_type": "code",
   "execution_count": 22,
   "id": "53ae853d-2c8e-4982-966b-fb1619adeabd",
   "metadata": {},
   "outputs": [
    {
     "data": {
      "text/plain": [
       "250"
      ]
     },
     "execution_count": 22,
     "metadata": {},
     "output_type": "execute_result"
    }
   ],
   "source": [
    "sayi_dondur(250)"
   ]
  },
  {
   "cell_type": "code",
   "execution_count": 26,
   "id": "3955c2ff-6d2d-4c48-9e6b-7a92b90b1c5c",
   "metadata": {},
   "outputs": [],
   "source": [
    "def sayi_bastir(sayi=12): #parantez içi default argüman ile return bağlandı\n",
    "    return sayi"
   ]
  },
  {
   "cell_type": "code",
   "execution_count": 27,
   "id": "5f5279d6-5d86-4cb0-82b7-624527763702",
   "metadata": {},
   "outputs": [
    {
     "data": {
      "text/plain": [
       "12"
      ]
     },
     "execution_count": 27,
     "metadata": {},
     "output_type": "execute_result"
    }
   ],
   "source": [
    "sayi_bastir() # boş girersen default döner"
   ]
  },
  {
   "cell_type": "code",
   "execution_count": 30,
   "id": "7e7c829c-ccf1-40ef-92a5-c0ae6df49bfe",
   "metadata": {},
   "outputs": [
    {
     "data": {
      "text/plain": [
       "21"
      ]
     },
     "execution_count": 30,
     "metadata": {},
     "output_type": "execute_result"
    }
   ],
   "source": [
    "sayi_bastir(21) # input verirsen onu kullanır"
   ]
  },
  {
   "cell_type": "code",
   "execution_count": 35,
   "id": "d69693bc-cfbb-4f70-b49a-98064ca68d02",
   "metadata": {},
   "outputs": [],
   "source": [
    "def buyuk_sayi_dondur(a,b):\n",
    "    if a>b:\n",
    "        return a\n",
    "    elif b>a:\n",
    "        return b"
   ]
  },
  {
   "cell_type": "code",
   "execution_count": 36,
   "id": "3c8f5892-ea6d-44d1-8368-80571db56341",
   "metadata": {},
   "outputs": [
    {
     "name": "stdout",
     "output_type": "stream",
     "text": [
      "10\n",
      "24\n"
     ]
    }
   ],
   "source": [
    "print(buyuk_sayi_dondur(10,5))\n",
    "print(buyuk_sayi_dondur(8,24))"
   ]
  },
  {
   "cell_type": "markdown",
   "id": "82e3759b-51c4-4336-8196-2fcbb9a5ab09",
   "metadata": {},
   "source": [
    "### Fonksiyonların Birbiri ile İlişkisi"
   ]
  },
  {
   "cell_type": "code",
   "execution_count": 42,
   "id": "70943ef0-8559-4ea2-b8ac-bd349b8ce7fc",
   "metadata": {},
   "outputs": [],
   "source": [
    "def buyuk_sayi_yazdır(a,b):\n",
    "    buyuk_sayi=buyuk_sayi_dondur(a,b) #fonksiyonlar birbirleri içinde çağrılabilir\n",
    "    sablon_metin=\"{} sayısı daha büyüktür\".format(buyuk_sayi)\n",
    "    return sablon_metin"
   ]
  },
  {
   "cell_type": "code",
   "execution_count": 45,
   "id": "9288e13b-b7eb-4d2b-8ea4-72b6ef7ed4bc",
   "metadata": {},
   "outputs": [
    {
     "data": {
      "text/plain": [
       "'20 sayısı daha büyüktür'"
      ]
     },
     "execution_count": 45,
     "metadata": {},
     "output_type": "execute_result"
    }
   ],
   "source": [
    "buyuk_sayi_yazdır(15,20)"
   ]
  },
  {
   "cell_type": "markdown",
   "id": "21a79d77-ee59-42bb-bae2-f4e43a891690",
   "metadata": {},
   "source": [
    "### Fonksiyonlar Birden Fazla Sonuc Döndürebilir"
   ]
  },
  {
   "cell_type": "code",
   "execution_count": 51,
   "id": "58b4808b-4fe5-498b-b289-4ab3f0904a32",
   "metadata": {},
   "outputs": [],
   "source": [
    "def ad_soyad_ayirma(adSoyad): #ikinci kelimenin ilk harfini büyük yazmak ex. adSoyad javada yaygın bir isimlendirme yöntemidir\n",
    "    ad=adSoyad.split(\" \")[0]\n",
    "    soyad=adSoyad.split(\" \")[1]\n",
    "    return ad,soyad"
   ]
  },
  {
   "cell_type": "code",
   "execution_count": 52,
   "id": "c1af9bad-c65b-4f7e-bade-1928545aeb74",
   "metadata": {},
   "outputs": [
    {
     "data": {
      "text/plain": [
       "('Yavuz', 'Baştemur')"
      ]
     },
     "execution_count": 52,
     "metadata": {},
     "output_type": "execute_result"
    }
   ],
   "source": [
    "ad_soyad_ayirma(\"Yavuz Baştemur\")"
   ]
  },
  {
   "cell_type": "code",
   "execution_count": 53,
   "id": "99562c89-8121-46d4-8a15-005d2bf41ddd",
   "metadata": {},
   "outputs": [],
   "source": [
    "def ad_soyad_ayirma2(adSoyad):\n",
    "    ad=adSoyad.split(\" \")[0]\n",
    "    soyad=adSoyad.split(\" \")[1]\n",
    "    print(ad)\n",
    "    print(soyad)"
   ]
  },
  {
   "cell_type": "code",
   "execution_count": 54,
   "id": "9f76c213-0be8-4572-be2a-009e67c1eacb",
   "metadata": {},
   "outputs": [
    {
     "name": "stdout",
     "output_type": "stream",
     "text": [
      "Yavuz\n",
      "Baştemur\n"
     ]
    }
   ],
   "source": [
    "ad_soyad_ayirma2(\"Yavuz Baştemur\")"
   ]
  },
  {
   "cell_type": "markdown",
   "id": "7a5306d2-c16f-46fa-a1cf-532bbc4820ab",
   "metadata": {},
   "source": [
    "### *args Argümani"
   ]
  },
  {
   "cell_type": "code",
   "execution_count": 58,
   "id": "972c2bcd-2af6-45ca-a3ed-fd862d15e141",
   "metadata": {},
   "outputs": [
    {
     "data": {
      "text/plain": [
       "'Yavuz Selim'"
      ]
     },
     "execution_count": 58,
     "metadata": {},
     "output_type": "execute_result"
    }
   ],
   "source": [
    "#join kullanımı\n",
    "\" \".join([\"Yavuz\",\"Selim\"]) # ilk kısım \" \" ne ile birleştirileceğini belirtiyor, burada boşlukla birleşmelerini istiyoruz\n",
    "                            # join(buraya liste şeklinde verildiğinde liste birleştirilir) bu yüzden liste halinde vermek gereklidir"
   ]
  },
  {
   "cell_type": "code",
   "execution_count": 61,
   "id": "48b8afd6-42e5-40ee-be4f-3c65a488d452",
   "metadata": {},
   "outputs": [],
   "source": [
    "def adSoyad_birlestir(ad,soyad):\n",
    "    return \" \".join([ad,soyad])"
   ]
  },
  {
   "cell_type": "code",
   "execution_count": 62,
   "id": "53b3e2b9-fcdb-436c-a201-359bf3207cdc",
   "metadata": {},
   "outputs": [
    {
     "data": {
      "text/plain": [
       "'Yavuz Baştemur'"
      ]
     },
     "execution_count": 62,
     "metadata": {},
     "output_type": "execute_result"
    }
   ],
   "source": [
    "adSoyad_birlestir(\"Yavuz\", \"Baştemur\")"
   ]
  },
  {
   "cell_type": "code",
   "execution_count": 63,
   "id": "e30e5f08-5308-46e8-b5aa-d4dc889eb7ba",
   "metadata": {},
   "outputs": [
    {
     "ename": "TypeError",
     "evalue": "adSoyad_birlestir() takes 2 positional arguments but 3 were given",
     "output_type": "error",
     "traceback": [
      "\u001b[0;31m---------------------------------------------------------------------------\u001b[0m",
      "\u001b[0;31mTypeError\u001b[0m                                 Traceback (most recent call last)",
      "Cell \u001b[0;32mIn[63], line 1\u001b[0m\n\u001b[0;32m----> 1\u001b[0m \u001b[43madSoyad_birlestir\u001b[49m\u001b[43m(\u001b[49m\u001b[38;5;124;43m\"\u001b[39;49m\u001b[38;5;124;43mYavuz\u001b[39;49m\u001b[38;5;124;43m\"\u001b[39;49m\u001b[43m,\u001b[49m\u001b[38;5;124;43m\"\u001b[39;49m\u001b[38;5;124;43mSelim\u001b[39;49m\u001b[38;5;124;43m\"\u001b[39;49m\u001b[43m,\u001b[49m\u001b[38;5;124;43m\"\u001b[39;49m\u001b[38;5;124;43mBaştemur\u001b[39;49m\u001b[38;5;124;43m\"\u001b[39;49m\u001b[43m)\u001b[49m\n",
      "\u001b[0;31mTypeError\u001b[0m: adSoyad_birlestir() takes 2 positional arguments but 3 were given"
     ]
    }
   ],
   "source": [
    "adSoyad_birlestir(\"Yavuz\",\"Selim\",\"Baştemur\") #fonksiyonun 2 argümanı varken 3 girdide bulununca hata verdi"
   ]
  },
  {
   "cell_type": "code",
   "execution_count": 68,
   "id": "46790efb-239b-4f66-8dad-54adc2268d56",
   "metadata": {},
   "outputs": [],
   "source": [
    "def adSoyad_birlestir(*args): #args girdilerden oluşan bir argümanlar \"listesini\" belirttiğinden [] gerekmedi * unutulmamalı\n",
    "    return \" \".join(args) #burada * yok (bilmiom neden?)"
   ]
  },
  {
   "cell_type": "code",
   "execution_count": 69,
   "id": "bbde9feb-b5dc-493f-ae88-e84b2baf6fa3",
   "metadata": {},
   "outputs": [
    {
     "data": {
      "text/plain": [
       "'Yavuz Selim Baştemur'"
      ]
     },
     "execution_count": 69,
     "metadata": {},
     "output_type": "execute_result"
    }
   ],
   "source": [
    "adSoyad_birlestir(\"Yavuz\",\"Selim\",\"Baştemur\") "
   ]
  },
  {
   "cell_type": "code",
   "execution_count": 91,
   "id": "e14e2f1e-0127-4982-a2f8-21e058565740",
   "metadata": {},
   "outputs": [],
   "source": [
    "def isim_soyisim_yazdir(**kwargs):\n",
    "    for kw in kwargs:\n",
    "        print(kw)"
   ]
  },
  {
   "cell_type": "code",
   "execution_count": 86,
   "id": "579cee72-a5f4-46fb-9b7e-9bbd6f885bff",
   "metadata": {},
   "outputs": [
    {
     "name": "stdout",
     "output_type": "stream",
     "text": [
      "isim\n",
      "ikinci_isim\n",
      "soyisim\n"
     ]
    }
   ],
   "source": [
    "isim_soyisim_yazdir(isim=\"Yavuz\",ikinci_isim=\"Selim\",soyisim=\"Baştemur\")"
   ]
  },
  {
   "cell_type": "code",
   "execution_count": 88,
   "id": "ba65cc8e-a834-43e5-b74f-4014158815f9",
   "metadata": {},
   "outputs": [
    {
     "name": "stdout",
     "output_type": "stream",
     "text": [
      "{'isim': 'Yavuz', 'ikinci_isim': 'Selim', 'soyisim': 'Baştemur'}\n"
     ]
    }
   ],
   "source": [
    "def isim_soyisim_yazdir2(**kwargs):\n",
    "        print(kwargs)\n",
    "isim_soyisim_yazdir2(isim=\"Yavuz\",ikinci_isim=\"Selim\",soyisim=\"Baştemur\")"
   ]
  },
  {
   "cell_type": "code",
   "execution_count": 101,
   "id": "d435f816-34b0-443c-a7fd-87de597871ae",
   "metadata": {},
   "outputs": [],
   "source": [
    "def ikinci_isim_yazdir(**kwargs):\n",
    "    if \"ikinci_isim\" in kwargs:      #eleman arandığı için tırnak var\n",
    "        print(kwargs[\"ikinci_isim\"]) #listeceki eleman arandığı için parantez var, eleman olduğu için tırnak var !! \n",
    "                                     #parantez ve tırnaklar önemli\n",
    "    else:\n",
    "        print(\"İkinci ismi yok\")"
   ]
  },
  {
   "cell_type": "code",
   "execution_count": 102,
   "id": "1544bbf6-83b3-4386-ab28-8daca955df56",
   "metadata": {},
   "outputs": [
    {
     "name": "stdout",
     "output_type": "stream",
     "text": [
      "Selim\n"
     ]
    }
   ],
   "source": [
    "ikinci_isim_yazdir(isim=\"Yavuz\",ikinci_isim=\"Selim\",soyisim=\"Baştemur\")"
   ]
  },
  {
   "cell_type": "code",
   "execution_count": 103,
   "id": "168962c1-7762-4316-9825-06c48743eb09",
   "metadata": {},
   "outputs": [
    {
     "name": "stdout",
     "output_type": "stream",
     "text": [
      "İkinci ismi yok\n"
     ]
    }
   ],
   "source": [
    "ikinci_isim_yazdir(isim=\"Alperen\",soyisim=\"Bahat\")"
   ]
  },
  {
   "cell_type": "markdown",
   "id": "f0667e61-b931-4f3e-894a-3866eb5090cc",
   "metadata": {},
   "source": [
    "### map, filter ve lambda Expressions"
   ]
  },
  {
   "cell_type": "markdown",
   "id": "b2e0ba99-891c-40f0-9d1d-af7581582c5a",
   "metadata": {},
   "source": [
    "#### map"
   ]
  },
  {
   "cell_type": "code",
   "execution_count": 105,
   "id": "1401ba0e-19a7-49b6-9168-f2b9f90644be",
   "metadata": {},
   "outputs": [],
   "source": [
    "def kareAl(x):\n",
    "    return x**2"
   ]
  },
  {
   "cell_type": "code",
   "execution_count": 106,
   "id": "31902d61-88ac-4046-9ffe-3e1a076424e3",
   "metadata": {},
   "outputs": [
    {
     "data": {
      "text/plain": [
       "25"
      ]
     },
     "execution_count": 106,
     "metadata": {},
     "output_type": "execute_result"
    }
   ],
   "source": [
    "kareAl(5)"
   ]
  },
  {
   "cell_type": "code",
   "execution_count": 110,
   "id": "09fa8420-d14a-4dbd-ae08-292a43a1462a",
   "metadata": {},
   "outputs": [
    {
     "data": {
      "text/plain": [
       "<map at 0x7fc6f9a38670>"
      ]
     },
     "execution_count": 110,
     "metadata": {},
     "output_type": "execute_result"
    }
   ],
   "source": [
    "sayilar=range(1,6)\n",
    "map(kareAl, sayilar) #bize oluşturulduğuna dair bir çıktı veriyor ancak okunaklı değil\n",
    "                     #bu yüzden [* ] broadcast ile çıktıyı bir listeye dönüştürüp okuyabiliriz"
   ]
  },
  {
   "cell_type": "code",
   "execution_count": 111,
   "id": "a37f38ce-8ee6-4786-84ad-c516cc64fb45",
   "metadata": {},
   "outputs": [
    {
     "data": {
      "text/plain": [
       "[1, 4, 9, 16, 25]"
      ]
     },
     "execution_count": 111,
     "metadata": {},
     "output_type": "execute_result"
    }
   ],
   "source": [
    "sayilar=range(1,6)\n",
    "[*map(kareAl, sayilar)] #map ile map(neyi, neye) uygulayacağımızı belriliyoruz\n",
    "                        #sırasıyla verilen fonksiyon verilen listedeki her elemana uygulanır"
   ]
  },
  {
   "cell_type": "code",
   "execution_count": 123,
   "id": "55d35b12-cfd2-453b-a9a3-373f5c19c609",
   "metadata": {},
   "outputs": [
    {
     "name": "stdout",
     "output_type": "stream",
     "text": [
      "[1, 2, 3, 4, 5]\n",
      "[0, 1, 2, 3, 4]\n",
      "[1, 4, 9, 16, 25]\n"
     ]
    }
   ],
   "source": [
    "# map olmadan da şöyle yapılabilirdi\n",
    "sayilar=[*range(1,6)]\n",
    "print(sayilar)\n",
    "print([*range(len(sayilar))])\n",
    "for index in range(len(sayilar)): # böylece 0dan 4e kadar index işaretlenmiş olur çünkü 5 eleman 0-4 eder belirtmek zorundasın anlamaz yoksa\n",
    "    sayilar[index]=kareAl(sayilar[index]) #indexi girip sayıyı sorgulatıp onun karesini aldırıyoruz\n",
    "print(sayilar)"
   ]
  },
  {
   "cell_type": "markdown",
   "id": "33e6f840-94e3-408a-ae82-e3a2aad0da13",
   "metadata": {},
   "source": [
    "#### filter"
   ]
  },
  {
   "cell_type": "code",
   "execution_count": 129,
   "id": "98aac3ff-cb09-472d-8f00-3a89be60eba7",
   "metadata": {},
   "outputs": [],
   "source": [
    "def ciftSayi_filtresi(x):\n",
    "    if x%2==0:\n",
    "        return x\n",
    "    else:            # bu kısımdan sonrasına gerek yok ancak yine de yazalım olmasa da çalışır\n",
    "        return None "
   ]
  },
  {
   "cell_type": "code",
   "execution_count": 130,
   "id": "539a72f4-a0ce-4e27-a0e6-aaf0986a58ff",
   "metadata": {},
   "outputs": [],
   "source": [
    "ciftSayi_filtresi(3)"
   ]
  },
  {
   "cell_type": "code",
   "execution_count": 131,
   "id": "d8c174c3-1f3a-44a7-b80f-aed8b7f1c4be",
   "metadata": {},
   "outputs": [
    {
     "data": {
      "text/plain": [
       "4"
      ]
     },
     "execution_count": 131,
     "metadata": {},
     "output_type": "execute_result"
    }
   ],
   "source": [
    "ciftSayi_filtresi(4)"
   ]
  },
  {
   "cell_type": "code",
   "execution_count": 132,
   "id": "d5aff33c-431e-4d91-8019-f9f2858a2508",
   "metadata": {},
   "outputs": [],
   "source": [
    "def ciftSayi_filtresi2(x):\n",
    "    return x if x%2==0 else None # daha pythonista bir yazım şekli"
   ]
  },
  {
   "cell_type": "code",
   "execution_count": 133,
   "id": "cada1ca8-88fc-4b35-9aa6-5ee76eea1de1",
   "metadata": {},
   "outputs": [],
   "source": [
    "ciftSayi_filtresi2(3)"
   ]
  },
  {
   "cell_type": "code",
   "execution_count": 134,
   "id": "1bdd32a4-bcc3-47e4-9090-e551ac7ba082",
   "metadata": {},
   "outputs": [
    {
     "data": {
      "text/plain": [
       "4"
      ]
     },
     "execution_count": 134,
     "metadata": {},
     "output_type": "execute_result"
    }
   ],
   "source": [
    "ciftSayi_filtresi2(4)"
   ]
  },
  {
   "cell_type": "code",
   "execution_count": 139,
   "id": "fdf4459f-5a9a-41aa-bc33-fbec12fb9f5b",
   "metadata": {},
   "outputs": [
    {
     "data": {
      "text/plain": [
       "[None, 2, None, 4, None]"
      ]
     },
     "execution_count": 139,
     "metadata": {},
     "output_type": "execute_result"
    }
   ],
   "source": [
    "sayilar=[*range(1,6)]\n",
    "[*map(ciftSayi_filtresi2, sayilar)] #filter ile yapacağımızı map ile de yaparız ama çıktısı bulunmayan sonuçlar verimizi kirletir"
   ]
  },
  {
   "cell_type": "code",
   "execution_count": 141,
   "id": "3f4f70ae-c897-48b4-a95a-a3c80024020f",
   "metadata": {},
   "outputs": [
    {
     "data": {
      "text/plain": [
       "[2, 4]"
      ]
     },
     "execution_count": 141,
     "metadata": {},
     "output_type": "execute_result"
    }
   ],
   "source": [
    "sayilar=[*range(1,6)]\n",
    "[*filter(ciftSayi_filtresi2, sayilar)] #filter çıktısı bulunmayan sonuçları eler, aynı map gibi listelemek gerektirir"
   ]
  },
  {
   "cell_type": "markdown",
   "id": "78ddc9ab-3078-4be7-8c32-d1b30e8fe9ae",
   "metadata": {},
   "source": [
    "#### lambda"
   ]
  },
  {
   "cell_type": "code",
   "execution_count": 142,
   "id": "f180f0dc-fd84-4b06-9810-ef13ae8d82b3",
   "metadata": {},
   "outputs": [
    {
     "data": {
      "text/plain": [
       "[1, 4, 9, 16, 25]"
      ]
     },
     "execution_count": 142,
     "metadata": {},
     "output_type": "execute_result"
    }
   ],
   "source": [
    "sayilar=[*range(1,6)]\n",
    "[*map(lambda x: x**2, sayilar)] #lambda ile fonksiyon yazmadan sofistike olmayan fonksiyonları map veya filter içinde...\n",
    "                                #...istenilen listeye uygulayabiliriz"
   ]
  },
  {
   "cell_type": "code",
   "execution_count": 144,
   "id": "b2261ecc-fbb4-4568-9bd7-5ba250038030",
   "metadata": {},
   "outputs": [
    {
     "data": {
      "text/plain": [
       "[2, 4]"
      ]
     },
     "execution_count": 144,
     "metadata": {},
     "output_type": "execute_result"
    }
   ],
   "source": [
    "sayilar=[*range(1,6)]\n",
    "[*filter(lambda x: x if x%2==0 else None, sayilar)] #bu da filter ile uygulanması"
   ]
  },
  {
   "cell_type": "markdown",
   "id": "e5c8fe03-5287-47a2-8c86-8deb5836d494",
   "metadata": {},
   "source": [
    "### Kullanici Girdisi"
   ]
  },
  {
   "cell_type": "code",
   "execution_count": 145,
   "id": "527c69e4-53cc-4e99-9f40-91b12fb4a71e",
   "metadata": {},
   "outputs": [
    {
     "name": "stdin",
     "output_type": "stream",
     "text": [
      "Bir sayı girin: 15\n"
     ]
    },
    {
     "data": {
      "text/plain": [
       "'15'"
      ]
     },
     "execution_count": 145,
     "metadata": {},
     "output_type": "execute_result"
    }
   ],
   "source": [
    "input(\"Bir sayı girin:\")"
   ]
  },
  {
   "cell_type": "code",
   "execution_count": 146,
   "id": "91163590-8ccc-4771-aab3-a0dc1d60ba3b",
   "metadata": {},
   "outputs": [
    {
     "name": "stdin",
     "output_type": "stream",
     "text": [
      " 5\n"
     ]
    },
    {
     "data": {
      "text/plain": [
       "str"
      ]
     },
     "execution_count": 146,
     "metadata": {},
     "output_type": "execute_result"
    }
   ],
   "source": [
    "girdi=input()\n",
    "type(girdi) #input girdileri hep stringtir eğer mecbursak tipini değiştirebiliriz"
   ]
  },
  {
   "cell_type": "code",
   "execution_count": 147,
   "id": "d1084987-78df-4dcd-aff7-60a0823ea43a",
   "metadata": {},
   "outputs": [
    {
     "name": "stdin",
     "output_type": "stream",
     "text": [
      " 5\n"
     ]
    },
    {
     "data": {
      "text/plain": [
       "int"
      ]
     },
     "execution_count": 147,
     "metadata": {},
     "output_type": "execute_result"
    }
   ],
   "source": [
    "girdi=input()\n",
    "type(int(girdi)) "
   ]
  },
  {
   "cell_type": "code",
   "execution_count": 148,
   "id": "3664de4c-786f-4971-9f20-e99a27ea1d55",
   "metadata": {},
   "outputs": [
    {
     "name": "stdin",
     "output_type": "stream",
     "text": [
      " deneme\n"
     ]
    },
    {
     "ename": "ValueError",
     "evalue": "invalid literal for int() with base 10: 'deneme'",
     "output_type": "error",
     "traceback": [
      "\u001b[0;31m---------------------------------------------------------------------------\u001b[0m",
      "\u001b[0;31mValueError\u001b[0m                                Traceback (most recent call last)",
      "Cell \u001b[0;32mIn[148], line 2\u001b[0m\n\u001b[1;32m      1\u001b[0m girdi\u001b[38;5;241m=\u001b[39m\u001b[38;5;28minput\u001b[39m()\n\u001b[0;32m----> 2\u001b[0m \u001b[38;5;28mtype\u001b[39m(\u001b[38;5;28;43mint\u001b[39;49m\u001b[43m(\u001b[49m\u001b[43mgirdi\u001b[49m\u001b[43m)\u001b[49m)\n",
      "\u001b[0;31mValueError\u001b[0m: invalid literal for int() with base 10: 'deneme'"
     ]
    }
   ],
   "source": [
    "girdi=input()\n",
    "type(int(girdi)) # böylece yazı yazarsak hata verir"
   ]
  },
  {
   "cell_type": "code",
   "execution_count": 176,
   "id": "df5f1def-fa2f-4acc-9dee-56e7892170d5",
   "metadata": {},
   "outputs": [],
   "source": [
    "def tek_miCift_mi():\n",
    "    sayi=input(\"Bir sayı giriniz:\")\n",
    "    tekmiCiftmi=input(\"Girdiğiniz sayı çift ise 0, tek ise 1 yazınız:\")\n",
    "    return \"Doğru!\" if (int(sayi)%2)==int(tekmiCiftmi) else \"Yanlış!\" "
   ]
  },
  {
   "cell_type": "code",
   "execution_count": 177,
   "id": "cc01a8bc-5288-4a53-ac0b-143d208dda83",
   "metadata": {},
   "outputs": [
    {
     "name": "stdin",
     "output_type": "stream",
     "text": [
      "Bir sayı giriniz: 23\n",
      "Girdiğiniz sayı çift ise 0, tek ise 1 yazınız: 0\n"
     ]
    },
    {
     "data": {
      "text/plain": [
       "'Yanlış!'"
      ]
     },
     "execution_count": 177,
     "metadata": {},
     "output_type": "execute_result"
    }
   ],
   "source": [
    "tek_miCift_mi()"
   ]
  },
  {
   "cell_type": "code",
   "execution_count": 178,
   "id": "ceab125e-c419-4879-b8be-a674c6a33bdb",
   "metadata": {},
   "outputs": [
    {
     "name": "stdin",
     "output_type": "stream",
     "text": [
      "Bir sayı giriniz: 36\n",
      "Girdiğiniz sayı çift ise 0, tek ise 1 yazınız: 0\n"
     ]
    },
    {
     "data": {
      "text/plain": [
       "'Doğru!'"
      ]
     },
     "execution_count": 178,
     "metadata": {},
     "output_type": "execute_result"
    }
   ],
   "source": [
    "tek_miCift_mi()"
   ]
  },
  {
   "cell_type": "markdown",
   "id": "4c218272-9559-4441-be3e-00aee169e685",
   "metadata": {},
   "source": [
    "#### Kullanici Girdisini Onaylamak"
   ]
  },
  {
   "cell_type": "code",
   "execution_count": 179,
   "id": "fae04c01-b90d-472f-b4bf-ce2248e48108",
   "metadata": {},
   "outputs": [],
   "source": [
    "def sayiMi():\n",
    "    sayi=input(\"Sayi giriniz:\")\n",
    "    if sayi.isdigit(): # .isdigit() komutu digit ise true değilse false yanıtını vererek mantıksal çıktılara katılırlar\n",
    "        return \"Başarılı.\"\n",
    "    else:\n",
    "        return \"Başarısız.\""
   ]
  },
  {
   "cell_type": "code",
   "execution_count": 180,
   "id": "1941edb1-f991-4cd5-89b1-211eee299297",
   "metadata": {},
   "outputs": [
    {
     "name": "stdin",
     "output_type": "stream",
     "text": [
      "Sayi giriniz: e\n"
     ]
    },
    {
     "data": {
      "text/plain": [
       "'Başarısız.'"
      ]
     },
     "execution_count": 180,
     "metadata": {},
     "output_type": "execute_result"
    }
   ],
   "source": [
    "sayiMi()"
   ]
  },
  {
   "cell_type": "code",
   "execution_count": 181,
   "id": "b927b044-8ae3-4c98-bc67-7674c457d5d6",
   "metadata": {},
   "outputs": [
    {
     "name": "stdin",
     "output_type": "stream",
     "text": [
      "Sayi giriniz: 2\n"
     ]
    },
    {
     "data": {
      "text/plain": [
       "'Başarılı.'"
      ]
     },
     "execution_count": 181,
     "metadata": {},
     "output_type": "execute_result"
    }
   ],
   "source": [
    "sayiMi()"
   ]
  },
  {
   "cell_type": "code",
   "execution_count": 192,
   "id": "da99b9d2-343b-4c8e-8506-8197928411c9",
   "metadata": {},
   "outputs": [],
   "source": [
    "def sayiMiLoop():\n",
    "    sayi=input(\"Sayı giriniz:\")\n",
    "    while sayi.isdigit():\n",
    "        return \"Başarılı.\"\n",
    "    else:\n",
    "        print(\"Başarısız, tekrar deneyniz.\")\n",
    "        sayi=input(\"Sayı giriniz:\")"
   ]
  },
  {
   "cell_type": "code",
   "execution_count": 186,
   "id": "02baa5aa-02f3-4c47-a350-f2a3efc2519f",
   "metadata": {},
   "outputs": [
    {
     "name": "stdin",
     "output_type": "stream",
     "text": [
      "Sayı giriniz: 2\n"
     ]
    },
    {
     "data": {
      "text/plain": [
       "'Başarılı.'"
      ]
     },
     "execution_count": 186,
     "metadata": {},
     "output_type": "execute_result"
    }
   ],
   "source": [
    "sayiMiLoop()"
   ]
  },
  {
   "cell_type": "code",
   "execution_count": 190,
   "id": "40866e1d-5e2d-46ad-907c-cdee75b2e01d",
   "metadata": {},
   "outputs": [
    {
     "name": "stdin",
     "output_type": "stream",
     "text": [
      "Sayı giriniz: e\n"
     ]
    },
    {
     "name": "stdout",
     "output_type": "stream",
     "text": [
      "Başarısız, tekrar deneyniz.\n"
     ]
    },
    {
     "name": "stdin",
     "output_type": "stream",
     "text": [
      "Sayı giriniz: e\n"
     ]
    }
   ],
   "source": [
    "sayiMiLoop() # doğru çalışmaz çünkü while kısmı sonsuza dek dönebilirken else ile döngüden çıkar, \n",
    "             # tekrar girdiyi while kısmına eklemeliyiz"
   ]
  },
  {
   "cell_type": "code",
   "execution_count": 195,
   "id": "d7bb81e0-0eab-4f34-81b0-7d00cac4f4e5",
   "metadata": {},
   "outputs": [],
   "source": [
    "def sayiMiLoop2():\n",
    "    sayi=input(\"Sayı giriniz:\")\n",
    "    while not sayi.isdigit(): # not kullanarak mantığımızı tersine çevirip while döngüsüne sokuyoruz\n",
    "        print(\"Başarısız, tekrar deneyniz.\")\n",
    "        sayi=input(\"Sayı giriniz:\")\n",
    "    else:\n",
    "        return \"Başarılı.\""
   ]
  },
  {
   "cell_type": "code",
   "execution_count": 194,
   "id": "64e66059-9609-4092-8a6e-dc5f564f6a7c",
   "metadata": {},
   "outputs": [
    {
     "name": "stdin",
     "output_type": "stream",
     "text": [
      "Sayı giriniz: e\n"
     ]
    },
    {
     "name": "stdout",
     "output_type": "stream",
     "text": [
      "Başarısız, tekrar deneyniz.\n"
     ]
    },
    {
     "name": "stdin",
     "output_type": "stream",
     "text": [
      "Sayı giriniz: e\n"
     ]
    },
    {
     "name": "stdout",
     "output_type": "stream",
     "text": [
      "Başarısız, tekrar deneyniz.\n"
     ]
    },
    {
     "name": "stdin",
     "output_type": "stream",
     "text": [
      "Sayı giriniz: e\n"
     ]
    },
    {
     "name": "stdout",
     "output_type": "stream",
     "text": [
      "Başarısız, tekrar deneyniz.\n"
     ]
    },
    {
     "name": "stdin",
     "output_type": "stream",
     "text": [
      "Sayı giriniz: 2\n"
     ]
    },
    {
     "data": {
      "text/plain": [
       "'Başarılı.'"
      ]
     },
     "execution_count": 194,
     "metadata": {},
     "output_type": "execute_result"
    }
   ],
   "source": [
    "sayiMiLoop2()"
   ]
  },
  {
   "cell_type": "code",
   "execution_count": 196,
   "id": "63ad9667-0d95-40e7-8504-f079c6dc12db",
   "metadata": {},
   "outputs": [],
   "source": [
    "def emailKontrol(): #emaillerin ortak yani @ ve . içermeleri \n",
    "    email=input(\"E-posta adresinizi giriniz:\")\n",
    "    while not (\"@\" and \".\") in email:\n",
    "        print(\"Başarısız, tekrar deneyiniz:\")\n",
    "        email=input(\"E-posta adresinizi giriniz:\")\n",
    "    else:\n",
    "        return \"E-posta adresiniz başarıyla kaydedildi.\""
   ]
  },
  {
   "cell_type": "code",
   "execution_count": 198,
   "id": "d44b479f-9cef-4133-b510-c9e43c30fe5e",
   "metadata": {},
   "outputs": [
    {
     "name": "stdin",
     "output_type": "stream",
     "text": [
      "E-posta adresinizi giriniz: asdasd\n"
     ]
    },
    {
     "name": "stdout",
     "output_type": "stream",
     "text": [
      "Başarısız, tekrar deneyiniz:\n"
     ]
    },
    {
     "name": "stdin",
     "output_type": "stream",
     "text": [
      "E-posta adresinizi giriniz: 3214e2w\n"
     ]
    },
    {
     "name": "stdout",
     "output_type": "stream",
     "text": [
      "Başarısız, tekrar deneyiniz:\n"
     ]
    },
    {
     "name": "stdin",
     "output_type": "stream",
     "text": [
      "E-posta adresinizi giriniz: dasda@asdfasd\n"
     ]
    },
    {
     "name": "stdout",
     "output_type": "stream",
     "text": [
      "Başarısız, tekrar deneyiniz:\n"
     ]
    },
    {
     "name": "stdin",
     "output_type": "stream",
     "text": [
      "E-posta adresinizi giriniz: asdas@asdas.asda.asd\n"
     ]
    },
    {
     "data": {
      "text/plain": [
       "'E-posta adresiniz başarıyla kaydedildi.'"
      ]
     },
     "execution_count": 198,
     "metadata": {},
     "output_type": "execute_result"
    }
   ],
   "source": [
    "emailKontrol()"
   ]
  },
  {
   "cell_type": "markdown",
   "id": "c23be3da-237f-42b9-826f-3ef0ecf2531e",
   "metadata": {
    "jp-MarkdownHeadingCollapsed": true
   },
   "source": [
    "### Try, Except ve Finally Komutlari"
   ]
  },
  {
   "cell_type": "code",
   "execution_count": 199,
   "id": "cdc7041f-a4f7-4693-a77e-2f42729899a7",
   "metadata": {},
   "outputs": [
    {
     "data": {
      "text/plain": [
       "2"
      ]
     },
     "execution_count": 199,
     "metadata": {},
     "output_type": "execute_result"
    }
   ],
   "source": [
    "round(1.6)"
   ]
  },
  {
   "cell_type": "code",
   "execution_count": 215,
   "id": "8807b0aa-f7c1-4ab3-9446-c8cb163ca947",
   "metadata": {},
   "outputs": [],
   "source": [
    "def tamSayi_yuvarla():\n",
    "    \n",
    "    while True: #sonsuz döngü oluşturmak için while true kullanılabilir\n",
    "        girdi = input(\"Yuvarlamak istediğiniz sayıyı giriniz:\")\n",
    "        status= \" \"\n",
    "        try: # okuma sırasına göre ilk bunu deneyip başarılı sonuç alınırsa çıktı verecek\n",
    "            girdi=float(girdi)\n",
    "            print(\"Yuvarlama işleminin sonucu {}.\".format(round(girdi)))\n",
    "            status=\"başarılı.\"\n",
    "            break #başarılı sonuç ile sonsuz while true döngüsünden çıkılır\n",
    "        except: # başarısız sonuç alınacak harf girersek hata vermeyip okunaklı bir çıktı almamızı sağladı\n",
    "            print(\"Girdiğiniz sayı geçersiz.\")\n",
    "            status=\"başarısız.\"\n",
    "            pass # başarısız sonuç ile döngüye geri girilir\n",
    "        finally: # try veya except ile seçilecek herhangi bi yola ek olarak her türlü yapılacak komuttur\n",
    "            print(\"Çevirim {}\".format(status))"
   ]
  },
  {
   "cell_type": "code",
   "execution_count": 216,
   "id": "e1099a49-0f52-4f3f-bdbb-c1ff97cf8aa9",
   "metadata": {},
   "outputs": [
    {
     "name": "stdin",
     "output_type": "stream",
     "text": [
      "Yuvarlamak istediğiniz sayıyı giriniz: a\n"
     ]
    },
    {
     "name": "stdout",
     "output_type": "stream",
     "text": [
      "Girdiğiniz sayı geçersiz.\n",
      "Çevirim başarısız.\n"
     ]
    },
    {
     "name": "stdin",
     "output_type": "stream",
     "text": [
      "Yuvarlamak istediğiniz sayıyı giriniz: 3.6\n"
     ]
    },
    {
     "name": "stdout",
     "output_type": "stream",
     "text": [
      "Yuvarlama işleminin sonucu 4.\n",
      "Çevirim başarılı.\n"
     ]
    }
   ],
   "source": [
    "tamSayi_yuvarla()"
   ]
  },
  {
   "cell_type": "markdown",
   "id": "a7c294ff-6e04-4aba-8cf8-8928b0d2a819",
   "metadata": {
    "jp-MarkdownHeadingCollapsed": true
   },
   "source": [
    "#### Exception Tipleri\n",
    "https://docs.python.org/3/tutorial/errors.html"
   ]
  },
  {
   "cell_type": "code",
   "execution_count": 217,
   "id": "0b5e58dc-f597-4bc5-aa33-a322d46edbd2",
   "metadata": {},
   "outputs": [
    {
     "ename": "TypeError",
     "evalue": "unsupported operand type(s) for +: 'int' and 'str'",
     "output_type": "error",
     "traceback": [
      "\u001b[0;31m---------------------------------------------------------------------------\u001b[0m",
      "\u001b[0;31mTypeError\u001b[0m                                 Traceback (most recent call last)",
      "Cell \u001b[0;32mIn[217], line 1\u001b[0m\n\u001b[0;32m----> 1\u001b[0m \u001b[38;5;241;43m5\u001b[39;49m\u001b[43m \u001b[49m\u001b[38;5;241;43m+\u001b[39;49m\u001b[43m \u001b[49m\u001b[38;5;124;43m'\u001b[39;49m\u001b[38;5;124;43ma\u001b[39;49m\u001b[38;5;124;43m'\u001b[39;49m\n",
      "\u001b[0;31mTypeError\u001b[0m: unsupported operand type(s) for +: 'int' and 'str'"
     ]
    }
   ],
   "source": [
    "5 + 'a'"
   ]
  },
  {
   "cell_type": "code",
   "execution_count": 221,
   "id": "83561de3-5244-4929-b661-1310ed80d489",
   "metadata": {},
   "outputs": [
    {
     "name": "stdout",
     "output_type": "stream",
     "text": [
      "Yapılan işlem için geçersiz bir tipte girdide bulundunuz.\n"
     ]
    }
   ],
   "source": [
    "try:\n",
    "    5 + \"a\"\n",
    "except IndexError:\n",
    "    print(\"Seçtiğiniz eleman listede ulaşılamıyor.\")\n",
    "except TypeError:\n",
    "    print(\"Yapılan işlem için geçersiz bir tipte girdide bulundunuz.\")\n",
    "except:\n",
    "    print(\"Kod düzgün çalışmıyor.\")\n",
    "    "
   ]
  },
  {
   "cell_type": "code",
   "execution_count": 223,
   "id": "c3676715-1924-43fa-bdc2-7d64d0963fd3",
   "metadata": {},
   "outputs": [
    {
     "ename": "IndexError",
     "evalue": "list index out of range",
     "output_type": "error",
     "traceback": [
      "\u001b[0;31m---------------------------------------------------------------------------\u001b[0m",
      "\u001b[0;31mIndexError\u001b[0m                                Traceback (most recent call last)",
      "Cell \u001b[0;32mIn[223], line 2\u001b[0m\n\u001b[1;32m      1\u001b[0m liste \u001b[38;5;241m=\u001b[39m []\n\u001b[0;32m----> 2\u001b[0m \u001b[43mliste\u001b[49m\u001b[43m[\u001b[49m\u001b[38;5;241;43m4\u001b[39;49m\u001b[43m]\u001b[49m\n",
      "\u001b[0;31mIndexError\u001b[0m: list index out of range"
     ]
    }
   ],
   "source": [
    "liste = []\n",
    "liste[4]"
   ]
  },
  {
   "cell_type": "code",
   "execution_count": 224,
   "id": "0bd45891-6cf8-4e07-957b-33d20811ffa7",
   "metadata": {},
   "outputs": [
    {
     "name": "stdout",
     "output_type": "stream",
     "text": [
      "Seçtiğiniz eleman listede ulaşılamıyor.\n"
     ]
    }
   ],
   "source": [
    "liste = []\n",
    "try:\n",
    "    liste[4]\n",
    "except IndexError:\n",
    "    print(\"Seçtiğiniz eleman listede ulaşılamıyor.\")\n",
    "except TypeError:\n",
    "    print(\"Yapılan işlem için geçersiz bir tipte girdide bulundunuz.\")\n",
    "except:\n",
    "    print(\"Kod düzgün çalışmıyor.\")"
   ]
  },
  {
   "cell_type": "code",
   "execution_count": 219,
   "id": "355461a4-7a0e-46ce-bce2-0bc6d93020b0",
   "metadata": {},
   "outputs": [
    {
     "ename": "KeyError",
     "evalue": "'PASS_NO'",
     "output_type": "error",
     "traceback": [
      "\u001b[0;31m---------------------------------------------------------------------------\u001b[0m",
      "\u001b[0;31mKeyError\u001b[0m                                  Traceback (most recent call last)",
      "Cell \u001b[0;32mIn[219], line 6\u001b[0m\n\u001b[1;32m      1\u001b[0m vatandas \u001b[38;5;241m=\u001b[39m {\n\u001b[1;32m      2\u001b[0m     \u001b[38;5;124m'\u001b[39m\u001b[38;5;124mAD\u001b[39m\u001b[38;5;124m'\u001b[39m: \u001b[38;5;124m'\u001b[39m\u001b[38;5;124mOguz\u001b[39m\u001b[38;5;124m'\u001b[39m,\n\u001b[1;32m      3\u001b[0m     \u001b[38;5;124m'\u001b[39m\u001b[38;5;124mTC_NO\u001b[39m\u001b[38;5;124m'\u001b[39m: \u001b[38;5;241m123123\u001b[39m\n\u001b[1;32m      4\u001b[0m }\n\u001b[0;32m----> 6\u001b[0m \u001b[43mvatandas\u001b[49m\u001b[43m[\u001b[49m\u001b[38;5;124;43m'\u001b[39;49m\u001b[38;5;124;43mPASS_NO\u001b[39;49m\u001b[38;5;124;43m'\u001b[39;49m\u001b[43m]\u001b[49m\n",
      "\u001b[0;31mKeyError\u001b[0m: 'PASS_NO'"
     ]
    }
   ],
   "source": [
    "vatandas = {\n",
    "    'AD': 'Oguz',\n",
    "    'TC_NO': 123123\n",
    "}\n",
    "\n",
    "vatandas['PASS_NO']"
   ]
  },
  {
   "cell_type": "code",
   "execution_count": 225,
   "id": "03ce9d11-9013-4906-99b1-dcbbfd82df3c",
   "metadata": {},
   "outputs": [
    {
     "name": "stdout",
     "output_type": "stream",
     "text": [
      "Kod düzgün çalışmıyor.\n"
     ]
    }
   ],
   "source": [
    "vatandas = {\n",
    "    'AD': 'Oguz',\n",
    "    'TC_NO': 123123\n",
    "}\n",
    "try:\n",
    "    vatandas['PASS_NO']\n",
    "except IndexError:\n",
    "    print(\"Seçtiğiniz eleman listede ulaşılamıyor.\")\n",
    "except TypeError:\n",
    "    print(\"Yapılan işlem için geçersiz bir tipte girdide bulundunuz.\")\n",
    "except:\n",
    "    print(\"Kod düzgün çalışmıyor.\")"
   ]
  },
  {
   "cell_type": "code",
   "execution_count": 226,
   "id": "26f7a702-b066-45d7-b28d-4ca633f7b489",
   "metadata": {},
   "outputs": [
    {
     "name": "stdout",
     "output_type": "stream",
     "text": [
      "Aramaya çalıştığınız anahtar kayıtlarda bulunmuyor.\n"
     ]
    }
   ],
   "source": [
    "vatandas = {\n",
    "    'AD': 'Oguz',\n",
    "    'TC_NO': 123123\n",
    "}\n",
    "try:\n",
    "    vatandas['PASS_NO']\n",
    "except IndexError:\n",
    "    print(\"Seçtiğiniz eleman listede ulaşılamıyor.\")\n",
    "except TypeError:\n",
    "    print(\"Yapılan işlem için geçersiz bir tipte girdide bulundunuz.\")\n",
    "except KeyError:\n",
    "    print(\"Aramaya çalıştığınız anahtar kayıtlarda bulunmuyor.\")\n",
    "except:\n",
    "    print(\"Kod düzgün çalışmıyor.\")"
   ]
  },
  {
   "cell_type": "code",
   "execution_count": null,
   "id": "34184504-31dd-4b4c-afc2-9ddad90915c0",
   "metadata": {},
   "outputs": [],
   "source": []
  }
 ],
 "metadata": {
  "kernelspec": {
   "display_name": "Python 3 (ipykernel)",
   "language": "python",
   "name": "python3"
  },
  "language_info": {
   "codemirror_mode": {
    "name": "ipython",
    "version": 3
   },
   "file_extension": ".py",
   "mimetype": "text/x-python",
   "name": "python",
   "nbconvert_exporter": "python",
   "pygments_lexer": "ipython3",
   "version": "3.10.9"
  }
 },
 "nbformat": 4,
 "nbformat_minor": 5
}
