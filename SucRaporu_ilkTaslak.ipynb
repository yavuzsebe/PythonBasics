{
 "cells": [
  {
   "cell_type": "code",
   "execution_count": 82,
   "id": "5e13a3c7-04dd-4718-a7c1-48672bf6ffef",
   "metadata": {},
   "outputs": [],
   "source": [
    "# AUTHOR: YAVUZ SELIM BASTEMUR\n",
    "# ASSISTED BY JR. DEV. SAMET ENDS ORSDEMIR \n",
    "# TOTAL TIME SPENT: 17 minutes (Including as coffee break :D)\n",
    "import requests\n",
    "from collections import Counter\n",
    "\n",
    "class SucRaporu():\n",
    "    def __init__(self, suc_tipi, bolge, tarih):\n",
    "        self.suc_tipi = suc_tipi\n",
    "        self.bolge = bolge\n",
    "        self.tarih = tarih\n",
    "        \n",
    "    def url_hazirla(self): \n",
    "        urlPart1=\"https://data.police.uk/api/crimes-no-location?category=\"\n",
    "        urlPart2=\"&force=\"\n",
    "        urlPart3=\"&date=\"\n",
    "        enes_url2=urlPart1+self.suc_tipi+urlPart2+self.bolge+urlPart3+self.tarih\n",
    "        return enes_url2\n",
    "        \n",
    "    def suclari_bul(self):\n",
    "        enes_url2=self.url_hazirla()\n",
    "        response = requests.get(enes_url2) \n",
    "        if response.status_code==200:\n",
    "            return response.json()\n",
    "        else:\n",
    "            return enes_url2\n",
    "            \n",
    "    def suclari_raporla(self):\n",
    "        suclar_listesi=[]\n",
    "        self.suclar = self.suclari_bul()\n",
    "        if self.suclar is not None:\n",
    "            for suc in self.suclar:\n",
    "                suclar_listesi.append(suc[\"category\"])\n",
    "            return Counter(suclar_listesi)"
   ]
  },
  {
   "cell_type": "code",
   "execution_count": 83,
   "id": "0f6dea0a-b95d-4fdf-99ba-b82431993933",
   "metadata": {},
   "outputs": [],
   "source": [
    "sr=SucRaporu(\"all-crime\",\"norfolk\",\"2020-11\")"
   ]
  },
  {
   "cell_type": "code",
   "execution_count": 84,
   "id": "3012d058-0612-4867-9cf5-a82feacd8a4b",
   "metadata": {},
   "outputs": [
    {
     "ename": "TypeError",
     "evalue": "string indices must be integers",
     "output_type": "error",
     "traceback": [
      "\u001b[0;31m---------------------------------------------------------------------------\u001b[0m",
      "\u001b[0;31mTypeError\u001b[0m                                 Traceback (most recent call last)",
      "Cell \u001b[0;32mIn[84], line 1\u001b[0m\n\u001b[0;32m----> 1\u001b[0m \u001b[38;5;28mprint\u001b[39m(\u001b[43msr\u001b[49m\u001b[38;5;241;43m.\u001b[39;49m\u001b[43msuclari_raporla\u001b[49m\u001b[43m(\u001b[49m\u001b[43m)\u001b[49m)\n",
      "Cell \u001b[0;32mIn[82], line 33\u001b[0m, in \u001b[0;36mSucRaporu.suclari_raporla\u001b[0;34m(self)\u001b[0m\n\u001b[1;32m     31\u001b[0m \u001b[38;5;28;01mif\u001b[39;00m \u001b[38;5;28mself\u001b[39m\u001b[38;5;241m.\u001b[39msuclar \u001b[38;5;129;01mis\u001b[39;00m \u001b[38;5;129;01mnot\u001b[39;00m \u001b[38;5;28;01mNone\u001b[39;00m:\n\u001b[1;32m     32\u001b[0m     \u001b[38;5;28;01mfor\u001b[39;00m suc \u001b[38;5;129;01min\u001b[39;00m \u001b[38;5;28mself\u001b[39m\u001b[38;5;241m.\u001b[39msuclar:\n\u001b[0;32m---> 33\u001b[0m         suclar_listesi\u001b[38;5;241m.\u001b[39mappend(\u001b[43msuc\u001b[49m\u001b[43m[\u001b[49m\u001b[38;5;124;43m\"\u001b[39;49m\u001b[38;5;124;43mcategory\u001b[39;49m\u001b[38;5;124;43m\"\u001b[39;49m\u001b[43m]\u001b[49m)\n\u001b[1;32m     34\u001b[0m     \u001b[38;5;28;01mreturn\u001b[39;00m Counter(suclar_listesi)\n",
      "\u001b[0;31mTypeError\u001b[0m: string indices must be integers"
     ]
    }
   ],
   "source": [
    "print(sr.suclari_raporla())"
   ]
  },
  {
   "cell_type": "code",
   "execution_count": 4,
   "id": "f1c03a33-4358-4a90-9db7-eca8486a3909",
   "metadata": {},
   "outputs": [],
   "source": [
    "def url_hazirla(suc_tipi, bolge, tarih): \n",
    "    urlPart1=\"https://data.police.uk/api/crimes-no-location?category=\"\n",
    "    urlPart2=\"&force=\"\n",
    "    urlPart3=\"&date=\"\n",
    "    enes_url2=urlPart1+suc_tipi+urlPart2+bolge+urlPart3+tarih\n",
    "    return enes_url2"
   ]
  },
  {
   "cell_type": "code",
   "execution_count": 60,
   "id": "bb768223-e1ed-4428-9218-b90ed953cbc2",
   "metadata": {},
   "outputs": [
    {
     "data": {
      "text/plain": [
       "'https://data.police.uk/api/crimes-no-location?category=all-crime&force=norfolk&date=2020-11'"
      ]
     },
     "execution_count": 60,
     "metadata": {},
     "output_type": "execute_result"
    }
   ],
   "source": [
    "url_hazirla(\"all-crime\",\"norfolk\",\"2020-11\")"
   ]
  },
  {
   "cell_type": "code",
   "execution_count": 98,
   "id": "e193a617-a904-4852-a594-0fc31f253719",
   "metadata": {},
   "outputs": [
    {
     "data": {
      "text/plain": [
       "True"
      ]
     },
     "execution_count": 98,
     "metadata": {},
     "output_type": "execute_result"
    }
   ],
   "source": [
    "dogrusu = \"https://data.police.uk/api/crimes-no-location?category=all-crime&force=norfolk&date=2020-11\"\n",
    "deneme = \"https://data.police.uk/api/crimes-no-location?category=all-crime&force=norfolk&date=2020-11\"\n",
    "dogrusu==deneme"
   ]
  },
  {
   "cell_type": "code",
   "execution_count": 104,
   "id": "c2447e17-c9a9-441c-a0d2-f8d5a733bafb",
   "metadata": {},
   "outputs": [],
   "source": [
    "import requests\n",
    "from collections import Counter\n",
    "\n",
    "class SucRaporu():\n",
    "    def __init__(self, suc_tipi, bolge, tarih):\n",
    "        self.suc_tipi = suc_tipi\n",
    "        self.bolge = bolge\n",
    "        self.tarih = tarih\n",
    "        \n",
    "    def url_hazirla(self): \n",
    "        urlPart1 = \"https://data.police.uk/api/crimes-no-location?category=\"\n",
    "        urlPart2 = \"&force=\"\n",
    "        urlPart3 = \"&date=\"\n",
    "        enes_url2 = urlPart1 + self.suc_tipi + urlPart2 + self.bolge + urlPart3 + self.tarih\n",
    "        return enes_url2\n",
    "        \n",
    "    def suclari_bul(self):\n",
    "        enes_url2 = self.url_hazirla()\n",
    "        response = requests.get(enes_url2) \n",
    "        print(f\"Request URL: {enes_url2}\")\n",
    "        print(f\"Response Status Code: {response.status_code}\")\n",
    "    \n",
    "        if response.status_code == 200:\n",
    "            return response.json()\n",
    "        else:\n",
    "            print(f\"Error: {response.text}\")\n",
    "            return None\n",
    "\n",
    "    def suclari_raporla(self):\n",
    "        suclar_listesi = []\n",
    "        self.suclar = self.suclari_bul()\n",
    "        if self.suclar is not None and isinstance(self.suclar, list):\n",
    "            for suc in self.suclar:\n",
    "                suclar_listesi.append(suc[\"category\"])\n",
    "            rapor = Counter(suclar_listesi)\n",
    "            if rapor:\n",
    "                for suç, sayı in rapor.items():\n",
    "                    print(f\"{suç}: {sayı}\")\n",
    "            else:\n",
    "                print(\"Herhangi bir suç bulunamadı.\")\n",
    "            \n",
    "            return rapor\n",
    "        else:\n",
    "            print(\"Veri alınamadı.\")\n",
    "            return None"
   ]
  },
  {
   "cell_type": "code",
   "execution_count": 105,
   "id": "94214ddf-283c-47a1-9ebf-77e1ebf6b3bb",
   "metadata": {},
   "outputs": [],
   "source": [
    "sr=SucRaporu(\"all-crime\",\"norfolk\",\"2023-11\")"
   ]
  },
  {
   "cell_type": "code",
   "execution_count": 106,
   "id": "b9ae2025-1d3b-4b4e-a389-907d61da9b56",
   "metadata": {},
   "outputs": [
    {
     "name": "stdout",
     "output_type": "stream",
     "text": [
      "Request URL: https://data.police.uk/api/crimes-no-location?category=all-crime&force=norfolk&date=2023-11\n",
      "Response Status Code: 200\n",
      "bicycle-theft: 2\n",
      "burglary: 4\n",
      "criminal-damage-arson: 9\n",
      "drugs: 12\n",
      "other-theft: 14\n",
      "possession-of-weapons: 2\n",
      "public-order: 13\n",
      "robbery: 2\n",
      "shoplifting: 13\n",
      "vehicle-crime: 3\n",
      "violent-crime: 36\n",
      "Counter({'violent-crime': 36, 'other-theft': 14, 'public-order': 13, 'shoplifting': 13, 'drugs': 12, 'criminal-damage-arson': 9, 'burglary': 4, 'vehicle-crime': 3, 'bicycle-theft': 2, 'possession-of-weapons': 2, 'robbery': 2})\n"
     ]
    }
   ],
   "source": [
    "print(sr.suclari_raporla())"
   ]
  },
  {
   "cell_type": "code",
   "execution_count": 116,
   "id": "d0614000-847f-4c01-aaee-7891d1042c7e",
   "metadata": {},
   "outputs": [],
   "source": [
    "import requests\n",
    "from collections import Counter\n",
    "\n",
    "class SucRaporu():\n",
    "    def __init__(self, suc_tipi, bolge, tarih):\n",
    "        self.suc_tipi = suc_tipi\n",
    "        self.bolge = bolge\n",
    "        self.tarih = tarih\n",
    "        \n",
    "    def url_hazirla(self): \n",
    "        urlPart1 = \"https://data.police.uk/api/crimes-no-location?category=\"\n",
    "        urlPart2 = \"&force=\"\n",
    "        urlPart3 = \"&date=\"\n",
    "        enes_url2 = urlPart1 + self.suc_tipi + urlPart2 + self.bolge + urlPart3 + self.tarih\n",
    "        return enes_url2\n",
    "        \n",
    "    def suclari_bul(self):\n",
    "        enes_url2 = self.url_hazirla()\n",
    "        response = requests.get(enes_url2) \n",
    "        print(f\"Request URL: {enes_url2}\")\n",
    "        print(f\"Response Status Code: {response.status_code}\")\n",
    "    \n",
    "        if response.status_code == 200:\n",
    "            return response.json()\n",
    "        else:\n",
    "            print(f\"Error: {response.text}\")\n",
    "            return None \n",
    "\n",
    "    def suclari_raporla(self):\n",
    "        suclar_listesi = []\n",
    "        self.suclar = self.suclari_bul()\n",
    "        if self.suclar is not None and isinstance(self.suclar, list):\n",
    "            for suc in self.suclar:\n",
    "                suclar_listesi.append(suc[\"category\"])\n",
    "            rapor = Counter(suclar_listesi)\n",
    "            \n",
    "            if rapor:\n",
    "                sorted_rapor = sorted(rapor.items())\n",
    "                for suç, sayı in sorted_rapor:\n",
    "                    print(f\"{suç}: {sayı}\")\n",
    "            else:\n",
    "                print(\"Herhangi bir suç bulunamadı.\")\n",
    "            \n",
    "            return rapor\n",
    "        else:\n",
    "            print(\"Veri alınamadı.\")\n",
    "            return None "
   ]
  },
  {
   "cell_type": "code",
   "execution_count": 117,
   "id": "fa1c6fde-7235-418b-974f-973c8c9db06a",
   "metadata": {},
   "outputs": [],
   "source": [
    "sr = SucRaporu(\"all-crime\", \"norfolk\", \"2023-11\")"
   ]
  },
  {
   "cell_type": "code",
   "execution_count": 118,
   "id": "8bfdceff-d8dd-4102-80a0-d71d1a293f5f",
   "metadata": {},
   "outputs": [
    {
     "name": "stdout",
     "output_type": "stream",
     "text": [
      "Request URL: https://data.police.uk/api/crimes-no-location?category=all-crime&force=norfolk&date=2023-11\n",
      "Response Status Code: 200\n",
      "bicycle-theft: 2\n",
      "burglary: 4\n",
      "criminal-damage-arson: 9\n",
      "drugs: 12\n",
      "other-theft: 14\n",
      "possession-of-weapons: 2\n",
      "public-order: 13\n",
      "robbery: 2\n",
      "shoplifting: 13\n",
      "vehicle-crime: 3\n",
      "violent-crime: 36\n"
     ]
    },
    {
     "data": {
      "text/plain": [
       "Counter({'bicycle-theft': 2,\n",
       "         'burglary': 4,\n",
       "         'criminal-damage-arson': 9,\n",
       "         'drugs': 12,\n",
       "         'other-theft': 14,\n",
       "         'possession-of-weapons': 2,\n",
       "         'public-order': 13,\n",
       "         'robbery': 2,\n",
       "         'shoplifting': 13,\n",
       "         'vehicle-crime': 3,\n",
       "         'violent-crime': 36})"
      ]
     },
     "execution_count": 118,
     "metadata": {},
     "output_type": "execute_result"
    }
   ],
   "source": [
    "sr.suclari_raporla()"
   ]
  },
  {
   "cell_type": "code",
   "execution_count": 134,
   "id": "304043c2-4b66-4a0e-963f-1e1d8ab27961",
   "metadata": {},
   "outputs": [],
   "source": [
    "import requests\n",
    "from collections import Counter\n",
    "\n",
    "class SucRaporu():\n",
    "    def __init__(self, suc_tipi, bolge, tarih):\n",
    "        self.suc_tipi = suc_tipi\n",
    "        self.bolge = bolge\n",
    "        self.tarih = tarih\n",
    "        \n",
    "    def url_hazirla(self): \n",
    "        urlPart1 = \"https://data.police.uk/api/crimes-no-location?category=\"\n",
    "        urlPart2 = \"&force=\"\n",
    "        urlPart3 = \"&date=\"\n",
    "        enes_url2 = urlPart1 + self.suc_tipi + urlPart2 + self.bolge + urlPart3 + self.tarih\n",
    "        return enes_url2\n",
    "        \n",
    "    def suclari_bul(self):\n",
    "        enes_url2 = self.url_hazirla()\n",
    "        response = requests.get(enes_url2) \n",
    "        print(f\"Request URL: {enes_url2}\")\n",
    "        print(f\"Response Status Code: {response.status_code}\")\n",
    "    \n",
    "        if response.status_code == 200:\n",
    "            return response.json()\n",
    "        else:\n",
    "            print(f\"Error: {response.text}\")\n",
    "            return None\n",
    "\n",
    "    def suclari_raporla(self):\n",
    "        suclar_listesi = []\n",
    "        self.suclar = self.suclari_bul()\n",
    "        if self.suclar is not None and isinstance(self.suclar, list):\n",
    "            for suc in self.suclar:\n",
    "                suclar_listesi.append(suc[\"category\"])\n",
    "            rapor = Counter(suclar_listesi)\n",
    "            \n",
    "            if rapor:\n",
    "                sorted_rapor = sorted(rapor.items())\n",
    "                rapor_text = \"\\n\".join([f\"{suç}: {sayı}\" for suç, sayı in sorted_rapor])\n",
    "                return rapor_text\n",
    "            else:\n",
    "                return \"Herhangi bir suç bulunamadı.\"\n",
    "        else:\n",
    "            return \"Veri alınamadı.\""
   ]
  },
  {
   "cell_type": "code",
   "execution_count": 135,
   "id": "a555f6de-15b8-4d8f-9851-1ed2009da363",
   "metadata": {},
   "outputs": [],
   "source": [
    "sr = SucRaporu(\"all-crime\", \"norfolk\", \"2023-11\")"
   ]
  },
  {
   "cell_type": "code",
   "execution_count": 136,
   "id": "6d582441-7e80-483f-8b6d-1ee02cd94039",
   "metadata": {},
   "outputs": [
    {
     "name": "stdout",
     "output_type": "stream",
     "text": [
      "Request URL: https://data.police.uk/api/crimes-no-location?category=all-crime&force=norfolk&date=2023-11\n",
      "Response Status Code: 200\n"
     ]
    }
   ],
   "source": [
    "rapor = sr.suclari_raporla()"
   ]
  },
  {
   "cell_type": "code",
   "execution_count": 137,
   "id": "184a4d6f-4867-4074-ae50-3da7db10780a",
   "metadata": {},
   "outputs": [
    {
     "name": "stdout",
     "output_type": "stream",
     "text": [
      "bicycle-theft: 2\n",
      "burglary: 4\n",
      "criminal-damage-arson: 9\n",
      "drugs: 12\n",
      "other-theft: 14\n",
      "possession-of-weapons: 2\n",
      "public-order: 13\n",
      "robbery: 2\n",
      "shoplifting: 13\n",
      "vehicle-crime: 3\n",
      "violent-crime: 36\n"
     ]
    }
   ],
   "source": [
    "print(rapor)"
   ]
  },
  {
   "cell_type": "code",
   "execution_count": 138,
   "id": "059741cf-e783-49e3-b093-498e83c95762",
   "metadata": {},
   "outputs": [],
   "source": [
    "sr2 = SucRaporu(\"all-crime\", \"norfolk\", \"2020-11\")"
   ]
  },
  {
   "cell_type": "code",
   "execution_count": 139,
   "id": "5349870f-5870-4ea7-aa41-3645a329525e",
   "metadata": {},
   "outputs": [
    {
     "name": "stdout",
     "output_type": "stream",
     "text": [
      "Request URL: https://data.police.uk/api/crimes-no-location?category=all-crime&force=norfolk&date=2020-11\n",
      "Response Status Code: 404\n",
      "Error: \n"
     ]
    }
   ],
   "source": [
    "rapor = sr2.suclari_raporla()"
   ]
  },
  {
   "cell_type": "code",
   "execution_count": 140,
   "id": "1b2f516f-db21-4596-b378-d65fb703fc6f",
   "metadata": {},
   "outputs": [
    {
     "name": "stdout",
     "output_type": "stream",
     "text": [
      "Veri alınamadı.\n"
     ]
    }
   ],
   "source": [
    "print(rapor)"
   ]
  },
  {
   "cell_type": "code",
   "execution_count": null,
   "id": "80b7e506-e20d-47db-9497-a80e2bb639e1",
   "metadata": {},
   "outputs": [],
   "source": []
  }
 ],
 "metadata": {
  "kernelspec": {
   "display_name": "Python 3 (ipykernel)",
   "language": "python",
   "name": "python3"
  },
  "language_info": {
   "codemirror_mode": {
    "name": "ipython",
    "version": 3
   },
   "file_extension": ".py",
   "mimetype": "text/x-python",
   "name": "python",
   "nbconvert_exporter": "python",
   "pygments_lexer": "ipython3",
   "version": "3.10.9"
  }
 },
 "nbformat": 4,
 "nbformat_minor": 5
}
