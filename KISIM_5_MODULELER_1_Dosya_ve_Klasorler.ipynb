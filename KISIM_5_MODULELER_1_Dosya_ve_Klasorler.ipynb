{
 "cells": [
  {
   "cell_type": "markdown",
   "id": "db1e6a3f-33b9-4d4f-a407-fb35e227dcf3",
   "metadata": {
    "jp-MarkdownHeadingCollapsed": true
   },
   "source": [
    "### MAGIC COMMANDS (JUPYTER NOTEBOOK'A ÖZGÜDÜR)"
   ]
  },
  {
   "cell_type": "code",
   "execution_count": 9,
   "id": "c9dbd305-e195-474b-b2d5-eb51477a2263",
   "metadata": {},
   "outputs": [
    {
     "name": "stdout",
     "output_type": "stream",
     "text": [
      "KISIM_1_GIRIS.ipynb                 KISIM_4_OOP.ipynb\n",
      "KISIM_2_DONGULER_VE_SORGULAR.ipynb  KISIM_5_MODULELER.ipynb\n",
      "KISIM_3_FONKSIYONLAR.ipynb          \u001b[34mPython_Egitim-master\u001b[m\u001b[m/\n"
     ]
    }
   ],
   "source": [
    "%ls #List Files:dosyanın bulundugu klasördeki itemleri listeler "
   ]
  },
  {
   "cell_type": "code",
   "execution_count": 10,
   "id": "a455cdb4-4b48-45fa-a2dd-84bd069dee9d",
   "metadata": {},
   "outputs": [
    {
     "data": {
      "text/plain": [
       "'/Users/yavuzsebe/JUPYTER_BELGELERI'"
      ]
     },
     "execution_count": 10,
     "metadata": {},
     "output_type": "execute_result"
    }
   ],
   "source": [
    "%pwd #Print Working Directory: şu anda çalışan dosyanın tutulduğu adresi verir"
   ]
  },
  {
   "cell_type": "markdown",
   "id": "fdef876e-fa2e-46b8-9251-ee9447ec026b",
   "metadata": {
    "jp-MarkdownHeadingCollapsed": true
   },
   "source": [
    "### OS Modülü"
   ]
  },
  {
   "cell_type": "markdown",
   "id": "70f569ec-34df-40c8-95a0-ee868d6d326d",
   "metadata": {
    "jp-MarkdownHeadingCollapsed": true
   },
   "source": [
    "#### Navigasyon ve İçerik Listeleme"
   ]
  },
  {
   "cell_type": "code",
   "execution_count": 1,
   "id": "ada52fe0-505f-46b2-bcde-9f26f3cb07a8",
   "metadata": {},
   "outputs": [],
   "source": [
    "import os #os adlı method paketini çağırıyoruz"
   ]
  },
  {
   "cell_type": "code",
   "execution_count": 2,
   "id": "27a6fcdc-c34f-4725-82e7-f64ad0102be1",
   "metadata": {},
   "outputs": [
    {
     "data": {
      "text/plain": [
       "'/Users/yavuzsebe/JUPYTER_BELGELERI'"
      ]
     },
     "execution_count": 2,
     "metadata": {},
     "output_type": "execute_result"
    }
   ],
   "source": [
    "os.getcwd() #Currently Working Directory"
   ]
  },
  {
   "cell_type": "code",
   "execution_count": 3,
   "id": "094b39b3-40ae-404f-9273-2e8839e2da54",
   "metadata": {},
   "outputs": [
    {
     "data": {
      "text/plain": [
       "['KISIM_4_OOP.ipynb',\n",
       " '.DS_Store',\n",
       " 'KISIM_2_DONGULER_VE_SORGULAR.ipynb',\n",
       " 'KISIM_5_MODULELER.ipynb',\n",
       " 'KISIM_3_FONKSIYONLAR.ipynb',\n",
       " 'KISIM_1_GIRIS.ipynb',\n",
       " 'Python_Egitim-master',\n",
       " '.ipynb_checkpoints']"
      ]
     },
     "execution_count": 3,
     "metadata": {},
     "output_type": "execute_result"
    }
   ],
   "source": [
    "os.listdir() #list directory"
   ]
  },
  {
   "cell_type": "code",
   "execution_count": 5,
   "id": "2e4a7a71-1041-4cf2-9cdd-9045691f2b3b",
   "metadata": {},
   "outputs": [
    {
     "data": {
      "text/plain": [
       "['.localized', 'yavuzsebe', 'Shared', 'Guest']"
      ]
     },
     "execution_count": 5,
     "metadata": {},
     "output_type": "execute_result"
    }
   ],
   "source": [
    "os.listdir(\"/Users\") #eğer boşta şu anda çalışılanı verir, doldurulursa yazılanın içeriğini verir"
   ]
  },
  {
   "cell_type": "code",
   "execution_count": 6,
   "id": "cb52fee4-f574-4fe1-9319-b877c73bd36e",
   "metadata": {},
   "outputs": [],
   "source": [
    "os.chdir(\"/Users\") #change directory"
   ]
  },
  {
   "cell_type": "code",
   "execution_count": 7,
   "id": "f82adfb1-41b3-46a6-8103-bd3e5e022fc1",
   "metadata": {},
   "outputs": [
    {
     "data": {
      "text/plain": [
       "['.localized', 'yavuzsebe', 'Shared', 'Guest']"
      ]
     },
     "execution_count": 7,
     "metadata": {},
     "output_type": "execute_result"
    }
   ],
   "source": [
    "os.listdir()"
   ]
  },
  {
   "cell_type": "code",
   "execution_count": 8,
   "id": "b7ca0145-95f4-49fa-9fe8-0cca510fda9b",
   "metadata": {},
   "outputs": [],
   "source": [
    "os.chdir(\"/Users/yavuzsebe/JUPYTER_BELGELERI\")"
   ]
  },
  {
   "cell_type": "code",
   "execution_count": 9,
   "id": "df957aa2-8b12-4d78-ae97-f9ac4b52fd35",
   "metadata": {},
   "outputs": [
    {
     "data": {
      "text/plain": [
       "['KISIM_4_OOP.ipynb',\n",
       " '.DS_Store',\n",
       " 'KISIM_2_DONGULER_VE_SORGULAR.ipynb',\n",
       " 'KISIM_5_MODULELER.ipynb',\n",
       " 'KISIM_3_FONKSIYONLAR.ipynb',\n",
       " 'KISIM_1_GIRIS.ipynb',\n",
       " 'Python_Egitim-master',\n",
       " '.ipynb_checkpoints']"
      ]
     },
     "execution_count": 9,
     "metadata": {},
     "output_type": "execute_result"
    }
   ],
   "source": [
    "os.listdir()"
   ]
  },
  {
   "cell_type": "code",
   "execution_count": 11,
   "id": "6a603800-517e-4aff-be83-80d069dbcc26",
   "metadata": {},
   "outputs": [
    {
     "name": "stdout",
     "output_type": "stream",
     "text": [
      "KISIM_4_OOP.ipynb dosyası.\n",
      ".DS_Store dosyası.\n",
      "KISIM_2_DONGULER_VE_SORGULAR.ipynb dosyası.\n",
      "KISIM_5_MODULELER.ipynb dosyası.\n",
      "KISIM_3_FONKSIYONLAR.ipynb dosyası.\n",
      "KISIM_1_GIRIS.ipynb dosyası.\n",
      "Python_Egitim-master dosyası.\n",
      ".ipynb_checkpoints dosyası.\n"
     ]
    }
   ],
   "source": [
    "dosyalar = os.listdir()\n",
    "for eleman in dosyalar:\n",
    "    print(eleman + \" dosyası.\")"
   ]
  },
  {
   "cell_type": "markdown",
   "id": "999e3ca5-385b-4f31-93de-e55a3ea08e0c",
   "metadata": {
    "jp-MarkdownHeadingCollapsed": true
   },
   "source": [
    "#### Yeni Eleman Oluşturma, İsim Değiştirme ve Silme"
   ]
  },
  {
   "cell_type": "code",
   "execution_count": 14,
   "id": "ef18f6fa-d29c-4dcf-83ac-e3525a4a3892",
   "metadata": {},
   "outputs": [],
   "source": [
    "os.mkdir(\"/Users/yavuzsebe/JUPYTER_BELGELERI/yeni_klasor\") #make directory /yeni_klasor eklendi"
   ]
  },
  {
   "cell_type": "code",
   "execution_count": 16,
   "id": "8aee6d78-7647-42e3-9701-395eccf0f3de",
   "metadata": {},
   "outputs": [
    {
     "data": {
      "text/plain": [
       "['KISIM_4_OOP.ipynb',\n",
       " '.DS_Store',\n",
       " 'KISIM_2_DONGULER_VE_SORGULAR.ipynb',\n",
       " 'KISIM_5_MODULELER.ipynb',\n",
       " 'KISIM_3_FONKSIYONLAR.ipynb',\n",
       " 'KISIM_1_GIRIS.ipynb',\n",
       " 'yeni_klasor',\n",
       " 'Python_Egitim-master',\n",
       " '.ipynb_checkpoints']"
      ]
     },
     "execution_count": 16,
     "metadata": {},
     "output_type": "execute_result"
    }
   ],
   "source": [
    "os.listdir()"
   ]
  },
  {
   "cell_type": "code",
   "execution_count": 18,
   "id": "dbf8fb3f-96ea-480b-9c3d-a9c10c7c1dbd",
   "metadata": {},
   "outputs": [],
   "source": [
    "## os.O_RDONLY − Read Only      - Sadece Oku\n",
    "## os.O_WRONLY − Write Only     - Sadece Yaz\n",
    "## os.O_RDWR   − Read and Write - Oku ve Yaz\n",
    "## os.O_CREAT  - Create         - Olustur\n",
    "\n",
    "yeni_dosya = os.open(\"yeni_dosya.txt\", os.O_RDONLY|os.O_CREAT)"
   ]
  },
  {
   "cell_type": "code",
   "execution_count": 19,
   "id": "4e3208de-cc53-4656-a0ef-0a3894fa12d9",
   "metadata": {},
   "outputs": [
    {
     "data": {
      "text/plain": [
       "['KISIM_4_OOP.ipynb',\n",
       " '.DS_Store',\n",
       " 'KISIM_2_DONGULER_VE_SORGULAR.ipynb',\n",
       " 'KISIM_5_MODULELER.ipynb',\n",
       " 'yeni_dosya.txt',\n",
       " 'KISIM_3_FONKSIYONLAR.ipynb',\n",
       " 'KISIM_1_GIRIS.ipynb',\n",
       " 'yeni_klasor',\n",
       " 'Python_Egitim-master',\n",
       " '.ipynb_checkpoints']"
      ]
     },
     "execution_count": 19,
     "metadata": {},
     "output_type": "execute_result"
    }
   ],
   "source": [
    "os.listdir()"
   ]
  },
  {
   "cell_type": "code",
   "execution_count": 34,
   "id": "616e9683-9fbb-4d13-9230-a1bfa051bbbb",
   "metadata": {},
   "outputs": [],
   "source": [
    "yeni_dosya = os.open(\"yeni_dosya.txt\", os.O_RDWR|os.O_CREAT)\n",
    "os.write(yeni_dosya, \"Merhaba dünya!\".encode()) #ü gibi türkçe harfler encode ile yazılabilir hale getirilebilir\n",
    "os.close(yeni_dosya) # kapatmamız gerekir!"
   ]
  },
  {
   "cell_type": "code",
   "execution_count": 35,
   "id": "f1f400ac-f684-4c77-9d9d-1db140696099",
   "metadata": {},
   "outputs": [
    {
     "name": "stdout",
     "output_type": "stream",
     "text": [
      "Merhaba dünya!\n"
     ]
    }
   ],
   "source": [
    "yeni_dosya = os.open(\"yeni_dosya.txt\", os.O_RDONLY) #dosyayı okumaya açıyoruz\n",
    "uzunluk = os.stat(yeni_dosya).st_size #os.stat(yeni_dosya) ile dosyanın statlarını görebiliriz oradan uzunluğunu çekiyoruz\n",
    "icerik = os.read(yeni_dosya, uzunluk) #os.read için uzunluk değeri zorunlu bu yüzden onu statlardan çekip buraya yerleştiriyoruz\n",
    "print(icerik.decode()) #icerik metnini yazdırıyoruz ancak encode ettiğimizi geri decode ediyoruz ve böylece özel karakterler korunuyor\n",
    "os.close(yeni_dosya) #dosyayı kapatıyoruz !!!"
   ]
  },
  {
   "cell_type": "code",
   "execution_count": 36,
   "id": "a4649f80-9c9d-443e-a575-704c2e562522",
   "metadata": {},
   "outputs": [],
   "source": [
    "os.unlink(\"yeni_dosya.txt\") #dosyayı silebiliyoruz"
   ]
  },
  {
   "cell_type": "code",
   "execution_count": 37,
   "id": "9825737d-814e-48f8-a389-6e236d3ba182",
   "metadata": {},
   "outputs": [
    {
     "data": {
      "text/plain": [
       "['KISIM_4_OOP.ipynb',\n",
       " '.DS_Store',\n",
       " 'KISIM_2_DONGULER_VE_SORGULAR.ipynb',\n",
       " 'KISIM_5_MODULELER.ipynb',\n",
       " 'KISIM_3_FONKSIYONLAR.ipynb',\n",
       " 'KISIM_1_GIRIS.ipynb',\n",
       " 'Python_Egitim-master',\n",
       " '.ipynb_checkpoints']"
      ]
     },
     "execution_count": 37,
     "metadata": {},
     "output_type": "execute_result"
    }
   ],
   "source": [
    "os.listdir()"
   ]
  },
  {
   "cell_type": "code",
   "execution_count": 46,
   "id": "85e0dcb6-adab-441a-898e-6100432fcd63",
   "metadata": {},
   "outputs": [],
   "source": [
    "os.mkdir(\"deneme_1\") #dosya oluşturma"
   ]
  },
  {
   "cell_type": "code",
   "execution_count": 47,
   "id": "0759bf11-ae69-4734-90e0-511336c5674c",
   "metadata": {},
   "outputs": [
    {
     "data": {
      "text/plain": [
       "['KISIM_4_OOP.ipynb',\n",
       " '.DS_Store',\n",
       " 'KISIM_2_DONGULER_VE_SORGULAR.ipynb',\n",
       " 'KISIM_5_MODULELER.ipynb',\n",
       " 'KISIM_3_FONKSIYONLAR.ipynb',\n",
       " 'deneme_1',\n",
       " 'KISIM_1_GIRIS.ipynb',\n",
       " 'Python_Egitim-master',\n",
       " '.ipynb_checkpoints']"
      ]
     },
     "execution_count": 47,
     "metadata": {},
     "output_type": "execute_result"
    }
   ],
   "source": [
    "os.listdir()"
   ]
  },
  {
   "cell_type": "code",
   "execution_count": 48,
   "id": "9f64df29-e082-4f04-999d-d8e46a3f4f36",
   "metadata": {},
   "outputs": [],
   "source": [
    "os.rename(\"deneme_1\",\"deneme_2\") #isim değiştirme yapılabilir"
   ]
  },
  {
   "cell_type": "code",
   "execution_count": 49,
   "id": "ff9a2607-5d4b-47c5-a40b-8881e7402d0a",
   "metadata": {},
   "outputs": [
    {
     "data": {
      "text/plain": [
       "['deneme_2',\n",
       " 'KISIM_4_OOP.ipynb',\n",
       " '.DS_Store',\n",
       " 'KISIM_2_DONGULER_VE_SORGULAR.ipynb',\n",
       " 'KISIM_5_MODULELER.ipynb',\n",
       " 'KISIM_3_FONKSIYONLAR.ipynb',\n",
       " 'KISIM_1_GIRIS.ipynb',\n",
       " 'Python_Egitim-master',\n",
       " '.ipynb_checkpoints']"
      ]
     },
     "execution_count": 49,
     "metadata": {},
     "output_type": "execute_result"
    }
   ],
   "source": [
    "os.listdir()"
   ]
  },
  {
   "cell_type": "code",
   "execution_count": 50,
   "id": "01608597-dfcf-46e2-910f-5b2ea8416d59",
   "metadata": {},
   "outputs": [],
   "source": [
    "os.rmdir(\"/Users/yavuzsebe/JUPYTER_BELGELERI/deneme_2\") #directory silinebilir"
   ]
  },
  {
   "cell_type": "code",
   "execution_count": null,
   "id": "d3c35bf4-3df4-46a2-9bc8-2b11696e54ea",
   "metadata": {},
   "outputs": [],
   "source": []
  }
 ],
 "metadata": {
  "kernelspec": {
   "display_name": "Python 3 (ipykernel)",
   "language": "python",
   "name": "python3"
  },
  "language_info": {
   "codemirror_mode": {
    "name": "ipython",
    "version": 3
   },
   "file_extension": ".py",
   "mimetype": "text/x-python",
   "name": "python",
   "nbconvert_exporter": "python",
   "pygments_lexer": "ipython3",
   "version": "3.10.9"
  }
 },
 "nbformat": 4,
 "nbformat_minor": 5
}
